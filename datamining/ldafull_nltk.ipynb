{
 "metadata": {
  "language_info": {
   "codemirror_mode": {
    "name": "ipython",
    "version": 3
   },
   "file_extension": ".py",
   "mimetype": "text/x-python",
   "name": "python",
   "nbconvert_exporter": "python",
   "pygments_lexer": "ipython3",
   "version": "3.8.2-final"
  },
  "orig_nbformat": 2,
  "kernelspec": {
   "name": "python3",
   "display_name": "Python 3.8.2 64-bit",
   "metadata": {
    "interpreter": {
     "hash": "aee8b7b246df8f9039afb4144a1f6fd8d2ca17a180786b69acc140d282b71a49"
    }
   }
  }
 },
 "nbformat": 4,
 "nbformat_minor": 2,
 "cells": [
  {
   "cell_type": "code",
   "execution_count": 1,
   "metadata": {},
   "outputs": [],
   "source": [
    "import pandas as pd\n",
    "import numpy as np\n",
    "import nltk\n",
    "from nltk.corpus import stopwords\n",
    "from nltk.tokenize import word_tokenize\n",
    "import string\n",
    "import gensim\n",
    "import pyLDAvis.gensim\n",
    "import logging\n",
    "from gensim.models.coherencemodel import CoherenceModel\n",
    "import matplotlib.pyplot as plt\n",
    "import time\n",
    "from pprint import pprint"
   ]
  },
  {
   "cell_type": "code",
   "execution_count": 2,
   "metadata": {},
   "outputs": [
    {
     "output_type": "stream",
     "name": "stderr",
     "text": [
      "/Users/uni613/Library/Python/3.8/lib/python/site-packages/ipykernel/ipkernel.py:287: DeprecationWarning: `should_run_async` will not call `transform_cell` automatically in the future. Please pass the result to `transformed_cell` argument and any exception that happen during thetransform in `preprocessing_exc_tuple` in IPython 7.17 and above.\n  and should_run_async(code)\n"
     ]
    },
    {
     "output_type": "execute_result",
     "data": {
      "text/plain": [
       "   no    year                                              title  \\\n",
       "0   1  2021.0  Social–Emotional Characteristics and Adjustmen...   \n",
       "1   2  2021.0  Do Mass Media Shape Stereotypes About Intellec...   \n",
       "2   3  2021.0  College Choice: Considerations for Academicall...   \n",
       "3   4  2021.0  Intellectual Precocity: What Have We Learned S...   \n",
       "4   5  2021.0     Assessing the Scholarly Reach of Terman's Work   \n",
       "\n",
       "                                            eng_full  \n",
       "0  Social–Emotional Characteristics and Adjustmen...  \n",
       "1  Do Mass Media Shape Stereotypes About Intellec...  \n",
       "2  College Choice: Considerations for Academicall...  \n",
       "3  Intellectual Precocity: What Have We Learned S...  \n",
       "4  Assessing the Scholarly Reach of Terman's Work...  "
      ],
      "text/html": "<div>\n<style scoped>\n    .dataframe tbody tr th:only-of-type {\n        vertical-align: middle;\n    }\n\n    .dataframe tbody tr th {\n        vertical-align: top;\n    }\n\n    .dataframe thead th {\n        text-align: right;\n    }\n</style>\n<table border=\"1\" class=\"dataframe\">\n  <thead>\n    <tr style=\"text-align: right;\">\n      <th></th>\n      <th>no</th>\n      <th>year</th>\n      <th>title</th>\n      <th>eng_full</th>\n    </tr>\n  </thead>\n  <tbody>\n    <tr>\n      <th>0</th>\n      <td>1</td>\n      <td>2021.0</td>\n      <td>Social–Emotional Characteristics and Adjustmen...</td>\n      <td>Social–Emotional Characteristics and Adjustmen...</td>\n    </tr>\n    <tr>\n      <th>1</th>\n      <td>2</td>\n      <td>2021.0</td>\n      <td>Do Mass Media Shape Stereotypes About Intellec...</td>\n      <td>Do Mass Media Shape Stereotypes About Intellec...</td>\n    </tr>\n    <tr>\n      <th>2</th>\n      <td>3</td>\n      <td>2021.0</td>\n      <td>College Choice: Considerations for Academicall...</td>\n      <td>College Choice: Considerations for Academicall...</td>\n    </tr>\n    <tr>\n      <th>3</th>\n      <td>4</td>\n      <td>2021.0</td>\n      <td>Intellectual Precocity: What Have We Learned S...</td>\n      <td>Intellectual Precocity: What Have We Learned S...</td>\n    </tr>\n    <tr>\n      <th>4</th>\n      <td>5</td>\n      <td>2021.0</td>\n      <td>Assessing the Scholarly Reach of Terman's Work</td>\n      <td>Assessing the Scholarly Reach of Terman's Work...</td>\n    </tr>\n  </tbody>\n</table>\n</div>"
     },
     "metadata": {},
     "execution_count": 2
    }
   ],
   "source": [
    "data = pd.read_csv(\"./modi_data/eng_full.csv\") ############\n",
    "#data = data.drop(['Unnamed: 0'], axis=1)\n",
    "data.head()"
   ]
  },
  {
   "cell_type": "code",
   "execution_count": 3,
   "metadata": {},
   "outputs": [
    {
     "output_type": "stream",
     "name": "stderr",
     "text": [
      "/Users/uni613/Library/Python/3.8/lib/python/site-packages/ipykernel/ipkernel.py:287: DeprecationWarning: `should_run_async` will not call `transform_cell` automatically in the future. Please pass the result to `transformed_cell` argument and any exception that happen during thetransform in `preprocessing_exc_tuple` in IPython 7.17 and above.\n  and should_run_async(code)\n"
     ]
    }
   ],
   "source": [
    "stopword = set(stopwords.words('english'))\n",
    "punc = list(string.punctuation)"
   ]
  },
  {
   "cell_type": "code",
   "execution_count": 4,
   "metadata": {},
   "outputs": [
    {
     "output_type": "stream",
     "name": "stderr",
     "text": [
      "/Users/uni613/Library/Python/3.8/lib/python/site-packages/ipykernel/ipkernel.py:287: DeprecationWarning: `should_run_async` will not call `transform_cell` automatically in the future. Please pass the result to `transformed_cell` argument and any exception that happen during thetransform in `preprocessing_exc_tuple` in IPython 7.17 and above.\n  and should_run_async(code)\n"
     ]
    }
   ],
   "source": [
    "def nltkTokenizer(raw, stopword=stopword, punc=punc):\n",
    "    list = []\n",
    "    skip = 0\n",
    "\n",
    "    for word in word_tokenize(raw): #raw data\n",
    "        #print(word)\n",
    "        if word not in stopword and word not in punc:\n",
    "            list.append(word.lower())\n",
    "                \n",
    "    return list"
   ]
  },
  {
   "cell_type": "code",
   "execution_count": 5,
   "metadata": {},
   "outputs": [
    {
     "output_type": "stream",
     "name": "stderr",
     "text": [
      "/Users/uni613/Library/Python/3.8/lib/python/site-packages/ipykernel/ipkernel.py:287: DeprecationWarning: `should_run_async` will not call `transform_cell` automatically in the future. Please pass the result to `transformed_cell` argument and any exception that happen during thetransform in `preprocessing_exc_tuple` in IPython 7.17 and above.\n",
      "  and should_run_async(code)\n",
      "========= tokenization completed =========\n"
     ]
    }
   ],
   "source": [
    "tokenized = data[\"eng_full\"].apply(lambda row: nltkTokenizer(row))\n",
    "#print(tokenized)\n",
    "print(\"========= tokenization completed =========\")"
   ]
  },
  {
   "cell_type": "code",
   "execution_count": 6,
   "metadata": {},
   "outputs": [
    {
     "output_type": "stream",
     "name": "stdout",
     "text": [
      "# words in total :  9858\n",
      "# documents :  2537\n",
      "/Users/uni613/Library/Python/3.8/lib/python/site-packages/ipykernel/ipkernel.py:287: DeprecationWarning: `should_run_async` will not call `transform_cell` automatically in the future. Please pass the result to `transformed_cell` argument and any exception that happen during thetransform in `preprocessing_exc_tuple` in IPython 7.17 and above.\n",
      "  and should_run_async(code)\n"
     ]
    }
   ],
   "source": [
    "#lda\n",
    "id2word = gensim.corpora.Dictionary(tokenized)\n",
    "\n",
    "wordlist = []\n",
    "for i in range(len(id2word)):\n",
    "    #print(id2word[i])\n",
    "    wordlist.append(id2word[i])\n",
    "#print(wordlist)\n",
    "seriesWordlist = pd.Series(wordlist)\n",
    "\n",
    "corpus=[id2word.doc2bow(text) for text in tokenized]\n",
    "#print(\"id2word for each document : \", corpus)\n",
    "print(\"# words in total : \", len(id2word))\n",
    "print(\"# documents : \", len(corpus))"
   ]
  },
  {
   "cell_type": "code",
   "execution_count": 7,
   "metadata": {},
   "outputs": [
    {
     "output_type": "stream",
     "name": "stderr",
     "text": [
      "/Users/uni613/Library/Python/3.8/lib/python/site-packages/ipykernel/ipkernel.py:287: DeprecationWarning: `should_run_async` will not call `transform_cell` automatically in the future. Please pass the result to `transformed_cell` argument and any exception that happen during thetransform in `preprocessing_exc_tuple` in IPython 7.17 and above.\n  and should_run_async(code)\n"
     ]
    }
   ],
   "source": [
    "def compute_coherence_values(dictionary, corpus, texts, limit, start=2, step=1):\n",
    "    \"\"\"\n",
    "    Compute c_v coherence for various number of topics\n",
    "\n",
    "    Parameters:\n",
    "    ----------\n",
    "    dictionary : Gensim dictionary\n",
    "    corpus : Gensim corpus\n",
    "    texts : List of input texts\n",
    "    limit : Max num of topics\n",
    "\n",
    "    Returns:\n",
    "    -------\n",
    "    model_list : List of LDA topic models\n",
    "    coherence_values : Coherence values corresponding to the LDA model with respective number of topics\n",
    "    \"\"\"\n",
    "    perplexity_values = []\n",
    "    coherence_values = []\n",
    "    model_list = []\n",
    "    for num_topics in range(start, limit, step):\n",
    "        print(num_topics)\n",
    "        model = gensim.models.ldamodel.LdaModel(corpus=corpus,\n",
    "                                                id2word=id2word,\n",
    "                                                num_topics=num_topics,\n",
    "                                                random_state=100,\n",
    "                                                update_every=1,\n",
    "                                                iterations=1000,\n",
    "                                                chunksize=100,\n",
    "                                                passes=10,\n",
    "                                                alpha='auto',\n",
    "                                                eta='auto',\n",
    "                                                per_word_topics=True)\n",
    "        model_list.append(model)\n",
    "        perplexitymodel = model.log_perplexity(corpus)\n",
    "        perplexity_values.append(perplexitymodel)\n",
    "        coherencemodel = CoherenceModel(model=model,\n",
    "                                        texts=texts,\n",
    "                                        dictionary=dictionary,\n",
    "                                        coherence='c_v')\n",
    "        coherence_values.append(coherencemodel.get_coherence())\n",
    "    return model_list, perplexity_values, coherence_values"
   ]
  },
  {
   "cell_type": "code",
   "execution_count": 8,
   "metadata": {},
   "outputs": [
    {
     "output_type": "stream",
     "name": "stderr",
     "text": [
      "/Users/uni613/Library/Python/3.8/lib/python/site-packages/ipykernel/ipkernel.py:287: DeprecationWarning: `should_run_async` will not call `transform_cell` automatically in the future. Please pass the result to `transformed_cell` argument and any exception that happen during thetransform in `preprocessing_exc_tuple` in IPython 7.17 and above.\n",
      "  and should_run_async(code)\n",
      "2\n",
      "3\n",
      "4\n",
      "5\n",
      "6\n",
      "7\n",
      "8\n",
      "9\n",
      "10\n",
      "11\n",
      "12\n",
      "13\n",
      "14\n",
      "15\n",
      "16\n",
      "17\n",
      "18\n",
      "19\n",
      "20\n",
      "21\n",
      "22\n",
      "23\n",
      "24\n",
      "25\n",
      "26\n",
      "27\n",
      "28\n",
      "29\n",
      "30\n",
      "time :  6.940132514635722 min\n"
     ]
    }
   ],
   "source": [
    "start = time.time()\n",
    "model_list, perplexity_values, coherence_values = compute_coherence_values(dictionary=id2word,\n",
    "                                                        corpus=corpus,\n",
    "                                                        texts=tokenized,\n",
    "                                                        start=2,\n",
    "                                                        limit=31, #####\n",
    "                                                        step=1)\n",
    "print(\"time : \", ( time.time() - start )/60, \"min\")"
   ]
  },
  {
   "cell_type": "code",
   "execution_count": 9,
   "metadata": {},
   "outputs": [
    {
     "output_type": "stream",
     "name": "stderr",
     "text": [
      "/Users/uni613/Library/Python/3.8/lib/python/site-packages/ipykernel/ipkernel.py:287: DeprecationWarning: `should_run_async` will not call `transform_cell` automatically in the future. Please pass the result to `transformed_cell` argument and any exception that happen during thetransform in `preprocessing_exc_tuple` in IPython 7.17 and above.\n  and should_run_async(code)\n"
     ]
    },
    {
     "output_type": "display_data",
     "data": {
      "text/plain": "<Figure size 720x720 with 2 Axes>",
      "image/svg+xml": "<?xml version=\"1.0\" encoding=\"utf-8\" standalone=\"no\"?>\n<!DOCTYPE svg PUBLIC \"-//W3C//DTD SVG 1.1//EN\"\n  \"http://www.w3.org/Graphics/SVG/1.1/DTD/svg11.dtd\">\n<!-- Created with matplotlib (https://matplotlib.org/) -->\n<svg height=\"588.35625pt\" version=\"1.1\" viewBox=\"0 0 615.34375 588.35625\" width=\"615.34375pt\" xmlns=\"http://www.w3.org/2000/svg\" xmlns:xlink=\"http://www.w3.org/1999/xlink\">\n <metadata>\n  <rdf:RDF xmlns:cc=\"http://creativecommons.org/ns#\" xmlns:dc=\"http://purl.org/dc/elements/1.1/\" xmlns:rdf=\"http://www.w3.org/1999/02/22-rdf-syntax-ns#\">\n   <cc:Work>\n    <dc:type rdf:resource=\"http://purl.org/dc/dcmitype/StillImage\"/>\n    <dc:date>2021-01-21T20:21:29.265588</dc:date>\n    <dc:format>image/svg+xml</dc:format>\n    <dc:creator>\n     <cc:Agent>\n      <dc:title>Matplotlib v3.3.3, https://matplotlib.org/</dc:title>\n     </cc:Agent>\n    </dc:creator>\n   </cc:Work>\n  </rdf:RDF>\n </metadata>\n <defs>\n  <style type=\"text/css\">*{stroke-linecap:butt;stroke-linejoin:round;}</style>\n </defs>\n <g id=\"figure_1\">\n  <g id=\"patch_1\">\n   <path d=\"M 0 588.35625 \nL 615.34375 588.35625 \nL 615.34375 0 \nL 0 0 \nz\n\" style=\"fill:none;\"/>\n  </g>\n  <g id=\"axes_1\">\n   <g id=\"patch_2\">\n    <path d=\"M 50.14375 254.290909 \nL 608.14375 254.290909 \nL 608.14375 7.2 \nL 50.14375 7.2 \nz\n\" style=\"fill:#ffffff;\"/>\n   </g>\n   <g id=\"matplotlib.axis_1\">\n    <g id=\"xtick_1\">\n     <g id=\"line2d_1\">\n      <defs>\n       <path d=\"M 0 0 \nL 0 3.5 \n\" id=\"m4b144d380b\" style=\"stroke:#000000;stroke-width:0.8;\"/>\n      </defs>\n      <g>\n       <use style=\"stroke:#000000;stroke-width:0.8;\" x=\"129.858036\" xlink:href=\"#m4b144d380b\" y=\"254.290909\"/>\n      </g>\n     </g>\n     <g id=\"text_1\">\n      <!-- 5 -->\n      <g transform=\"translate(126.676786 268.889347)scale(0.1 -0.1)\">\n       <defs>\n        <path d=\"M 10.796875 72.90625 \nL 49.515625 72.90625 \nL 49.515625 64.59375 \nL 19.828125 64.59375 \nL 19.828125 46.734375 \nQ 21.96875 47.46875 24.109375 47.828125 \nQ 26.265625 48.1875 28.421875 48.1875 \nQ 40.625 48.1875 47.75 41.5 \nQ 54.890625 34.8125 54.890625 23.390625 \nQ 54.890625 11.625 47.5625 5.09375 \nQ 40.234375 -1.421875 26.90625 -1.421875 \nQ 22.3125 -1.421875 17.546875 -0.640625 \nQ 12.796875 0.140625 7.71875 1.703125 \nL 7.71875 11.625 \nQ 12.109375 9.234375 16.796875 8.0625 \nQ 21.484375 6.890625 26.703125 6.890625 \nQ 35.15625 6.890625 40.078125 11.328125 \nQ 45.015625 15.765625 45.015625 23.390625 \nQ 45.015625 31 40.078125 35.4375 \nQ 35.15625 39.890625 26.703125 39.890625 \nQ 22.75 39.890625 18.8125 39.015625 \nQ 14.890625 38.140625 10.796875 36.28125 \nz\n\" id=\"DejaVuSans-53\"/>\n       </defs>\n       <use xlink:href=\"#DejaVuSans-53\"/>\n      </g>\n     </g>\n    </g>\n    <g id=\"xtick_2\">\n     <g id=\"line2d_2\">\n      <g>\n       <use style=\"stroke:#000000;stroke-width:0.8;\" x=\"220.442451\" xlink:href=\"#m4b144d380b\" y=\"254.290909\"/>\n      </g>\n     </g>\n     <g id=\"text_2\">\n      <!-- 10 -->\n      <g transform=\"translate(214.079951 268.889347)scale(0.1 -0.1)\">\n       <defs>\n        <path d=\"M 12.40625 8.296875 \nL 28.515625 8.296875 \nL 28.515625 63.921875 \nL 10.984375 60.40625 \nL 10.984375 69.390625 \nL 28.421875 72.90625 \nL 38.28125 72.90625 \nL 38.28125 8.296875 \nL 54.390625 8.296875 \nL 54.390625 0 \nL 12.40625 0 \nz\n\" id=\"DejaVuSans-49\"/>\n        <path d=\"M 31.78125 66.40625 \nQ 24.171875 66.40625 20.328125 58.90625 \nQ 16.5 51.421875 16.5 36.375 \nQ 16.5 21.390625 20.328125 13.890625 \nQ 24.171875 6.390625 31.78125 6.390625 \nQ 39.453125 6.390625 43.28125 13.890625 \nQ 47.125 21.390625 47.125 36.375 \nQ 47.125 51.421875 43.28125 58.90625 \nQ 39.453125 66.40625 31.78125 66.40625 \nz\nM 31.78125 74.21875 \nQ 44.046875 74.21875 50.515625 64.515625 \nQ 56.984375 54.828125 56.984375 36.375 \nQ 56.984375 17.96875 50.515625 8.265625 \nQ 44.046875 -1.421875 31.78125 -1.421875 \nQ 19.53125 -1.421875 13.0625 8.265625 \nQ 6.59375 17.96875 6.59375 36.375 \nQ 6.59375 54.828125 13.0625 64.515625 \nQ 19.53125 74.21875 31.78125 74.21875 \nz\n\" id=\"DejaVuSans-48\"/>\n       </defs>\n       <use xlink:href=\"#DejaVuSans-49\"/>\n       <use x=\"63.623047\" xlink:href=\"#DejaVuSans-48\"/>\n      </g>\n     </g>\n    </g>\n    <g id=\"xtick_3\">\n     <g id=\"line2d_3\">\n      <g>\n       <use style=\"stroke:#000000;stroke-width:0.8;\" x=\"311.026867\" xlink:href=\"#m4b144d380b\" y=\"254.290909\"/>\n      </g>\n     </g>\n     <g id=\"text_3\">\n      <!-- 15 -->\n      <g transform=\"translate(304.664367 268.889347)scale(0.1 -0.1)\">\n       <use xlink:href=\"#DejaVuSans-49\"/>\n       <use x=\"63.623047\" xlink:href=\"#DejaVuSans-53\"/>\n      </g>\n     </g>\n    </g>\n    <g id=\"xtick_4\">\n     <g id=\"line2d_4\">\n      <g>\n       <use style=\"stroke:#000000;stroke-width:0.8;\" x=\"401.611282\" xlink:href=\"#m4b144d380b\" y=\"254.290909\"/>\n      </g>\n     </g>\n     <g id=\"text_4\">\n      <!-- 20 -->\n      <g transform=\"translate(395.248782 268.889347)scale(0.1 -0.1)\">\n       <defs>\n        <path d=\"M 19.1875 8.296875 \nL 53.609375 8.296875 \nL 53.609375 0 \nL 7.328125 0 \nL 7.328125 8.296875 \nQ 12.9375 14.109375 22.625 23.890625 \nQ 32.328125 33.6875 34.8125 36.53125 \nQ 39.546875 41.84375 41.421875 45.53125 \nQ 43.3125 49.21875 43.3125 52.78125 \nQ 43.3125 58.59375 39.234375 62.25 \nQ 35.15625 65.921875 28.609375 65.921875 \nQ 23.96875 65.921875 18.8125 64.3125 \nQ 13.671875 62.703125 7.8125 59.421875 \nL 7.8125 69.390625 \nQ 13.765625 71.78125 18.9375 73 \nQ 24.125 74.21875 28.421875 74.21875 \nQ 39.75 74.21875 46.484375 68.546875 \nQ 53.21875 62.890625 53.21875 53.421875 \nQ 53.21875 48.921875 51.53125 44.890625 \nQ 49.859375 40.875 45.40625 35.40625 \nQ 44.1875 33.984375 37.640625 27.21875 \nQ 31.109375 20.453125 19.1875 8.296875 \nz\n\" id=\"DejaVuSans-50\"/>\n       </defs>\n       <use xlink:href=\"#DejaVuSans-50\"/>\n       <use x=\"63.623047\" xlink:href=\"#DejaVuSans-48\"/>\n      </g>\n     </g>\n    </g>\n    <g id=\"xtick_5\">\n     <g id=\"line2d_5\">\n      <g>\n       <use style=\"stroke:#000000;stroke-width:0.8;\" x=\"492.195698\" xlink:href=\"#m4b144d380b\" y=\"254.290909\"/>\n      </g>\n     </g>\n     <g id=\"text_5\">\n      <!-- 25 -->\n      <g transform=\"translate(485.833198 268.889347)scale(0.1 -0.1)\">\n       <use xlink:href=\"#DejaVuSans-50\"/>\n       <use x=\"63.623047\" xlink:href=\"#DejaVuSans-53\"/>\n      </g>\n     </g>\n    </g>\n    <g id=\"xtick_6\">\n     <g id=\"line2d_6\">\n      <g>\n       <use style=\"stroke:#000000;stroke-width:0.8;\" x=\"582.780114\" xlink:href=\"#m4b144d380b\" y=\"254.290909\"/>\n      </g>\n     </g>\n     <g id=\"text_6\">\n      <!-- 30 -->\n      <g transform=\"translate(576.417614 268.889347)scale(0.1 -0.1)\">\n       <defs>\n        <path d=\"M 40.578125 39.3125 \nQ 47.65625 37.796875 51.625 33 \nQ 55.609375 28.21875 55.609375 21.1875 \nQ 55.609375 10.40625 48.1875 4.484375 \nQ 40.765625 -1.421875 27.09375 -1.421875 \nQ 22.515625 -1.421875 17.65625 -0.515625 \nQ 12.796875 0.390625 7.625 2.203125 \nL 7.625 11.71875 \nQ 11.71875 9.328125 16.59375 8.109375 \nQ 21.484375 6.890625 26.8125 6.890625 \nQ 36.078125 6.890625 40.9375 10.546875 \nQ 45.796875 14.203125 45.796875 21.1875 \nQ 45.796875 27.640625 41.28125 31.265625 \nQ 36.765625 34.90625 28.71875 34.90625 \nL 20.21875 34.90625 \nL 20.21875 43.015625 \nL 29.109375 43.015625 \nQ 36.375 43.015625 40.234375 45.921875 \nQ 44.09375 48.828125 44.09375 54.296875 \nQ 44.09375 59.90625 40.109375 62.90625 \nQ 36.140625 65.921875 28.71875 65.921875 \nQ 24.65625 65.921875 20.015625 65.03125 \nQ 15.375 64.15625 9.8125 62.3125 \nL 9.8125 71.09375 \nQ 15.4375 72.65625 20.34375 73.4375 \nQ 25.25 74.21875 29.59375 74.21875 \nQ 40.828125 74.21875 47.359375 69.109375 \nQ 53.90625 64.015625 53.90625 55.328125 \nQ 53.90625 49.265625 50.4375 45.09375 \nQ 46.96875 40.921875 40.578125 39.3125 \nz\n\" id=\"DejaVuSans-51\"/>\n       </defs>\n       <use xlink:href=\"#DejaVuSans-51\"/>\n       <use x=\"63.623047\" xlink:href=\"#DejaVuSans-48\"/>\n      </g>\n     </g>\n    </g>\n    <g id=\"text_7\">\n     <!-- Number of Topics -->\n     <g transform=\"translate(285.879687 282.567472)scale(0.1 -0.1)\">\n      <defs>\n       <path d=\"M 9.8125 72.90625 \nL 23.09375 72.90625 \nL 55.421875 11.921875 \nL 55.421875 72.90625 \nL 64.984375 72.90625 \nL 64.984375 0 \nL 51.703125 0 \nL 19.390625 60.984375 \nL 19.390625 0 \nL 9.8125 0 \nz\n\" id=\"DejaVuSans-78\"/>\n       <path d=\"M 8.5 21.578125 \nL 8.5 54.6875 \nL 17.484375 54.6875 \nL 17.484375 21.921875 \nQ 17.484375 14.15625 20.5 10.265625 \nQ 23.53125 6.390625 29.59375 6.390625 \nQ 36.859375 6.390625 41.078125 11.03125 \nQ 45.3125 15.671875 45.3125 23.6875 \nL 45.3125 54.6875 \nL 54.296875 54.6875 \nL 54.296875 0 \nL 45.3125 0 \nL 45.3125 8.40625 \nQ 42.046875 3.421875 37.71875 1 \nQ 33.40625 -1.421875 27.6875 -1.421875 \nQ 18.265625 -1.421875 13.375 4.4375 \nQ 8.5 10.296875 8.5 21.578125 \nz\nM 31.109375 56 \nz\n\" id=\"DejaVuSans-117\"/>\n       <path d=\"M 52 44.1875 \nQ 55.375 50.25 60.0625 53.125 \nQ 64.75 56 71.09375 56 \nQ 79.640625 56 84.28125 50.015625 \nQ 88.921875 44.046875 88.921875 33.015625 \nL 88.921875 0 \nL 79.890625 0 \nL 79.890625 32.71875 \nQ 79.890625 40.578125 77.09375 44.375 \nQ 74.3125 48.1875 68.609375 48.1875 \nQ 61.625 48.1875 57.5625 43.546875 \nQ 53.515625 38.921875 53.515625 30.90625 \nL 53.515625 0 \nL 44.484375 0 \nL 44.484375 32.71875 \nQ 44.484375 40.625 41.703125 44.40625 \nQ 38.921875 48.1875 33.109375 48.1875 \nQ 26.21875 48.1875 22.15625 43.53125 \nQ 18.109375 38.875 18.109375 30.90625 \nL 18.109375 0 \nL 9.078125 0 \nL 9.078125 54.6875 \nL 18.109375 54.6875 \nL 18.109375 46.1875 \nQ 21.1875 51.21875 25.484375 53.609375 \nQ 29.78125 56 35.6875 56 \nQ 41.65625 56 45.828125 52.96875 \nQ 50 49.953125 52 44.1875 \nz\n\" id=\"DejaVuSans-109\"/>\n       <path d=\"M 48.6875 27.296875 \nQ 48.6875 37.203125 44.609375 42.84375 \nQ 40.53125 48.484375 33.40625 48.484375 \nQ 26.265625 48.484375 22.1875 42.84375 \nQ 18.109375 37.203125 18.109375 27.296875 \nQ 18.109375 17.390625 22.1875 11.75 \nQ 26.265625 6.109375 33.40625 6.109375 \nQ 40.53125 6.109375 44.609375 11.75 \nQ 48.6875 17.390625 48.6875 27.296875 \nz\nM 18.109375 46.390625 \nQ 20.953125 51.265625 25.265625 53.625 \nQ 29.59375 56 35.59375 56 \nQ 45.5625 56 51.78125 48.09375 \nQ 58.015625 40.1875 58.015625 27.296875 \nQ 58.015625 14.40625 51.78125 6.484375 \nQ 45.5625 -1.421875 35.59375 -1.421875 \nQ 29.59375 -1.421875 25.265625 0.953125 \nQ 20.953125 3.328125 18.109375 8.203125 \nL 18.109375 0 \nL 9.078125 0 \nL 9.078125 75.984375 \nL 18.109375 75.984375 \nz\n\" id=\"DejaVuSans-98\"/>\n       <path d=\"M 56.203125 29.59375 \nL 56.203125 25.203125 \nL 14.890625 25.203125 \nQ 15.484375 15.921875 20.484375 11.0625 \nQ 25.484375 6.203125 34.421875 6.203125 \nQ 39.59375 6.203125 44.453125 7.46875 \nQ 49.3125 8.734375 54.109375 11.28125 \nL 54.109375 2.78125 \nQ 49.265625 0.734375 44.1875 -0.34375 \nQ 39.109375 -1.421875 33.890625 -1.421875 \nQ 20.796875 -1.421875 13.15625 6.1875 \nQ 5.515625 13.8125 5.515625 26.8125 \nQ 5.515625 40.234375 12.765625 48.109375 \nQ 20.015625 56 32.328125 56 \nQ 43.359375 56 49.78125 48.890625 \nQ 56.203125 41.796875 56.203125 29.59375 \nz\nM 47.21875 32.234375 \nQ 47.125 39.59375 43.09375 43.984375 \nQ 39.0625 48.390625 32.421875 48.390625 \nQ 24.90625 48.390625 20.390625 44.140625 \nQ 15.875 39.890625 15.1875 32.171875 \nz\n\" id=\"DejaVuSans-101\"/>\n       <path d=\"M 41.109375 46.296875 \nQ 39.59375 47.171875 37.8125 47.578125 \nQ 36.03125 48 33.890625 48 \nQ 26.265625 48 22.1875 43.046875 \nQ 18.109375 38.09375 18.109375 28.8125 \nL 18.109375 0 \nL 9.078125 0 \nL 9.078125 54.6875 \nL 18.109375 54.6875 \nL 18.109375 46.1875 \nQ 20.953125 51.171875 25.484375 53.578125 \nQ 30.03125 56 36.53125 56 \nQ 37.453125 56 38.578125 55.875 \nQ 39.703125 55.765625 41.0625 55.515625 \nz\n\" id=\"DejaVuSans-114\"/>\n       <path id=\"DejaVuSans-32\"/>\n       <path d=\"M 30.609375 48.390625 \nQ 23.390625 48.390625 19.1875 42.75 \nQ 14.984375 37.109375 14.984375 27.296875 \nQ 14.984375 17.484375 19.15625 11.84375 \nQ 23.34375 6.203125 30.609375 6.203125 \nQ 37.796875 6.203125 41.984375 11.859375 \nQ 46.1875 17.53125 46.1875 27.296875 \nQ 46.1875 37.015625 41.984375 42.703125 \nQ 37.796875 48.390625 30.609375 48.390625 \nz\nM 30.609375 56 \nQ 42.328125 56 49.015625 48.375 \nQ 55.71875 40.765625 55.71875 27.296875 \nQ 55.71875 13.875 49.015625 6.21875 \nQ 42.328125 -1.421875 30.609375 -1.421875 \nQ 18.84375 -1.421875 12.171875 6.21875 \nQ 5.515625 13.875 5.515625 27.296875 \nQ 5.515625 40.765625 12.171875 48.375 \nQ 18.84375 56 30.609375 56 \nz\n\" id=\"DejaVuSans-111\"/>\n       <path d=\"M 37.109375 75.984375 \nL 37.109375 68.5 \nL 28.515625 68.5 \nQ 23.6875 68.5 21.796875 66.546875 \nQ 19.921875 64.59375 19.921875 59.515625 \nL 19.921875 54.6875 \nL 34.71875 54.6875 \nL 34.71875 47.703125 \nL 19.921875 47.703125 \nL 19.921875 0 \nL 10.890625 0 \nL 10.890625 47.703125 \nL 2.296875 47.703125 \nL 2.296875 54.6875 \nL 10.890625 54.6875 \nL 10.890625 58.5 \nQ 10.890625 67.625 15.140625 71.796875 \nQ 19.390625 75.984375 28.609375 75.984375 \nz\n\" id=\"DejaVuSans-102\"/>\n       <path d=\"M -0.296875 72.90625 \nL 61.375 72.90625 \nL 61.375 64.59375 \nL 35.5 64.59375 \nL 35.5 0 \nL 25.59375 0 \nL 25.59375 64.59375 \nL -0.296875 64.59375 \nz\n\" id=\"DejaVuSans-84\"/>\n       <path d=\"M 18.109375 8.203125 \nL 18.109375 -20.796875 \nL 9.078125 -20.796875 \nL 9.078125 54.6875 \nL 18.109375 54.6875 \nL 18.109375 46.390625 \nQ 20.953125 51.265625 25.265625 53.625 \nQ 29.59375 56 35.59375 56 \nQ 45.5625 56 51.78125 48.09375 \nQ 58.015625 40.1875 58.015625 27.296875 \nQ 58.015625 14.40625 51.78125 6.484375 \nQ 45.5625 -1.421875 35.59375 -1.421875 \nQ 29.59375 -1.421875 25.265625 0.953125 \nQ 20.953125 3.328125 18.109375 8.203125 \nz\nM 48.6875 27.296875 \nQ 48.6875 37.203125 44.609375 42.84375 \nQ 40.53125 48.484375 33.40625 48.484375 \nQ 26.265625 48.484375 22.1875 42.84375 \nQ 18.109375 37.203125 18.109375 27.296875 \nQ 18.109375 17.390625 22.1875 11.75 \nQ 26.265625 6.109375 33.40625 6.109375 \nQ 40.53125 6.109375 44.609375 11.75 \nQ 48.6875 17.390625 48.6875 27.296875 \nz\n\" id=\"DejaVuSans-112\"/>\n       <path d=\"M 9.421875 54.6875 \nL 18.40625 54.6875 \nL 18.40625 0 \nL 9.421875 0 \nz\nM 9.421875 75.984375 \nL 18.40625 75.984375 \nL 18.40625 64.59375 \nL 9.421875 64.59375 \nz\n\" id=\"DejaVuSans-105\"/>\n       <path d=\"M 48.78125 52.59375 \nL 48.78125 44.1875 \nQ 44.96875 46.296875 41.140625 47.34375 \nQ 37.3125 48.390625 33.40625 48.390625 \nQ 24.65625 48.390625 19.8125 42.84375 \nQ 14.984375 37.3125 14.984375 27.296875 \nQ 14.984375 17.28125 19.8125 11.734375 \nQ 24.65625 6.203125 33.40625 6.203125 \nQ 37.3125 6.203125 41.140625 7.25 \nQ 44.96875 8.296875 48.78125 10.40625 \nL 48.78125 2.09375 \nQ 45.015625 0.34375 40.984375 -0.53125 \nQ 36.96875 -1.421875 32.421875 -1.421875 \nQ 20.0625 -1.421875 12.78125 6.34375 \nQ 5.515625 14.109375 5.515625 27.296875 \nQ 5.515625 40.671875 12.859375 48.328125 \nQ 20.21875 56 33.015625 56 \nQ 37.15625 56 41.109375 55.140625 \nQ 45.0625 54.296875 48.78125 52.59375 \nz\n\" id=\"DejaVuSans-99\"/>\n       <path d=\"M 44.28125 53.078125 \nL 44.28125 44.578125 \nQ 40.484375 46.53125 36.375 47.5 \nQ 32.28125 48.484375 27.875 48.484375 \nQ 21.1875 48.484375 17.84375 46.4375 \nQ 14.5 44.390625 14.5 40.28125 \nQ 14.5 37.15625 16.890625 35.375 \nQ 19.28125 33.59375 26.515625 31.984375 \nL 29.59375 31.296875 \nQ 39.15625 29.25 43.1875 25.515625 \nQ 47.21875 21.78125 47.21875 15.09375 \nQ 47.21875 7.46875 41.1875 3.015625 \nQ 35.15625 -1.421875 24.609375 -1.421875 \nQ 20.21875 -1.421875 15.453125 -0.5625 \nQ 10.6875 0.296875 5.421875 2 \nL 5.421875 11.28125 \nQ 10.40625 8.6875 15.234375 7.390625 \nQ 20.0625 6.109375 24.8125 6.109375 \nQ 31.15625 6.109375 34.5625 8.28125 \nQ 37.984375 10.453125 37.984375 14.40625 \nQ 37.984375 18.0625 35.515625 20.015625 \nQ 33.0625 21.96875 24.703125 23.78125 \nL 21.578125 24.515625 \nQ 13.234375 26.265625 9.515625 29.90625 \nQ 5.8125 33.546875 5.8125 39.890625 \nQ 5.8125 47.609375 11.28125 51.796875 \nQ 16.75 56 26.8125 56 \nQ 31.78125 56 36.171875 55.265625 \nQ 40.578125 54.546875 44.28125 53.078125 \nz\n\" id=\"DejaVuSans-115\"/>\n      </defs>\n      <use xlink:href=\"#DejaVuSans-78\"/>\n      <use x=\"74.804688\" xlink:href=\"#DejaVuSans-117\"/>\n      <use x=\"138.183594\" xlink:href=\"#DejaVuSans-109\"/>\n      <use x=\"235.595703\" xlink:href=\"#DejaVuSans-98\"/>\n      <use x=\"299.072266\" xlink:href=\"#DejaVuSans-101\"/>\n      <use x=\"360.595703\" xlink:href=\"#DejaVuSans-114\"/>\n      <use x=\"401.708984\" xlink:href=\"#DejaVuSans-32\"/>\n      <use x=\"433.496094\" xlink:href=\"#DejaVuSans-111\"/>\n      <use x=\"494.677734\" xlink:href=\"#DejaVuSans-102\"/>\n      <use x=\"529.882812\" xlink:href=\"#DejaVuSans-32\"/>\n      <use x=\"561.669922\" xlink:href=\"#DejaVuSans-84\"/>\n      <use x=\"605.753906\" xlink:href=\"#DejaVuSans-111\"/>\n      <use x=\"666.935547\" xlink:href=\"#DejaVuSans-112\"/>\n      <use x=\"730.412109\" xlink:href=\"#DejaVuSans-105\"/>\n      <use x=\"758.195312\" xlink:href=\"#DejaVuSans-99\"/>\n      <use x=\"813.175781\" xlink:href=\"#DejaVuSans-115\"/>\n     </g>\n    </g>\n   </g>\n   <g id=\"matplotlib.axis_2\">\n    <g id=\"ytick_1\">\n     <g id=\"line2d_7\">\n      <defs>\n       <path d=\"M 0 0 \nL -3.5 0 \n\" id=\"m5bd86a3d07\" style=\"stroke:#000000;stroke-width:0.8;\"/>\n      </defs>\n      <g>\n       <use style=\"stroke:#000000;stroke-width:0.8;\" x=\"50.14375\" xlink:href=\"#m5bd86a3d07\" y=\"226.145031\"/>\n      </g>\n     </g>\n     <g id=\"text_8\">\n      <!-- −14 -->\n      <g transform=\"translate(22.039062 229.94425)scale(0.1 -0.1)\">\n       <defs>\n        <path d=\"M 10.59375 35.5 \nL 73.1875 35.5 \nL 73.1875 27.203125 \nL 10.59375 27.203125 \nz\n\" id=\"DejaVuSans-8722\"/>\n        <path d=\"M 37.796875 64.3125 \nL 12.890625 25.390625 \nL 37.796875 25.390625 \nz\nM 35.203125 72.90625 \nL 47.609375 72.90625 \nL 47.609375 25.390625 \nL 58.015625 25.390625 \nL 58.015625 17.1875 \nL 47.609375 17.1875 \nL 47.609375 0 \nL 37.796875 0 \nL 37.796875 17.1875 \nL 4.890625 17.1875 \nL 4.890625 26.703125 \nz\n\" id=\"DejaVuSans-52\"/>\n       </defs>\n       <use xlink:href=\"#DejaVuSans-8722\"/>\n       <use x=\"83.789062\" xlink:href=\"#DejaVuSans-49\"/>\n       <use x=\"147.412109\" xlink:href=\"#DejaVuSans-52\"/>\n      </g>\n     </g>\n    </g>\n    <g id=\"ytick_2\">\n     <g id=\"line2d_8\">\n      <g>\n       <use style=\"stroke:#000000;stroke-width:0.8;\" x=\"50.14375\" xlink:href=\"#m5bd86a3d07\" y=\"192.277996\"/>\n      </g>\n     </g>\n     <g id=\"text_9\">\n      <!-- −13 -->\n      <g transform=\"translate(22.039062 196.077215)scale(0.1 -0.1)\">\n       <use xlink:href=\"#DejaVuSans-8722\"/>\n       <use x=\"83.789062\" xlink:href=\"#DejaVuSans-49\"/>\n       <use x=\"147.412109\" xlink:href=\"#DejaVuSans-51\"/>\n      </g>\n     </g>\n    </g>\n    <g id=\"ytick_3\">\n     <g id=\"line2d_9\">\n      <g>\n       <use style=\"stroke:#000000;stroke-width:0.8;\" x=\"50.14375\" xlink:href=\"#m5bd86a3d07\" y=\"158.410962\"/>\n      </g>\n     </g>\n     <g id=\"text_10\">\n      <!-- −12 -->\n      <g transform=\"translate(22.039062 162.210181)scale(0.1 -0.1)\">\n       <use xlink:href=\"#DejaVuSans-8722\"/>\n       <use x=\"83.789062\" xlink:href=\"#DejaVuSans-49\"/>\n       <use x=\"147.412109\" xlink:href=\"#DejaVuSans-50\"/>\n      </g>\n     </g>\n    </g>\n    <g id=\"ytick_4\">\n     <g id=\"line2d_10\">\n      <g>\n       <use style=\"stroke:#000000;stroke-width:0.8;\" x=\"50.14375\" xlink:href=\"#m5bd86a3d07\" y=\"124.543928\"/>\n      </g>\n     </g>\n     <g id=\"text_11\">\n      <!-- −11 -->\n      <g transform=\"translate(22.039062 128.343146)scale(0.1 -0.1)\">\n       <use xlink:href=\"#DejaVuSans-8722\"/>\n       <use x=\"83.789062\" xlink:href=\"#DejaVuSans-49\"/>\n       <use x=\"147.412109\" xlink:href=\"#DejaVuSans-49\"/>\n      </g>\n     </g>\n    </g>\n    <g id=\"ytick_5\">\n     <g id=\"line2d_11\">\n      <g>\n       <use style=\"stroke:#000000;stroke-width:0.8;\" x=\"50.14375\" xlink:href=\"#m5bd86a3d07\" y=\"90.676893\"/>\n      </g>\n     </g>\n     <g id=\"text_12\">\n      <!-- −10 -->\n      <g transform=\"translate(22.039062 94.476112)scale(0.1 -0.1)\">\n       <use xlink:href=\"#DejaVuSans-8722\"/>\n       <use x=\"83.789062\" xlink:href=\"#DejaVuSans-49\"/>\n       <use x=\"147.412109\" xlink:href=\"#DejaVuSans-48\"/>\n      </g>\n     </g>\n    </g>\n    <g id=\"ytick_6\">\n     <g id=\"line2d_12\">\n      <g>\n       <use style=\"stroke:#000000;stroke-width:0.8;\" x=\"50.14375\" xlink:href=\"#m5bd86a3d07\" y=\"56.809859\"/>\n      </g>\n     </g>\n     <g id=\"text_13\">\n      <!-- −9 -->\n      <g transform=\"translate(28.401562 60.609078)scale(0.1 -0.1)\">\n       <defs>\n        <path d=\"M 10.984375 1.515625 \nL 10.984375 10.5 \nQ 14.703125 8.734375 18.5 7.8125 \nQ 22.3125 6.890625 25.984375 6.890625 \nQ 35.75 6.890625 40.890625 13.453125 \nQ 46.046875 20.015625 46.78125 33.40625 \nQ 43.953125 29.203125 39.59375 26.953125 \nQ 35.25 24.703125 29.984375 24.703125 \nQ 19.046875 24.703125 12.671875 31.3125 \nQ 6.296875 37.9375 6.296875 49.421875 \nQ 6.296875 60.640625 12.9375 67.421875 \nQ 19.578125 74.21875 30.609375 74.21875 \nQ 43.265625 74.21875 49.921875 64.515625 \nQ 56.59375 54.828125 56.59375 36.375 \nQ 56.59375 19.140625 48.40625 8.859375 \nQ 40.234375 -1.421875 26.421875 -1.421875 \nQ 22.703125 -1.421875 18.890625 -0.6875 \nQ 15.09375 0.046875 10.984375 1.515625 \nz\nM 30.609375 32.421875 \nQ 37.25 32.421875 41.125 36.953125 \nQ 45.015625 41.5 45.015625 49.421875 \nQ 45.015625 57.28125 41.125 61.84375 \nQ 37.25 66.40625 30.609375 66.40625 \nQ 23.96875 66.40625 20.09375 61.84375 \nQ 16.21875 57.28125 16.21875 49.421875 \nQ 16.21875 41.5 20.09375 36.953125 \nQ 23.96875 32.421875 30.609375 32.421875 \nz\n\" id=\"DejaVuSans-57\"/>\n       </defs>\n       <use xlink:href=\"#DejaVuSans-8722\"/>\n       <use x=\"83.789062\" xlink:href=\"#DejaVuSans-57\"/>\n      </g>\n     </g>\n    </g>\n    <g id=\"ytick_7\">\n     <g id=\"line2d_13\">\n      <g>\n       <use style=\"stroke:#000000;stroke-width:0.8;\" x=\"50.14375\" xlink:href=\"#m5bd86a3d07\" y=\"22.942824\"/>\n      </g>\n     </g>\n     <g id=\"text_14\">\n      <!-- −8 -->\n      <g transform=\"translate(28.401562 26.742043)scale(0.1 -0.1)\">\n       <defs>\n        <path d=\"M 31.78125 34.625 \nQ 24.75 34.625 20.71875 30.859375 \nQ 16.703125 27.09375 16.703125 20.515625 \nQ 16.703125 13.921875 20.71875 10.15625 \nQ 24.75 6.390625 31.78125 6.390625 \nQ 38.8125 6.390625 42.859375 10.171875 \nQ 46.921875 13.96875 46.921875 20.515625 \nQ 46.921875 27.09375 42.890625 30.859375 \nQ 38.875 34.625 31.78125 34.625 \nz\nM 21.921875 38.8125 \nQ 15.578125 40.375 12.03125 44.71875 \nQ 8.5 49.078125 8.5 55.328125 \nQ 8.5 64.0625 14.71875 69.140625 \nQ 20.953125 74.21875 31.78125 74.21875 \nQ 42.671875 74.21875 48.875 69.140625 \nQ 55.078125 64.0625 55.078125 55.328125 \nQ 55.078125 49.078125 51.53125 44.71875 \nQ 48 40.375 41.703125 38.8125 \nQ 48.828125 37.15625 52.796875 32.3125 \nQ 56.78125 27.484375 56.78125 20.515625 \nQ 56.78125 9.90625 50.3125 4.234375 \nQ 43.84375 -1.421875 31.78125 -1.421875 \nQ 19.734375 -1.421875 13.25 4.234375 \nQ 6.78125 9.90625 6.78125 20.515625 \nQ 6.78125 27.484375 10.78125 32.3125 \nQ 14.796875 37.15625 21.921875 38.8125 \nz\nM 18.3125 54.390625 \nQ 18.3125 48.734375 21.84375 45.5625 \nQ 25.390625 42.390625 31.78125 42.390625 \nQ 38.140625 42.390625 41.71875 45.5625 \nQ 45.3125 48.734375 45.3125 54.390625 \nQ 45.3125 60.0625 41.71875 63.234375 \nQ 38.140625 66.40625 31.78125 66.40625 \nQ 25.390625 66.40625 21.84375 63.234375 \nQ 18.3125 60.0625 18.3125 54.390625 \nz\n\" id=\"DejaVuSans-56\"/>\n       </defs>\n       <use xlink:href=\"#DejaVuSans-8722\"/>\n       <use x=\"83.789062\" xlink:href=\"#DejaVuSans-56\"/>\n      </g>\n     </g>\n    </g>\n    <g id=\"text_15\">\n     <!-- Perplexity -->\n     <g transform=\"translate(15.959375 155.531392)rotate(-90)scale(0.1 -0.1)\">\n      <defs>\n       <path d=\"M 19.671875 64.796875 \nL 19.671875 37.40625 \nL 32.078125 37.40625 \nQ 38.96875 37.40625 42.71875 40.96875 \nQ 46.484375 44.53125 46.484375 51.125 \nQ 46.484375 57.671875 42.71875 61.234375 \nQ 38.96875 64.796875 32.078125 64.796875 \nz\nM 9.8125 72.90625 \nL 32.078125 72.90625 \nQ 44.34375 72.90625 50.609375 67.359375 \nQ 56.890625 61.8125 56.890625 51.125 \nQ 56.890625 40.328125 50.609375 34.8125 \nQ 44.34375 29.296875 32.078125 29.296875 \nL 19.671875 29.296875 \nL 19.671875 0 \nL 9.8125 0 \nz\n\" id=\"DejaVuSans-80\"/>\n       <path d=\"M 9.421875 75.984375 \nL 18.40625 75.984375 \nL 18.40625 0 \nL 9.421875 0 \nz\n\" id=\"DejaVuSans-108\"/>\n       <path d=\"M 54.890625 54.6875 \nL 35.109375 28.078125 \nL 55.90625 0 \nL 45.3125 0 \nL 29.390625 21.484375 \nL 13.484375 0 \nL 2.875 0 \nL 24.125 28.609375 \nL 4.6875 54.6875 \nL 15.28125 54.6875 \nL 29.78125 35.203125 \nL 44.28125 54.6875 \nz\n\" id=\"DejaVuSans-120\"/>\n       <path d=\"M 18.3125 70.21875 \nL 18.3125 54.6875 \nL 36.8125 54.6875 \nL 36.8125 47.703125 \nL 18.3125 47.703125 \nL 18.3125 18.015625 \nQ 18.3125 11.328125 20.140625 9.421875 \nQ 21.96875 7.515625 27.59375 7.515625 \nL 36.8125 7.515625 \nL 36.8125 0 \nL 27.59375 0 \nQ 17.1875 0 13.234375 3.875 \nQ 9.28125 7.765625 9.28125 18.015625 \nL 9.28125 47.703125 \nL 2.6875 47.703125 \nL 2.6875 54.6875 \nL 9.28125 54.6875 \nL 9.28125 70.21875 \nz\n\" id=\"DejaVuSans-116\"/>\n       <path d=\"M 32.171875 -5.078125 \nQ 28.375 -14.84375 24.75 -17.8125 \nQ 21.140625 -20.796875 15.09375 -20.796875 \nL 7.90625 -20.796875 \nL 7.90625 -13.28125 \nL 13.1875 -13.28125 \nQ 16.890625 -13.28125 18.9375 -11.515625 \nQ 21 -9.765625 23.484375 -3.21875 \nL 25.09375 0.875 \nL 2.984375 54.6875 \nL 12.5 54.6875 \nL 29.59375 11.921875 \nL 46.6875 54.6875 \nL 56.203125 54.6875 \nz\n\" id=\"DejaVuSans-121\"/>\n      </defs>\n      <use xlink:href=\"#DejaVuSans-80\"/>\n      <use x=\"56.677734\" xlink:href=\"#DejaVuSans-101\"/>\n      <use x=\"118.201172\" xlink:href=\"#DejaVuSans-114\"/>\n      <use x=\"159.314453\" xlink:href=\"#DejaVuSans-112\"/>\n      <use x=\"222.791016\" xlink:href=\"#DejaVuSans-108\"/>\n      <use x=\"250.574219\" xlink:href=\"#DejaVuSans-101\"/>\n      <use x=\"310.347656\" xlink:href=\"#DejaVuSans-120\"/>\n      <use x=\"369.527344\" xlink:href=\"#DejaVuSans-105\"/>\n      <use x=\"397.310547\" xlink:href=\"#DejaVuSans-116\"/>\n      <use x=\"436.519531\" xlink:href=\"#DejaVuSans-121\"/>\n     </g>\n    </g>\n   </g>\n   <g id=\"line2d_14\">\n    <path clip-path=\"url(#p1c68d5d8c5)\" d=\"M 75.507386 18.431405 \nL 93.624269 21.942607 \nL 111.741153 26.883606 \nL 129.858036 31.226937 \nL 147.974919 32.48668 \nL 166.091802 35.871132 \nL 184.208685 38.807525 \nL 202.325568 42.637061 \nL 220.442451 48.210599 \nL 238.559334 57.857915 \nL 256.676218 72.409201 \nL 274.793101 88.563182 \nL 292.909984 102.361674 \nL 311.026867 114.742612 \nL 329.14375 124.38324 \nL 347.260633 132.068322 \nL 365.377516 147.544006 \nL 383.494399 154.960939 \nL 401.611282 163.382055 \nL 419.728166 171.661943 \nL 437.845049 178.919059 \nL 455.961932 187.398216 \nL 474.078815 195.062636 \nL 492.195698 201.923641 \nL 510.312581 211.513912 \nL 528.429464 219.072901 \nL 546.546347 227.332509 \nL 564.663231 234.74121 \nL 582.780114 243.059504 \n\" style=\"fill:none;stroke:#1f77b4;stroke-linecap:square;stroke-width:1.5;\"/>\n    <defs>\n     <path d=\"M 0 3 \nC 0.795609 3 1.55874 2.683901 2.12132 2.12132 \nC 2.683901 1.55874 3 0.795609 3 0 \nC 3 -0.795609 2.683901 -1.55874 2.12132 -2.12132 \nC 1.55874 -2.683901 0.795609 -3 0 -3 \nC -0.795609 -3 -1.55874 -2.683901 -2.12132 -2.12132 \nC -2.683901 -1.55874 -3 -0.795609 -3 0 \nC -3 0.795609 -2.683901 1.55874 -2.12132 2.12132 \nC -1.55874 2.683901 -0.795609 3 0 3 \nz\n\" id=\"m71f09d6b9a\" style=\"stroke:#1f77b4;\"/>\n    </defs>\n    <g clip-path=\"url(#p1c68d5d8c5)\">\n     <use style=\"fill:#1f77b4;stroke:#1f77b4;\" x=\"75.507386\" xlink:href=\"#m71f09d6b9a\" y=\"18.431405\"/>\n     <use style=\"fill:#1f77b4;stroke:#1f77b4;\" x=\"93.624269\" xlink:href=\"#m71f09d6b9a\" y=\"21.942607\"/>\n     <use style=\"fill:#1f77b4;stroke:#1f77b4;\" x=\"111.741153\" xlink:href=\"#m71f09d6b9a\" y=\"26.883606\"/>\n     <use style=\"fill:#1f77b4;stroke:#1f77b4;\" x=\"129.858036\" xlink:href=\"#m71f09d6b9a\" y=\"31.226937\"/>\n     <use style=\"fill:#1f77b4;stroke:#1f77b4;\" x=\"147.974919\" xlink:href=\"#m71f09d6b9a\" y=\"32.48668\"/>\n     <use style=\"fill:#1f77b4;stroke:#1f77b4;\" x=\"166.091802\" xlink:href=\"#m71f09d6b9a\" y=\"35.871132\"/>\n     <use style=\"fill:#1f77b4;stroke:#1f77b4;\" x=\"184.208685\" xlink:href=\"#m71f09d6b9a\" y=\"38.807525\"/>\n     <use style=\"fill:#1f77b4;stroke:#1f77b4;\" x=\"202.325568\" xlink:href=\"#m71f09d6b9a\" y=\"42.637061\"/>\n     <use style=\"fill:#1f77b4;stroke:#1f77b4;\" x=\"220.442451\" xlink:href=\"#m71f09d6b9a\" y=\"48.210599\"/>\n     <use style=\"fill:#1f77b4;stroke:#1f77b4;\" x=\"238.559334\" xlink:href=\"#m71f09d6b9a\" y=\"57.857915\"/>\n     <use style=\"fill:#1f77b4;stroke:#1f77b4;\" x=\"256.676218\" xlink:href=\"#m71f09d6b9a\" y=\"72.409201\"/>\n     <use style=\"fill:#1f77b4;stroke:#1f77b4;\" x=\"274.793101\" xlink:href=\"#m71f09d6b9a\" y=\"88.563182\"/>\n     <use style=\"fill:#1f77b4;stroke:#1f77b4;\" x=\"292.909984\" xlink:href=\"#m71f09d6b9a\" y=\"102.361674\"/>\n     <use style=\"fill:#1f77b4;stroke:#1f77b4;\" x=\"311.026867\" xlink:href=\"#m71f09d6b9a\" y=\"114.742612\"/>\n     <use style=\"fill:#1f77b4;stroke:#1f77b4;\" x=\"329.14375\" xlink:href=\"#m71f09d6b9a\" y=\"124.38324\"/>\n     <use style=\"fill:#1f77b4;stroke:#1f77b4;\" x=\"347.260633\" xlink:href=\"#m71f09d6b9a\" y=\"132.068322\"/>\n     <use style=\"fill:#1f77b4;stroke:#1f77b4;\" x=\"365.377516\" xlink:href=\"#m71f09d6b9a\" y=\"147.544006\"/>\n     <use style=\"fill:#1f77b4;stroke:#1f77b4;\" x=\"383.494399\" xlink:href=\"#m71f09d6b9a\" y=\"154.960939\"/>\n     <use style=\"fill:#1f77b4;stroke:#1f77b4;\" x=\"401.611282\" xlink:href=\"#m71f09d6b9a\" y=\"163.382055\"/>\n     <use style=\"fill:#1f77b4;stroke:#1f77b4;\" x=\"419.728166\" xlink:href=\"#m71f09d6b9a\" y=\"171.661943\"/>\n     <use style=\"fill:#1f77b4;stroke:#1f77b4;\" x=\"437.845049\" xlink:href=\"#m71f09d6b9a\" y=\"178.919059\"/>\n     <use style=\"fill:#1f77b4;stroke:#1f77b4;\" x=\"455.961932\" xlink:href=\"#m71f09d6b9a\" y=\"187.398216\"/>\n     <use style=\"fill:#1f77b4;stroke:#1f77b4;\" x=\"474.078815\" xlink:href=\"#m71f09d6b9a\" y=\"195.062636\"/>\n     <use style=\"fill:#1f77b4;stroke:#1f77b4;\" x=\"492.195698\" xlink:href=\"#m71f09d6b9a\" y=\"201.923641\"/>\n     <use style=\"fill:#1f77b4;stroke:#1f77b4;\" x=\"510.312581\" xlink:href=\"#m71f09d6b9a\" y=\"211.513912\"/>\n     <use style=\"fill:#1f77b4;stroke:#1f77b4;\" x=\"528.429464\" xlink:href=\"#m71f09d6b9a\" y=\"219.072901\"/>\n     <use style=\"fill:#1f77b4;stroke:#1f77b4;\" x=\"546.546347\" xlink:href=\"#m71f09d6b9a\" y=\"227.332509\"/>\n     <use style=\"fill:#1f77b4;stroke:#1f77b4;\" x=\"564.663231\" xlink:href=\"#m71f09d6b9a\" y=\"234.74121\"/>\n     <use style=\"fill:#1f77b4;stroke:#1f77b4;\" x=\"582.780114\" xlink:href=\"#m71f09d6b9a\" y=\"243.059504\"/>\n    </g>\n   </g>\n   <g id=\"patch_3\">\n    <path d=\"M 50.14375 254.290909 \nL 50.14375 7.2 \n\" style=\"fill:none;stroke:#000000;stroke-linecap:square;stroke-linejoin:miter;stroke-width:0.8;\"/>\n   </g>\n   <g id=\"patch_4\">\n    <path d=\"M 608.14375 254.290909 \nL 608.14375 7.2 \n\" style=\"fill:none;stroke:#000000;stroke-linecap:square;stroke-linejoin:miter;stroke-width:0.8;\"/>\n   </g>\n   <g id=\"patch_5\">\n    <path d=\"M 50.14375 254.290909 \nL 608.14375 254.290909 \n\" style=\"fill:none;stroke:#000000;stroke-linecap:square;stroke-linejoin:miter;stroke-width:0.8;\"/>\n   </g>\n   <g id=\"patch_6\">\n    <path d=\"M 50.14375 7.2 \nL 608.14375 7.2 \n\" style=\"fill:none;stroke:#000000;stroke-linecap:square;stroke-linejoin:miter;stroke-width:0.8;\"/>\n   </g>\n   <g id=\"legend_1\">\n    <g id=\"patch_7\">\n     <path d=\"M 562.795313 29.878125 \nL 601.14375 29.878125 \nQ 603.14375 29.878125 603.14375 27.878125 \nL 603.14375 14.2 \nQ 603.14375 12.2 601.14375 12.2 \nL 562.795313 12.2 \nQ 560.795313 12.2 560.795313 14.2 \nL 560.795313 27.878125 \nQ 560.795313 29.878125 562.795313 29.878125 \nz\n\" style=\"fill:#ffffff;opacity:0.8;stroke:#cccccc;stroke-linejoin:miter;\"/>\n    </g>\n    <g id=\"line2d_15\">\n     <path d=\"M 564.795313 20.298438 \nL 584.795313 20.298438 \n\" style=\"fill:none;stroke:#1f77b4;stroke-linecap:square;stroke-width:1.5;\"/>\n    </g>\n    <g id=\"line2d_16\">\n     <g>\n      <use style=\"fill:#1f77b4;stroke:#1f77b4;\" x=\"574.795313\" xlink:href=\"#m71f09d6b9a\" y=\"20.298438\"/>\n     </g>\n    </g>\n    <g id=\"text_16\">\n     <!-- p -->\n     <g transform=\"translate(592.795313 23.798438)scale(0.1 -0.1)\">\n      <use xlink:href=\"#DejaVuSans-112\"/>\n     </g>\n    </g>\n   </g>\n  </g>\n  <g id=\"axes_2\">\n   <g id=\"patch_8\">\n    <path d=\"M 50.14375 550.8 \nL 608.14375 550.8 \nL 608.14375 303.709091 \nL 50.14375 303.709091 \nz\n\" style=\"fill:#ffffff;\"/>\n   </g>\n   <g id=\"matplotlib.axis_3\">\n    <g id=\"xtick_7\">\n     <g id=\"line2d_17\">\n      <g>\n       <use style=\"stroke:#000000;stroke-width:0.8;\" x=\"129.858036\" xlink:href=\"#m4b144d380b\" y=\"550.8\"/>\n      </g>\n     </g>\n     <g id=\"text_17\">\n      <!-- 5 -->\n      <g transform=\"translate(126.676786 565.398437)scale(0.1 -0.1)\">\n       <use xlink:href=\"#DejaVuSans-53\"/>\n      </g>\n     </g>\n    </g>\n    <g id=\"xtick_8\">\n     <g id=\"line2d_18\">\n      <g>\n       <use style=\"stroke:#000000;stroke-width:0.8;\" x=\"220.442451\" xlink:href=\"#m4b144d380b\" y=\"550.8\"/>\n      </g>\n     </g>\n     <g id=\"text_18\">\n      <!-- 10 -->\n      <g transform=\"translate(214.079951 565.398437)scale(0.1 -0.1)\">\n       <use xlink:href=\"#DejaVuSans-49\"/>\n       <use x=\"63.623047\" xlink:href=\"#DejaVuSans-48\"/>\n      </g>\n     </g>\n    </g>\n    <g id=\"xtick_9\">\n     <g id=\"line2d_19\">\n      <g>\n       <use style=\"stroke:#000000;stroke-width:0.8;\" x=\"311.026867\" xlink:href=\"#m4b144d380b\" y=\"550.8\"/>\n      </g>\n     </g>\n     <g id=\"text_19\">\n      <!-- 15 -->\n      <g transform=\"translate(304.664367 565.398437)scale(0.1 -0.1)\">\n       <use xlink:href=\"#DejaVuSans-49\"/>\n       <use x=\"63.623047\" xlink:href=\"#DejaVuSans-53\"/>\n      </g>\n     </g>\n    </g>\n    <g id=\"xtick_10\">\n     <g id=\"line2d_20\">\n      <g>\n       <use style=\"stroke:#000000;stroke-width:0.8;\" x=\"401.611282\" xlink:href=\"#m4b144d380b\" y=\"550.8\"/>\n      </g>\n     </g>\n     <g id=\"text_20\">\n      <!-- 20 -->\n      <g transform=\"translate(395.248782 565.398437)scale(0.1 -0.1)\">\n       <use xlink:href=\"#DejaVuSans-50\"/>\n       <use x=\"63.623047\" xlink:href=\"#DejaVuSans-48\"/>\n      </g>\n     </g>\n    </g>\n    <g id=\"xtick_11\">\n     <g id=\"line2d_21\">\n      <g>\n       <use style=\"stroke:#000000;stroke-width:0.8;\" x=\"492.195698\" xlink:href=\"#m4b144d380b\" y=\"550.8\"/>\n      </g>\n     </g>\n     <g id=\"text_21\">\n      <!-- 25 -->\n      <g transform=\"translate(485.833198 565.398437)scale(0.1 -0.1)\">\n       <use xlink:href=\"#DejaVuSans-50\"/>\n       <use x=\"63.623047\" xlink:href=\"#DejaVuSans-53\"/>\n      </g>\n     </g>\n    </g>\n    <g id=\"xtick_12\">\n     <g id=\"line2d_22\">\n      <g>\n       <use style=\"stroke:#000000;stroke-width:0.8;\" x=\"582.780114\" xlink:href=\"#m4b144d380b\" y=\"550.8\"/>\n      </g>\n     </g>\n     <g id=\"text_22\">\n      <!-- 30 -->\n      <g transform=\"translate(576.417614 565.398437)scale(0.1 -0.1)\">\n       <use xlink:href=\"#DejaVuSans-51\"/>\n       <use x=\"63.623047\" xlink:href=\"#DejaVuSans-48\"/>\n      </g>\n     </g>\n    </g>\n    <g id=\"text_23\">\n     <!-- Number of Topics -->\n     <g transform=\"translate(285.879687 579.076562)scale(0.1 -0.1)\">\n      <use xlink:href=\"#DejaVuSans-78\"/>\n      <use x=\"74.804688\" xlink:href=\"#DejaVuSans-117\"/>\n      <use x=\"138.183594\" xlink:href=\"#DejaVuSans-109\"/>\n      <use x=\"235.595703\" xlink:href=\"#DejaVuSans-98\"/>\n      <use x=\"299.072266\" xlink:href=\"#DejaVuSans-101\"/>\n      <use x=\"360.595703\" xlink:href=\"#DejaVuSans-114\"/>\n      <use x=\"401.708984\" xlink:href=\"#DejaVuSans-32\"/>\n      <use x=\"433.496094\" xlink:href=\"#DejaVuSans-111\"/>\n      <use x=\"494.677734\" xlink:href=\"#DejaVuSans-102\"/>\n      <use x=\"529.882812\" xlink:href=\"#DejaVuSans-32\"/>\n      <use x=\"561.669922\" xlink:href=\"#DejaVuSans-84\"/>\n      <use x=\"605.753906\" xlink:href=\"#DejaVuSans-111\"/>\n      <use x=\"666.935547\" xlink:href=\"#DejaVuSans-112\"/>\n      <use x=\"730.412109\" xlink:href=\"#DejaVuSans-105\"/>\n      <use x=\"758.195312\" xlink:href=\"#DejaVuSans-99\"/>\n      <use x=\"813.175781\" xlink:href=\"#DejaVuSans-115\"/>\n     </g>\n    </g>\n   </g>\n   <g id=\"matplotlib.axis_4\">\n    <g id=\"ytick_8\">\n     <g id=\"line2d_23\">\n      <g>\n       <use style=\"stroke:#000000;stroke-width:0.8;\" x=\"50.14375\" xlink:href=\"#m5bd86a3d07\" y=\"516.67583\"/>\n      </g>\n     </g>\n     <g id=\"text_24\">\n      <!-- 0.36 -->\n      <g transform=\"translate(20.878125 520.475049)scale(0.1 -0.1)\">\n       <defs>\n        <path d=\"M 10.6875 12.40625 \nL 21 12.40625 \nL 21 0 \nL 10.6875 0 \nz\n\" id=\"DejaVuSans-46\"/>\n        <path d=\"M 33.015625 40.375 \nQ 26.375 40.375 22.484375 35.828125 \nQ 18.609375 31.296875 18.609375 23.390625 \nQ 18.609375 15.53125 22.484375 10.953125 \nQ 26.375 6.390625 33.015625 6.390625 \nQ 39.65625 6.390625 43.53125 10.953125 \nQ 47.40625 15.53125 47.40625 23.390625 \nQ 47.40625 31.296875 43.53125 35.828125 \nQ 39.65625 40.375 33.015625 40.375 \nz\nM 52.59375 71.296875 \nL 52.59375 62.3125 \nQ 48.875 64.0625 45.09375 64.984375 \nQ 41.3125 65.921875 37.59375 65.921875 \nQ 27.828125 65.921875 22.671875 59.328125 \nQ 17.53125 52.734375 16.796875 39.40625 \nQ 19.671875 43.65625 24.015625 45.921875 \nQ 28.375 48.1875 33.59375 48.1875 \nQ 44.578125 48.1875 50.953125 41.515625 \nQ 57.328125 34.859375 57.328125 23.390625 \nQ 57.328125 12.15625 50.6875 5.359375 \nQ 44.046875 -1.421875 33.015625 -1.421875 \nQ 20.359375 -1.421875 13.671875 8.265625 \nQ 6.984375 17.96875 6.984375 36.375 \nQ 6.984375 53.65625 15.1875 63.9375 \nQ 23.390625 74.21875 37.203125 74.21875 \nQ 40.921875 74.21875 44.703125 73.484375 \nQ 48.484375 72.75 52.59375 71.296875 \nz\n\" id=\"DejaVuSans-54\"/>\n       </defs>\n       <use xlink:href=\"#DejaVuSans-48\"/>\n       <use x=\"63.623047\" xlink:href=\"#DejaVuSans-46\"/>\n       <use x=\"95.410156\" xlink:href=\"#DejaVuSans-51\"/>\n       <use x=\"159.033203\" xlink:href=\"#DejaVuSans-54\"/>\n      </g>\n     </g>\n    </g>\n    <g id=\"ytick_9\">\n     <g id=\"line2d_24\">\n      <g>\n       <use style=\"stroke:#000000;stroke-width:0.8;\" x=\"50.14375\" xlink:href=\"#m5bd86a3d07\" y=\"481.933219\"/>\n      </g>\n     </g>\n     <g id=\"text_25\">\n      <!-- 0.38 -->\n      <g transform=\"translate(20.878125 485.732438)scale(0.1 -0.1)\">\n       <use xlink:href=\"#DejaVuSans-48\"/>\n       <use x=\"63.623047\" xlink:href=\"#DejaVuSans-46\"/>\n       <use x=\"95.410156\" xlink:href=\"#DejaVuSans-51\"/>\n       <use x=\"159.033203\" xlink:href=\"#DejaVuSans-56\"/>\n      </g>\n     </g>\n    </g>\n    <g id=\"ytick_10\">\n     <g id=\"line2d_25\">\n      <g>\n       <use style=\"stroke:#000000;stroke-width:0.8;\" x=\"50.14375\" xlink:href=\"#m5bd86a3d07\" y=\"447.190609\"/>\n      </g>\n     </g>\n     <g id=\"text_26\">\n      <!-- 0.40 -->\n      <g transform=\"translate(20.878125 450.989827)scale(0.1 -0.1)\">\n       <use xlink:href=\"#DejaVuSans-48\"/>\n       <use x=\"63.623047\" xlink:href=\"#DejaVuSans-46\"/>\n       <use x=\"95.410156\" xlink:href=\"#DejaVuSans-52\"/>\n       <use x=\"159.033203\" xlink:href=\"#DejaVuSans-48\"/>\n      </g>\n     </g>\n    </g>\n    <g id=\"ytick_11\">\n     <g id=\"line2d_26\">\n      <g>\n       <use style=\"stroke:#000000;stroke-width:0.8;\" x=\"50.14375\" xlink:href=\"#m5bd86a3d07\" y=\"412.447998\"/>\n      </g>\n     </g>\n     <g id=\"text_27\">\n      <!-- 0.42 -->\n      <g transform=\"translate(20.878125 416.247216)scale(0.1 -0.1)\">\n       <use xlink:href=\"#DejaVuSans-48\"/>\n       <use x=\"63.623047\" xlink:href=\"#DejaVuSans-46\"/>\n       <use x=\"95.410156\" xlink:href=\"#DejaVuSans-52\"/>\n       <use x=\"159.033203\" xlink:href=\"#DejaVuSans-50\"/>\n      </g>\n     </g>\n    </g>\n    <g id=\"ytick_12\">\n     <g id=\"line2d_27\">\n      <g>\n       <use style=\"stroke:#000000;stroke-width:0.8;\" x=\"50.14375\" xlink:href=\"#m5bd86a3d07\" y=\"377.705387\"/>\n      </g>\n     </g>\n     <g id=\"text_28\">\n      <!-- 0.44 -->\n      <g transform=\"translate(20.878125 381.504606)scale(0.1 -0.1)\">\n       <use xlink:href=\"#DejaVuSans-48\"/>\n       <use x=\"63.623047\" xlink:href=\"#DejaVuSans-46\"/>\n       <use x=\"95.410156\" xlink:href=\"#DejaVuSans-52\"/>\n       <use x=\"159.033203\" xlink:href=\"#DejaVuSans-52\"/>\n      </g>\n     </g>\n    </g>\n    <g id=\"ytick_13\">\n     <g id=\"line2d_28\">\n      <g>\n       <use style=\"stroke:#000000;stroke-width:0.8;\" x=\"50.14375\" xlink:href=\"#m5bd86a3d07\" y=\"342.962776\"/>\n      </g>\n     </g>\n     <g id=\"text_29\">\n      <!-- 0.46 -->\n      <g transform=\"translate(20.878125 346.761995)scale(0.1 -0.1)\">\n       <use xlink:href=\"#DejaVuSans-48\"/>\n       <use x=\"63.623047\" xlink:href=\"#DejaVuSans-46\"/>\n       <use x=\"95.410156\" xlink:href=\"#DejaVuSans-52\"/>\n       <use x=\"159.033203\" xlink:href=\"#DejaVuSans-54\"/>\n      </g>\n     </g>\n    </g>\n    <g id=\"ytick_14\">\n     <g id=\"line2d_29\">\n      <g>\n       <use style=\"stroke:#000000;stroke-width:0.8;\" x=\"50.14375\" xlink:href=\"#m5bd86a3d07\" y=\"308.220165\"/>\n      </g>\n     </g>\n     <g id=\"text_30\">\n      <!-- 0.48 -->\n      <g transform=\"translate(20.878125 312.019384)scale(0.1 -0.1)\">\n       <use xlink:href=\"#DejaVuSans-48\"/>\n       <use x=\"63.623047\" xlink:href=\"#DejaVuSans-46\"/>\n       <use x=\"95.410156\" xlink:href=\"#DejaVuSans-52\"/>\n       <use x=\"159.033203\" xlink:href=\"#DejaVuSans-56\"/>\n      </g>\n     </g>\n    </g>\n    <g id=\"text_31\">\n     <!-- Coherence score -->\n     <g transform=\"translate(14.798437 469.086577)rotate(-90)scale(0.1 -0.1)\">\n      <defs>\n       <path d=\"M 64.40625 67.28125 \nL 64.40625 56.890625 \nQ 59.421875 61.53125 53.78125 63.8125 \nQ 48.140625 66.109375 41.796875 66.109375 \nQ 29.296875 66.109375 22.65625 58.46875 \nQ 16.015625 50.828125 16.015625 36.375 \nQ 16.015625 21.96875 22.65625 14.328125 \nQ 29.296875 6.6875 41.796875 6.6875 \nQ 48.140625 6.6875 53.78125 8.984375 \nQ 59.421875 11.28125 64.40625 15.921875 \nL 64.40625 5.609375 \nQ 59.234375 2.09375 53.4375 0.328125 \nQ 47.65625 -1.421875 41.21875 -1.421875 \nQ 24.65625 -1.421875 15.125 8.703125 \nQ 5.609375 18.84375 5.609375 36.375 \nQ 5.609375 53.953125 15.125 64.078125 \nQ 24.65625 74.21875 41.21875 74.21875 \nQ 47.75 74.21875 53.53125 72.484375 \nQ 59.328125 70.75 64.40625 67.28125 \nz\n\" id=\"DejaVuSans-67\"/>\n       <path d=\"M 54.890625 33.015625 \nL 54.890625 0 \nL 45.90625 0 \nL 45.90625 32.71875 \nQ 45.90625 40.484375 42.875 44.328125 \nQ 39.84375 48.1875 33.796875 48.1875 \nQ 26.515625 48.1875 22.3125 43.546875 \nQ 18.109375 38.921875 18.109375 30.90625 \nL 18.109375 0 \nL 9.078125 0 \nL 9.078125 75.984375 \nL 18.109375 75.984375 \nL 18.109375 46.1875 \nQ 21.34375 51.125 25.703125 53.5625 \nQ 30.078125 56 35.796875 56 \nQ 45.21875 56 50.046875 50.171875 \nQ 54.890625 44.34375 54.890625 33.015625 \nz\n\" id=\"DejaVuSans-104\"/>\n       <path d=\"M 54.890625 33.015625 \nL 54.890625 0 \nL 45.90625 0 \nL 45.90625 32.71875 \nQ 45.90625 40.484375 42.875 44.328125 \nQ 39.84375 48.1875 33.796875 48.1875 \nQ 26.515625 48.1875 22.3125 43.546875 \nQ 18.109375 38.921875 18.109375 30.90625 \nL 18.109375 0 \nL 9.078125 0 \nL 9.078125 54.6875 \nL 18.109375 54.6875 \nL 18.109375 46.1875 \nQ 21.34375 51.125 25.703125 53.5625 \nQ 30.078125 56 35.796875 56 \nQ 45.21875 56 50.046875 50.171875 \nQ 54.890625 44.34375 54.890625 33.015625 \nz\n\" id=\"DejaVuSans-110\"/>\n      </defs>\n      <use xlink:href=\"#DejaVuSans-67\"/>\n      <use x=\"69.824219\" xlink:href=\"#DejaVuSans-111\"/>\n      <use x=\"131.005859\" xlink:href=\"#DejaVuSans-104\"/>\n      <use x=\"194.384766\" xlink:href=\"#DejaVuSans-101\"/>\n      <use x=\"255.908203\" xlink:href=\"#DejaVuSans-114\"/>\n      <use x=\"294.771484\" xlink:href=\"#DejaVuSans-101\"/>\n      <use x=\"356.294922\" xlink:href=\"#DejaVuSans-110\"/>\n      <use x=\"419.673828\" xlink:href=\"#DejaVuSans-99\"/>\n      <use x=\"474.654297\" xlink:href=\"#DejaVuSans-101\"/>\n      <use x=\"536.177734\" xlink:href=\"#DejaVuSans-32\"/>\n      <use x=\"567.964844\" xlink:href=\"#DejaVuSans-115\"/>\n      <use x=\"620.064453\" xlink:href=\"#DejaVuSans-99\"/>\n      <use x=\"675.044922\" xlink:href=\"#DejaVuSans-111\"/>\n      <use x=\"736.226562\" xlink:href=\"#DejaVuSans-114\"/>\n      <use x=\"775.089844\" xlink:href=\"#DejaVuSans-101\"/>\n     </g>\n    </g>\n   </g>\n   <g id=\"line2d_30\">\n    <path clip-path=\"url(#pb5f745bef1)\" d=\"M 75.507386 488.662245 \nL 93.624269 372.523992 \nL 111.741153 405.79575 \nL 129.858036 376.052668 \nL 147.974919 369.213833 \nL 166.091802 368.56856 \nL 184.208685 388.850567 \nL 202.325568 378.707786 \nL 220.442451 335.079772 \nL 238.559334 314.940496 \nL 256.676218 410.597095 \nL 274.793101 455.917314 \nL 292.909984 450.021065 \nL 311.026867 538.790417 \nL 329.14375 527.78734 \nL 347.260633 538.400495 \nL 365.377516 471.896215 \nL 383.494399 533.209658 \nL 401.611282 539.568595 \nL 419.728166 525.875638 \nL 437.845049 518.415082 \nL 455.961932 473.664937 \nL 474.078815 538.37302 \nL 492.195698 523.420783 \nL 510.312581 512.043372 \nL 528.429464 506.10597 \nL 546.546347 522.722773 \nL 564.663231 524.734832 \nL 582.780114 478.783631 \n\" style=\"fill:none;stroke:#1f77b4;stroke-linecap:square;stroke-width:1.5;\"/>\n    <g clip-path=\"url(#pb5f745bef1)\">\n     <use style=\"fill:#1f77b4;stroke:#1f77b4;\" x=\"75.507386\" xlink:href=\"#m71f09d6b9a\" y=\"488.662245\"/>\n     <use style=\"fill:#1f77b4;stroke:#1f77b4;\" x=\"93.624269\" xlink:href=\"#m71f09d6b9a\" y=\"372.523992\"/>\n     <use style=\"fill:#1f77b4;stroke:#1f77b4;\" x=\"111.741153\" xlink:href=\"#m71f09d6b9a\" y=\"405.79575\"/>\n     <use style=\"fill:#1f77b4;stroke:#1f77b4;\" x=\"129.858036\" xlink:href=\"#m71f09d6b9a\" y=\"376.052668\"/>\n     <use style=\"fill:#1f77b4;stroke:#1f77b4;\" x=\"147.974919\" xlink:href=\"#m71f09d6b9a\" y=\"369.213833\"/>\n     <use style=\"fill:#1f77b4;stroke:#1f77b4;\" x=\"166.091802\" xlink:href=\"#m71f09d6b9a\" y=\"368.56856\"/>\n     <use style=\"fill:#1f77b4;stroke:#1f77b4;\" x=\"184.208685\" xlink:href=\"#m71f09d6b9a\" y=\"388.850567\"/>\n     <use style=\"fill:#1f77b4;stroke:#1f77b4;\" x=\"202.325568\" xlink:href=\"#m71f09d6b9a\" y=\"378.707786\"/>\n     <use style=\"fill:#1f77b4;stroke:#1f77b4;\" x=\"220.442451\" xlink:href=\"#m71f09d6b9a\" y=\"335.079772\"/>\n     <use style=\"fill:#1f77b4;stroke:#1f77b4;\" x=\"238.559334\" xlink:href=\"#m71f09d6b9a\" y=\"314.940496\"/>\n     <use style=\"fill:#1f77b4;stroke:#1f77b4;\" x=\"256.676218\" xlink:href=\"#m71f09d6b9a\" y=\"410.597095\"/>\n     <use style=\"fill:#1f77b4;stroke:#1f77b4;\" x=\"274.793101\" xlink:href=\"#m71f09d6b9a\" y=\"455.917314\"/>\n     <use style=\"fill:#1f77b4;stroke:#1f77b4;\" x=\"292.909984\" xlink:href=\"#m71f09d6b9a\" y=\"450.021065\"/>\n     <use style=\"fill:#1f77b4;stroke:#1f77b4;\" x=\"311.026867\" xlink:href=\"#m71f09d6b9a\" y=\"538.790417\"/>\n     <use style=\"fill:#1f77b4;stroke:#1f77b4;\" x=\"329.14375\" xlink:href=\"#m71f09d6b9a\" y=\"527.78734\"/>\n     <use style=\"fill:#1f77b4;stroke:#1f77b4;\" x=\"347.260633\" xlink:href=\"#m71f09d6b9a\" y=\"538.400495\"/>\n     <use style=\"fill:#1f77b4;stroke:#1f77b4;\" x=\"365.377516\" xlink:href=\"#m71f09d6b9a\" y=\"471.896215\"/>\n     <use style=\"fill:#1f77b4;stroke:#1f77b4;\" x=\"383.494399\" xlink:href=\"#m71f09d6b9a\" y=\"533.209658\"/>\n     <use style=\"fill:#1f77b4;stroke:#1f77b4;\" x=\"401.611282\" xlink:href=\"#m71f09d6b9a\" y=\"539.568595\"/>\n     <use style=\"fill:#1f77b4;stroke:#1f77b4;\" x=\"419.728166\" xlink:href=\"#m71f09d6b9a\" y=\"525.875638\"/>\n     <use style=\"fill:#1f77b4;stroke:#1f77b4;\" x=\"437.845049\" xlink:href=\"#m71f09d6b9a\" y=\"518.415082\"/>\n     <use style=\"fill:#1f77b4;stroke:#1f77b4;\" x=\"455.961932\" xlink:href=\"#m71f09d6b9a\" y=\"473.664937\"/>\n     <use style=\"fill:#1f77b4;stroke:#1f77b4;\" x=\"474.078815\" xlink:href=\"#m71f09d6b9a\" y=\"538.37302\"/>\n     <use style=\"fill:#1f77b4;stroke:#1f77b4;\" x=\"492.195698\" xlink:href=\"#m71f09d6b9a\" y=\"523.420783\"/>\n     <use style=\"fill:#1f77b4;stroke:#1f77b4;\" x=\"510.312581\" xlink:href=\"#m71f09d6b9a\" y=\"512.043372\"/>\n     <use style=\"fill:#1f77b4;stroke:#1f77b4;\" x=\"528.429464\" xlink:href=\"#m71f09d6b9a\" y=\"506.10597\"/>\n     <use style=\"fill:#1f77b4;stroke:#1f77b4;\" x=\"546.546347\" xlink:href=\"#m71f09d6b9a\" y=\"522.722773\"/>\n     <use style=\"fill:#1f77b4;stroke:#1f77b4;\" x=\"564.663231\" xlink:href=\"#m71f09d6b9a\" y=\"524.734832\"/>\n     <use style=\"fill:#1f77b4;stroke:#1f77b4;\" x=\"582.780114\" xlink:href=\"#m71f09d6b9a\" y=\"478.783631\"/>\n    </g>\n   </g>\n   <g id=\"patch_9\">\n    <path d=\"M 50.14375 550.8 \nL 50.14375 303.709091 \n\" style=\"fill:none;stroke:#000000;stroke-linecap:square;stroke-linejoin:miter;stroke-width:0.8;\"/>\n   </g>\n   <g id=\"patch_10\">\n    <path d=\"M 608.14375 550.8 \nL 608.14375 303.709091 \n\" style=\"fill:none;stroke:#000000;stroke-linecap:square;stroke-linejoin:miter;stroke-width:0.8;\"/>\n   </g>\n   <g id=\"patch_11\">\n    <path d=\"M 50.14375 550.8 \nL 608.14375 550.8 \n\" style=\"fill:none;stroke:#000000;stroke-linecap:square;stroke-linejoin:miter;stroke-width:0.8;\"/>\n   </g>\n   <g id=\"patch_12\">\n    <path d=\"M 50.14375 303.709091 \nL 608.14375 303.709091 \n\" style=\"fill:none;stroke:#000000;stroke-linecap:square;stroke-linejoin:miter;stroke-width:0.8;\"/>\n   </g>\n   <g id=\"legend_2\">\n    <g id=\"patch_13\">\n     <path d=\"M 563.645312 326.387216 \nL 601.14375 326.387216 \nQ 603.14375 326.387216 603.14375 324.387216 \nL 603.14375 310.709091 \nQ 603.14375 308.709091 601.14375 308.709091 \nL 563.645312 308.709091 \nQ 561.645312 308.709091 561.645312 310.709091 \nL 561.645312 324.387216 \nQ 561.645312 326.387216 563.645312 326.387216 \nz\n\" style=\"fill:#ffffff;opacity:0.8;stroke:#cccccc;stroke-linejoin:miter;\"/>\n    </g>\n    <g id=\"line2d_31\">\n     <path d=\"M 565.645312 316.807528 \nL 585.645312 316.807528 \n\" style=\"fill:none;stroke:#1f77b4;stroke-linecap:square;stroke-width:1.5;\"/>\n    </g>\n    <g id=\"line2d_32\">\n     <g>\n      <use style=\"fill:#1f77b4;stroke:#1f77b4;\" x=\"575.645312\" xlink:href=\"#m71f09d6b9a\" y=\"316.807528\"/>\n     </g>\n    </g>\n    <g id=\"text_32\">\n     <!-- c -->\n     <g transform=\"translate(593.645312 320.307528)scale(0.1 -0.1)\">\n      <use xlink:href=\"#DejaVuSans-99\"/>\n     </g>\n    </g>\n   </g>\n  </g>\n </g>\n <defs>\n  <clipPath id=\"p1c68d5d8c5\">\n   <rect height=\"247.090909\" width=\"558\" x=\"50.14375\" y=\"7.2\"/>\n  </clipPath>\n  <clipPath id=\"pb5f745bef1\">\n   <rect height=\"247.090909\" width=\"558\" x=\"50.14375\" y=\"303.709091\"/>\n  </clipPath>\n </defs>\n</svg>\n",
      "image/png": "[encoded data removed]"
     },
     "metadata": {
      "needs_background": "light"
     }
    }
   ],
   "source": [
    "limit=31 ######\n",
    "start=2\n",
    "step=1\n",
    "x = range(start, limit, step)\n",
    "\n",
    "\n",
    "fig, ax = plt.subplots(2,1, figsize=(10, 10))\n",
    "\n",
    "ax[0].plot(x, perplexity_values, marker='o')\n",
    "ax[0].set_xlabel(\"Number of Topics\")\n",
    "ax[0].set_ylabel(\"Perplexity\")\n",
    "ax[0].legend((\"perplexity\"), loc='best')\n",
    "\n",
    "ax[1].plot(x, coherence_values, marker='o')\n",
    "ax[1].set_xlabel(\"Number of Topics\")\n",
    "ax[1].set_ylabel(\"Coherence score\")\n",
    "ax[1].legend((\"coherence_values\"), loc='best')\n",
    "plt.show()"
   ]
  },
  {
   "cell_type": "code",
   "execution_count": 10,
   "metadata": {},
   "outputs": [
    {
     "output_type": "stream",
     "name": "stdout",
     "text": [
      "Num Topics = 2  has Perplexity Value of -7.8668\n",
      "Num Topics = 3  has Perplexity Value of -7.9705\n",
      "Num Topics = 4  has Perplexity Value of -8.1164\n",
      "Num Topics = 5  has Perplexity Value of -8.2446\n",
      "Num Topics = 6  has Perplexity Value of -8.2818\n",
      "Num Topics = 7  has Perplexity Value of -8.3817\n",
      "Num Topics = 8  has Perplexity Value of -8.4684\n",
      "Num Topics = 9  has Perplexity Value of -8.5815\n",
      "Num Topics = 10  has Perplexity Value of -8.7461\n",
      "Num Topics = 11  has Perplexity Value of -9.0309\n",
      "Num Topics = 12  has Perplexity Value of -9.4606\n",
      "Num Topics = 13  has Perplexity Value of -9.9376\n",
      "Num Topics = 14  has Perplexity Value of -10.345\n",
      "Num Topics = 15  has Perplexity Value of -10.7106\n",
      "Num Topics = 16  has Perplexity Value of -10.9953\n",
      "Num Topics = 17  has Perplexity Value of -11.2222\n",
      "Num Topics = 18  has Perplexity Value of -11.6791\n",
      "Num Topics = 19  has Perplexity Value of -11.8981\n",
      "Num Topics = 20  has Perplexity Value of -12.1468\n",
      "Num Topics = 21  has Perplexity Value of -12.3913\n",
      "Num Topics = 22  has Perplexity Value of -12.6055\n",
      "Num Topics = 23  has Perplexity Value of -12.8559\n",
      "Num Topics = 24  has Perplexity Value of -13.0822\n",
      "Num Topics = 25  has Perplexity Value of -13.2848\n",
      "Num Topics = 26  has Perplexity Value of -13.568\n",
      "Num Topics = 27  has Perplexity Value of -13.7912\n",
      "Num Topics = 28  has Perplexity Value of -14.0351\n",
      "Num Topics = 29  has Perplexity Value of -14.2538\n",
      "Num Topics = 30  has Perplexity Value of -14.4994\n",
      "Num Topics = 2  has Coherence Value of 0.3761\n",
      "Num Topics = 3  has Coherence Value of 0.443\n",
      "Num Topics = 4  has Coherence Value of 0.4238\n",
      "Num Topics = 5  has Coherence Value of 0.441\n",
      "Num Topics = 6  has Coherence Value of 0.4449\n",
      "Num Topics = 7  has Coherence Value of 0.4453\n",
      "Num Topics = 8  has Coherence Value of 0.4336\n",
      "Num Topics = 9  has Coherence Value of 0.4394\n",
      "Num Topics = 10  has Coherence Value of 0.4645\n",
      "Num Topics = 11  has Coherence Value of 0.4761\n",
      "Num Topics = 12  has Coherence Value of 0.4211\n",
      "Num Topics = 13  has Coherence Value of 0.395\n",
      "Num Topics = 14  has Coherence Value of 0.3984\n",
      "Num Topics = 15  has Coherence Value of 0.3473\n",
      "Num Topics = 16  has Coherence Value of 0.3536\n",
      "Num Topics = 17  has Coherence Value of 0.3475\n",
      "Num Topics = 18  has Coherence Value of 0.3858\n",
      "Num Topics = 19  has Coherence Value of 0.3505\n",
      "Num Topics = 20  has Coherence Value of 0.3468\n",
      "Num Topics = 21  has Coherence Value of 0.3547\n",
      "Num Topics = 22  has Coherence Value of 0.359\n",
      "Num Topics = 23  has Coherence Value of 0.3848\n",
      "Num Topics = 24  has Coherence Value of 0.3475\n",
      "Num Topics = 25  has Coherence Value of 0.3561\n",
      "Num Topics = 26  has Coherence Value of 0.3627\n",
      "Num Topics = 27  has Coherence Value of 0.3661\n",
      "Num Topics = 28  has Coherence Value of 0.3565\n",
      "Num Topics = 29  has Coherence Value of 0.3554\n",
      "Num Topics = 30  has Coherence Value of 0.3818\n",
      "/Users/uni613/Library/Python/3.8/lib/python/site-packages/ipykernel/ipkernel.py:287: DeprecationWarning: `should_run_async` will not call `transform_cell` automatically in the future. Please pass the result to `transformed_cell` argument and any exception that happen during thetransform in `preprocessing_exc_tuple` in IPython 7.17 and above.\n",
      "  and should_run_async(code)\n"
     ]
    }
   ],
   "source": [
    "for m, pv in zip(x, perplexity_values):\n",
    "  print(\"Num Topics =\", m, \" has Perplexity Value of\", round(pv, 4))\n",
    "\n",
    "for m, cv in zip(x, coherence_values):\n",
    "  print(\"Num Topics =\", m, \" has Coherence Value of\", round(cv, 4))"
   ]
  },
  {
   "cell_type": "code",
   "execution_count": 11,
   "metadata": {},
   "outputs": [
    {
     "output_type": "stream",
     "name": "stderr",
     "text": [
      "/Users/uni613/Library/Python/3.8/lib/python/site-packages/ipykernel/ipkernel.py:287: DeprecationWarning: `should_run_async` will not call `transform_cell` automatically in the future. Please pass the result to `transformed_cell` argument and any exception that happen during thetransform in `preprocessing_exc_tuple` in IPython 7.17 and above.\n",
      "  and should_run_async(code)\n",
      "[(0,\n",
      "  '0.053*\"read\" + 0.039*\"at\" + 0.027*\"from\" + 0.023*\"their\" + 0.019*\"superior\" '\n",
      "  '+ 0.019*\"journal\" + 0.015*\"i\" + 0.012*\"j\" + 0.011*\"torrance\" + '\n",
      "  '0.010*\"self-concept\" + 0.010*\"average\" + 0.010*\"reading\" + 0.010*\"report\" + '\n",
      "  '0.010*\"guide\" + 0.009*\"myopia\" + 0.008*\"books\" + 0.007*\"editor\" + 0.007*\"m\" '\n",
      "  '+ 0.007*\"regular\" + 0.006*\"task\" + 0.005*\"e.\" + 0.005*\"childrens\" + '\n",
      "  '0.005*\"paul\" + 0.005*\"nongifted\" + 0.005*\"verbal\" + 0.005*\"sources\" + '\n",
      "  '0.005*\"author\" + 0.004*\"tasks\" + 0.004*\"sixth\" + 0.004*\"genius\"'),\n",
      " (1,\n",
      "  '0.029*\"guidance\" + 0.024*\"\\'\\'\" + 0.020*\"``\" + 0.017*\"through\" + '\n",
      "  '0.014*\"adults\" + 0.012*\"laboratory\" + 0.012*\"counseling\" + '\n",
      "  '0.012*\"preschool\" + 0.009*\"wisconsin\" + 0.009*\"self\" + 0.008*\"culturally\" + '\n",
      "  '0.007*\"inservice\" + 0.007*\"right\" + 0.007*\"services\" + 0.005*\"curricular\" + '\n",
      "  '0.005*\"implementing\" + 0.005*\"vocational\" + 0.005*\"administrators\" + '\n",
      "  '0.005*\"providing\" + 0.005*\"intrinsic\" + 0.005*\"staff\" + 0.005*\"techniques\" '\n",
      "  '+ 0.004*\"center\" + 0.004*\"upon\" + 0.003*\"directors\" + 0.003*\"south\" + '\n",
      "  '0.003*\"together\" + 0.003*\"aspirations\" + 0.003*\"consultant\" + 0.003*\"keep\"'),\n",
      " (2,\n",
      "  '0.179*\"and\" + 0.160*\"for\" + 0.033*\"be\" + 0.028*\"teaching\" + '\n",
      "  '0.020*\"high-school\" + 0.009*\"being\" + 0.007*\"or\" + 0.007*\"encouraging\" + '\n",
      "  '0.006*\"must\" + 0.006*\"city\" + 0.006*\"readers\" + 0.005*\"validity\" + '\n",
      "  '0.005*\"collaborate\" + 0.004*\"kindergarten\" + 0.004*\"mathematically\" + '\n",
      "  '0.004*\"rural\" + 0.003*\"special-education\" + 0.003*\"up\" + 0.003*\"instrument\" '\n",
      "  '+ 0.003*\"motivating\" + 0.003*\"assessment\" + 0.003*\"assessing\" + '\n",
      "  '0.003*\"rationale\" + 0.003*\"original\" + 0.003*\"discover\" + '\n",
      "  '0.002*\"handicapped\" + 0.002*\"behaviors\" + 0.002*\"instruments\" + '\n",
      "  '0.002*\"system\" + 0.002*\"balance\"'),\n",
      " (3,\n",
      "  '0.022*\"thinking\" + 0.020*\"helping\" + 0.020*\"nagc\" + 0.017*\"disadvantaged\" + '\n",
      "  '0.016*\"perspective\" + 0.014*\"all\" + 0.013*\"planning\" + 0.012*\"community\" + '\n",
      "  '0.010*\"something\" + 0.010*\"learn\" + 0.009*\"method\" + 0.009*\"world\" + '\n",
      "  '0.008*\"movement\" + 0.007*\"style\" + 0.006*\"ideas\" + 0.006*\"economically\" + '\n",
      "  '0.005*\"described\" + 0.005*\"psychology\" + 0.005*\"divergent\" + '\n",
      "  '0.005*\"learner\" + 0.004*\"basis\" + 0.004*\"processes\" + 0.004*\"importance\" + '\n",
      "  '0.004*\"domain\" + 0.004*\"styles\" + 0.004*\"device\" + 0.004*\"really\" + '\n",
      "  '0.003*\"background\" + 0.003*\"evolution\" + 0.003*\"sibling\"'),\n",
      " (4,\n",
      "  '0.037*\"educating\" + 0.023*\"york\" + 0.022*\"bright\" + 0.021*\"havighurst\" + '\n",
      "  '0.020*\"art\" + 0.019*\"if\" + 0.018*\"music\" + 0.015*\"musical\" + 0.013*\"person\" '\n",
      "  '+ 0.012*\"dehaan\" + 0.012*\"rf\" + 0.009*\"jointly\" + 0.007*\"achieving\" + '\n",
      "  '0.006*\"kind\" + 0.004*\"wiley\" + 0.004*\"income\" + 0.003*\"words\" + '\n",
      "  '0.003*\"competence\" + 0.003*\"autonomy\" + 0.003*\"productivity\" + 0.002*\"g\" + '\n",
      "  '0.002*\"gardner\" + 0.002*\"fact\" + 0.002*\"asked\" + 0.002*\"integrated\" + '\n",
      "  '0.001*\"philosophy\" + 0.001*\"item\" + 0.001*\"estimates\" + 0.001*\"hope\" + '\n",
      "  '0.001*\"1983\"'),\n",
      " (5,\n",
      "  '0.055*\"gifted\" + 0.048*\"students\" + 0.023*\"school\" + 0.019*\"study\" + '\n",
      "  '0.012*\"high\" + 0.011*\"teachers\" + 0.008*\"elementary\" + 0.008*\"ability\" + '\n",
      "  '0.007*\"achievement\" + 0.007*\"do\" + 0.007*\"among\" + 0.007*\"group\" + '\n",
      "  '0.007*\"grade\" + 0.007*\"the\" + 0.006*\"problems\" + 0.006*\"girls\" + '\n",
      "  '0.006*\"creatively\" + 0.006*\"results\" + 0.006*\"boys\" + 0.006*\"academic\" + '\n",
      "  '0.005*\"student\" + 0.005*\"academically\" + 0.005*\"about\" + 0.005*\"groups\" + '\n",
      "  '0.005*\"social\" + 0.005*\"teacher\" + 0.005*\"level\" + 0.005*\"differences\" + '\n",
      "  '0.005*\"performance\" + 0.005*\"use\"'),\n",
      " (6,\n",
      "  '0.055*\"want\" + 0.045*\"is\" + 0.021*\"summer\" + 0.021*\"pupils\" + 0.019*\"arts\" '\n",
      "  '+ 0.015*\"come\" + 0.015*\"not\" + 0.014*\"hither\" + 0.010*\"nurturing\" + '\n",
      "  '0.010*\"should\" + 0.009*\"language\" + 0.009*\"underachievement\" + 0.008*\"that\" '\n",
      "  '+ 0.008*\"underachieving\" + 0.007*\"year\" + 0.007*\"junior-high\" + '\n",
      "  '0.005*\"inquiry\" + 0.005*\"left\" + 0.004*\"matter\" + 0.004*\"degree\" + '\n",
      "  '0.004*\"criterion\" + 0.003*\"renzulli\" + 0.003*\"always\" + 0.003*\"traits\" + '\n",
      "  '0.003*\"potentially\" + 0.003*\"choices\" + 0.003*\"residential\" + 0.003*\"gains\" '\n",
      "  '+ 0.003*\"long\" + 0.003*\"ii\"'),\n",
      " (7,\n",
      "  '0.009*\"theories\" + 0.007*\"old\" + 0.006*\"exceptionally\" + 0.005*\"notes\" + '\n",
      "  '0.005*\"scoring\" + 0.005*\"metacognitive\" + 0.004*\"forms\" + '\n",
      "  '0.004*\"perfectionism\" + 0.004*\"position\" + 0.004*\"socially\" + '\n",
      "  '0.003*\"metacognition\" + 0.003*\"necessary\" + 0.003*\"follow-up\" + '\n",
      "  '0.002*\"relating\" + 0.002*\"conceptions\" + 0.002*\"demonstration\" + '\n",
      "  '0.002*\"mastery\" + 0.002*\"qualities\" + 0.002*\"end\" + 0.001*\"connections\" + '\n",
      "  '0.001*\"addressed\" + 0.001*\"orientations\" + 0.001*\"explanation\" + '\n",
      "  '0.001*\"typology\" + 0.001*\"expertise\" + 0.001*\"distinguish\" + 0.001*\"core\" + '\n",
      "  '0.001*\"construction\" + 0.001*\"overcome\" + 0.001*\"stories\"'),\n",
      " (8,\n",
      "  '0.053*\"college\" + 0.026*\"reviews\" + 0.024*\"some\" + 0.016*\"honors\" + '\n",
      "  '0.013*\"career\" + 0.012*\"highly\" + 0.011*\"women\" + 0.011*\"when\" + '\n",
      "  '0.009*\"early\" + 0.007*\"briefing\" + 0.007*\"interests\" + 0.007*\"seniors\" + '\n",
      "  '0.006*\"adult\" + 0.006*\"california\" + 0.006*\"evaluating\" + 0.006*\"parental\" '\n",
      "  '+ 0.006*\"selected\" + 0.006*\"choice\" + 0.006*\"plan\" + 0.005*\"freedom\" + '\n",
      "  '0.004*\"achievements\" + 0.004*\"females\" + 0.004*\"continuing\" + '\n",
      "  '0.004*\"scientists\" + 0.004*\"chinese\" + 0.003*\"subtests\" + '\n",
      "  '0.003*\"depression\" + 0.003*\"cost\" + 0.003*\"expectations\" + 0.003*\"earlier\"'),\n",
      " (9,\n",
      "  '0.109*\"children\" + 0.067*\"child\" + 0.057*\"parents\" + 0.032*\"page\" + '\n",
      "  '0.023*\"\\'s\" + 0.021*\"can\" + 0.016*\"teach\" + 0.015*\"intelligence\" + '\n",
      "  '0.010*\"view\" + 0.010*\"young\" + 0.010*\"annual\" + 0.010*\"role\" + 0.008*\"more\" '\n",
      "  '+ 0.008*\"growth\" + 0.008*\"association\" + 0.008*\"message\" + 0.007*\"national\" '\n",
      "  '+ 0.006*\"perception\" + 0.006*\"problem\" + 0.006*\"president\" + 0.005*\"home\" + '\n",
      "  '0.005*\"quarterly\" + 0.005*\"speech\" + 0.005*\"responsibility\" + '\n",
      "  '0.005*\"insights\" + 0.004*\"executive\" + 0.004*\"society\" + 0.004*\"iq\" + '\n",
      "  '0.004*\"problem-solving\" + 0.003*\"sense\"'),\n",
      " (10,\n",
      "  '0.084*\"the\" + 0.078*\"gifted\" + 0.054*\"of\" + 0.034*\"a\" + 0.026*\"in\" + '\n",
      "  '0.023*\"book\" + 0.022*\"to\" + 0.020*\"review\" + 0.017*\"education\" + '\n",
      "  '0.014*\"creative\" + 0.013*\"program\" + 0.011*\"you\" + 0.010*\"gifted-children\" '\n",
      "  '+ 0.010*\"creativity\" + 0.008*\"on\" + 0.008*\"giftedness\" + 0.008*\"how\" + '\n",
      "  '0.007*\"talented\" + 0.007*\"an\" + 0.007*\"programs\" + 0.007*\"research\" + '\n",
      "  '0.007*\"will\" + 0.007*\"new\" + 0.007*\"gifted-child\" + 0.006*\"development\" + '\n",
      "  '0.006*\"learning\" + 0.006*\"talent\" + 0.006*\"what\" + 0.005*\"your\" + '\n",
      "  '0.005*\"with\"')]\n"
     ]
    }
   ],
   "source": [
    "a = int(input(\"set the number of topics \"))\n",
    "optimal_model = gensim.models.ldamodel.LdaModel(corpus=corpus,\n",
    "                                                id2word=id2word,\n",
    "                                                num_topics=a,\n",
    "                                                random_state=100,\n",
    "                                                update_every=1,\n",
    "                                                iterations=1000,\n",
    "                                                chunksize=100,\n",
    "                                                passes=10,\n",
    "                                                alpha='auto',\n",
    "                                                eta='auto',\n",
    "                                                per_word_topics=True)\n",
    "model_topics = optimal_model.show_topics(formatted=False)\n",
    "pprint(optimal_model.print_topics(num_words=30))"
   ]
  },
  {
   "cell_type": "code",
   "execution_count": 12,
   "metadata": {},
   "outputs": [
    {
     "output_type": "stream",
     "name": "stderr",
     "text": [
      "/Users/uni613/Library/Python/3.8/lib/python/site-packages/ipykernel/ipkernel.py:287: DeprecationWarning: `should_run_async` will not call `transform_cell` automatically in the future. Please pass the result to `transformed_cell` argument and any exception that happen during thetransform in `preprocessing_exc_tuple` in IPython 7.17 and above.\n  and should_run_async(code)\n"
     ]
    }
   ],
   "source": [
    "title = input(\"set the title of html file \")\n",
    "vis = pyLDAvis.gensim.prepare(optimal_model, corpus, id2word)\n",
    "pyLDAvis.save_html(vis, title+\".html\")"
   ]
  },
  {
   "cell_type": "code",
   "execution_count": 13,
   "metadata": {
    "tags": []
   },
   "outputs": [
    {
     "output_type": "stream",
     "name": "stderr",
     "text": [
      "/Users/uni613/Library/Python/3.8/lib/python/site-packages/ipykernel/ipkernel.py:287: DeprecationWarning: `should_run_async` will not call `transform_cell` automatically in the future. Please pass the result to `transformed_cell` argument and any exception that happen during thetransform in `preprocessing_exc_tuple` in IPython 7.17 and above.\n",
      "  and should_run_async(code)\n",
      "                    0                 1                 2                 3   \\\n",
      "0      (0, 0.02998868)  (1, 0.012655632)   (5, 0.46395284)   (8, 0.01242303)   \n",
      "1     (0, 0.042864136)   (5, 0.80810606)   (8, 0.01094679)  (9, 0.010697825)   \n",
      "2     (0, 0.023505729)  (2, 0.018703716)  (3, 0.031364307)   (5, 0.42591035)   \n",
      "3      (2, 0.03954555)   (5, 0.33022183)  (7, 0.013739216)  (8, 0.015890205)   \n",
      "4     (2, 0.023322618)  (3, 0.017658986)     (5, 0.620536)  (9, 0.110298574)   \n",
      "...                ...               ...               ...               ...   \n",
      "2532  (0, 0.034211844)  (1, 0.017815989)  (2, 0.056776635)  (3, 0.028670046)   \n",
      "2533  (0, 0.032615222)  (1, 0.017009428)  (2, 0.054003082)   (3, 0.02734309)   \n",
      "2534   (0, 0.08305213)  (1, 0.016122606)  (2, 0.051187523)  (3, 0.025917504)   \n",
      "2535  (0, 0.034514148)  (1, 0.017999751)  (2, 0.057147253)  (3, 0.028935062)   \n",
      "2536  (0, 0.025060136)  (1, 0.013062659)    (2, 0.0843797)   (3, 0.06414955)   \n",
      "\n",
      "                    4                 5                 6                 7   \\\n",
      "0     (10, 0.45441496)              None              None              None   \n",
      "1     (10, 0.10831415)              None              None              None   \n",
      "2      (8, 0.29115596)  (10, 0.19259001)              None              None   \n",
      "3     (9, 0.018525576)  (10, 0.56855273)              None              None   \n",
      "4     (10, 0.19809644)              None              None              None   \n",
      "...                ...               ...               ...               ...   \n",
      "2532   (5, 0.21261674)  (6, 0.025014171)  (8, 0.025114814)   (9, 0.11072719)   \n",
      "2533   (5, 0.19974318)   (6, 0.02386948)  (8, 0.023964008)   (9, 0.15732181)   \n",
      "2534   (5, 0.18933006)  (6, 0.022624994)  (8, 0.022714594)   (9, 0.14911933)   \n",
      "2535   (5, 0.20016629)  (6, 0.025259208)  (8, 0.025359243)   (9, 0.21703534)   \n",
      "2536   (4, 0.10823403)   (5, 0.14509907)   (6, 0.01833452)  (8, 0.018407539)   \n",
      "\n",
      "                    8                 9     10  \n",
      "0                 None              None  None  \n",
      "1                 None              None  None  \n",
      "2                 None              None  None  \n",
      "3                 None              None  None  \n",
      "4                 None              None  None  \n",
      "...                ...               ...   ...  \n",
      "2532   (10, 0.4732585)              None  None  \n",
      "2533  (10, 0.44904557)              None  None  \n",
      "2534  (10, 0.42563266)              None  None  \n",
      "2535  (10, 0.37762037)              None  None  \n",
      "2536  (9, 0.079127096)  (10, 0.43961042)  None  \n",
      "\n",
      "[2537 rows x 11 columns]\n"
     ]
    }
   ],
   "source": [
    "# topic proportion\n",
    "# num of optimal topics = 13\n",
    "\n",
    "proportion = []\n",
    "for i, row_list in enumerate(optimal_model[corpus]):\n",
    "    #print(\"document number : \", i)\n",
    "    row = row_list[0]\n",
    "    #print(row)\n",
    "    proportion.append(row)\n",
    "print(pd.DataFrame(proportion))"
   ]
  },
  {
   "cell_type": "code",
   "execution_count": 14,
   "metadata": {
    "tags": []
   },
   "outputs": [
    {
     "output_type": "stream",
     "name": "stderr",
     "text": [
      "/Users/uni613/Library/Python/3.8/lib/python/site-packages/ipykernel/ipkernel.py:287: DeprecationWarning: `should_run_async` will not call `transform_cell` automatically in the future. Please pass the result to `transformed_cell` argument and any exception that happen during thetransform in `preprocessing_exc_tuple` in IPython 7.17 and above.\n  and should_run_async(code)\n"
     ]
    }
   ],
   "source": [
    "proportion = []\n",
    "for i, row_list in enumerate(optimal_model[corpus]):\n",
    "    #print(\"document number : \", i)\n",
    "    row = row_list[0]\n",
    "    #print(row)\n",
    "    inner_proportion = [\"-\", \"-\", \"-\", \"-\", \"-\", \"-\", \"-\", \"-\", \"-\", \"-\", \"-\"] # numtopics 11\n",
    "    for j, (topic_num, prop) in enumerate(row):\n",
    "        for k in range(11): # numtopics 11\n",
    "            if topic_num == k:\n",
    "                inner_proportion[k] = prop\n",
    "    proportion.append(inner_proportion)\n",
    "    #print(inner_proportion)"
   ]
  },
  {
   "cell_type": "code",
   "execution_count": 15,
   "metadata": {},
   "outputs": [
    {
     "output_type": "stream",
     "name": "stderr",
     "text": [
      "/Users/uni613/Library/Python/3.8/lib/python/site-packages/ipykernel/ipkernel.py:287: DeprecationWarning: `should_run_async` will not call `transform_cell` automatically in the future. Please pass the result to `transformed_cell` argument and any exception that happen during thetransform in `preprocessing_exc_tuple` in IPython 7.17 and above.\n",
      "  and should_run_async(code)\n",
      "                                                  Title        T0        T1  \\\n",
      "0     Social–Emotional Characteristics and Adjustmen...  0.029988  0.012656   \n",
      "1     Do Mass Media Shape Stereotypes About Intellec...  0.042864         -   \n",
      "2     College Choice: Considerations for Academicall...  0.023506         -   \n",
      "3     Intellectual Precocity: What Have We Learned S...         -         -   \n",
      "4        Assessing the Scholarly Reach of Terman's Work         -         -   \n",
      "...                                                 ...       ...       ...   \n",
      "2532                         The Gifted Child in France  0.034212  0.017816   \n",
      "2533                        How i Teach Gifted Children  0.032615  0.017009   \n",
      "2534                        How I Teach Gifted Children  0.083052  0.016123   \n",
      "2535                                President's Message  0.034514  0.018000   \n",
      "2536  The Annual Meeting of NAGC to be Held Jointly ...  0.025060  0.013063   \n",
      "\n",
      "            T2        T3       T4        T5        T6        T7        T8  \\\n",
      "0            -         -        -  0.463954         -         -  0.012423   \n",
      "1            -         -        -  0.808106         -         -  0.010947   \n",
      "2     0.018704  0.031364        -  0.425910         -         -  0.291156   \n",
      "3     0.039546         -        -  0.330222         -  0.013739  0.015890   \n",
      "4     0.023323  0.017659        -  0.620536         -         -         -   \n",
      "...        ...       ...      ...       ...       ...       ...       ...   \n",
      "2532  0.056777  0.028670        -  0.212616  0.025014         -  0.025115   \n",
      "2533  0.054003  0.027343        -  0.199745  0.023869         -  0.023964   \n",
      "2534  0.051188  0.025918        -  0.189327  0.022625         -  0.022715   \n",
      "2535  0.057147  0.028935        -  0.200166  0.025259         -  0.025359   \n",
      "2536  0.084381  0.064151  0.10822  0.145101  0.018335         -  0.018408   \n",
      "\n",
      "            T9       T10  \n",
      "0            -  0.454414  \n",
      "1     0.010698  0.108314  \n",
      "2            -  0.192590  \n",
      "3     0.018526  0.568553  \n",
      "4     0.110299  0.198097  \n",
      "...        ...       ...  \n",
      "2532  0.110727  0.473259  \n",
      "2533  0.157322  0.449044  \n",
      "2534  0.149119  0.425635  \n",
      "2535  0.217037  0.377619  \n",
      "2536  0.079129  0.439617  \n",
      "\n",
      "[2537 rows x 12 columns]\n"
     ]
    }
   ],
   "source": [
    "topic_proportions = pd.concat([data[\"title\"], pd.DataFrame(proportion)], axis=1)\n",
    "topic_proportions.columns = [\"Title\", \"T0\", \"T1\", \"T2\", \"T3\", \"T4\", \"T5\", \"T6\", \"T7\", \"T8\", \"T9\", \"T10\"] #num topics = 11\n",
    "print(topic_proportions)\n",
    "topic_proportions.to_excel(\"./final_data/0121_topic_proportions_nltk_total.xlsx\")"
   ]
  },
  {
   "cell_type": "code",
   "execution_count": null,
   "metadata": {},
   "outputs": [],
   "source": []
  }
 ]
}