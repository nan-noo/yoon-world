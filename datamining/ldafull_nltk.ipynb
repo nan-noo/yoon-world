{
 "metadata": {
  "language_info": {
   "codemirror_mode": {
    "name": "ipython",
    "version": 3
   },
   "file_extension": ".py",
   "mimetype": "text/x-python",
   "name": "python",
   "nbconvert_exporter": "python",
   "pygments_lexer": "ipython3",
   "version": "3.8.2-final"
  },
  "orig_nbformat": 2,
  "kernelspec": {
   "name": "python3",
   "display_name": "Python 3.8.2 64-bit",
   "metadata": {
    "interpreter": {
     "hash": "aee8b7b246df8f9039afb4144a1f6fd8d2ca17a180786b69acc140d282b71a49"
    }
   }
  }
 },
 "nbformat": 4,
 "nbformat_minor": 2,
 "cells": [
  {
   "cell_type": "code",
   "execution_count": 1,
   "metadata": {},
   "outputs": [
    {
     "output_type": "stream",
     "name": "stderr",
     "text": [
      "/Users/uni613/Library/Python/3.8/lib/python/site-packages/past/types/oldstr.py:23: DeprecationWarning: invalid escape sequence \\d\n  \"\"\"\n"
     ]
    }
   ],
   "source": [
    "import pandas as pd\n",
    "import numpy as np\n",
    "from khaiii import KhaiiiApi\n",
    "import gensim\n",
    "import pyLDAvis.gensim\n",
    "import numpy as np\n",
    "import logging\n",
    "from gensim.models.coherencemodel import CoherenceModel\n",
    "import matplotlib.pyplot as plt\n",
    "import time\n",
    "from pprint import pprint"
   ]
  },
  {
   "cell_type": "code",
   "execution_count": 2,
   "metadata": {},
   "outputs": [
    {
     "output_type": "stream",
     "name": "stderr",
     "text": [
      "/Users/uni613/Library/Python/3.8/lib/python/site-packages/ipykernel/ipkernel.py:287: DeprecationWarning: `should_run_async` will not call `transform_cell` automatically in the future. Please pass the result to `transformed_cell` argument and any exception that happen during thetransform in `preprocessing_exc_tuple` in IPython 7.17 and above.\n  and should_run_async(code)\n"
     ]
    },
    {
     "output_type": "execute_result",
     "data": {
      "text/plain": [
       "   no  year                     title                      kor_full\n",
       "0   1  1997         멀티미디어 원격교육에 관한 연구         멀티미디어 원격교육에 관한 연구    \n",
       "1   2  1997  교육용 하이퍼미디어 자료 편집기에 관한 연구  교육용 하이퍼미디어 자료 편집기에 관한 연구    \n",
       "2   3  1997     인터넷 기반의 코스웨어의 설계 및 구현     인터넷 기반의 코스웨어의 설계 및 구현    \n",
       "3   4  1997     Web에서의 협력 환경 구축 방안 연구     Web에서의 협력 환경 구축 방안 연구    \n",
       "4   5  1997        열린교육에서의 개별화수업과 CAI        열린교육에서의 개별화수업과 CAI    "
      ],
      "text/html": "<div>\n<style scoped>\n    .dataframe tbody tr th:only-of-type {\n        vertical-align: middle;\n    }\n\n    .dataframe tbody tr th {\n        vertical-align: top;\n    }\n\n    .dataframe thead th {\n        text-align: right;\n    }\n</style>\n<table border=\"1\" class=\"dataframe\">\n  <thead>\n    <tr style=\"text-align: right;\">\n      <th></th>\n      <th>no</th>\n      <th>year</th>\n      <th>title</th>\n      <th>kor_full</th>\n    </tr>\n  </thead>\n  <tbody>\n    <tr>\n      <th>0</th>\n      <td>1</td>\n      <td>1997</td>\n      <td>멀티미디어 원격교육에 관한 연구</td>\n      <td>멀티미디어 원격교육에 관한 연구</td>\n    </tr>\n    <tr>\n      <th>1</th>\n      <td>2</td>\n      <td>1997</td>\n      <td>교육용 하이퍼미디어 자료 편집기에 관한 연구</td>\n      <td>교육용 하이퍼미디어 자료 편집기에 관한 연구</td>\n    </tr>\n    <tr>\n      <th>2</th>\n      <td>3</td>\n      <td>1997</td>\n      <td>인터넷 기반의 코스웨어의 설계 및 구현</td>\n      <td>인터넷 기반의 코스웨어의 설계 및 구현</td>\n    </tr>\n    <tr>\n      <th>3</th>\n      <td>4</td>\n      <td>1997</td>\n      <td>Web에서의 협력 환경 구축 방안 연구</td>\n      <td>Web에서의 협력 환경 구축 방안 연구</td>\n    </tr>\n    <tr>\n      <th>4</th>\n      <td>5</td>\n      <td>1997</td>\n      <td>열린교육에서의 개별화수업과 CAI</td>\n      <td>열린교육에서의 개별화수업과 CAI</td>\n    </tr>\n  </tbody>\n</table>\n</div>"
     },
     "metadata": {},
     "execution_count": 2
    }
   ],
   "source": [
    "data = pd.read_csv(\"./modi_data/kor_full.csv\") ############\n",
    "#data = data.drop(['Unnamed: 0'], axis=1)\n",
    "data.head()"
   ]
  },
  {
   "cell_type": "code",
   "execution_count": 3,
   "metadata": {},
   "outputs": [
    {
     "output_type": "stream",
     "name": "stderr",
     "text": [
      "/Users/uni613/Library/Python/3.8/lib/python/site-packages/ipykernel/ipkernel.py:287: DeprecationWarning: `should_run_async` will not call `transform_cell` automatically in the future. Please pass the result to `transformed_cell` argument and any exception that happen during thetransform in `preprocessing_exc_tuple` in IPython 7.17 and above.\n  and should_run_async(code)\n"
     ]
    }
   ],
   "source": [
    "dfWordList = pd.read_excel(\"./khaiii_word_cor.xlsx\")\n",
    "dfWordList2 = pd.read_excel(\"./khaiii_word_cor_etc.xlsx\")\n",
    "#print(dfWordList2)\n",
    "\n",
    "dfWordDel = dfWordList[dfWordList[\"수정\"] == \"삭제\"]\n",
    "dfWordMod = dfWordList[dfWordList[\"수정\"] != \"삭제\"]\n",
    "dfWordDiv = dfWordList2\n",
    "#print(dfWordMod)\n",
    "\n",
    "seriesDelete = dfWordDel[\"기존\"]\n",
    "stopword = []\n",
    "for word in seriesDelete.values:\n",
    "    stopword.append(word)\n",
    "#print(stopword)\n",
    "\n",
    "seriesModify = dfWordMod[\"기존\"]\n",
    "modiword = []\n",
    "for word in seriesModify.values:\n",
    "    modiword.append(word)\n",
    "#print(len(modiword))\n",
    "\n",
    "seriesModify2 = dfWordMod[\"수정\"]\n",
    "modiword2 = []\n",
    "for word in seriesModify2.values:\n",
    "    modiword2.append(word)\n",
    "#print(len(modiword2))\n",
    "\n",
    "seriesDivide = dfWordDiv[\"기존\"]\n",
    "divword = []\n",
    "for word in seriesDivide.values:\n",
    "    divword.append(word)\n",
    "#print(divword)\n",
    "#print(len(divword))\n",
    "\n",
    "seriesDivide2 = dfWordDiv[\"수정\"]\n",
    "divword2 = []\n",
    "for words in seriesDivide2.values:\n",
    "    divword2.append(words.split(', '))\n",
    "#print(divword2)\n",
    "#print(len(divword2))"
   ]
  },
  {
   "cell_type": "code",
   "execution_count": 4,
   "metadata": {},
   "outputs": [
    {
     "output_type": "stream",
     "name": "stderr",
     "text": [
      "/Users/uni613/Library/Python/3.8/lib/python/site-packages/ipykernel/ipkernel.py:287: DeprecationWarning: `should_run_async` will not call `transform_cell` automatically in the future. Please pass the result to `transformed_cell` argument and any exception that happen during thetransform in `preprocessing_exc_tuple` in IPython 7.17 and above.\n  and should_run_async(code)\n"
     ]
    }
   ],
   "source": [
    "api = KhaiiiApi()\n",
    "def khaiiiTokenizer(raw, stopword=stopword, pos=['NNG', 'NNP', 'NNB', 'NP', 'NR', 'SL']): # 일반명사 고유명사 의존명사 대명사 수사 외국어\n",
    "    list = []\n",
    "    skip = 0\n",
    "\n",
    "    for word in api.analyze(raw): #raw data\n",
    "        #print(word)\n",
    "        \n",
    "        for i, morph in enumerate(word.morphs):\n",
    "            #print(morph.lex)\n",
    "            if skip == 1: \n",
    "                #print(morph.lex) # '지능'\n",
    "                skip = 0\n",
    "                continue\n",
    "\n",
    "            if morph.lex == '인공' and i+1 < len(word.morphs) and word.morphs[i+1].lex == \"지능\":\n",
    "                #print(morph.lex + word.morphs[i+1].lex) # 인공지능\n",
    "                list.append(morph.lex + word.morphs[i+1].lex)\n",
    "                skip = 1\n",
    "                continue\n",
    "\n",
    "            if len(morph.lex) > 1 and morph.tag in pos and morph.lex not in stopword: \n",
    "                if morph.tag == 'SL':\n",
    "                    morph.lex = morph.lex.lower()\n",
    "                if morph.lex in divword:\n",
    "                    morph.lex = divword2[divword.index(morph.lex)]\n",
    "                    list.extend(morph.lex)\n",
    "                elif morph.lex in modiword:\n",
    "                    morph.lex = modiword2[modiword.index(morph.lex)]\n",
    "                    list.append(morph.lex)\n",
    "                else: list.append(morph.lex)\n",
    "                \n",
    "    return list"
   ]
  },
  {
   "cell_type": "code",
   "execution_count": 5,
   "metadata": {},
   "outputs": [
    {
     "output_type": "stream",
     "name": "stderr",
     "text": [
      "/Users/uni613/Library/Python/3.8/lib/python/site-packages/ipykernel/ipkernel.py:287: DeprecationWarning: `should_run_async` will not call `transform_cell` automatically in the future. Please pass the result to `transformed_cell` argument and any exception that happen during thetransform in `preprocessing_exc_tuple` in IPython 7.17 and above.\n",
      "  and should_run_async(code)\n",
      "========= tokenization completed =========\n"
     ]
    }
   ],
   "source": [
    "tokenized = data[\"kor_full\"].apply(lambda row: khaiiiTokenizer(row))\n",
    "#print(tokenized)\n",
    "#tokenized.to_excel(\"./final_data/1228token_khaiii_full.xls\") ##############\n",
    "print(\"========= tokenization completed =========\")"
   ]
  },
  {
   "cell_type": "code",
   "execution_count": 6,
   "metadata": {},
   "outputs": [
    {
     "output_type": "stream",
     "name": "stdout",
     "text": [
      "# words in total :  5086\n",
      "# documents :  1149\n",
      "/Users/uni613/Library/Python/3.8/lib/python/site-packages/ipykernel/ipkernel.py:287: DeprecationWarning: `should_run_async` will not call `transform_cell` automatically in the future. Please pass the result to `transformed_cell` argument and any exception that happen during thetransform in `preprocessing_exc_tuple` in IPython 7.17 and above.\n",
      "  and should_run_async(code)\n"
     ]
    }
   ],
   "source": [
    "#lda\n",
    "id2word = gensim.corpora.Dictionary(tokenized)\n",
    "\n",
    "wordlist = []\n",
    "for i in range(len(id2word)):\n",
    "    #print(id2word[i])\n",
    "    wordlist.append(id2word[i])\n",
    "#print(wordlist)\n",
    "seriesWordlist = pd.Series(wordlist)\n",
    "#seriesWordlist.to_excel(\"./final_data/1228wordlist_khaiii_full.xls\") #################\n",
    "\n",
    "corpus=[id2word.doc2bow(text) for text in tokenized]\n",
    "#print(\"id2word for each document : \", corpus)\n",
    "print(\"# words in total : \", len(id2word))\n",
    "print(\"# documents : \", len(corpus))"
   ]
  },
  {
   "cell_type": "code",
   "execution_count": 7,
   "metadata": {},
   "outputs": [
    {
     "output_type": "stream",
     "name": "stderr",
     "text": [
      "/Users/uni613/Library/Python/3.8/lib/python/site-packages/ipykernel/ipkernel.py:287: DeprecationWarning: `should_run_async` will not call `transform_cell` automatically in the future. Please pass the result to `transformed_cell` argument and any exception that happen during thetransform in `preprocessing_exc_tuple` in IPython 7.17 and above.\n  and should_run_async(code)\n"
     ]
    }
   ],
   "source": [
    "def compute_coherence_values(dictionary, corpus, texts, limit, start=2, step=1):\n",
    "    \"\"\"\n",
    "    Compute c_v coherence for various number of topics\n",
    "\n",
    "    Parameters:\n",
    "    ----------\n",
    "    dictionary : Gensim dictionary\n",
    "    corpus : Gensim corpus\n",
    "    texts : List of input texts\n",
    "    limit : Max num of topics\n",
    "\n",
    "    Returns:\n",
    "    -------\n",
    "    model_list : List of LDA topic models\n",
    "    coherence_values : Coherence values corresponding to the LDA model with respective number of topics\n",
    "    \"\"\"\n",
    "    perplexity_values = []\n",
    "    coherence_values = []\n",
    "    model_list = []\n",
    "    for num_topics in range(start, limit, step):\n",
    "        print(num_topics)\n",
    "        model = gensim.models.ldamodel.LdaModel(corpus=corpus,\n",
    "                                                id2word=id2word,\n",
    "                                                num_topics=num_topics,\n",
    "                                                random_state=100,\n",
    "                                                update_every=1,\n",
    "                                                iterations=1000,\n",
    "                                                chunksize=100,\n",
    "                                                passes=10,\n",
    "                                                alpha='auto',\n",
    "                                                eta='auto',\n",
    "                                                per_word_topics=True)\n",
    "        model_list.append(model)\n",
    "        perplexitymodel = model.log_perplexity(corpus)\n",
    "        perplexity_values.append(perplexitymodel)\n",
    "        coherencemodel = CoherenceModel(model=model,\n",
    "                                        texts=texts,\n",
    "                                        dictionary=dictionary,\n",
    "                                        coherence='c_v')\n",
    "        coherence_values.append(coherencemodel.get_coherence())\n",
    "    return model_list, perplexity_values, coherence_values"
   ]
  },
  {
   "cell_type": "code",
   "execution_count": 8,
   "metadata": {},
   "outputs": [
    {
     "output_type": "stream",
     "name": "stderr",
     "text": [
      "/Users/uni613/Library/Python/3.8/lib/python/site-packages/ipykernel/ipkernel.py:287: DeprecationWarning: `should_run_async` will not call `transform_cell` automatically in the future. Please pass the result to `transformed_cell` argument and any exception that happen during thetransform in `preprocessing_exc_tuple` in IPython 7.17 and above.\n",
      "  and should_run_async(code)\n",
      "2\n",
      "WARNING:gensim.models.ldamodel:updated prior is not positive\n",
      "WARNING:gensim.models.ldamodel:updated prior is not positive\n",
      "3\n",
      "4\n",
      "5\n",
      "6\n",
      "7\n",
      "8\n",
      "9\n",
      "10\n",
      "11\n",
      "12\n",
      "13\n",
      "14\n",
      "15\n",
      "16\n",
      "17\n",
      "18\n",
      "19\n",
      "20\n",
      "21\n",
      "22\n",
      "23\n",
      "24\n",
      "25\n",
      "26\n",
      "27\n",
      "28\n",
      "29\n",
      "30\n",
      "time :  3.8177374323209126 min\n"
     ]
    }
   ],
   "source": [
    "start = time.time()\n",
    "model_list, perplexity_values, coherence_values = compute_coherence_values(dictionary=id2word,\n",
    "                                                        corpus=corpus,\n",
    "                                                        texts=tokenized,\n",
    "                                                        start=2,\n",
    "                                                        limit=31, #####\n",
    "                                                        step=1)\n",
    "print(\"time : \", ( time.time() - start )/60, \"min\")"
   ]
  },
  {
   "cell_type": "code",
   "execution_count": 9,
   "metadata": {},
   "outputs": [
    {
     "output_type": "stream",
     "name": "stderr",
     "text": [
      "/Users/uni613/Library/Python/3.8/lib/python/site-packages/ipykernel/ipkernel.py:287: DeprecationWarning: `should_run_async` will not call `transform_cell` automatically in the future. Please pass the result to `transformed_cell` argument and any exception that happen during thetransform in `preprocessing_exc_tuple` in IPython 7.17 and above.\n  and should_run_async(code)\n"
     ]
    },
    {
     "output_type": "display_data",
     "data": {
      "text/plain": "<Figure size 720x720 with 2 Axes>",
      "image/svg+xml": "<?xml version=\"1.0\" encoding=\"utf-8\" standalone=\"no\"?>\n<!DOCTYPE svg PUBLIC \"-//W3C//DTD SVG 1.1//EN\"\n  \"http://www.w3.org/Graphics/SVG/1.1/DTD/svg11.dtd\">\n<!-- Created with matplotlib (https://matplotlib.org/) -->\n<svg height=\"588.35625pt\" version=\"1.1\" viewBox=\"0 0 615.34375 588.35625\" width=\"615.34375pt\" xmlns=\"http://www.w3.org/2000/svg\" xmlns:xlink=\"http://www.w3.org/1999/xlink\">\n <metadata>\n  <rdf:RDF xmlns:cc=\"http://creativecommons.org/ns#\" xmlns:dc=\"http://purl.org/dc/elements/1.1/\" xmlns:rdf=\"http://www.w3.org/1999/02/22-rdf-syntax-ns#\">\n   <cc:Work>\n    <dc:type rdf:resource=\"http://purl.org/dc/dcmitype/StillImage\"/>\n    <dc:date>2021-01-02T00:00:34.205666</dc:date>\n    <dc:format>image/svg+xml</dc:format>\n    <dc:creator>\n     <cc:Agent>\n      <dc:title>Matplotlib v3.3.3, https://matplotlib.org/</dc:title>\n     </cc:Agent>\n    </dc:creator>\n   </cc:Work>\n  </rdf:RDF>\n </metadata>\n <defs>\n  <style type=\"text/css\">*{stroke-linecap:butt;stroke-linejoin:round;}</style>\n </defs>\n <g id=\"figure_1\">\n  <g id=\"patch_1\">\n   <path d=\"M 0 588.35625 \nL 615.34375 588.35625 \nL 615.34375 0 \nL 0 0 \nz\n\" style=\"fill:none;\"/>\n  </g>\n  <g id=\"axes_1\">\n   <g id=\"patch_2\">\n    <path d=\"M 50.14375 254.290909 \nL 608.14375 254.290909 \nL 608.14375 7.2 \nL 50.14375 7.2 \nz\n\" style=\"fill:#ffffff;\"/>\n   </g>\n   <g id=\"matplotlib.axis_1\">\n    <g id=\"xtick_1\">\n     <g id=\"line2d_1\">\n      <defs>\n       <path d=\"M 0 0 \nL 0 3.5 \n\" id=\"me9334001a2\" style=\"stroke:#000000;stroke-width:0.8;\"/>\n      </defs>\n      <g>\n       <use style=\"stroke:#000000;stroke-width:0.8;\" x=\"129.858036\" xlink:href=\"#me9334001a2\" y=\"254.290909\"/>\n      </g>\n     </g>\n     <g id=\"text_1\">\n      <!-- 5 -->\n      <g transform=\"translate(126.676786 268.889347)scale(0.1 -0.1)\">\n       <defs>\n        <path d=\"M 10.796875 72.90625 \nL 49.515625 72.90625 \nL 49.515625 64.59375 \nL 19.828125 64.59375 \nL 19.828125 46.734375 \nQ 21.96875 47.46875 24.109375 47.828125 \nQ 26.265625 48.1875 28.421875 48.1875 \nQ 40.625 48.1875 47.75 41.5 \nQ 54.890625 34.8125 54.890625 23.390625 \nQ 54.890625 11.625 47.5625 5.09375 \nQ 40.234375 -1.421875 26.90625 -1.421875 \nQ 22.3125 -1.421875 17.546875 -0.640625 \nQ 12.796875 0.140625 7.71875 1.703125 \nL 7.71875 11.625 \nQ 12.109375 9.234375 16.796875 8.0625 \nQ 21.484375 6.890625 26.703125 6.890625 \nQ 35.15625 6.890625 40.078125 11.328125 \nQ 45.015625 15.765625 45.015625 23.390625 \nQ 45.015625 31 40.078125 35.4375 \nQ 35.15625 39.890625 26.703125 39.890625 \nQ 22.75 39.890625 18.8125 39.015625 \nQ 14.890625 38.140625 10.796875 36.28125 \nz\n\" id=\"DejaVuSans-53\"/>\n       </defs>\n       <use xlink:href=\"#DejaVuSans-53\"/>\n      </g>\n     </g>\n    </g>\n    <g id=\"xtick_2\">\n     <g id=\"line2d_2\">\n      <g>\n       <use style=\"stroke:#000000;stroke-width:0.8;\" x=\"220.442451\" xlink:href=\"#me9334001a2\" y=\"254.290909\"/>\n      </g>\n     </g>\n     <g id=\"text_2\">\n      <!-- 10 -->\n      <g transform=\"translate(214.079951 268.889347)scale(0.1 -0.1)\">\n       <defs>\n        <path d=\"M 12.40625 8.296875 \nL 28.515625 8.296875 \nL 28.515625 63.921875 \nL 10.984375 60.40625 \nL 10.984375 69.390625 \nL 28.421875 72.90625 \nL 38.28125 72.90625 \nL 38.28125 8.296875 \nL 54.390625 8.296875 \nL 54.390625 0 \nL 12.40625 0 \nz\n\" id=\"DejaVuSans-49\"/>\n        <path d=\"M 31.78125 66.40625 \nQ 24.171875 66.40625 20.328125 58.90625 \nQ 16.5 51.421875 16.5 36.375 \nQ 16.5 21.390625 20.328125 13.890625 \nQ 24.171875 6.390625 31.78125 6.390625 \nQ 39.453125 6.390625 43.28125 13.890625 \nQ 47.125 21.390625 47.125 36.375 \nQ 47.125 51.421875 43.28125 58.90625 \nQ 39.453125 66.40625 31.78125 66.40625 \nz\nM 31.78125 74.21875 \nQ 44.046875 74.21875 50.515625 64.515625 \nQ 56.984375 54.828125 56.984375 36.375 \nQ 56.984375 17.96875 50.515625 8.265625 \nQ 44.046875 -1.421875 31.78125 -1.421875 \nQ 19.53125 -1.421875 13.0625 8.265625 \nQ 6.59375 17.96875 6.59375 36.375 \nQ 6.59375 54.828125 13.0625 64.515625 \nQ 19.53125 74.21875 31.78125 74.21875 \nz\n\" id=\"DejaVuSans-48\"/>\n       </defs>\n       <use xlink:href=\"#DejaVuSans-49\"/>\n       <use x=\"63.623047\" xlink:href=\"#DejaVuSans-48\"/>\n      </g>\n     </g>\n    </g>\n    <g id=\"xtick_3\">\n     <g id=\"line2d_3\">\n      <g>\n       <use style=\"stroke:#000000;stroke-width:0.8;\" x=\"311.026867\" xlink:href=\"#me9334001a2\" y=\"254.290909\"/>\n      </g>\n     </g>\n     <g id=\"text_3\">\n      <!-- 15 -->\n      <g transform=\"translate(304.664367 268.889347)scale(0.1 -0.1)\">\n       <use xlink:href=\"#DejaVuSans-49\"/>\n       <use x=\"63.623047\" xlink:href=\"#DejaVuSans-53\"/>\n      </g>\n     </g>\n    </g>\n    <g id=\"xtick_4\">\n     <g id=\"line2d_4\">\n      <g>\n       <use style=\"stroke:#000000;stroke-width:0.8;\" x=\"401.611282\" xlink:href=\"#me9334001a2\" y=\"254.290909\"/>\n      </g>\n     </g>\n     <g id=\"text_4\">\n      <!-- 20 -->\n      <g transform=\"translate(395.248782 268.889347)scale(0.1 -0.1)\">\n       <defs>\n        <path d=\"M 19.1875 8.296875 \nL 53.609375 8.296875 \nL 53.609375 0 \nL 7.328125 0 \nL 7.328125 8.296875 \nQ 12.9375 14.109375 22.625 23.890625 \nQ 32.328125 33.6875 34.8125 36.53125 \nQ 39.546875 41.84375 41.421875 45.53125 \nQ 43.3125 49.21875 43.3125 52.78125 \nQ 43.3125 58.59375 39.234375 62.25 \nQ 35.15625 65.921875 28.609375 65.921875 \nQ 23.96875 65.921875 18.8125 64.3125 \nQ 13.671875 62.703125 7.8125 59.421875 \nL 7.8125 69.390625 \nQ 13.765625 71.78125 18.9375 73 \nQ 24.125 74.21875 28.421875 74.21875 \nQ 39.75 74.21875 46.484375 68.546875 \nQ 53.21875 62.890625 53.21875 53.421875 \nQ 53.21875 48.921875 51.53125 44.890625 \nQ 49.859375 40.875 45.40625 35.40625 \nQ 44.1875 33.984375 37.640625 27.21875 \nQ 31.109375 20.453125 19.1875 8.296875 \nz\n\" id=\"DejaVuSans-50\"/>\n       </defs>\n       <use xlink:href=\"#DejaVuSans-50\"/>\n       <use x=\"63.623047\" xlink:href=\"#DejaVuSans-48\"/>\n      </g>\n     </g>\n    </g>\n    <g id=\"xtick_5\">\n     <g id=\"line2d_5\">\n      <g>\n       <use style=\"stroke:#000000;stroke-width:0.8;\" x=\"492.195698\" xlink:href=\"#me9334001a2\" y=\"254.290909\"/>\n      </g>\n     </g>\n     <g id=\"text_5\">\n      <!-- 25 -->\n      <g transform=\"translate(485.833198 268.889347)scale(0.1 -0.1)\">\n       <use xlink:href=\"#DejaVuSans-50\"/>\n       <use x=\"63.623047\" xlink:href=\"#DejaVuSans-53\"/>\n      </g>\n     </g>\n    </g>\n    <g id=\"xtick_6\">\n     <g id=\"line2d_6\">\n      <g>\n       <use style=\"stroke:#000000;stroke-width:0.8;\" x=\"582.780114\" xlink:href=\"#me9334001a2\" y=\"254.290909\"/>\n      </g>\n     </g>\n     <g id=\"text_6\">\n      <!-- 30 -->\n      <g transform=\"translate(576.417614 268.889347)scale(0.1 -0.1)\">\n       <defs>\n        <path d=\"M 40.578125 39.3125 \nQ 47.65625 37.796875 51.625 33 \nQ 55.609375 28.21875 55.609375 21.1875 \nQ 55.609375 10.40625 48.1875 4.484375 \nQ 40.765625 -1.421875 27.09375 -1.421875 \nQ 22.515625 -1.421875 17.65625 -0.515625 \nQ 12.796875 0.390625 7.625 2.203125 \nL 7.625 11.71875 \nQ 11.71875 9.328125 16.59375 8.109375 \nQ 21.484375 6.890625 26.8125 6.890625 \nQ 36.078125 6.890625 40.9375 10.546875 \nQ 45.796875 14.203125 45.796875 21.1875 \nQ 45.796875 27.640625 41.28125 31.265625 \nQ 36.765625 34.90625 28.71875 34.90625 \nL 20.21875 34.90625 \nL 20.21875 43.015625 \nL 29.109375 43.015625 \nQ 36.375 43.015625 40.234375 45.921875 \nQ 44.09375 48.828125 44.09375 54.296875 \nQ 44.09375 59.90625 40.109375 62.90625 \nQ 36.140625 65.921875 28.71875 65.921875 \nQ 24.65625 65.921875 20.015625 65.03125 \nQ 15.375 64.15625 9.8125 62.3125 \nL 9.8125 71.09375 \nQ 15.4375 72.65625 20.34375 73.4375 \nQ 25.25 74.21875 29.59375 74.21875 \nQ 40.828125 74.21875 47.359375 69.109375 \nQ 53.90625 64.015625 53.90625 55.328125 \nQ 53.90625 49.265625 50.4375 45.09375 \nQ 46.96875 40.921875 40.578125 39.3125 \nz\n\" id=\"DejaVuSans-51\"/>\n       </defs>\n       <use xlink:href=\"#DejaVuSans-51\"/>\n       <use x=\"63.623047\" xlink:href=\"#DejaVuSans-48\"/>\n      </g>\n     </g>\n    </g>\n    <g id=\"text_7\">\n     <!-- Number of Topics -->\n     <g transform=\"translate(285.879687 282.567472)scale(0.1 -0.1)\">\n      <defs>\n       <path d=\"M 9.8125 72.90625 \nL 23.09375 72.90625 \nL 55.421875 11.921875 \nL 55.421875 72.90625 \nL 64.984375 72.90625 \nL 64.984375 0 \nL 51.703125 0 \nL 19.390625 60.984375 \nL 19.390625 0 \nL 9.8125 0 \nz\n\" id=\"DejaVuSans-78\"/>\n       <path d=\"M 8.5 21.578125 \nL 8.5 54.6875 \nL 17.484375 54.6875 \nL 17.484375 21.921875 \nQ 17.484375 14.15625 20.5 10.265625 \nQ 23.53125 6.390625 29.59375 6.390625 \nQ 36.859375 6.390625 41.078125 11.03125 \nQ 45.3125 15.671875 45.3125 23.6875 \nL 45.3125 54.6875 \nL 54.296875 54.6875 \nL 54.296875 0 \nL 45.3125 0 \nL 45.3125 8.40625 \nQ 42.046875 3.421875 37.71875 1 \nQ 33.40625 -1.421875 27.6875 -1.421875 \nQ 18.265625 -1.421875 13.375 4.4375 \nQ 8.5 10.296875 8.5 21.578125 \nz\nM 31.109375 56 \nz\n\" id=\"DejaVuSans-117\"/>\n       <path d=\"M 52 44.1875 \nQ 55.375 50.25 60.0625 53.125 \nQ 64.75 56 71.09375 56 \nQ 79.640625 56 84.28125 50.015625 \nQ 88.921875 44.046875 88.921875 33.015625 \nL 88.921875 0 \nL 79.890625 0 \nL 79.890625 32.71875 \nQ 79.890625 40.578125 77.09375 44.375 \nQ 74.3125 48.1875 68.609375 48.1875 \nQ 61.625 48.1875 57.5625 43.546875 \nQ 53.515625 38.921875 53.515625 30.90625 \nL 53.515625 0 \nL 44.484375 0 \nL 44.484375 32.71875 \nQ 44.484375 40.625 41.703125 44.40625 \nQ 38.921875 48.1875 33.109375 48.1875 \nQ 26.21875 48.1875 22.15625 43.53125 \nQ 18.109375 38.875 18.109375 30.90625 \nL 18.109375 0 \nL 9.078125 0 \nL 9.078125 54.6875 \nL 18.109375 54.6875 \nL 18.109375 46.1875 \nQ 21.1875 51.21875 25.484375 53.609375 \nQ 29.78125 56 35.6875 56 \nQ 41.65625 56 45.828125 52.96875 \nQ 50 49.953125 52 44.1875 \nz\n\" id=\"DejaVuSans-109\"/>\n       <path d=\"M 48.6875 27.296875 \nQ 48.6875 37.203125 44.609375 42.84375 \nQ 40.53125 48.484375 33.40625 48.484375 \nQ 26.265625 48.484375 22.1875 42.84375 \nQ 18.109375 37.203125 18.109375 27.296875 \nQ 18.109375 17.390625 22.1875 11.75 \nQ 26.265625 6.109375 33.40625 6.109375 \nQ 40.53125 6.109375 44.609375 11.75 \nQ 48.6875 17.390625 48.6875 27.296875 \nz\nM 18.109375 46.390625 \nQ 20.953125 51.265625 25.265625 53.625 \nQ 29.59375 56 35.59375 56 \nQ 45.5625 56 51.78125 48.09375 \nQ 58.015625 40.1875 58.015625 27.296875 \nQ 58.015625 14.40625 51.78125 6.484375 \nQ 45.5625 -1.421875 35.59375 -1.421875 \nQ 29.59375 -1.421875 25.265625 0.953125 \nQ 20.953125 3.328125 18.109375 8.203125 \nL 18.109375 0 \nL 9.078125 0 \nL 9.078125 75.984375 \nL 18.109375 75.984375 \nz\n\" id=\"DejaVuSans-98\"/>\n       <path d=\"M 56.203125 29.59375 \nL 56.203125 25.203125 \nL 14.890625 25.203125 \nQ 15.484375 15.921875 20.484375 11.0625 \nQ 25.484375 6.203125 34.421875 6.203125 \nQ 39.59375 6.203125 44.453125 7.46875 \nQ 49.3125 8.734375 54.109375 11.28125 \nL 54.109375 2.78125 \nQ 49.265625 0.734375 44.1875 -0.34375 \nQ 39.109375 -1.421875 33.890625 -1.421875 \nQ 20.796875 -1.421875 13.15625 6.1875 \nQ 5.515625 13.8125 5.515625 26.8125 \nQ 5.515625 40.234375 12.765625 48.109375 \nQ 20.015625 56 32.328125 56 \nQ 43.359375 56 49.78125 48.890625 \nQ 56.203125 41.796875 56.203125 29.59375 \nz\nM 47.21875 32.234375 \nQ 47.125 39.59375 43.09375 43.984375 \nQ 39.0625 48.390625 32.421875 48.390625 \nQ 24.90625 48.390625 20.390625 44.140625 \nQ 15.875 39.890625 15.1875 32.171875 \nz\n\" id=\"DejaVuSans-101\"/>\n       <path d=\"M 41.109375 46.296875 \nQ 39.59375 47.171875 37.8125 47.578125 \nQ 36.03125 48 33.890625 48 \nQ 26.265625 48 22.1875 43.046875 \nQ 18.109375 38.09375 18.109375 28.8125 \nL 18.109375 0 \nL 9.078125 0 \nL 9.078125 54.6875 \nL 18.109375 54.6875 \nL 18.109375 46.1875 \nQ 20.953125 51.171875 25.484375 53.578125 \nQ 30.03125 56 36.53125 56 \nQ 37.453125 56 38.578125 55.875 \nQ 39.703125 55.765625 41.0625 55.515625 \nz\n\" id=\"DejaVuSans-114\"/>\n       <path id=\"DejaVuSans-32\"/>\n       <path d=\"M 30.609375 48.390625 \nQ 23.390625 48.390625 19.1875 42.75 \nQ 14.984375 37.109375 14.984375 27.296875 \nQ 14.984375 17.484375 19.15625 11.84375 \nQ 23.34375 6.203125 30.609375 6.203125 \nQ 37.796875 6.203125 41.984375 11.859375 \nQ 46.1875 17.53125 46.1875 27.296875 \nQ 46.1875 37.015625 41.984375 42.703125 \nQ 37.796875 48.390625 30.609375 48.390625 \nz\nM 30.609375 56 \nQ 42.328125 56 49.015625 48.375 \nQ 55.71875 40.765625 55.71875 27.296875 \nQ 55.71875 13.875 49.015625 6.21875 \nQ 42.328125 -1.421875 30.609375 -1.421875 \nQ 18.84375 -1.421875 12.171875 6.21875 \nQ 5.515625 13.875 5.515625 27.296875 \nQ 5.515625 40.765625 12.171875 48.375 \nQ 18.84375 56 30.609375 56 \nz\n\" id=\"DejaVuSans-111\"/>\n       <path d=\"M 37.109375 75.984375 \nL 37.109375 68.5 \nL 28.515625 68.5 \nQ 23.6875 68.5 21.796875 66.546875 \nQ 19.921875 64.59375 19.921875 59.515625 \nL 19.921875 54.6875 \nL 34.71875 54.6875 \nL 34.71875 47.703125 \nL 19.921875 47.703125 \nL 19.921875 0 \nL 10.890625 0 \nL 10.890625 47.703125 \nL 2.296875 47.703125 \nL 2.296875 54.6875 \nL 10.890625 54.6875 \nL 10.890625 58.5 \nQ 10.890625 67.625 15.140625 71.796875 \nQ 19.390625 75.984375 28.609375 75.984375 \nz\n\" id=\"DejaVuSans-102\"/>\n       <path d=\"M -0.296875 72.90625 \nL 61.375 72.90625 \nL 61.375 64.59375 \nL 35.5 64.59375 \nL 35.5 0 \nL 25.59375 0 \nL 25.59375 64.59375 \nL -0.296875 64.59375 \nz\n\" id=\"DejaVuSans-84\"/>\n       <path d=\"M 18.109375 8.203125 \nL 18.109375 -20.796875 \nL 9.078125 -20.796875 \nL 9.078125 54.6875 \nL 18.109375 54.6875 \nL 18.109375 46.390625 \nQ 20.953125 51.265625 25.265625 53.625 \nQ 29.59375 56 35.59375 56 \nQ 45.5625 56 51.78125 48.09375 \nQ 58.015625 40.1875 58.015625 27.296875 \nQ 58.015625 14.40625 51.78125 6.484375 \nQ 45.5625 -1.421875 35.59375 -1.421875 \nQ 29.59375 -1.421875 25.265625 0.953125 \nQ 20.953125 3.328125 18.109375 8.203125 \nz\nM 48.6875 27.296875 \nQ 48.6875 37.203125 44.609375 42.84375 \nQ 40.53125 48.484375 33.40625 48.484375 \nQ 26.265625 48.484375 22.1875 42.84375 \nQ 18.109375 37.203125 18.109375 27.296875 \nQ 18.109375 17.390625 22.1875 11.75 \nQ 26.265625 6.109375 33.40625 6.109375 \nQ 40.53125 6.109375 44.609375 11.75 \nQ 48.6875 17.390625 48.6875 27.296875 \nz\n\" id=\"DejaVuSans-112\"/>\n       <path d=\"M 9.421875 54.6875 \nL 18.40625 54.6875 \nL 18.40625 0 \nL 9.421875 0 \nz\nM 9.421875 75.984375 \nL 18.40625 75.984375 \nL 18.40625 64.59375 \nL 9.421875 64.59375 \nz\n\" id=\"DejaVuSans-105\"/>\n       <path d=\"M 48.78125 52.59375 \nL 48.78125 44.1875 \nQ 44.96875 46.296875 41.140625 47.34375 \nQ 37.3125 48.390625 33.40625 48.390625 \nQ 24.65625 48.390625 19.8125 42.84375 \nQ 14.984375 37.3125 14.984375 27.296875 \nQ 14.984375 17.28125 19.8125 11.734375 \nQ 24.65625 6.203125 33.40625 6.203125 \nQ 37.3125 6.203125 41.140625 7.25 \nQ 44.96875 8.296875 48.78125 10.40625 \nL 48.78125 2.09375 \nQ 45.015625 0.34375 40.984375 -0.53125 \nQ 36.96875 -1.421875 32.421875 -1.421875 \nQ 20.0625 -1.421875 12.78125 6.34375 \nQ 5.515625 14.109375 5.515625 27.296875 \nQ 5.515625 40.671875 12.859375 48.328125 \nQ 20.21875 56 33.015625 56 \nQ 37.15625 56 41.109375 55.140625 \nQ 45.0625 54.296875 48.78125 52.59375 \nz\n\" id=\"DejaVuSans-99\"/>\n       <path d=\"M 44.28125 53.078125 \nL 44.28125 44.578125 \nQ 40.484375 46.53125 36.375 47.5 \nQ 32.28125 48.484375 27.875 48.484375 \nQ 21.1875 48.484375 17.84375 46.4375 \nQ 14.5 44.390625 14.5 40.28125 \nQ 14.5 37.15625 16.890625 35.375 \nQ 19.28125 33.59375 26.515625 31.984375 \nL 29.59375 31.296875 \nQ 39.15625 29.25 43.1875 25.515625 \nQ 47.21875 21.78125 47.21875 15.09375 \nQ 47.21875 7.46875 41.1875 3.015625 \nQ 35.15625 -1.421875 24.609375 -1.421875 \nQ 20.21875 -1.421875 15.453125 -0.5625 \nQ 10.6875 0.296875 5.421875 2 \nL 5.421875 11.28125 \nQ 10.40625 8.6875 15.234375 7.390625 \nQ 20.0625 6.109375 24.8125 6.109375 \nQ 31.15625 6.109375 34.5625 8.28125 \nQ 37.984375 10.453125 37.984375 14.40625 \nQ 37.984375 18.0625 35.515625 20.015625 \nQ 33.0625 21.96875 24.703125 23.78125 \nL 21.578125 24.515625 \nQ 13.234375 26.265625 9.515625 29.90625 \nQ 5.8125 33.546875 5.8125 39.890625 \nQ 5.8125 47.609375 11.28125 51.796875 \nQ 16.75 56 26.8125 56 \nQ 31.78125 56 36.171875 55.265625 \nQ 40.578125 54.546875 44.28125 53.078125 \nz\n\" id=\"DejaVuSans-115\"/>\n      </defs>\n      <use xlink:href=\"#DejaVuSans-78\"/>\n      <use x=\"74.804688\" xlink:href=\"#DejaVuSans-117\"/>\n      <use x=\"138.183594\" xlink:href=\"#DejaVuSans-109\"/>\n      <use x=\"235.595703\" xlink:href=\"#DejaVuSans-98\"/>\n      <use x=\"299.072266\" xlink:href=\"#DejaVuSans-101\"/>\n      <use x=\"360.595703\" xlink:href=\"#DejaVuSans-114\"/>\n      <use x=\"401.708984\" xlink:href=\"#DejaVuSans-32\"/>\n      <use x=\"433.496094\" xlink:href=\"#DejaVuSans-111\"/>\n      <use x=\"494.677734\" xlink:href=\"#DejaVuSans-102\"/>\n      <use x=\"529.882812\" xlink:href=\"#DejaVuSans-32\"/>\n      <use x=\"561.669922\" xlink:href=\"#DejaVuSans-84\"/>\n      <use x=\"605.753906\" xlink:href=\"#DejaVuSans-111\"/>\n      <use x=\"666.935547\" xlink:href=\"#DejaVuSans-112\"/>\n      <use x=\"730.412109\" xlink:href=\"#DejaVuSans-105\"/>\n      <use x=\"758.195312\" xlink:href=\"#DejaVuSans-99\"/>\n      <use x=\"813.175781\" xlink:href=\"#DejaVuSans-115\"/>\n     </g>\n    </g>\n   </g>\n   <g id=\"matplotlib.axis_2\">\n    <g id=\"ytick_1\">\n     <g id=\"line2d_7\">\n      <defs>\n       <path d=\"M 0 0 \nL -3.5 0 \n\" id=\"m56820f8c19\" style=\"stroke:#000000;stroke-width:0.8;\"/>\n      </defs>\n      <g>\n       <use style=\"stroke:#000000;stroke-width:0.8;\" x=\"50.14375\" xlink:href=\"#m56820f8c19\" y=\"229.325706\"/>\n      </g>\n     </g>\n     <g id=\"text_8\">\n      <!-- −13 -->\n      <g transform=\"translate(22.039062 233.124925)scale(0.1 -0.1)\">\n       <defs>\n        <path d=\"M 10.59375 35.5 \nL 73.1875 35.5 \nL 73.1875 27.203125 \nL 10.59375 27.203125 \nz\n\" id=\"DejaVuSans-8722\"/>\n       </defs>\n       <use xlink:href=\"#DejaVuSans-8722\"/>\n       <use x=\"83.789062\" xlink:href=\"#DejaVuSans-49\"/>\n       <use x=\"147.412109\" xlink:href=\"#DejaVuSans-51\"/>\n      </g>\n     </g>\n    </g>\n    <g id=\"ytick_2\">\n     <g id=\"line2d_8\">\n      <g>\n       <use style=\"stroke:#000000;stroke-width:0.8;\" x=\"50.14375\" xlink:href=\"#m56820f8c19\" y=\"197.445872\"/>\n      </g>\n     </g>\n     <g id=\"text_9\">\n      <!-- −12 -->\n      <g transform=\"translate(22.039062 201.245091)scale(0.1 -0.1)\">\n       <use xlink:href=\"#DejaVuSans-8722\"/>\n       <use x=\"83.789062\" xlink:href=\"#DejaVuSans-49\"/>\n       <use x=\"147.412109\" xlink:href=\"#DejaVuSans-50\"/>\n      </g>\n     </g>\n    </g>\n    <g id=\"ytick_3\">\n     <g id=\"line2d_9\">\n      <g>\n       <use style=\"stroke:#000000;stroke-width:0.8;\" x=\"50.14375\" xlink:href=\"#m56820f8c19\" y=\"165.566039\"/>\n      </g>\n     </g>\n     <g id=\"text_10\">\n      <!-- −11 -->\n      <g transform=\"translate(22.039062 169.365258)scale(0.1 -0.1)\">\n       <use xlink:href=\"#DejaVuSans-8722\"/>\n       <use x=\"83.789062\" xlink:href=\"#DejaVuSans-49\"/>\n       <use x=\"147.412109\" xlink:href=\"#DejaVuSans-49\"/>\n      </g>\n     </g>\n    </g>\n    <g id=\"ytick_4\">\n     <g id=\"line2d_10\">\n      <g>\n       <use style=\"stroke:#000000;stroke-width:0.8;\" x=\"50.14375\" xlink:href=\"#m56820f8c19\" y=\"133.686205\"/>\n      </g>\n     </g>\n     <g id=\"text_11\">\n      <!-- −10 -->\n      <g transform=\"translate(22.039062 137.485424)scale(0.1 -0.1)\">\n       <use xlink:href=\"#DejaVuSans-8722\"/>\n       <use x=\"83.789062\" xlink:href=\"#DejaVuSans-49\"/>\n       <use x=\"147.412109\" xlink:href=\"#DejaVuSans-48\"/>\n      </g>\n     </g>\n    </g>\n    <g id=\"ytick_5\">\n     <g id=\"line2d_11\">\n      <g>\n       <use style=\"stroke:#000000;stroke-width:0.8;\" x=\"50.14375\" xlink:href=\"#m56820f8c19\" y=\"101.806371\"/>\n      </g>\n     </g>\n     <g id=\"text_12\">\n      <!-- −9 -->\n      <g transform=\"translate(28.401562 105.60559)scale(0.1 -0.1)\">\n       <defs>\n        <path d=\"M 10.984375 1.515625 \nL 10.984375 10.5 \nQ 14.703125 8.734375 18.5 7.8125 \nQ 22.3125 6.890625 25.984375 6.890625 \nQ 35.75 6.890625 40.890625 13.453125 \nQ 46.046875 20.015625 46.78125 33.40625 \nQ 43.953125 29.203125 39.59375 26.953125 \nQ 35.25 24.703125 29.984375 24.703125 \nQ 19.046875 24.703125 12.671875 31.3125 \nQ 6.296875 37.9375 6.296875 49.421875 \nQ 6.296875 60.640625 12.9375 67.421875 \nQ 19.578125 74.21875 30.609375 74.21875 \nQ 43.265625 74.21875 49.921875 64.515625 \nQ 56.59375 54.828125 56.59375 36.375 \nQ 56.59375 19.140625 48.40625 8.859375 \nQ 40.234375 -1.421875 26.421875 -1.421875 \nQ 22.703125 -1.421875 18.890625 -0.6875 \nQ 15.09375 0.046875 10.984375 1.515625 \nz\nM 30.609375 32.421875 \nQ 37.25 32.421875 41.125 36.953125 \nQ 45.015625 41.5 45.015625 49.421875 \nQ 45.015625 57.28125 41.125 61.84375 \nQ 37.25 66.40625 30.609375 66.40625 \nQ 23.96875 66.40625 20.09375 61.84375 \nQ 16.21875 57.28125 16.21875 49.421875 \nQ 16.21875 41.5 20.09375 36.953125 \nQ 23.96875 32.421875 30.609375 32.421875 \nz\n\" id=\"DejaVuSans-57\"/>\n       </defs>\n       <use xlink:href=\"#DejaVuSans-8722\"/>\n       <use x=\"83.789062\" xlink:href=\"#DejaVuSans-57\"/>\n      </g>\n     </g>\n    </g>\n    <g id=\"ytick_6\">\n     <g id=\"line2d_12\">\n      <g>\n       <use style=\"stroke:#000000;stroke-width:0.8;\" x=\"50.14375\" xlink:href=\"#m56820f8c19\" y=\"69.926538\"/>\n      </g>\n     </g>\n     <g id=\"text_13\">\n      <!-- −8 -->\n      <g transform=\"translate(28.401562 73.725757)scale(0.1 -0.1)\">\n       <defs>\n        <path d=\"M 31.78125 34.625 \nQ 24.75 34.625 20.71875 30.859375 \nQ 16.703125 27.09375 16.703125 20.515625 \nQ 16.703125 13.921875 20.71875 10.15625 \nQ 24.75 6.390625 31.78125 6.390625 \nQ 38.8125 6.390625 42.859375 10.171875 \nQ 46.921875 13.96875 46.921875 20.515625 \nQ 46.921875 27.09375 42.890625 30.859375 \nQ 38.875 34.625 31.78125 34.625 \nz\nM 21.921875 38.8125 \nQ 15.578125 40.375 12.03125 44.71875 \nQ 8.5 49.078125 8.5 55.328125 \nQ 8.5 64.0625 14.71875 69.140625 \nQ 20.953125 74.21875 31.78125 74.21875 \nQ 42.671875 74.21875 48.875 69.140625 \nQ 55.078125 64.0625 55.078125 55.328125 \nQ 55.078125 49.078125 51.53125 44.71875 \nQ 48 40.375 41.703125 38.8125 \nQ 48.828125 37.15625 52.796875 32.3125 \nQ 56.78125 27.484375 56.78125 20.515625 \nQ 56.78125 9.90625 50.3125 4.234375 \nQ 43.84375 -1.421875 31.78125 -1.421875 \nQ 19.734375 -1.421875 13.25 4.234375 \nQ 6.78125 9.90625 6.78125 20.515625 \nQ 6.78125 27.484375 10.78125 32.3125 \nQ 14.796875 37.15625 21.921875 38.8125 \nz\nM 18.3125 54.390625 \nQ 18.3125 48.734375 21.84375 45.5625 \nQ 25.390625 42.390625 31.78125 42.390625 \nQ 38.140625 42.390625 41.71875 45.5625 \nQ 45.3125 48.734375 45.3125 54.390625 \nQ 45.3125 60.0625 41.71875 63.234375 \nQ 38.140625 66.40625 31.78125 66.40625 \nQ 25.390625 66.40625 21.84375 63.234375 \nQ 18.3125 60.0625 18.3125 54.390625 \nz\n\" id=\"DejaVuSans-56\"/>\n       </defs>\n       <use xlink:href=\"#DejaVuSans-8722\"/>\n       <use x=\"83.789062\" xlink:href=\"#DejaVuSans-56\"/>\n      </g>\n     </g>\n    </g>\n    <g id=\"ytick_7\">\n     <g id=\"line2d_13\">\n      <g>\n       <use style=\"stroke:#000000;stroke-width:0.8;\" x=\"50.14375\" xlink:href=\"#m56820f8c19\" y=\"38.046704\"/>\n      </g>\n     </g>\n     <g id=\"text_14\">\n      <!-- −7 -->\n      <g transform=\"translate(28.401562 41.845923)scale(0.1 -0.1)\">\n       <defs>\n        <path d=\"M 8.203125 72.90625 \nL 55.078125 72.90625 \nL 55.078125 68.703125 \nL 28.609375 0 \nL 18.3125 0 \nL 43.21875 64.59375 \nL 8.203125 64.59375 \nz\n\" id=\"DejaVuSans-55\"/>\n       </defs>\n       <use xlink:href=\"#DejaVuSans-8722\"/>\n       <use x=\"83.789062\" xlink:href=\"#DejaVuSans-55\"/>\n      </g>\n     </g>\n    </g>\n    <g id=\"text_15\">\n     <!-- Perplexity -->\n     <g transform=\"translate(15.959375 155.531392)rotate(-90)scale(0.1 -0.1)\">\n      <defs>\n       <path d=\"M 19.671875 64.796875 \nL 19.671875 37.40625 \nL 32.078125 37.40625 \nQ 38.96875 37.40625 42.71875 40.96875 \nQ 46.484375 44.53125 46.484375 51.125 \nQ 46.484375 57.671875 42.71875 61.234375 \nQ 38.96875 64.796875 32.078125 64.796875 \nz\nM 9.8125 72.90625 \nL 32.078125 72.90625 \nQ 44.34375 72.90625 50.609375 67.359375 \nQ 56.890625 61.8125 56.890625 51.125 \nQ 56.890625 40.328125 50.609375 34.8125 \nQ 44.34375 29.296875 32.078125 29.296875 \nL 19.671875 29.296875 \nL 19.671875 0 \nL 9.8125 0 \nz\n\" id=\"DejaVuSans-80\"/>\n       <path d=\"M 9.421875 75.984375 \nL 18.40625 75.984375 \nL 18.40625 0 \nL 9.421875 0 \nz\n\" id=\"DejaVuSans-108\"/>\n       <path d=\"M 54.890625 54.6875 \nL 35.109375 28.078125 \nL 55.90625 0 \nL 45.3125 0 \nL 29.390625 21.484375 \nL 13.484375 0 \nL 2.875 0 \nL 24.125 28.609375 \nL 4.6875 54.6875 \nL 15.28125 54.6875 \nL 29.78125 35.203125 \nL 44.28125 54.6875 \nz\n\" id=\"DejaVuSans-120\"/>\n       <path d=\"M 18.3125 70.21875 \nL 18.3125 54.6875 \nL 36.8125 54.6875 \nL 36.8125 47.703125 \nL 18.3125 47.703125 \nL 18.3125 18.015625 \nQ 18.3125 11.328125 20.140625 9.421875 \nQ 21.96875 7.515625 27.59375 7.515625 \nL 36.8125 7.515625 \nL 36.8125 0 \nL 27.59375 0 \nQ 17.1875 0 13.234375 3.875 \nQ 9.28125 7.765625 9.28125 18.015625 \nL 9.28125 47.703125 \nL 2.6875 47.703125 \nL 2.6875 54.6875 \nL 9.28125 54.6875 \nL 9.28125 70.21875 \nz\n\" id=\"DejaVuSans-116\"/>\n       <path d=\"M 32.171875 -5.078125 \nQ 28.375 -14.84375 24.75 -17.8125 \nQ 21.140625 -20.796875 15.09375 -20.796875 \nL 7.90625 -20.796875 \nL 7.90625 -13.28125 \nL 13.1875 -13.28125 \nQ 16.890625 -13.28125 18.9375 -11.515625 \nQ 21 -9.765625 23.484375 -3.21875 \nL 25.09375 0.875 \nL 2.984375 54.6875 \nL 12.5 54.6875 \nL 29.59375 11.921875 \nL 46.6875 54.6875 \nL 56.203125 54.6875 \nz\n\" id=\"DejaVuSans-121\"/>\n      </defs>\n      <use xlink:href=\"#DejaVuSans-80\"/>\n      <use x=\"56.677734\" xlink:href=\"#DejaVuSans-101\"/>\n      <use x=\"118.201172\" xlink:href=\"#DejaVuSans-114\"/>\n      <use x=\"159.314453\" xlink:href=\"#DejaVuSans-112\"/>\n      <use x=\"222.791016\" xlink:href=\"#DejaVuSans-108\"/>\n      <use x=\"250.574219\" xlink:href=\"#DejaVuSans-101\"/>\n      <use x=\"310.347656\" xlink:href=\"#DejaVuSans-120\"/>\n      <use x=\"369.527344\" xlink:href=\"#DejaVuSans-105\"/>\n      <use x=\"397.310547\" xlink:href=\"#DejaVuSans-116\"/>\n      <use x=\"436.519531\" xlink:href=\"#DejaVuSans-121\"/>\n     </g>\n    </g>\n   </g>\n   <g id=\"line2d_14\">\n    <path clip-path=\"url(#pf7840ac795)\" d=\"M 75.507386 19.415251 \nL 93.624269 18.431405 \nL 111.741153 19.305668 \nL 129.858036 20.675174 \nL 147.974919 21.238402 \nL 166.091802 21.628344 \nL 184.208685 21.848624 \nL 202.325568 23.825129 \nL 220.442451 27.696454 \nL 238.559334 32.173952 \nL 256.676218 39.952557 \nL 274.793101 52.503821 \nL 292.909984 69.698388 \nL 311.026867 93.6099 \nL 329.14375 118.059321 \nL 347.260633 130.338269 \nL 365.377516 155.463131 \nL 383.494399 162.855431 \nL 401.611282 170.549379 \nL 419.728166 177.250379 \nL 437.845049 184.717021 \nL 455.961932 191.659708 \nL 474.078815 198.864853 \nL 492.195698 206.217552 \nL 510.312581 213.994095 \nL 528.429464 221.135545 \nL 546.546347 228.239914 \nL 564.663231 235.3919 \nL 582.780114 243.059504 \n\" style=\"fill:none;stroke:#1f77b4;stroke-linecap:square;stroke-width:1.5;\"/>\n    <defs>\n     <path d=\"M 0 3 \nC 0.795609 3 1.55874 2.683901 2.12132 2.12132 \nC 2.683901 1.55874 3 0.795609 3 0 \nC 3 -0.795609 2.683901 -1.55874 2.12132 -2.12132 \nC 1.55874 -2.683901 0.795609 -3 0 -3 \nC -0.795609 -3 -1.55874 -2.683901 -2.12132 -2.12132 \nC -2.683901 -1.55874 -3 -0.795609 -3 0 \nC -3 0.795609 -2.683901 1.55874 -2.12132 2.12132 \nC -1.55874 2.683901 -0.795609 3 0 3 \nz\n\" id=\"m1448438a52\" style=\"stroke:#1f77b4;\"/>\n    </defs>\n    <g clip-path=\"url(#pf7840ac795)\">\n     <use style=\"fill:#1f77b4;stroke:#1f77b4;\" x=\"75.507386\" xlink:href=\"#m1448438a52\" y=\"19.415251\"/>\n     <use style=\"fill:#1f77b4;stroke:#1f77b4;\" x=\"93.624269\" xlink:href=\"#m1448438a52\" y=\"18.431405\"/>\n     <use style=\"fill:#1f77b4;stroke:#1f77b4;\" x=\"111.741153\" xlink:href=\"#m1448438a52\" y=\"19.305668\"/>\n     <use style=\"fill:#1f77b4;stroke:#1f77b4;\" x=\"129.858036\" xlink:href=\"#m1448438a52\" y=\"20.675174\"/>\n     <use style=\"fill:#1f77b4;stroke:#1f77b4;\" x=\"147.974919\" xlink:href=\"#m1448438a52\" y=\"21.238402\"/>\n     <use style=\"fill:#1f77b4;stroke:#1f77b4;\" x=\"166.091802\" xlink:href=\"#m1448438a52\" y=\"21.628344\"/>\n     <use style=\"fill:#1f77b4;stroke:#1f77b4;\" x=\"184.208685\" xlink:href=\"#m1448438a52\" y=\"21.848624\"/>\n     <use style=\"fill:#1f77b4;stroke:#1f77b4;\" x=\"202.325568\" xlink:href=\"#m1448438a52\" y=\"23.825129\"/>\n     <use style=\"fill:#1f77b4;stroke:#1f77b4;\" x=\"220.442451\" xlink:href=\"#m1448438a52\" y=\"27.696454\"/>\n     <use style=\"fill:#1f77b4;stroke:#1f77b4;\" x=\"238.559334\" xlink:href=\"#m1448438a52\" y=\"32.173952\"/>\n     <use style=\"fill:#1f77b4;stroke:#1f77b4;\" x=\"256.676218\" xlink:href=\"#m1448438a52\" y=\"39.952557\"/>\n     <use style=\"fill:#1f77b4;stroke:#1f77b4;\" x=\"274.793101\" xlink:href=\"#m1448438a52\" y=\"52.503821\"/>\n     <use style=\"fill:#1f77b4;stroke:#1f77b4;\" x=\"292.909984\" xlink:href=\"#m1448438a52\" y=\"69.698388\"/>\n     <use style=\"fill:#1f77b4;stroke:#1f77b4;\" x=\"311.026867\" xlink:href=\"#m1448438a52\" y=\"93.6099\"/>\n     <use style=\"fill:#1f77b4;stroke:#1f77b4;\" x=\"329.14375\" xlink:href=\"#m1448438a52\" y=\"118.059321\"/>\n     <use style=\"fill:#1f77b4;stroke:#1f77b4;\" x=\"347.260633\" xlink:href=\"#m1448438a52\" y=\"130.338269\"/>\n     <use style=\"fill:#1f77b4;stroke:#1f77b4;\" x=\"365.377516\" xlink:href=\"#m1448438a52\" y=\"155.463131\"/>\n     <use style=\"fill:#1f77b4;stroke:#1f77b4;\" x=\"383.494399\" xlink:href=\"#m1448438a52\" y=\"162.855431\"/>\n     <use style=\"fill:#1f77b4;stroke:#1f77b4;\" x=\"401.611282\" xlink:href=\"#m1448438a52\" y=\"170.549379\"/>\n     <use style=\"fill:#1f77b4;stroke:#1f77b4;\" x=\"419.728166\" xlink:href=\"#m1448438a52\" y=\"177.250379\"/>\n     <use style=\"fill:#1f77b4;stroke:#1f77b4;\" x=\"437.845049\" xlink:href=\"#m1448438a52\" y=\"184.717021\"/>\n     <use style=\"fill:#1f77b4;stroke:#1f77b4;\" x=\"455.961932\" xlink:href=\"#m1448438a52\" y=\"191.659708\"/>\n     <use style=\"fill:#1f77b4;stroke:#1f77b4;\" x=\"474.078815\" xlink:href=\"#m1448438a52\" y=\"198.864853\"/>\n     <use style=\"fill:#1f77b4;stroke:#1f77b4;\" x=\"492.195698\" xlink:href=\"#m1448438a52\" y=\"206.217552\"/>\n     <use style=\"fill:#1f77b4;stroke:#1f77b4;\" x=\"510.312581\" xlink:href=\"#m1448438a52\" y=\"213.994095\"/>\n     <use style=\"fill:#1f77b4;stroke:#1f77b4;\" x=\"528.429464\" xlink:href=\"#m1448438a52\" y=\"221.135545\"/>\n     <use style=\"fill:#1f77b4;stroke:#1f77b4;\" x=\"546.546347\" xlink:href=\"#m1448438a52\" y=\"228.239914\"/>\n     <use style=\"fill:#1f77b4;stroke:#1f77b4;\" x=\"564.663231\" xlink:href=\"#m1448438a52\" y=\"235.3919\"/>\n     <use style=\"fill:#1f77b4;stroke:#1f77b4;\" x=\"582.780114\" xlink:href=\"#m1448438a52\" y=\"243.059504\"/>\n    </g>\n   </g>\n   <g id=\"patch_3\">\n    <path d=\"M 50.14375 254.290909 \nL 50.14375 7.2 \n\" style=\"fill:none;stroke:#000000;stroke-linecap:square;stroke-linejoin:miter;stroke-width:0.8;\"/>\n   </g>\n   <g id=\"patch_4\">\n    <path d=\"M 608.14375 254.290909 \nL 608.14375 7.2 \n\" style=\"fill:none;stroke:#000000;stroke-linecap:square;stroke-linejoin:miter;stroke-width:0.8;\"/>\n   </g>\n   <g id=\"patch_5\">\n    <path d=\"M 50.14375 254.290909 \nL 608.14375 254.290909 \n\" style=\"fill:none;stroke:#000000;stroke-linecap:square;stroke-linejoin:miter;stroke-width:0.8;\"/>\n   </g>\n   <g id=\"patch_6\">\n    <path d=\"M 50.14375 7.2 \nL 608.14375 7.2 \n\" style=\"fill:none;stroke:#000000;stroke-linecap:square;stroke-linejoin:miter;stroke-width:0.8;\"/>\n   </g>\n   <g id=\"legend_1\">\n    <g id=\"patch_7\">\n     <path d=\"M 562.795313 29.878125 \nL 601.14375 29.878125 \nQ 603.14375 29.878125 603.14375 27.878125 \nL 603.14375 14.2 \nQ 603.14375 12.2 601.14375 12.2 \nL 562.795313 12.2 \nQ 560.795313 12.2 560.795313 14.2 \nL 560.795313 27.878125 \nQ 560.795313 29.878125 562.795313 29.878125 \nz\n\" style=\"fill:#ffffff;opacity:0.8;stroke:#cccccc;stroke-linejoin:miter;\"/>\n    </g>\n    <g id=\"line2d_15\">\n     <path d=\"M 564.795313 20.298438 \nL 584.795313 20.298438 \n\" style=\"fill:none;stroke:#1f77b4;stroke-linecap:square;stroke-width:1.5;\"/>\n    </g>\n    <g id=\"line2d_16\">\n     <g>\n      <use style=\"fill:#1f77b4;stroke:#1f77b4;\" x=\"574.795313\" xlink:href=\"#m1448438a52\" y=\"20.298438\"/>\n     </g>\n    </g>\n    <g id=\"text_16\">\n     <!-- p -->\n     <g transform=\"translate(592.795313 23.798438)scale(0.1 -0.1)\">\n      <use xlink:href=\"#DejaVuSans-112\"/>\n     </g>\n    </g>\n   </g>\n  </g>\n  <g id=\"axes_2\">\n   <g id=\"patch_8\">\n    <path d=\"M 50.14375 550.8 \nL 608.14375 550.8 \nL 608.14375 303.709091 \nL 50.14375 303.709091 \nz\n\" style=\"fill:#ffffff;\"/>\n   </g>\n   <g id=\"matplotlib.axis_3\">\n    <g id=\"xtick_7\">\n     <g id=\"line2d_17\">\n      <g>\n       <use style=\"stroke:#000000;stroke-width:0.8;\" x=\"129.858036\" xlink:href=\"#me9334001a2\" y=\"550.8\"/>\n      </g>\n     </g>\n     <g id=\"text_17\">\n      <!-- 5 -->\n      <g transform=\"translate(126.676786 565.398437)scale(0.1 -0.1)\">\n       <use xlink:href=\"#DejaVuSans-53\"/>\n      </g>\n     </g>\n    </g>\n    <g id=\"xtick_8\">\n     <g id=\"line2d_18\">\n      <g>\n       <use style=\"stroke:#000000;stroke-width:0.8;\" x=\"220.442451\" xlink:href=\"#me9334001a2\" y=\"550.8\"/>\n      </g>\n     </g>\n     <g id=\"text_18\">\n      <!-- 10 -->\n      <g transform=\"translate(214.079951 565.398437)scale(0.1 -0.1)\">\n       <use xlink:href=\"#DejaVuSans-49\"/>\n       <use x=\"63.623047\" xlink:href=\"#DejaVuSans-48\"/>\n      </g>\n     </g>\n    </g>\n    <g id=\"xtick_9\">\n     <g id=\"line2d_19\">\n      <g>\n       <use style=\"stroke:#000000;stroke-width:0.8;\" x=\"311.026867\" xlink:href=\"#me9334001a2\" y=\"550.8\"/>\n      </g>\n     </g>\n     <g id=\"text_19\">\n      <!-- 15 -->\n      <g transform=\"translate(304.664367 565.398437)scale(0.1 -0.1)\">\n       <use xlink:href=\"#DejaVuSans-49\"/>\n       <use x=\"63.623047\" xlink:href=\"#DejaVuSans-53\"/>\n      </g>\n     </g>\n    </g>\n    <g id=\"xtick_10\">\n     <g id=\"line2d_20\">\n      <g>\n       <use style=\"stroke:#000000;stroke-width:0.8;\" x=\"401.611282\" xlink:href=\"#me9334001a2\" y=\"550.8\"/>\n      </g>\n     </g>\n     <g id=\"text_20\">\n      <!-- 20 -->\n      <g transform=\"translate(395.248782 565.398437)scale(0.1 -0.1)\">\n       <use xlink:href=\"#DejaVuSans-50\"/>\n       <use x=\"63.623047\" xlink:href=\"#DejaVuSans-48\"/>\n      </g>\n     </g>\n    </g>\n    <g id=\"xtick_11\">\n     <g id=\"line2d_21\">\n      <g>\n       <use style=\"stroke:#000000;stroke-width:0.8;\" x=\"492.195698\" xlink:href=\"#me9334001a2\" y=\"550.8\"/>\n      </g>\n     </g>\n     <g id=\"text_21\">\n      <!-- 25 -->\n      <g transform=\"translate(485.833198 565.398437)scale(0.1 -0.1)\">\n       <use xlink:href=\"#DejaVuSans-50\"/>\n       <use x=\"63.623047\" xlink:href=\"#DejaVuSans-53\"/>\n      </g>\n     </g>\n    </g>\n    <g id=\"xtick_12\">\n     <g id=\"line2d_22\">\n      <g>\n       <use style=\"stroke:#000000;stroke-width:0.8;\" x=\"582.780114\" xlink:href=\"#me9334001a2\" y=\"550.8\"/>\n      </g>\n     </g>\n     <g id=\"text_22\">\n      <!-- 30 -->\n      <g transform=\"translate(576.417614 565.398437)scale(0.1 -0.1)\">\n       <use xlink:href=\"#DejaVuSans-51\"/>\n       <use x=\"63.623047\" xlink:href=\"#DejaVuSans-48\"/>\n      </g>\n     </g>\n    </g>\n    <g id=\"text_23\">\n     <!-- Number of Topics -->\n     <g transform=\"translate(285.879687 579.076562)scale(0.1 -0.1)\">\n      <use xlink:href=\"#DejaVuSans-78\"/>\n      <use x=\"74.804688\" xlink:href=\"#DejaVuSans-117\"/>\n      <use x=\"138.183594\" xlink:href=\"#DejaVuSans-109\"/>\n      <use x=\"235.595703\" xlink:href=\"#DejaVuSans-98\"/>\n      <use x=\"299.072266\" xlink:href=\"#DejaVuSans-101\"/>\n      <use x=\"360.595703\" xlink:href=\"#DejaVuSans-114\"/>\n      <use x=\"401.708984\" xlink:href=\"#DejaVuSans-32\"/>\n      <use x=\"433.496094\" xlink:href=\"#DejaVuSans-111\"/>\n      <use x=\"494.677734\" xlink:href=\"#DejaVuSans-102\"/>\n      <use x=\"529.882812\" xlink:href=\"#DejaVuSans-32\"/>\n      <use x=\"561.669922\" xlink:href=\"#DejaVuSans-84\"/>\n      <use x=\"605.753906\" xlink:href=\"#DejaVuSans-111\"/>\n      <use x=\"666.935547\" xlink:href=\"#DejaVuSans-112\"/>\n      <use x=\"730.412109\" xlink:href=\"#DejaVuSans-105\"/>\n      <use x=\"758.195312\" xlink:href=\"#DejaVuSans-99\"/>\n      <use x=\"813.175781\" xlink:href=\"#DejaVuSans-115\"/>\n     </g>\n    </g>\n   </g>\n   <g id=\"matplotlib.axis_4\">\n    <g id=\"ytick_8\">\n     <g id=\"line2d_23\">\n      <g>\n       <use style=\"stroke:#000000;stroke-width:0.8;\" x=\"50.14375\" xlink:href=\"#m56820f8c19\" y=\"528.197244\"/>\n      </g>\n     </g>\n     <g id=\"text_24\">\n      <!-- 0.31 -->\n      <g transform=\"translate(20.878125 531.996463)scale(0.1 -0.1)\">\n       <defs>\n        <path d=\"M 10.6875 12.40625 \nL 21 12.40625 \nL 21 0 \nL 10.6875 0 \nz\n\" id=\"DejaVuSans-46\"/>\n       </defs>\n       <use xlink:href=\"#DejaVuSans-48\"/>\n       <use x=\"63.623047\" xlink:href=\"#DejaVuSans-46\"/>\n       <use x=\"95.410156\" xlink:href=\"#DejaVuSans-51\"/>\n       <use x=\"159.033203\" xlink:href=\"#DejaVuSans-49\"/>\n      </g>\n     </g>\n    </g>\n    <g id=\"ytick_9\">\n     <g id=\"line2d_24\">\n      <g>\n       <use style=\"stroke:#000000;stroke-width:0.8;\" x=\"50.14375\" xlink:href=\"#m56820f8c19\" y=\"500.475211\"/>\n      </g>\n     </g>\n     <g id=\"text_25\">\n      <!-- 0.32 -->\n      <g transform=\"translate(20.878125 504.274429)scale(0.1 -0.1)\">\n       <use xlink:href=\"#DejaVuSans-48\"/>\n       <use x=\"63.623047\" xlink:href=\"#DejaVuSans-46\"/>\n       <use x=\"95.410156\" xlink:href=\"#DejaVuSans-51\"/>\n       <use x=\"159.033203\" xlink:href=\"#DejaVuSans-50\"/>\n      </g>\n     </g>\n    </g>\n    <g id=\"ytick_10\">\n     <g id=\"line2d_25\">\n      <g>\n       <use style=\"stroke:#000000;stroke-width:0.8;\" x=\"50.14375\" xlink:href=\"#m56820f8c19\" y=\"472.753177\"/>\n      </g>\n     </g>\n     <g id=\"text_26\">\n      <!-- 0.33 -->\n      <g transform=\"translate(20.878125 476.552396)scale(0.1 -0.1)\">\n       <use xlink:href=\"#DejaVuSans-48\"/>\n       <use x=\"63.623047\" xlink:href=\"#DejaVuSans-46\"/>\n       <use x=\"95.410156\" xlink:href=\"#DejaVuSans-51\"/>\n       <use x=\"159.033203\" xlink:href=\"#DejaVuSans-51\"/>\n      </g>\n     </g>\n    </g>\n    <g id=\"ytick_11\">\n     <g id=\"line2d_26\">\n      <g>\n       <use style=\"stroke:#000000;stroke-width:0.8;\" x=\"50.14375\" xlink:href=\"#m56820f8c19\" y=\"445.031144\"/>\n      </g>\n     </g>\n     <g id=\"text_27\">\n      <!-- 0.34 -->\n      <g transform=\"translate(20.878125 448.830363)scale(0.1 -0.1)\">\n       <defs>\n        <path d=\"M 37.796875 64.3125 \nL 12.890625 25.390625 \nL 37.796875 25.390625 \nz\nM 35.203125 72.90625 \nL 47.609375 72.90625 \nL 47.609375 25.390625 \nL 58.015625 25.390625 \nL 58.015625 17.1875 \nL 47.609375 17.1875 \nL 47.609375 0 \nL 37.796875 0 \nL 37.796875 17.1875 \nL 4.890625 17.1875 \nL 4.890625 26.703125 \nz\n\" id=\"DejaVuSans-52\"/>\n       </defs>\n       <use xlink:href=\"#DejaVuSans-48\"/>\n       <use x=\"63.623047\" xlink:href=\"#DejaVuSans-46\"/>\n       <use x=\"95.410156\" xlink:href=\"#DejaVuSans-51\"/>\n       <use x=\"159.033203\" xlink:href=\"#DejaVuSans-52\"/>\n      </g>\n     </g>\n    </g>\n    <g id=\"ytick_12\">\n     <g id=\"line2d_27\">\n      <g>\n       <use style=\"stroke:#000000;stroke-width:0.8;\" x=\"50.14375\" xlink:href=\"#m56820f8c19\" y=\"417.309111\"/>\n      </g>\n     </g>\n     <g id=\"text_28\">\n      <!-- 0.35 -->\n      <g transform=\"translate(20.878125 421.108329)scale(0.1 -0.1)\">\n       <use xlink:href=\"#DejaVuSans-48\"/>\n       <use x=\"63.623047\" xlink:href=\"#DejaVuSans-46\"/>\n       <use x=\"95.410156\" xlink:href=\"#DejaVuSans-51\"/>\n       <use x=\"159.033203\" xlink:href=\"#DejaVuSans-53\"/>\n      </g>\n     </g>\n    </g>\n    <g id=\"ytick_13\">\n     <g id=\"line2d_28\">\n      <g>\n       <use style=\"stroke:#000000;stroke-width:0.8;\" x=\"50.14375\" xlink:href=\"#m56820f8c19\" y=\"389.587077\"/>\n      </g>\n     </g>\n     <g id=\"text_29\">\n      <!-- 0.36 -->\n      <g transform=\"translate(20.878125 393.386296)scale(0.1 -0.1)\">\n       <defs>\n        <path d=\"M 33.015625 40.375 \nQ 26.375 40.375 22.484375 35.828125 \nQ 18.609375 31.296875 18.609375 23.390625 \nQ 18.609375 15.53125 22.484375 10.953125 \nQ 26.375 6.390625 33.015625 6.390625 \nQ 39.65625 6.390625 43.53125 10.953125 \nQ 47.40625 15.53125 47.40625 23.390625 \nQ 47.40625 31.296875 43.53125 35.828125 \nQ 39.65625 40.375 33.015625 40.375 \nz\nM 52.59375 71.296875 \nL 52.59375 62.3125 \nQ 48.875 64.0625 45.09375 64.984375 \nQ 41.3125 65.921875 37.59375 65.921875 \nQ 27.828125 65.921875 22.671875 59.328125 \nQ 17.53125 52.734375 16.796875 39.40625 \nQ 19.671875 43.65625 24.015625 45.921875 \nQ 28.375 48.1875 33.59375 48.1875 \nQ 44.578125 48.1875 50.953125 41.515625 \nQ 57.328125 34.859375 57.328125 23.390625 \nQ 57.328125 12.15625 50.6875 5.359375 \nQ 44.046875 -1.421875 33.015625 -1.421875 \nQ 20.359375 -1.421875 13.671875 8.265625 \nQ 6.984375 17.96875 6.984375 36.375 \nQ 6.984375 53.65625 15.1875 63.9375 \nQ 23.390625 74.21875 37.203125 74.21875 \nQ 40.921875 74.21875 44.703125 73.484375 \nQ 48.484375 72.75 52.59375 71.296875 \nz\n\" id=\"DejaVuSans-54\"/>\n       </defs>\n       <use xlink:href=\"#DejaVuSans-48\"/>\n       <use x=\"63.623047\" xlink:href=\"#DejaVuSans-46\"/>\n       <use x=\"95.410156\" xlink:href=\"#DejaVuSans-51\"/>\n       <use x=\"159.033203\" xlink:href=\"#DejaVuSans-54\"/>\n      </g>\n     </g>\n    </g>\n    <g id=\"ytick_14\">\n     <g id=\"line2d_29\">\n      <g>\n       <use style=\"stroke:#000000;stroke-width:0.8;\" x=\"50.14375\" xlink:href=\"#m56820f8c19\" y=\"361.865044\"/>\n      </g>\n     </g>\n     <g id=\"text_30\">\n      <!-- 0.37 -->\n      <g transform=\"translate(20.878125 365.664263)scale(0.1 -0.1)\">\n       <use xlink:href=\"#DejaVuSans-48\"/>\n       <use x=\"63.623047\" xlink:href=\"#DejaVuSans-46\"/>\n       <use x=\"95.410156\" xlink:href=\"#DejaVuSans-51\"/>\n       <use x=\"159.033203\" xlink:href=\"#DejaVuSans-55\"/>\n      </g>\n     </g>\n    </g>\n    <g id=\"ytick_15\">\n     <g id=\"line2d_30\">\n      <g>\n       <use style=\"stroke:#000000;stroke-width:0.8;\" x=\"50.14375\" xlink:href=\"#m56820f8c19\" y=\"334.143011\"/>\n      </g>\n     </g>\n     <g id=\"text_31\">\n      <!-- 0.38 -->\n      <g transform=\"translate(20.878125 337.942229)scale(0.1 -0.1)\">\n       <use xlink:href=\"#DejaVuSans-48\"/>\n       <use x=\"63.623047\" xlink:href=\"#DejaVuSans-46\"/>\n       <use x=\"95.410156\" xlink:href=\"#DejaVuSans-51\"/>\n       <use x=\"159.033203\" xlink:href=\"#DejaVuSans-56\"/>\n      </g>\n     </g>\n    </g>\n    <g id=\"ytick_16\">\n     <g id=\"line2d_31\">\n      <g>\n       <use style=\"stroke:#000000;stroke-width:0.8;\" x=\"50.14375\" xlink:href=\"#m56820f8c19\" y=\"306.420977\"/>\n      </g>\n     </g>\n     <g id=\"text_32\">\n      <!-- 0.39 -->\n      <g transform=\"translate(20.878125 310.220196)scale(0.1 -0.1)\">\n       <use xlink:href=\"#DejaVuSans-48\"/>\n       <use x=\"63.623047\" xlink:href=\"#DejaVuSans-46\"/>\n       <use x=\"95.410156\" xlink:href=\"#DejaVuSans-51\"/>\n       <use x=\"159.033203\" xlink:href=\"#DejaVuSans-57\"/>\n      </g>\n     </g>\n    </g>\n    <g id=\"text_33\">\n     <!-- Coherence score -->\n     <g transform=\"translate(14.798437 469.086577)rotate(-90)scale(0.1 -0.1)\">\n      <defs>\n       <path d=\"M 64.40625 67.28125 \nL 64.40625 56.890625 \nQ 59.421875 61.53125 53.78125 63.8125 \nQ 48.140625 66.109375 41.796875 66.109375 \nQ 29.296875 66.109375 22.65625 58.46875 \nQ 16.015625 50.828125 16.015625 36.375 \nQ 16.015625 21.96875 22.65625 14.328125 \nQ 29.296875 6.6875 41.796875 6.6875 \nQ 48.140625 6.6875 53.78125 8.984375 \nQ 59.421875 11.28125 64.40625 15.921875 \nL 64.40625 5.609375 \nQ 59.234375 2.09375 53.4375 0.328125 \nQ 47.65625 -1.421875 41.21875 -1.421875 \nQ 24.65625 -1.421875 15.125 8.703125 \nQ 5.609375 18.84375 5.609375 36.375 \nQ 5.609375 53.953125 15.125 64.078125 \nQ 24.65625 74.21875 41.21875 74.21875 \nQ 47.75 74.21875 53.53125 72.484375 \nQ 59.328125 70.75 64.40625 67.28125 \nz\n\" id=\"DejaVuSans-67\"/>\n       <path d=\"M 54.890625 33.015625 \nL 54.890625 0 \nL 45.90625 0 \nL 45.90625 32.71875 \nQ 45.90625 40.484375 42.875 44.328125 \nQ 39.84375 48.1875 33.796875 48.1875 \nQ 26.515625 48.1875 22.3125 43.546875 \nQ 18.109375 38.921875 18.109375 30.90625 \nL 18.109375 0 \nL 9.078125 0 \nL 9.078125 75.984375 \nL 18.109375 75.984375 \nL 18.109375 46.1875 \nQ 21.34375 51.125 25.703125 53.5625 \nQ 30.078125 56 35.796875 56 \nQ 45.21875 56 50.046875 50.171875 \nQ 54.890625 44.34375 54.890625 33.015625 \nz\n\" id=\"DejaVuSans-104\"/>\n       <path d=\"M 54.890625 33.015625 \nL 54.890625 0 \nL 45.90625 0 \nL 45.90625 32.71875 \nQ 45.90625 40.484375 42.875 44.328125 \nQ 39.84375 48.1875 33.796875 48.1875 \nQ 26.515625 48.1875 22.3125 43.546875 \nQ 18.109375 38.921875 18.109375 30.90625 \nL 18.109375 0 \nL 9.078125 0 \nL 9.078125 54.6875 \nL 18.109375 54.6875 \nL 18.109375 46.1875 \nQ 21.34375 51.125 25.703125 53.5625 \nQ 30.078125 56 35.796875 56 \nQ 45.21875 56 50.046875 50.171875 \nQ 54.890625 44.34375 54.890625 33.015625 \nz\n\" id=\"DejaVuSans-110\"/>\n      </defs>\n      <use xlink:href=\"#DejaVuSans-67\"/>\n      <use x=\"69.824219\" xlink:href=\"#DejaVuSans-111\"/>\n      <use x=\"131.005859\" xlink:href=\"#DejaVuSans-104\"/>\n      <use x=\"194.384766\" xlink:href=\"#DejaVuSans-101\"/>\n      <use x=\"255.908203\" xlink:href=\"#DejaVuSans-114\"/>\n      <use x=\"294.771484\" xlink:href=\"#DejaVuSans-101\"/>\n      <use x=\"356.294922\" xlink:href=\"#DejaVuSans-110\"/>\n      <use x=\"419.673828\" xlink:href=\"#DejaVuSans-99\"/>\n      <use x=\"474.654297\" xlink:href=\"#DejaVuSans-101\"/>\n      <use x=\"536.177734\" xlink:href=\"#DejaVuSans-32\"/>\n      <use x=\"567.964844\" xlink:href=\"#DejaVuSans-115\"/>\n      <use x=\"620.064453\" xlink:href=\"#DejaVuSans-99\"/>\n      <use x=\"675.044922\" xlink:href=\"#DejaVuSans-111\"/>\n      <use x=\"736.226562\" xlink:href=\"#DejaVuSans-114\"/>\n      <use x=\"775.089844\" xlink:href=\"#DejaVuSans-101\"/>\n     </g>\n    </g>\n   </g>\n   <g id=\"line2d_32\">\n    <path clip-path=\"url(#p47c0569b36)\" d=\"M 75.507386 399.721041 \nL 93.624269 370.133389 \nL 111.741153 411.822657 \nL 129.858036 515.111451 \nL 147.974919 539.568595 \nL 166.091802 439.988507 \nL 184.208685 420.56134 \nL 202.325568 397.148952 \nL 220.442451 451.943123 \nL 238.559334 317.026719 \nL 256.676218 331.2364 \nL 274.793101 314.940496 \nL 292.909984 372.680384 \nL 311.026867 421.880247 \nL 329.14375 434.888662 \nL 347.260633 485.172825 \nL 365.377516 375.065221 \nL 383.494399 409.830382 \nL 401.611282 384.430413 \nL 419.728166 435.929594 \nL 437.845049 373.452784 \nL 455.961932 461.916521 \nL 474.078815 485.673683 \nL 492.195698 454.55682 \nL 510.312581 446.416545 \nL 528.429464 435.116736 \nL 546.546347 355.725728 \nL 564.663231 361.151849 \nL 582.780114 387.499768 \n\" style=\"fill:none;stroke:#1f77b4;stroke-linecap:square;stroke-width:1.5;\"/>\n    <g clip-path=\"url(#p47c0569b36)\">\n     <use style=\"fill:#1f77b4;stroke:#1f77b4;\" x=\"75.507386\" xlink:href=\"#m1448438a52\" y=\"399.721041\"/>\n     <use style=\"fill:#1f77b4;stroke:#1f77b4;\" x=\"93.624269\" xlink:href=\"#m1448438a52\" y=\"370.133389\"/>\n     <use style=\"fill:#1f77b4;stroke:#1f77b4;\" x=\"111.741153\" xlink:href=\"#m1448438a52\" y=\"411.822657\"/>\n     <use style=\"fill:#1f77b4;stroke:#1f77b4;\" x=\"129.858036\" xlink:href=\"#m1448438a52\" y=\"515.111451\"/>\n     <use style=\"fill:#1f77b4;stroke:#1f77b4;\" x=\"147.974919\" xlink:href=\"#m1448438a52\" y=\"539.568595\"/>\n     <use style=\"fill:#1f77b4;stroke:#1f77b4;\" x=\"166.091802\" xlink:href=\"#m1448438a52\" y=\"439.988507\"/>\n     <use style=\"fill:#1f77b4;stroke:#1f77b4;\" x=\"184.208685\" xlink:href=\"#m1448438a52\" y=\"420.56134\"/>\n     <use style=\"fill:#1f77b4;stroke:#1f77b4;\" x=\"202.325568\" xlink:href=\"#m1448438a52\" y=\"397.148952\"/>\n     <use style=\"fill:#1f77b4;stroke:#1f77b4;\" x=\"220.442451\" xlink:href=\"#m1448438a52\" y=\"451.943123\"/>\n     <use style=\"fill:#1f77b4;stroke:#1f77b4;\" x=\"238.559334\" xlink:href=\"#m1448438a52\" y=\"317.026719\"/>\n     <use style=\"fill:#1f77b4;stroke:#1f77b4;\" x=\"256.676218\" xlink:href=\"#m1448438a52\" y=\"331.2364\"/>\n     <use style=\"fill:#1f77b4;stroke:#1f77b4;\" x=\"274.793101\" xlink:href=\"#m1448438a52\" y=\"314.940496\"/>\n     <use style=\"fill:#1f77b4;stroke:#1f77b4;\" x=\"292.909984\" xlink:href=\"#m1448438a52\" y=\"372.680384\"/>\n     <use style=\"fill:#1f77b4;stroke:#1f77b4;\" x=\"311.026867\" xlink:href=\"#m1448438a52\" y=\"421.880247\"/>\n     <use style=\"fill:#1f77b4;stroke:#1f77b4;\" x=\"329.14375\" xlink:href=\"#m1448438a52\" y=\"434.888662\"/>\n     <use style=\"fill:#1f77b4;stroke:#1f77b4;\" x=\"347.260633\" xlink:href=\"#m1448438a52\" y=\"485.172825\"/>\n     <use style=\"fill:#1f77b4;stroke:#1f77b4;\" x=\"365.377516\" xlink:href=\"#m1448438a52\" y=\"375.065221\"/>\n     <use style=\"fill:#1f77b4;stroke:#1f77b4;\" x=\"383.494399\" xlink:href=\"#m1448438a52\" y=\"409.830382\"/>\n     <use style=\"fill:#1f77b4;stroke:#1f77b4;\" x=\"401.611282\" xlink:href=\"#m1448438a52\" y=\"384.430413\"/>\n     <use style=\"fill:#1f77b4;stroke:#1f77b4;\" x=\"419.728166\" xlink:href=\"#m1448438a52\" y=\"435.929594\"/>\n     <use style=\"fill:#1f77b4;stroke:#1f77b4;\" x=\"437.845049\" xlink:href=\"#m1448438a52\" y=\"373.452784\"/>\n     <use style=\"fill:#1f77b4;stroke:#1f77b4;\" x=\"455.961932\" xlink:href=\"#m1448438a52\" y=\"461.916521\"/>\n     <use style=\"fill:#1f77b4;stroke:#1f77b4;\" x=\"474.078815\" xlink:href=\"#m1448438a52\" y=\"485.673683\"/>\n     <use style=\"fill:#1f77b4;stroke:#1f77b4;\" x=\"492.195698\" xlink:href=\"#m1448438a52\" y=\"454.55682\"/>\n     <use style=\"fill:#1f77b4;stroke:#1f77b4;\" x=\"510.312581\" xlink:href=\"#m1448438a52\" y=\"446.416545\"/>\n     <use style=\"fill:#1f77b4;stroke:#1f77b4;\" x=\"528.429464\" xlink:href=\"#m1448438a52\" y=\"435.116736\"/>\n     <use style=\"fill:#1f77b4;stroke:#1f77b4;\" x=\"546.546347\" xlink:href=\"#m1448438a52\" y=\"355.725728\"/>\n     <use style=\"fill:#1f77b4;stroke:#1f77b4;\" x=\"564.663231\" xlink:href=\"#m1448438a52\" y=\"361.151849\"/>\n     <use style=\"fill:#1f77b4;stroke:#1f77b4;\" x=\"582.780114\" xlink:href=\"#m1448438a52\" y=\"387.499768\"/>\n    </g>\n   </g>\n   <g id=\"patch_9\">\n    <path d=\"M 50.14375 550.8 \nL 50.14375 303.709091 \n\" style=\"fill:none;stroke:#000000;stroke-linecap:square;stroke-linejoin:miter;stroke-width:0.8;\"/>\n   </g>\n   <g id=\"patch_10\">\n    <path d=\"M 608.14375 550.8 \nL 608.14375 303.709091 \n\" style=\"fill:none;stroke:#000000;stroke-linecap:square;stroke-linejoin:miter;stroke-width:0.8;\"/>\n   </g>\n   <g id=\"patch_11\">\n    <path d=\"M 50.14375 550.8 \nL 608.14375 550.8 \n\" style=\"fill:none;stroke:#000000;stroke-linecap:square;stroke-linejoin:miter;stroke-width:0.8;\"/>\n   </g>\n   <g id=\"patch_12\">\n    <path d=\"M 50.14375 303.709091 \nL 608.14375 303.709091 \n\" style=\"fill:none;stroke:#000000;stroke-linecap:square;stroke-linejoin:miter;stroke-width:0.8;\"/>\n   </g>\n   <g id=\"legend_2\">\n    <g id=\"patch_13\">\n     <path d=\"M 563.645312 326.387216 \nL 601.14375 326.387216 \nQ 603.14375 326.387216 603.14375 324.387216 \nL 603.14375 310.709091 \nQ 603.14375 308.709091 601.14375 308.709091 \nL 563.645312 308.709091 \nQ 561.645312 308.709091 561.645312 310.709091 \nL 561.645312 324.387216 \nQ 561.645312 326.387216 563.645312 326.387216 \nz\n\" style=\"fill:#ffffff;opacity:0.8;stroke:#cccccc;stroke-linejoin:miter;\"/>\n    </g>\n    <g id=\"line2d_33\">\n     <path d=\"M 565.645312 316.807528 \nL 585.645312 316.807528 \n\" style=\"fill:none;stroke:#1f77b4;stroke-linecap:square;stroke-width:1.5;\"/>\n    </g>\n    <g id=\"line2d_34\">\n     <g>\n      <use style=\"fill:#1f77b4;stroke:#1f77b4;\" x=\"575.645312\" xlink:href=\"#m1448438a52\" y=\"316.807528\"/>\n     </g>\n    </g>\n    <g id=\"text_34\">\n     <!-- c -->\n     <g transform=\"translate(593.645312 320.307528)scale(0.1 -0.1)\">\n      <use xlink:href=\"#DejaVuSans-99\"/>\n     </g>\n    </g>\n   </g>\n  </g>\n </g>\n <defs>\n  <clipPath id=\"pf7840ac795\">\n   <rect height=\"247.090909\" width=\"558\" x=\"50.14375\" y=\"7.2\"/>\n  </clipPath>\n  <clipPath id=\"p47c0569b36\">\n   <rect height=\"247.090909\" width=\"558\" x=\"50.14375\" y=\"303.709091\"/>\n  </clipPath>\n </defs>\n</svg>\n",
      "image/png": "[encoded data removed]"
     },
     "metadata": {
      "needs_background": "light"
     }
    }
   ],
   "source": [
    "limit=31 ######\n",
    "start=2\n",
    "step=1\n",
    "x = range(start, limit, step)\n",
    "\n",
    "\n",
    "fig, ax = plt.subplots(2,1, figsize=(10, 10))\n",
    "\n",
    "ax[0].plot(x, perplexity_values, marker='o')\n",
    "ax[0].set_xlabel(\"Number of Topics\")\n",
    "ax[0].set_ylabel(\"Perplexity\")\n",
    "ax[0].legend((\"perplexity\"), loc='best')\n",
    "\n",
    "ax[1].plot(x, coherence_values, marker='o')\n",
    "ax[1].set_xlabel(\"Number of Topics\")\n",
    "ax[1].set_ylabel(\"Coherence score\")\n",
    "ax[1].legend((\"coherence_values\"), loc='best')\n",
    "plt.show()"
   ]
  },
  {
   "cell_type": "code",
   "execution_count": 10,
   "metadata": {},
   "outputs": [
    {
     "output_type": "stream",
     "name": "stdout",
     "text": [
      "Num Topics = 2  has Perplexity Value of -6.4156\n",
      "Num Topics = 3  has Perplexity Value of -6.3847\n",
      "Num Topics = 4  has Perplexity Value of -6.4121\n",
      "Num Topics = 5  has Perplexity Value of -6.4551\n",
      "Num Topics = 6  has Perplexity Value of -6.4728\n",
      "Num Topics = 7  has Perplexity Value of -6.485\n",
      "Num Topics = 8  has Perplexity Value of -6.4919\n",
      "Num Topics = 9  has Perplexity Value of -6.5539\n",
      "Num Topics = 10  has Perplexity Value of -6.6753\n",
      "Num Topics = 11  has Perplexity Value of -6.8158\n",
      "Num Topics = 12  has Perplexity Value of -7.0598\n",
      "Num Topics = 13  has Perplexity Value of -7.4535\n",
      "Num Topics = 14  has Perplexity Value of -7.9928\n",
      "Num Topics = 15  has Perplexity Value of -8.7429\n",
      "Num Topics = 16  has Perplexity Value of -9.5098\n",
      "Num Topics = 17  has Perplexity Value of -9.895\n",
      "Num Topics = 18  has Perplexity Value of -10.6831\n",
      "Num Topics = 19  has Perplexity Value of -10.915\n",
      "Num Topics = 20  has Perplexity Value of -11.1563\n",
      "Num Topics = 21  has Perplexity Value of -11.3665\n",
      "Num Topics = 22  has Perplexity Value of -11.6007\n",
      "Num Topics = 23  has Perplexity Value of -11.8185\n",
      "Num Topics = 24  has Perplexity Value of -12.0445\n",
      "Num Topics = 25  has Perplexity Value of -12.2751\n",
      "Num Topics = 26  has Perplexity Value of -12.5191\n",
      "Num Topics = 27  has Perplexity Value of -12.7431\n",
      "Num Topics = 28  has Perplexity Value of -12.9659\n",
      "Num Topics = 29  has Perplexity Value of -13.1903\n",
      "Num Topics = 30  has Perplexity Value of -13.4308\n",
      "Num Topics = 2  has Coherence Value of 0.3563\n",
      "Num Topics = 3  has Coherence Value of 0.367\n",
      "Num Topics = 4  has Coherence Value of 0.352\n",
      "Num Topics = 5  has Coherence Value of 0.3147\n",
      "Num Topics = 6  has Coherence Value of 0.3059\n",
      "Num Topics = 7  has Coherence Value of 0.3418\n",
      "Num Topics = 8  has Coherence Value of 0.3488\n",
      "Num Topics = 9  has Coherence Value of 0.3573\n",
      "Num Topics = 10  has Coherence Value of 0.3375\n",
      "Num Topics = 11  has Coherence Value of 0.3862\n",
      "Num Topics = 12  has Coherence Value of 0.381\n",
      "Num Topics = 13  has Coherence Value of 0.3869\n",
      "Num Topics = 14  has Coherence Value of 0.3661\n",
      "Num Topics = 15  has Coherence Value of 0.3484\n",
      "Num Topics = 16  has Coherence Value of 0.3437\n",
      "Num Topics = 17  has Coherence Value of 0.3255\n",
      "Num Topics = 18  has Coherence Value of 0.3652\n",
      "Num Topics = 19  has Coherence Value of 0.3527\n",
      "Num Topics = 20  has Coherence Value of 0.3619\n",
      "Num Topics = 21  has Coherence Value of 0.3433\n",
      "Num Topics = 22  has Coherence Value of 0.3658\n",
      "Num Topics = 23  has Coherence Value of 0.3339\n",
      "Num Topics = 24  has Coherence Value of 0.3253\n",
      "Num Topics = 25  has Coherence Value of 0.3366\n",
      "Num Topics = 26  has Coherence Value of 0.3395\n",
      "Num Topics = 27  has Coherence Value of 0.3436\n",
      "Num Topics = 28  has Coherence Value of 0.3722\n",
      "Num Topics = 29  has Coherence Value of 0.3703\n",
      "Num Topics = 30  has Coherence Value of 0.3608\n",
      "/Users/uni613/Library/Python/3.8/lib/python/site-packages/ipykernel/ipkernel.py:287: DeprecationWarning: `should_run_async` will not call `transform_cell` automatically in the future. Please pass the result to `transformed_cell` argument and any exception that happen during thetransform in `preprocessing_exc_tuple` in IPython 7.17 and above.\n",
      "  and should_run_async(code)\n"
     ]
    }
   ],
   "source": [
    "for m, pv in zip(x, perplexity_values):\n",
    "  print(\"Num Topics =\", m, \" has Perplexity Value of\", round(pv, 4))\n",
    "\n",
    "for m, cv in zip(x, coherence_values):\n",
    "  print(\"Num Topics =\", m, \" has Coherence Value of\", round(cv, 4))"
   ]
  },
  {
   "cell_type": "code",
   "execution_count": 12,
   "metadata": {},
   "outputs": [
    {
     "output_type": "stream",
     "name": "stderr",
     "text": [
      "/Users/uni613/Library/Python/3.8/lib/python/site-packages/ipykernel/ipkernel.py:287: DeprecationWarning: `should_run_async` will not call `transform_cell` automatically in the future. Please pass the result to `transformed_cell` argument and any exception that happen during thetransform in `preprocessing_exc_tuple` in IPython 7.17 and above.\n",
      "  and should_run_async(code)\n",
      "[(0,\n",
      "  '0.072*\"수업\" + 0.052*\"활용\" + 0.050*\"문제\" + 0.041*\"학생\" + 0.041*\"대상\" + 0.040*\"효과\" '\n",
      "  '+ 0.036*\"적용\" + 0.029*\"연구\" + 0.027*\"모형\" + 0.026*\"중심\" + 0.025*\"학년\" + '\n",
      "  '0.025*\"향상\" + 0.023*\"결과\" + 0.023*\"해결\" + 0.021*\"교과\" + 0.021*\"차이\" + 0.019*\"개발\" '\n",
      "  '+ 0.019*\"콘텐츠\" + 0.017*\"태도\" + 0.014*\"검증\" + 0.014*\"전략\" + 0.012*\"스마트\" + '\n",
      "  '0.011*\"신장\" + 0.010*\"인지\" + 0.010*\"실험\" + 0.009*\"만족도\" + 0.009*\"목표\" + '\n",
      "  '0.009*\"능력\" + 0.008*\"디지털교과서\" + 0.008*\"초등\"'),\n",
      " (1,\n",
      "  '0.120*\"인공지능\" + 0.094*\"ai\" + 0.078*\"데이터\" + 0.078*\"창의\" + 0.071*\"알고리즘\" + '\n",
      "  '0.040*\"융합\" + 0.037*\"프로그램\" + 0.028*\"모델\" + 0.026*\"탐색\" + 0.020*\"분야\" + '\n",
      "  '0.015*\"진행\" + 0.012*\"대학원\" + 0.012*\"steam\" + 0.012*\"주제\" + 0.011*\"개념\" + '\n",
      "  '0.010*\"혁명\" + 0.010*\"강사\" + 0.009*\"실습\" + 0.009*\"경로\" + 0.008*\"정렬\" + '\n",
      "  '0.008*\"시뮬레이션\" + 0.007*\"프린팅\" + 0.007*\"적용\" + 0.007*\"선정\" + 0.007*\"딥러닝\" + '\n",
      "  '0.007*\"경향\" + 0.007*\"놀이\" + 0.007*\"판단\" + 0.007*\"센서\" + 0.006*\"제안\"'),\n",
      " (2,\n",
      "  '0.138*\"측정\" + 0.072*\"정도\" + 0.067*\"it\" + 0.036*\"문서\" + 0.030*\"타당도\" + '\n",
      "  '0.030*\"산출\" + 0.021*\"범주\" + 0.015*\"xml\" + 0.013*\"상관관계\" + 0.011*\"밀접\" + '\n",
      "  '0.009*\"함수\" + 0.008*\"제안\" + 0.008*\"html\" + 0.007*\"결국\" + 0.006*\"복잡\" + '\n",
      "  '0.005*\"최대\" + 0.005*\"지구\" + 0.005*\"작성\" + 0.004*\"복잡도\" + 0.004*\"가중\" + '\n",
      "  '0.003*\"엔트로피\" + 0.002*\"dtd\" + 0.000*\"전력\" + 0.000*\"테크노스트레스\" + 0.000*\"제목\" + '\n",
      "  '0.000*\"라즈베리파이\" + 0.000*\"전공자\" + 0.000*\"모호\" + 0.000*\"부호\" + 0.000*\"스크립트\"'),\n",
      " (3,\n",
      "  '0.318*\"평가\" + 0.078*\"유형\" + 0.060*\"수행\" + 0.042*\"플랫폼\" + 0.033*\"단원\" + '\n",
      "  '0.029*\"이러닝\" + 0.027*\"절차\" + 0.021*\"발표\" + 0.021*\"관찰\" + 0.017*\"iptv\" + '\n",
      "  '0.015*\"조작\" + 0.013*\"객관\" + 0.013*\"한계\" + 0.012*\"준거\" + 0.012*\"유아\" + '\n",
      "  '0.010*\"개발자\" + 0.009*\"실과\" + 0.009*\"개발\" + 0.009*\"제공\" + 0.008*\"블룸\" + '\n",
      "  '0.007*\"이론\" + 0.007*\"서비스\" + 0.007*\"루브릭\" + 0.006*\"공공\" + 0.006*\"시나리오\" + '\n",
      "  '0.005*\"고안\" + 0.005*\"신뢰도\" + 0.004*\"스캐폴딩\" + 0.004*\"소프트웨어\" + 0.003*\"보고서\"'),\n",
      " (4,\n",
      "  '0.117*\"로봇\" + 0.081*\"영향\" + 0.047*\"분석\" + 0.040*\"교과서\" + 0.033*\"유의미\" + '\n",
      "  '0.029*\"빅데이터\" + 0.028*\"긍정\" + 0.027*\"사용\" + 0.026*\"연수\" + 0.025*\"통계\" + '\n",
      "  '0.025*\"몰입\" + 0.023*\"유의\" + 0.022*\"중독\" + 0.019*\"우리나라\" + 0.018*\"점수\" + '\n",
      "  '0.016*\"요소\" + 0.015*\"사회\" + 0.015*\"인터넷\" + 0.014*\"기관\" + 0.013*\"지각\" + '\n",
      "  '0.013*\"실재감\" + 0.013*\"연구\" + 0.012*\"검정\" + 0.011*\"시행\" + 0.010*\"성별\" + '\n",
      "  '0.010*\"상관\" + 0.009*\"비교\" + 0.009*\"매개\" + 0.008*\"모색\" + 0.008*\"아동\"'),\n",
      " (5,\n",
      "  '0.106*\"컴퓨팅\" + 0.105*\"프로그래밍\" + 0.087*\"사고력\" + 0.046*\"프로그램\" + 0.043*\"교육\" + '\n",
      "  '0.039*\"초등\" + 0.024*\"사고\" + 0.023*\"게임\" + 0.022*\"소프트웨어교육\" + 0.021*\"개발\" + '\n",
      "  '0.021*\"언어\" + 0.020*\"결과\" + 0.020*\"개념\" + 0.017*\"학업\" + 0.017*\"효과\" + 0.016*\"코딩\" '\n",
      "  '+ 0.016*\"언플러그드\" + 0.015*\"ct\" + 0.013*\"분석\" + 0.013*\"사후\" + 0.013*\"엔트리\" + '\n",
      "  '0.012*\"논리\" + 0.012*\"효능감\" + 0.012*\"연구\" + 0.011*\"핵심\" + 0.011*\"피지컬\" + '\n",
      "  '0.010*\"블록\" + 0.010*\"추상\" + 0.008*\"소프트웨어\" + 0.007*\"표본\"'),\n",
      " (6,\n",
      "  '0.060*\"시스템\" + 0.046*\"온라인\" + 0.041*\"집단\" + 0.032*\"확인\" + 0.029*\"기준\" + '\n",
      "  '0.028*\"이용\" + 0.025*\"전문가\" + 0.024*\"학생\" + 0.020*\"산업\" + 0.018*\"지원\" + '\n",
      "  '0.018*\"운영\" + 0.017*\"접근\" + 0.016*\"관리\" + 0.015*\"선호\" + 0.015*\"설계\" + '\n",
      "  '0.013*\"사이버\" + 0.013*\"제공\" + 0.012*\"대학교\" + 0.012*\"고려\" + 0.012*\"시각\" + '\n",
      "  '0.012*\"서비스\" + 0.011*\"모바일\" + 0.011*\"시대\" + 0.010*\"경우\" + 0.010*\"공유\" + '\n",
      "  '0.009*\"이미지\" + 0.009*\"학급\" + 0.009*\"인터넷\" + 0.009*\"정보\" + 0.009*\"대상\"'),\n",
      " (7,\n",
      "  '0.065*\"디지털\" + 0.062*\"스크래치\" + 0.059*\"환경\" + 0.032*\"상호\" + 0.027*\"작용\" + '\n",
      "  '0.022*\"자동\" + 0.021*\"구체\" + 0.021*\"정책\" + 0.020*\"설계\" + 0.019*\"사용자\" + '\n",
      "  '0.019*\"어려움\" + 0.019*\"디자인\" + 0.018*\"제공\" + 0.018*\"구현\" + 0.017*\"논문\" + '\n",
      "  '0.017*\"제안\" + 0.017*\"기법\" + 0.017*\"사용\" + 0.016*\"모델링\" + 0.015*\"가능\" + '\n",
      "  '0.013*\"지원\" + 0.013*\"시스템\" + 0.013*\"텍스트\" + 0.011*\"수정\" + 0.011*\"방법\" + '\n",
      "  '0.010*\"단어\" + 0.010*\"유발\" + 0.010*\"고려\" + 0.009*\"구성\" + 0.009*\"다양\"'),\n",
      " (8,\n",
      "  '0.173*\"검사\" + 0.060*\"지능\" + 0.048*\"문항\" + 0.043*\"진로\" + 0.039*\"선행\" + 0.037*\"진단\" '\n",
      "  '+ 0.033*\"보조\" + 0.024*\"직업\" + 0.023*\"오류\" + 0.020*\"다중\" + 0.018*\"차세대\" + '\n",
      "  '0.017*\"모듈\" + 0.014*\"분해\" + 0.013*\"증대\" + 0.012*\"정적\" + 0.012*\"영상\" + 0.011*\"간접\" '\n",
      "  '+ 0.010*\"for\" + 0.010*\"신체\" + 0.010*\"연산\" + 0.009*\"보정\" + 0.009*\"정확\" + '\n",
      "  '0.009*\"장비\" + 0.009*\"테크닉\" + 0.008*\"신경망\" + 0.007*\"based\" + 0.006*\"해당\" + '\n",
      "  '0.006*\"변환\" + 0.006*\"재능\" + 0.005*\"유도\"'),\n",
      " (9,\n",
      "  '0.169*\"학습\" + 0.043*\"학습자\" + 0.039*\"교수\" + 0.034*\"활동\" + 0.020*\"연구\" + '\n",
      "  '0.018*\"요소\" + 0.017*\"단계\" + 0.016*\"개발\" + 0.014*\"이해\" + 0.014*\"방법\" + 0.013*\"결과\" '\n",
      "  '+ 0.013*\"자기\" + 0.013*\"적용\" + 0.013*\"해결력\" + 0.012*\"성취\" + 0.011*\"동기\" + '\n",
      "  '0.011*\"프로젝트\" + 0.011*\"설계\" + 0.011*\"능력\" + 0.011*\"활용\" + 0.010*\"효과\" + '\n",
      "  '0.010*\"자료\" + 0.010*\"진행\" + 0.010*\"기대\" + 0.009*\"수준\" + 0.008*\"구성\" + 0.008*\"흥미\" '\n",
      "  '+ 0.008*\"주도\" + 0.008*\"특성\" + 0.007*\"미래\"'),\n",
      " (10,\n",
      "  '0.156*\"교육\" + 0.040*\"연구\" + 0.037*\"분석\" + 0.035*\"초등\" + 0.032*\"정보\" + 0.028*\"과정\" '\n",
      "  '+ 0.028*\"sw\" + 0.027*\"교사\" + 0.020*\"컴퓨터\" + 0.018*\"소프트웨어\" + 0.016*\"내용\" + '\n",
      "  '0.014*\"활용\" + 0.014*\"결과\" + 0.013*\"개발\" + 0.013*\"인식\" + 0.012*\"실시\" + 0.012*\"과학\" '\n",
      "  '+ 0.012*\"역량\" + 0.011*\"필요\" + 0.011*\"관련\" + 0.010*\"학교\" + 0.010*\"조사\" + '\n",
      "  '0.009*\"기술\" + 0.009*\"예비\" + 0.009*\"제시\" + 0.009*\"도구\" + 0.008*\"학생\" + 0.008*\"영역\" '\n",
      "  '+ 0.007*\"경험\" + 0.007*\"지식\"'),\n",
      " (11,\n",
      "  '0.089*\"개정\" + 0.061*\"지속\" + 0.049*\"원격\" + 0.048*\"국내\" + 0.047*\"발문\" + 0.036*\"대응\" '\n",
      "  '+ 0.032*\"동향\" + 0.027*\"우수\" + 0.026*\"어플리케이션\" + 0.025*\"저작\" + 0.024*\"혁신\" + '\n",
      "  '0.024*\"의식\" + 0.017*\"동영\" + 0.015*\"홈페이지\" + 0.013*\"가상\" + 0.012*\"저작도구\" + '\n",
      "  '0.010*\"창작\" + 0.010*\"원활\" + 0.010*\"안전\" + 0.010*\"출석\" + 0.007*\"web\" + '\n",
      "  '0.007*\"입체\" + 0.006*\"전제\" + 0.006*\"양질\" + 0.006*\"재생\" + 0.005*\"유통\" + '\n",
      "  '0.005*\"클래스\" + 0.005*\"사진\" + 0.005*\"국제\" + 0.004*\"모양\"'),\n",
      " (12,\n",
      "  '0.122*\"ict\" + 0.076*\"활용\" + 0.074*\"능력\" + 0.061*\"리터러시\" + 0.047*\"스마트폰\" + '\n",
      "  '0.031*\"강의\" + 0.028*\"학기\" + 0.022*\"학생\" + 0.020*\"sns\" + 0.019*\"수준\" + '\n",
      "  '0.018*\"결합\" + 0.017*\"전자\" + 0.015*\"steam\" + 0.015*\"동료\" + 0.014*\"작성\" + '\n",
      "  '0.014*\"대비\" + 0.014*\"문장\" + 0.013*\"교실\" + 0.012*\"비교\" + 0.011*\"년도\" + '\n",
      "  '0.010*\"교육부\" + 0.010*\"ucc\" + 0.010*\"보드\" + 0.009*\"oecd\" + 0.009*\"논문\" + '\n",
      "  '0.008*\"실기\" + 0.008*\"의존\" + 0.007*\"대두\" + 0.007*\"동영상\" + 0.007*\"규모\"')]\n"
     ]
    }
   ],
   "source": [
    "a = int(input(\"set the number of topics \"))\n",
    "optimal_model = gensim.models.ldamodel.LdaModel(corpus=corpus,\n",
    "                                                id2word=id2word,\n",
    "                                                num_topics=a,\n",
    "                                                random_state=100,\n",
    "                                                update_every=1,\n",
    "                                                iterations=1000,\n",
    "                                                chunksize=100,\n",
    "                                                passes=10,\n",
    "                                                alpha='auto',\n",
    "                                                eta='auto',\n",
    "                                                per_word_topics=True)\n",
    "model_topics = optimal_model.show_topics(formatted=False)\n",
    "pprint(optimal_model.print_topics(num_words=30))"
   ]
  },
  {
   "cell_type": "code",
   "execution_count": 13,
   "metadata": {},
   "outputs": [
    {
     "output_type": "stream",
     "name": "stderr",
     "text": [
      "/Users/uni613/Library/Python/3.8/lib/python/site-packages/ipykernel/ipkernel.py:287: DeprecationWarning: `should_run_async` will not call `transform_cell` automatically in the future. Please pass the result to `transformed_cell` argument and any exception that happen during thetransform in `preprocessing_exc_tuple` in IPython 7.17 and above.\n  and should_run_async(code)\n"
     ]
    }
   ],
   "source": [
    "title = input(\"set the title of html file \")\n",
    "vis = pyLDAvis.gensim.prepare(optimal_model, corpus, id2word)\n",
    "pyLDAvis.save_html(vis, title+\".html\")"
   ]
  },
  {
   "cell_type": "code",
   "execution_count": 15,
   "metadata": {
    "tags": []
   },
   "outputs": [
    {
     "output_type": "stream",
     "name": "stderr",
     "text": [
      "/Users/uni613/Library/Python/3.8/lib/python/site-packages/ipykernel/ipkernel.py:287: DeprecationWarning: `should_run_async` will not call `transform_cell` automatically in the future. Please pass the result to `transformed_cell` argument and any exception that happen during thetransform in `preprocessing_exc_tuple` in IPython 7.17 and above.\n",
      "  and should_run_async(code)\n",
      "                    0                 1                  2                 3   \\\n",
      "0     (0, 0.116067335)  (1, 0.029412046)   (3, 0.016579244)  (4, 0.036357276)   \n",
      "1      (0, 0.10398149)  (1, 0.027510323)   (3, 0.015507844)  (4, 0.033939064)   \n",
      "2      (0, 0.11011843)  (1, 0.029404538)    (3, 0.01657921)  (4, 0.051973373)   \n",
      "3      (0, 0.10179499)  (1, 0.025749361)  (3, 0.0145183075)   (4, 0.03177896)   \n",
      "4      (0, 0.17446482)   (1, 0.02941813)   (3, 0.016582055)  (4, 0.035836574)   \n",
      "...                ...               ...                ...               ...   \n",
      "1144   (0, 0.12538837)  (3, 0.052045885)     (4, 0.2525328)  (6, 0.058756452)   \n",
      "1145   (0, 0.13893677)    (1, 0.0637275)     (3, 0.1692515)  (5, 0.011154433)   \n",
      "1146  (0, 0.096445344)   (1, 0.27409315)   (4, 0.028693171)   (5, 0.04021171)   \n",
      "1147  (0, 0.037940774)  (3, 0.034137737)   (5, 0.024030425)   (6, 0.14067073)   \n",
      "1148  (0, 0.034562714)   (4, 0.14359014)    (5, 0.32208136)   (7, 0.02536267)   \n",
      "\n",
      "                    4                 5                  6   \\\n",
      "0     (5, 0.052314002)  (6, 0.055655193)    (7, 0.09854338)   \n",
      "1      (5, 0.11934753)   (6, 0.05411577)    (7, 0.09484555)   \n",
      "2      (5, 0.04991162)   (6, 0.16224927)     (7, 0.0872277)   \n",
      "3     (5, 0.044654265)   (6, 0.09083833)   (7, 0.082984656)   \n",
      "4      (5, 0.05140086)  (6, 0.055409886)   (7, 0.030447856)   \n",
      "...                ...               ...                ...   \n",
      "1144  (8, 0.010878625)   (9, 0.09723266)   (10, 0.36458072)   \n",
      "1145   (6, 0.04925883)   (7, 0.10238344)    (9, 0.16815208)   \n",
      "1146  (6, 0.019176353)  (8, 0.019934425)    (9, 0.08443863)   \n",
      "1147  (8, 0.012248757)   (9, 0.13431317)   (10, 0.53434783)   \n",
      "1148   (9, 0.15318891)   (10, 0.2811564)  (11, 0.010983442)   \n",
      "\n",
      "                     7                  8                  9   \\\n",
      "0      (8, 0.012488338)   (9, 0.112185866)   (10, 0.36825854)   \n",
      "1      (8, 0.011681301)     (9, 0.1277082)   (10, 0.38222662)   \n",
      "2      (8, 0.012488313)    (9, 0.20303428)   (10, 0.24586405)   \n",
      "3      (8, 0.010935934)    (9, 0.18354191)   (10, 0.33228952)   \n",
      "4      (8, 0.012490454)     (9, 0.2388061)    (10, 0.3239887)   \n",
      "...                 ...                ...                ...   \n",
      "1144  (11, 0.020038491)               None               None   \n",
      "1145    (10, 0.2837089)               None               None   \n",
      "1146   (10, 0.34185427)  (11, 0.028998464)  (12, 0.058300924)   \n",
      "1147   (12, 0.06529875)               None               None   \n",
      "1148  (12, 0.012657256)               None               None   \n",
      "\n",
      "                     10                 11  \n",
      "0      (11, 0.08268804)  (12, 0.013714826)  \n",
      "1     (11, 0.010944842)  (12, 0.012826275)  \n",
      "2     (11, 0.011700976)  (12, 0.013712388)  \n",
      "3     (11, 0.063883014)  (12, 0.012007848)  \n",
      "4     (11, 0.011702982)  (12, 0.013714739)  \n",
      "...                 ...                ...  \n",
      "1144               None               None  \n",
      "1145               None               None  \n",
      "1146               None               None  \n",
      "1147               None               None  \n",
      "1148               None               None  \n",
      "\n",
      "[1149 rows x 12 columns]\n"
     ]
    }
   ],
   "source": [
    "# topic proportion\n",
    "# num of optimal topics = 13\n",
    "\n",
    "proportion = []\n",
    "for i, row_list in enumerate(optimal_model[corpus]):\n",
    "    #print(\"document number : \", i)\n",
    "    row = row_list[0]\n",
    "    #print(row)\n",
    "    proportion.append(row)\n",
    "print(pd.DataFrame(proportion))"
   ]
  },
  {
   "cell_type": "code",
   "execution_count": 16,
   "metadata": {
    "tags": []
   },
   "outputs": [
    {
     "output_type": "stream",
     "name": "stderr",
     "text": [
      "/Users/uni613/Library/Python/3.8/lib/python/site-packages/ipykernel/ipkernel.py:287: DeprecationWarning: `should_run_async` will not call `transform_cell` automatically in the future. Please pass the result to `transformed_cell` argument and any exception that happen during thetransform in `preprocessing_exc_tuple` in IPython 7.17 and above.\n  and should_run_async(code)\n"
     ]
    }
   ],
   "source": [
    "proportion = []\n",
    "for i, row_list in enumerate(optimal_model[corpus]):\n",
    "    #print(\"document number : \", i)\n",
    "    row = row_list[0]\n",
    "    #print(row)\n",
    "    inner_proportion = [\"-\", \"-\", \"-\", \"-\", \"-\", \"-\", \"-\", \"-\", \"-\", \"-\", \"-\", \"-\", \"-\"] # numtopics 13\n",
    "    for j, (topic_num, prop) in enumerate(row):\n",
    "        for k in range(13): # numtopics 13\n",
    "            if topic_num == k:\n",
    "                inner_proportion[k] = prop\n",
    "    proportion.append(inner_proportion)\n",
    "    #print(inner_proportion)\n",
    "#print(proportion)\n",
    "\n",
    "#topic_proportions = pd.DataFrame(data[\"title\"])"
   ]
  },
  {
   "cell_type": "code",
   "execution_count": 17,
   "metadata": {},
   "outputs": [
    {
     "output_type": "stream",
     "name": "stderr",
     "text": [
      "/Users/uni613/Library/Python/3.8/lib/python/site-packages/ipykernel/ipkernel.py:287: DeprecationWarning: `should_run_async` will not call `transform_cell` automatically in the future. Please pass the result to `transformed_cell` argument and any exception that happen during thetransform in `preprocessing_exc_tuple` in IPython 7.17 and above.\n",
      "  and should_run_async(code)\n",
      "                                           Title        T0        T1 T2  \\\n",
      "0                              멀티미디어 원격교육에 관한 연구  0.116098  0.029412  -   \n",
      "1                       교육용 하이퍼미디어 자료 편집기에 관한 연구  0.103981  0.027510  -   \n",
      "2                          인터넷 기반의 코스웨어의 설계 및 구현  0.110118  0.029405  -   \n",
      "3                          Web에서의 협력 환경 구축 방안 연구  0.101790  0.025749  -   \n",
      "4                             열린교육에서의 개별화수업과 CAI  0.174465  0.029418  -   \n",
      "...                                          ...       ...       ... ..   \n",
      "1144        2015 개정 실과 교과서 소프트웨어 교육 단원 탐구성 비교 분석  0.125389         -  -   \n",
      "1145            대화형 이러닝 콘텐츠에 관한 사용자 경험(UX) 질적 평가  0.138937  0.063729  -   \n",
      "1146  초등학생의 데이터 리터러시 함양을 위한 AI 데이터 과학 교육 프로그램 개발  0.096444  0.274094  -   \n",
      "1147     초등 예비 교사들을 위한 소프트웨어 교육에 대한 온라인 교육 효과 분석  0.037919         -  -   \n",
      "1148   초등 실과 교과서 내 소프트웨어교육 영역에 나타난 컴퓨팅 사고력 요소 분석  0.034561         -  -   \n",
      "\n",
      "            T3        T4        T5        T6        T7        T8        T9  \\\n",
      "0     0.016579  0.036358  0.052332  0.055655  0.098537  0.012488  0.112196   \n",
      "1     0.015508  0.033939  0.119346  0.054116  0.094846  0.011681  0.127695   \n",
      "2     0.016579  0.052001  0.049912  0.162151  0.087380  0.012488  0.202953   \n",
      "3     0.014518  0.031779  0.044654  0.090873  0.082920  0.010936  0.183606   \n",
      "4     0.016582  0.035837  0.051400  0.055410  0.030448  0.012490  0.238805   \n",
      "...        ...       ...       ...       ...       ...       ...       ...   \n",
      "1144  0.052046  0.252535         -  0.058757         -  0.010879  0.097232   \n",
      "1145  0.169252         -  0.011153  0.049259  0.102384         -  0.168151   \n",
      "1146         -  0.028693  0.040211  0.019173         -  0.019934  0.084443   \n",
      "1147  0.034138         -  0.024031  0.140676         -  0.012249  0.134321   \n",
      "1148         -  0.143579  0.322083         -  0.025363         -  0.153212   \n",
      "\n",
      "           T10       T11       T12  \n",
      "0     0.368206  0.082688  0.013715  \n",
      "1     0.382241  0.010945  0.012826  \n",
      "2     0.245864  0.011701  0.013712  \n",
      "3     0.332274  0.063870  0.012008  \n",
      "4     0.323990  0.011703  0.013715  \n",
      "...        ...       ...       ...  \n",
      "1144  0.364579  0.020038         -  \n",
      "1145  0.283709         -         -  \n",
      "1146  0.341855  0.028998  0.058301  \n",
      "1147  0.534356         -  0.065299  \n",
      "1148  0.281144  0.010983  0.012657  \n",
      "\n",
      "[1149 rows x 14 columns]\n"
     ]
    }
   ],
   "source": [
    "topic_proportions = pd.concat([data[\"title\"], pd.DataFrame(proportion)], axis=1)\n",
    "topic_proportions.columns = [\"Title\", \"T0\", \"T1\", \"T2\", \"T3\", \"T4\", \"T5\", \"T6\", \"T7\", \"T8\", \"T9\", \"T10\", \"T11\", \"T12\"] #num topics = 13\n",
    "print(topic_proportions)\n",
    "topic_proportions.to_excel(\"./final_data/0101_topic_proportions_total.xlsx\")"
   ]
  },
  {
   "cell_type": "code",
   "execution_count": null,
   "metadata": {},
   "outputs": [],
   "source": []
  }
 ]
}