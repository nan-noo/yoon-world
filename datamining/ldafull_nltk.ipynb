{
 "metadata": {
  "language_info": {
   "codemirror_mode": {
    "name": "ipython",
    "version": 3
   },
   "file_extension": ".py",
   "mimetype": "text/x-python",
   "name": "python",
   "nbconvert_exporter": "python",
   "pygments_lexer": "ipython3",
   "version": "3.8.2-final"
  },
  "orig_nbformat": 2,
  "kernelspec": {
   "name": "python3",
   "display_name": "Python 3.8.2 64-bit",
   "metadata": {
    "interpreter": {
     "hash": "aee8b7b246df8f9039afb4144a1f6fd8d2ca17a180786b69acc140d282b71a49"
    }
   }
  }
 },
 "nbformat": 4,
 "nbformat_minor": 2,
 "cells": [
  {
   "cell_type": "code",
   "execution_count": 1,
   "metadata": {},
   "outputs": [],
   "source": [
    "import pandas as pd\n",
    "import numpy as np\n",
    "import nltk\n",
    "from nltk.corpus import stopwords\n",
    "from nltk.tokenize import word_tokenize\n",
    "import string\n",
    "import gensim\n",
    "import pyLDAvis.gensim\n",
    "import logging\n",
    "from gensim.models.coherencemodel import CoherenceModel\n",
    "import matplotlib.pyplot as plt\n",
    "import time\n",
    "from pprint import pprint"
   ]
  },
  {
   "cell_type": "code",
   "execution_count": 2,
   "metadata": {},
   "outputs": [
    {
     "output_type": "stream",
     "name": "stderr",
     "text": [
      "/Users/uni613/Library/Python/3.8/lib/python/site-packages/ipykernel/ipkernel.py:287: DeprecationWarning: `should_run_async` will not call `transform_cell` automatically in the future. Please pass the result to `transformed_cell` argument and any exception that happen during thetransform in `preprocessing_exc_tuple` in IPython 7.17 and above.\n  and should_run_async(code)\n"
     ]
    },
    {
     "output_type": "execute_result",
     "data": {
      "text/plain": [
       "   no    year                                              title  \\\n",
       "0   1  2021.0  Social–Emotional Characteristics and Adjustmen...   \n",
       "1   2  2021.0  Do Mass Media Shape Stereotypes About Intellec...   \n",
       "2   3  2021.0  College Choice: Considerations for Academicall...   \n",
       "3   4  2021.0  Intellectual Precocity: What Have We Learned S...   \n",
       "4   5  2021.0     Assessing the Scholarly Reach of Terman's Work   \n",
       "\n",
       "                                            eng_full  \n",
       "0  Social–Emotional Characteristics and Adjustmen...  \n",
       "1  Do Mass Media Shape Stereotypes About Intellec...  \n",
       "2  College Choice: Considerations for Academicall...  \n",
       "3  Intellectual Precocity: What Have We Learned S...  \n",
       "4  Assessing the Scholarly Reach of Terman's Work...  "
      ],
      "text/html": "<div>\n<style scoped>\n    .dataframe tbody tr th:only-of-type {\n        vertical-align: middle;\n    }\n\n    .dataframe tbody tr th {\n        vertical-align: top;\n    }\n\n    .dataframe thead th {\n        text-align: right;\n    }\n</style>\n<table border=\"1\" class=\"dataframe\">\n  <thead>\n    <tr style=\"text-align: right;\">\n      <th></th>\n      <th>no</th>\n      <th>year</th>\n      <th>title</th>\n      <th>eng_full</th>\n    </tr>\n  </thead>\n  <tbody>\n    <tr>\n      <th>0</th>\n      <td>1</td>\n      <td>2021.0</td>\n      <td>Social–Emotional Characteristics and Adjustmen...</td>\n      <td>Social–Emotional Characteristics and Adjustmen...</td>\n    </tr>\n    <tr>\n      <th>1</th>\n      <td>2</td>\n      <td>2021.0</td>\n      <td>Do Mass Media Shape Stereotypes About Intellec...</td>\n      <td>Do Mass Media Shape Stereotypes About Intellec...</td>\n    </tr>\n    <tr>\n      <th>2</th>\n      <td>3</td>\n      <td>2021.0</td>\n      <td>College Choice: Considerations for Academicall...</td>\n      <td>College Choice: Considerations for Academicall...</td>\n    </tr>\n    <tr>\n      <th>3</th>\n      <td>4</td>\n      <td>2021.0</td>\n      <td>Intellectual Precocity: What Have We Learned S...</td>\n      <td>Intellectual Precocity: What Have We Learned S...</td>\n    </tr>\n    <tr>\n      <th>4</th>\n      <td>5</td>\n      <td>2021.0</td>\n      <td>Assessing the Scholarly Reach of Terman's Work</td>\n      <td>Assessing the Scholarly Reach of Terman's Work...</td>\n    </tr>\n  </tbody>\n</table>\n</div>"
     },
     "metadata": {},
     "execution_count": 2
    }
   ],
   "source": [
    "data = pd.read_csv(\"./modi_data/eng_full.csv\") ############\n",
    "#data = data.drop(['Unnamed: 0'], axis=1)\n",
    "data.head()"
   ]
  },
  {
   "cell_type": "code",
   "execution_count": 3,
   "metadata": {},
   "outputs": [
    {
     "output_type": "stream",
     "name": "stderr",
     "text": [
      "/Users/uni613/Library/Python/3.8/lib/python/site-packages/ipykernel/ipkernel.py:287: DeprecationWarning: `should_run_async` will not call `transform_cell` automatically in the future. Please pass the result to `transformed_cell` argument and any exception that happen during thetransform in `preprocessing_exc_tuple` in IPython 7.17 and above.\n  and should_run_async(code)\n"
     ]
    }
   ],
   "source": [
    "dfWordList = pd.read_excel(\"./modi_data/nltk_word_cor.xlsx\")\n",
    "dfWordDel = dfWordList[dfWordList[\"correction\"] == \"delete\"]\n",
    "dfWordMod = dfWordList[dfWordList[\"correction\"] != \"delete\"]\n",
    "\n",
    "seriesDelete = dfWordDel[\"word\"]\n",
    "stopword = []\n",
    "for word in seriesDelete.values:\n",
    "    stopword.append(word)\n",
    "#print(stopword)\n",
    "\n",
    "seriesModify = dfWordMod[\"word\"]\n",
    "modiword = []\n",
    "for word in seriesModify.values:\n",
    "    modiword.append(word)\n",
    "#print(len(modiword))\n",
    "\n",
    "seriesModify2 = dfWordMod[\"correction\"]\n",
    "modiword2 = []\n",
    "for word in seriesModify2.values:\n",
    "    modiword2.append(word)\n",
    "#print(len(modiword2))"
   ]
  },
  {
   "cell_type": "code",
   "execution_count": 4,
   "metadata": {},
   "outputs": [
    {
     "output_type": "stream",
     "name": "stderr",
     "text": [
      "/Users/uni613/Library/Python/3.8/lib/python/site-packages/ipykernel/ipkernel.py:287: DeprecationWarning: `should_run_async` will not call `transform_cell` automatically in the future. Please pass the result to `transformed_cell` argument and any exception that happen during thetransform in `preprocessing_exc_tuple` in IPython 7.17 and above.\n  and should_run_async(code)\n"
     ]
    }
   ],
   "source": [
    "stop_word = set(stopword + stopwords.words('english') + list(string.punctuation))\n",
    "#print(stop_word)"
   ]
  },
  {
   "cell_type": "code",
   "execution_count": 5,
   "metadata": {},
   "outputs": [
    {
     "output_type": "stream",
     "name": "stderr",
     "text": [
      "/Users/uni613/Library/Python/3.8/lib/python/site-packages/ipykernel/ipkernel.py:287: DeprecationWarning: `should_run_async` will not call `transform_cell` automatically in the future. Please pass the result to `transformed_cell` argument and any exception that happen during thetransform in `preprocessing_exc_tuple` in IPython 7.17 and above.\n  and should_run_async(code)\n"
     ]
    }
   ],
   "source": [
    "def nltkTokenizer(raw, stopword=stop_word):\n",
    "    list = []\n",
    "\n",
    "    for word in word_tokenize(raw): #raw data\n",
    "        #print(word)\n",
    "        wl = word.lower()\n",
    "        if wl not in stopword and len(word) > 1:\n",
    "            if wl in modiword:\n",
    "                wl = modiword2[modiword.index(wl)].lower()\n",
    "            list.append(wl)            \n",
    "    return list"
   ]
  },
  {
   "cell_type": "code",
   "execution_count": 6,
   "metadata": {},
   "outputs": [
    {
     "output_type": "stream",
     "name": "stderr",
     "text": [
      "/Users/uni613/Library/Python/3.8/lib/python/site-packages/ipykernel/ipkernel.py:287: DeprecationWarning: `should_run_async` will not call `transform_cell` automatically in the future. Please pass the result to `transformed_cell` argument and any exception that happen during thetransform in `preprocessing_exc_tuple` in IPython 7.17 and above.\n",
      "  and should_run_async(code)\n",
      "========= tokenization completed =========\n"
     ]
    }
   ],
   "source": [
    "tokenized = data[\"eng_full\"].apply(lambda row: nltkTokenizer(row))\n",
    "#print(tokenized)\n",
    "print(\"========= tokenization completed =========\")"
   ]
  },
  {
   "cell_type": "code",
   "execution_count": 7,
   "metadata": {},
   "outputs": [
    {
     "output_type": "stream",
     "name": "stdout",
     "text": [
      "# words in total :  9699\n",
      "# documents :  2537\n",
      "/Users/uni613/Library/Python/3.8/lib/python/site-packages/ipykernel/ipkernel.py:287: DeprecationWarning: `should_run_async` will not call `transform_cell` automatically in the future. Please pass the result to `transformed_cell` argument and any exception that happen during thetransform in `preprocessing_exc_tuple` in IPython 7.17 and above.\n",
      "  and should_run_async(code)\n"
     ]
    }
   ],
   "source": [
    "#lda\n",
    "id2word = gensim.corpora.Dictionary(tokenized)\n",
    "\n",
    "wordlist = []\n",
    "for i in range(len(id2word)):\n",
    "    #print(id2word[i])\n",
    "    wordlist.append(id2word[i])\n",
    "#print(wordlist)\n",
    "seriesWordlist = pd.Series(wordlist)\n",
    "\n",
    "corpus=[id2word.doc2bow(text) for text in tokenized]\n",
    "#print(\"id2word for each document : \", corpus)\n",
    "print(\"# words in total : \", len(id2word))\n",
    "print(\"# documents : \", len(corpus))"
   ]
  },
  {
   "cell_type": "code",
   "execution_count": 8,
   "metadata": {},
   "outputs": [
    {
     "output_type": "stream",
     "name": "stderr",
     "text": [
      "/Users/uni613/Library/Python/3.8/lib/python/site-packages/ipykernel/ipkernel.py:287: DeprecationWarning: `should_run_async` will not call `transform_cell` automatically in the future. Please pass the result to `transformed_cell` argument and any exception that happen during thetransform in `preprocessing_exc_tuple` in IPython 7.17 and above.\n  and should_run_async(code)\n"
     ]
    }
   ],
   "source": [
    "def compute_coherence_values(dictionary, corpus, texts, limit, start=2, step=1):\n",
    "    \"\"\"\n",
    "    Compute c_v coherence for various number of topics\n",
    "\n",
    "    Parameters:\n",
    "    ----------\n",
    "    dictionary : Gensim dictionary\n",
    "    corpus : Gensim corpus\n",
    "    texts : List of input texts\n",
    "    limit : Max num of topics\n",
    "\n",
    "    Returns:\n",
    "    -------\n",
    "    model_list : List of LDA topic models\n",
    "    coherence_values : Coherence values corresponding to the LDA model with respective number of topics\n",
    "    \"\"\"\n",
    "    perplexity_values = []\n",
    "    coherence_values = []\n",
    "    model_list = []\n",
    "    for num_topics in range(start, limit, step):\n",
    "        print(num_topics)\n",
    "        model = gensim.models.ldamodel.LdaModel(corpus=corpus,\n",
    "                                                id2word=id2word,\n",
    "                                                num_topics=num_topics,\n",
    "                                                random_state=100,\n",
    "                                                update_every=1,\n",
    "                                                iterations=1000,\n",
    "                                                chunksize=100,\n",
    "                                                passes=10,\n",
    "                                                alpha='auto',\n",
    "                                                eta='auto',\n",
    "                                                per_word_topics=True)\n",
    "        model_list.append(model)\n",
    "        perplexitymodel = model.log_perplexity(corpus)\n",
    "        perplexity_values.append(perplexitymodel)\n",
    "        coherencemodel = CoherenceModel(model=model,\n",
    "                                        texts=texts,\n",
    "                                        dictionary=dictionary,\n",
    "                                        coherence='c_v')\n",
    "        coherence_values.append(coherencemodel.get_coherence())\n",
    "    return model_list, perplexity_values, coherence_values"
   ]
  },
  {
   "cell_type": "code",
   "execution_count": 9,
   "metadata": {},
   "outputs": [
    {
     "output_type": "stream",
     "name": "stderr",
     "text": [
      "/Users/uni613/Library/Python/3.8/lib/python/site-packages/ipykernel/ipkernel.py:287: DeprecationWarning: `should_run_async` will not call `transform_cell` automatically in the future. Please pass the result to `transformed_cell` argument and any exception that happen during thetransform in `preprocessing_exc_tuple` in IPython 7.17 and above.\n",
      "  and should_run_async(code)\n",
      "2\n",
      "3\n",
      "4\n",
      "5\n",
      "6\n",
      "7\n",
      "8\n",
      "9\n",
      "10\n",
      "11\n",
      "12\n",
      "13\n",
      "14\n",
      "15\n",
      "16\n",
      "17\n",
      "18\n",
      "19\n",
      "20\n",
      "21\n",
      "22\n",
      "23\n",
      "24\n",
      "25\n",
      "26\n",
      "27\n",
      "28\n",
      "29\n",
      "30\n",
      "time :  7.068094964822134 min\n"
     ]
    }
   ],
   "source": [
    "start = time.time()\n",
    "model_list, perplexity_values, coherence_values = compute_coherence_values(dictionary=id2word,\n",
    "                                                        corpus=corpus,\n",
    "                                                        texts=tokenized,\n",
    "                                                        start=2,\n",
    "                                                        limit=31, #####\n",
    "                                                        step=1)\n",
    "print(\"time : \", ( time.time() - start )/60, \"min\")"
   ]
  },
  {
   "cell_type": "code",
   "execution_count": 10,
   "metadata": {},
   "outputs": [
    {
     "output_type": "stream",
     "name": "stderr",
     "text": [
      "/Users/uni613/Library/Python/3.8/lib/python/site-packages/ipykernel/ipkernel.py:287: DeprecationWarning: `should_run_async` will not call `transform_cell` automatically in the future. Please pass the result to `transformed_cell` argument and any exception that happen during thetransform in `preprocessing_exc_tuple` in IPython 7.17 and above.\n  and should_run_async(code)\n"
     ]
    },
    {
     "output_type": "display_data",
     "data": {
      "text/plain": "<Figure size 720x720 with 2 Axes>",
      "image/svg+xml": "<?xml version=\"1.0\" encoding=\"utf-8\" standalone=\"no\"?>\n<!DOCTYPE svg PUBLIC \"-//W3C//DTD SVG 1.1//EN\"\n  \"http://www.w3.org/Graphics/SVG/1.1/DTD/svg11.dtd\">\n<!-- Created with matplotlib (https://matplotlib.org/) -->\n<svg height=\"588.35625pt\" version=\"1.1\" viewBox=\"0 0 615.34375 588.35625\" width=\"615.34375pt\" xmlns=\"http://www.w3.org/2000/svg\" xmlns:xlink=\"http://www.w3.org/1999/xlink\">\n <metadata>\n  <rdf:RDF xmlns:cc=\"http://creativecommons.org/ns#\" xmlns:dc=\"http://purl.org/dc/elements/1.1/\" xmlns:rdf=\"http://www.w3.org/1999/02/22-rdf-syntax-ns#\">\n   <cc:Work>\n    <dc:type rdf:resource=\"http://purl.org/dc/dcmitype/StillImage\"/>\n    <dc:date>2021-01-21T22:25:29.080130</dc:date>\n    <dc:format>image/svg+xml</dc:format>\n    <dc:creator>\n     <cc:Agent>\n      <dc:title>Matplotlib v3.3.3, https://matplotlib.org/</dc:title>\n     </cc:Agent>\n    </dc:creator>\n   </cc:Work>\n  </rdf:RDF>\n </metadata>\n <defs>\n  <style type=\"text/css\">*{stroke-linecap:butt;stroke-linejoin:round;}</style>\n </defs>\n <g id=\"figure_1\">\n  <g id=\"patch_1\">\n   <path d=\"M 0 588.35625 \nL 615.34375 588.35625 \nL 615.34375 0 \nL 0 0 \nz\n\" style=\"fill:none;\"/>\n  </g>\n  <g id=\"axes_1\">\n   <g id=\"patch_2\">\n    <path d=\"M 50.14375 254.290909 \nL 608.14375 254.290909 \nL 608.14375 7.2 \nL 50.14375 7.2 \nz\n\" style=\"fill:#ffffff;\"/>\n   </g>\n   <g id=\"matplotlib.axis_1\">\n    <g id=\"xtick_1\">\n     <g id=\"line2d_1\">\n      <defs>\n       <path d=\"M 0 0 \nL 0 3.5 \n\" id=\"mfb100a30cb\" style=\"stroke:#000000;stroke-width:0.8;\"/>\n      </defs>\n      <g>\n       <use style=\"stroke:#000000;stroke-width:0.8;\" x=\"129.858036\" xlink:href=\"#mfb100a30cb\" y=\"254.290909\"/>\n      </g>\n     </g>\n     <g id=\"text_1\">\n      <!-- 5 -->\n      <g transform=\"translate(126.676786 268.889347)scale(0.1 -0.1)\">\n       <defs>\n        <path d=\"M 10.796875 72.90625 \nL 49.515625 72.90625 \nL 49.515625 64.59375 \nL 19.828125 64.59375 \nL 19.828125 46.734375 \nQ 21.96875 47.46875 24.109375 47.828125 \nQ 26.265625 48.1875 28.421875 48.1875 \nQ 40.625 48.1875 47.75 41.5 \nQ 54.890625 34.8125 54.890625 23.390625 \nQ 54.890625 11.625 47.5625 5.09375 \nQ 40.234375 -1.421875 26.90625 -1.421875 \nQ 22.3125 -1.421875 17.546875 -0.640625 \nQ 12.796875 0.140625 7.71875 1.703125 \nL 7.71875 11.625 \nQ 12.109375 9.234375 16.796875 8.0625 \nQ 21.484375 6.890625 26.703125 6.890625 \nQ 35.15625 6.890625 40.078125 11.328125 \nQ 45.015625 15.765625 45.015625 23.390625 \nQ 45.015625 31 40.078125 35.4375 \nQ 35.15625 39.890625 26.703125 39.890625 \nQ 22.75 39.890625 18.8125 39.015625 \nQ 14.890625 38.140625 10.796875 36.28125 \nz\n\" id=\"DejaVuSans-53\"/>\n       </defs>\n       <use xlink:href=\"#DejaVuSans-53\"/>\n      </g>\n     </g>\n    </g>\n    <g id=\"xtick_2\">\n     <g id=\"line2d_2\">\n      <g>\n       <use style=\"stroke:#000000;stroke-width:0.8;\" x=\"220.442451\" xlink:href=\"#mfb100a30cb\" y=\"254.290909\"/>\n      </g>\n     </g>\n     <g id=\"text_2\">\n      <!-- 10 -->\n      <g transform=\"translate(214.079951 268.889347)scale(0.1 -0.1)\">\n       <defs>\n        <path d=\"M 12.40625 8.296875 \nL 28.515625 8.296875 \nL 28.515625 63.921875 \nL 10.984375 60.40625 \nL 10.984375 69.390625 \nL 28.421875 72.90625 \nL 38.28125 72.90625 \nL 38.28125 8.296875 \nL 54.390625 8.296875 \nL 54.390625 0 \nL 12.40625 0 \nz\n\" id=\"DejaVuSans-49\"/>\n        <path d=\"M 31.78125 66.40625 \nQ 24.171875 66.40625 20.328125 58.90625 \nQ 16.5 51.421875 16.5 36.375 \nQ 16.5 21.390625 20.328125 13.890625 \nQ 24.171875 6.390625 31.78125 6.390625 \nQ 39.453125 6.390625 43.28125 13.890625 \nQ 47.125 21.390625 47.125 36.375 \nQ 47.125 51.421875 43.28125 58.90625 \nQ 39.453125 66.40625 31.78125 66.40625 \nz\nM 31.78125 74.21875 \nQ 44.046875 74.21875 50.515625 64.515625 \nQ 56.984375 54.828125 56.984375 36.375 \nQ 56.984375 17.96875 50.515625 8.265625 \nQ 44.046875 -1.421875 31.78125 -1.421875 \nQ 19.53125 -1.421875 13.0625 8.265625 \nQ 6.59375 17.96875 6.59375 36.375 \nQ 6.59375 54.828125 13.0625 64.515625 \nQ 19.53125 74.21875 31.78125 74.21875 \nz\n\" id=\"DejaVuSans-48\"/>\n       </defs>\n       <use xlink:href=\"#DejaVuSans-49\"/>\n       <use x=\"63.623047\" xlink:href=\"#DejaVuSans-48\"/>\n      </g>\n     </g>\n    </g>\n    <g id=\"xtick_3\">\n     <g id=\"line2d_3\">\n      <g>\n       <use style=\"stroke:#000000;stroke-width:0.8;\" x=\"311.026867\" xlink:href=\"#mfb100a30cb\" y=\"254.290909\"/>\n      </g>\n     </g>\n     <g id=\"text_3\">\n      <!-- 15 -->\n      <g transform=\"translate(304.664367 268.889347)scale(0.1 -0.1)\">\n       <use xlink:href=\"#DejaVuSans-49\"/>\n       <use x=\"63.623047\" xlink:href=\"#DejaVuSans-53\"/>\n      </g>\n     </g>\n    </g>\n    <g id=\"xtick_4\">\n     <g id=\"line2d_4\">\n      <g>\n       <use style=\"stroke:#000000;stroke-width:0.8;\" x=\"401.611282\" xlink:href=\"#mfb100a30cb\" y=\"254.290909\"/>\n      </g>\n     </g>\n     <g id=\"text_4\">\n      <!-- 20 -->\n      <g transform=\"translate(395.248782 268.889347)scale(0.1 -0.1)\">\n       <defs>\n        <path d=\"M 19.1875 8.296875 \nL 53.609375 8.296875 \nL 53.609375 0 \nL 7.328125 0 \nL 7.328125 8.296875 \nQ 12.9375 14.109375 22.625 23.890625 \nQ 32.328125 33.6875 34.8125 36.53125 \nQ 39.546875 41.84375 41.421875 45.53125 \nQ 43.3125 49.21875 43.3125 52.78125 \nQ 43.3125 58.59375 39.234375 62.25 \nQ 35.15625 65.921875 28.609375 65.921875 \nQ 23.96875 65.921875 18.8125 64.3125 \nQ 13.671875 62.703125 7.8125 59.421875 \nL 7.8125 69.390625 \nQ 13.765625 71.78125 18.9375 73 \nQ 24.125 74.21875 28.421875 74.21875 \nQ 39.75 74.21875 46.484375 68.546875 \nQ 53.21875 62.890625 53.21875 53.421875 \nQ 53.21875 48.921875 51.53125 44.890625 \nQ 49.859375 40.875 45.40625 35.40625 \nQ 44.1875 33.984375 37.640625 27.21875 \nQ 31.109375 20.453125 19.1875 8.296875 \nz\n\" id=\"DejaVuSans-50\"/>\n       </defs>\n       <use xlink:href=\"#DejaVuSans-50\"/>\n       <use x=\"63.623047\" xlink:href=\"#DejaVuSans-48\"/>\n      </g>\n     </g>\n    </g>\n    <g id=\"xtick_5\">\n     <g id=\"line2d_5\">\n      <g>\n       <use style=\"stroke:#000000;stroke-width:0.8;\" x=\"492.195698\" xlink:href=\"#mfb100a30cb\" y=\"254.290909\"/>\n      </g>\n     </g>\n     <g id=\"text_5\">\n      <!-- 25 -->\n      <g transform=\"translate(485.833198 268.889347)scale(0.1 -0.1)\">\n       <use xlink:href=\"#DejaVuSans-50\"/>\n       <use x=\"63.623047\" xlink:href=\"#DejaVuSans-53\"/>\n      </g>\n     </g>\n    </g>\n    <g id=\"xtick_6\">\n     <g id=\"line2d_6\">\n      <g>\n       <use style=\"stroke:#000000;stroke-width:0.8;\" x=\"582.780114\" xlink:href=\"#mfb100a30cb\" y=\"254.290909\"/>\n      </g>\n     </g>\n     <g id=\"text_6\">\n      <!-- 30 -->\n      <g transform=\"translate(576.417614 268.889347)scale(0.1 -0.1)\">\n       <defs>\n        <path d=\"M 40.578125 39.3125 \nQ 47.65625 37.796875 51.625 33 \nQ 55.609375 28.21875 55.609375 21.1875 \nQ 55.609375 10.40625 48.1875 4.484375 \nQ 40.765625 -1.421875 27.09375 -1.421875 \nQ 22.515625 -1.421875 17.65625 -0.515625 \nQ 12.796875 0.390625 7.625 2.203125 \nL 7.625 11.71875 \nQ 11.71875 9.328125 16.59375 8.109375 \nQ 21.484375 6.890625 26.8125 6.890625 \nQ 36.078125 6.890625 40.9375 10.546875 \nQ 45.796875 14.203125 45.796875 21.1875 \nQ 45.796875 27.640625 41.28125 31.265625 \nQ 36.765625 34.90625 28.71875 34.90625 \nL 20.21875 34.90625 \nL 20.21875 43.015625 \nL 29.109375 43.015625 \nQ 36.375 43.015625 40.234375 45.921875 \nQ 44.09375 48.828125 44.09375 54.296875 \nQ 44.09375 59.90625 40.109375 62.90625 \nQ 36.140625 65.921875 28.71875 65.921875 \nQ 24.65625 65.921875 20.015625 65.03125 \nQ 15.375 64.15625 9.8125 62.3125 \nL 9.8125 71.09375 \nQ 15.4375 72.65625 20.34375 73.4375 \nQ 25.25 74.21875 29.59375 74.21875 \nQ 40.828125 74.21875 47.359375 69.109375 \nQ 53.90625 64.015625 53.90625 55.328125 \nQ 53.90625 49.265625 50.4375 45.09375 \nQ 46.96875 40.921875 40.578125 39.3125 \nz\n\" id=\"DejaVuSans-51\"/>\n       </defs>\n       <use xlink:href=\"#DejaVuSans-51\"/>\n       <use x=\"63.623047\" xlink:href=\"#DejaVuSans-48\"/>\n      </g>\n     </g>\n    </g>\n    <g id=\"text_7\">\n     <!-- Number of Topics -->\n     <g transform=\"translate(285.879687 282.567472)scale(0.1 -0.1)\">\n      <defs>\n       <path d=\"M 9.8125 72.90625 \nL 23.09375 72.90625 \nL 55.421875 11.921875 \nL 55.421875 72.90625 \nL 64.984375 72.90625 \nL 64.984375 0 \nL 51.703125 0 \nL 19.390625 60.984375 \nL 19.390625 0 \nL 9.8125 0 \nz\n\" id=\"DejaVuSans-78\"/>\n       <path d=\"M 8.5 21.578125 \nL 8.5 54.6875 \nL 17.484375 54.6875 \nL 17.484375 21.921875 \nQ 17.484375 14.15625 20.5 10.265625 \nQ 23.53125 6.390625 29.59375 6.390625 \nQ 36.859375 6.390625 41.078125 11.03125 \nQ 45.3125 15.671875 45.3125 23.6875 \nL 45.3125 54.6875 \nL 54.296875 54.6875 \nL 54.296875 0 \nL 45.3125 0 \nL 45.3125 8.40625 \nQ 42.046875 3.421875 37.71875 1 \nQ 33.40625 -1.421875 27.6875 -1.421875 \nQ 18.265625 -1.421875 13.375 4.4375 \nQ 8.5 10.296875 8.5 21.578125 \nz\nM 31.109375 56 \nz\n\" id=\"DejaVuSans-117\"/>\n       <path d=\"M 52 44.1875 \nQ 55.375 50.25 60.0625 53.125 \nQ 64.75 56 71.09375 56 \nQ 79.640625 56 84.28125 50.015625 \nQ 88.921875 44.046875 88.921875 33.015625 \nL 88.921875 0 \nL 79.890625 0 \nL 79.890625 32.71875 \nQ 79.890625 40.578125 77.09375 44.375 \nQ 74.3125 48.1875 68.609375 48.1875 \nQ 61.625 48.1875 57.5625 43.546875 \nQ 53.515625 38.921875 53.515625 30.90625 \nL 53.515625 0 \nL 44.484375 0 \nL 44.484375 32.71875 \nQ 44.484375 40.625 41.703125 44.40625 \nQ 38.921875 48.1875 33.109375 48.1875 \nQ 26.21875 48.1875 22.15625 43.53125 \nQ 18.109375 38.875 18.109375 30.90625 \nL 18.109375 0 \nL 9.078125 0 \nL 9.078125 54.6875 \nL 18.109375 54.6875 \nL 18.109375 46.1875 \nQ 21.1875 51.21875 25.484375 53.609375 \nQ 29.78125 56 35.6875 56 \nQ 41.65625 56 45.828125 52.96875 \nQ 50 49.953125 52 44.1875 \nz\n\" id=\"DejaVuSans-109\"/>\n       <path d=\"M 48.6875 27.296875 \nQ 48.6875 37.203125 44.609375 42.84375 \nQ 40.53125 48.484375 33.40625 48.484375 \nQ 26.265625 48.484375 22.1875 42.84375 \nQ 18.109375 37.203125 18.109375 27.296875 \nQ 18.109375 17.390625 22.1875 11.75 \nQ 26.265625 6.109375 33.40625 6.109375 \nQ 40.53125 6.109375 44.609375 11.75 \nQ 48.6875 17.390625 48.6875 27.296875 \nz\nM 18.109375 46.390625 \nQ 20.953125 51.265625 25.265625 53.625 \nQ 29.59375 56 35.59375 56 \nQ 45.5625 56 51.78125 48.09375 \nQ 58.015625 40.1875 58.015625 27.296875 \nQ 58.015625 14.40625 51.78125 6.484375 \nQ 45.5625 -1.421875 35.59375 -1.421875 \nQ 29.59375 -1.421875 25.265625 0.953125 \nQ 20.953125 3.328125 18.109375 8.203125 \nL 18.109375 0 \nL 9.078125 0 \nL 9.078125 75.984375 \nL 18.109375 75.984375 \nz\n\" id=\"DejaVuSans-98\"/>\n       <path d=\"M 56.203125 29.59375 \nL 56.203125 25.203125 \nL 14.890625 25.203125 \nQ 15.484375 15.921875 20.484375 11.0625 \nQ 25.484375 6.203125 34.421875 6.203125 \nQ 39.59375 6.203125 44.453125 7.46875 \nQ 49.3125 8.734375 54.109375 11.28125 \nL 54.109375 2.78125 \nQ 49.265625 0.734375 44.1875 -0.34375 \nQ 39.109375 -1.421875 33.890625 -1.421875 \nQ 20.796875 -1.421875 13.15625 6.1875 \nQ 5.515625 13.8125 5.515625 26.8125 \nQ 5.515625 40.234375 12.765625 48.109375 \nQ 20.015625 56 32.328125 56 \nQ 43.359375 56 49.78125 48.890625 \nQ 56.203125 41.796875 56.203125 29.59375 \nz\nM 47.21875 32.234375 \nQ 47.125 39.59375 43.09375 43.984375 \nQ 39.0625 48.390625 32.421875 48.390625 \nQ 24.90625 48.390625 20.390625 44.140625 \nQ 15.875 39.890625 15.1875 32.171875 \nz\n\" id=\"DejaVuSans-101\"/>\n       <path d=\"M 41.109375 46.296875 \nQ 39.59375 47.171875 37.8125 47.578125 \nQ 36.03125 48 33.890625 48 \nQ 26.265625 48 22.1875 43.046875 \nQ 18.109375 38.09375 18.109375 28.8125 \nL 18.109375 0 \nL 9.078125 0 \nL 9.078125 54.6875 \nL 18.109375 54.6875 \nL 18.109375 46.1875 \nQ 20.953125 51.171875 25.484375 53.578125 \nQ 30.03125 56 36.53125 56 \nQ 37.453125 56 38.578125 55.875 \nQ 39.703125 55.765625 41.0625 55.515625 \nz\n\" id=\"DejaVuSans-114\"/>\n       <path id=\"DejaVuSans-32\"/>\n       <path d=\"M 30.609375 48.390625 \nQ 23.390625 48.390625 19.1875 42.75 \nQ 14.984375 37.109375 14.984375 27.296875 \nQ 14.984375 17.484375 19.15625 11.84375 \nQ 23.34375 6.203125 30.609375 6.203125 \nQ 37.796875 6.203125 41.984375 11.859375 \nQ 46.1875 17.53125 46.1875 27.296875 \nQ 46.1875 37.015625 41.984375 42.703125 \nQ 37.796875 48.390625 30.609375 48.390625 \nz\nM 30.609375 56 \nQ 42.328125 56 49.015625 48.375 \nQ 55.71875 40.765625 55.71875 27.296875 \nQ 55.71875 13.875 49.015625 6.21875 \nQ 42.328125 -1.421875 30.609375 -1.421875 \nQ 18.84375 -1.421875 12.171875 6.21875 \nQ 5.515625 13.875 5.515625 27.296875 \nQ 5.515625 40.765625 12.171875 48.375 \nQ 18.84375 56 30.609375 56 \nz\n\" id=\"DejaVuSans-111\"/>\n       <path d=\"M 37.109375 75.984375 \nL 37.109375 68.5 \nL 28.515625 68.5 \nQ 23.6875 68.5 21.796875 66.546875 \nQ 19.921875 64.59375 19.921875 59.515625 \nL 19.921875 54.6875 \nL 34.71875 54.6875 \nL 34.71875 47.703125 \nL 19.921875 47.703125 \nL 19.921875 0 \nL 10.890625 0 \nL 10.890625 47.703125 \nL 2.296875 47.703125 \nL 2.296875 54.6875 \nL 10.890625 54.6875 \nL 10.890625 58.5 \nQ 10.890625 67.625 15.140625 71.796875 \nQ 19.390625 75.984375 28.609375 75.984375 \nz\n\" id=\"DejaVuSans-102\"/>\n       <path d=\"M -0.296875 72.90625 \nL 61.375 72.90625 \nL 61.375 64.59375 \nL 35.5 64.59375 \nL 35.5 0 \nL 25.59375 0 \nL 25.59375 64.59375 \nL -0.296875 64.59375 \nz\n\" id=\"DejaVuSans-84\"/>\n       <path d=\"M 18.109375 8.203125 \nL 18.109375 -20.796875 \nL 9.078125 -20.796875 \nL 9.078125 54.6875 \nL 18.109375 54.6875 \nL 18.109375 46.390625 \nQ 20.953125 51.265625 25.265625 53.625 \nQ 29.59375 56 35.59375 56 \nQ 45.5625 56 51.78125 48.09375 \nQ 58.015625 40.1875 58.015625 27.296875 \nQ 58.015625 14.40625 51.78125 6.484375 \nQ 45.5625 -1.421875 35.59375 -1.421875 \nQ 29.59375 -1.421875 25.265625 0.953125 \nQ 20.953125 3.328125 18.109375 8.203125 \nz\nM 48.6875 27.296875 \nQ 48.6875 37.203125 44.609375 42.84375 \nQ 40.53125 48.484375 33.40625 48.484375 \nQ 26.265625 48.484375 22.1875 42.84375 \nQ 18.109375 37.203125 18.109375 27.296875 \nQ 18.109375 17.390625 22.1875 11.75 \nQ 26.265625 6.109375 33.40625 6.109375 \nQ 40.53125 6.109375 44.609375 11.75 \nQ 48.6875 17.390625 48.6875 27.296875 \nz\n\" id=\"DejaVuSans-112\"/>\n       <path d=\"M 9.421875 54.6875 \nL 18.40625 54.6875 \nL 18.40625 0 \nL 9.421875 0 \nz\nM 9.421875 75.984375 \nL 18.40625 75.984375 \nL 18.40625 64.59375 \nL 9.421875 64.59375 \nz\n\" id=\"DejaVuSans-105\"/>\n       <path d=\"M 48.78125 52.59375 \nL 48.78125 44.1875 \nQ 44.96875 46.296875 41.140625 47.34375 \nQ 37.3125 48.390625 33.40625 48.390625 \nQ 24.65625 48.390625 19.8125 42.84375 \nQ 14.984375 37.3125 14.984375 27.296875 \nQ 14.984375 17.28125 19.8125 11.734375 \nQ 24.65625 6.203125 33.40625 6.203125 \nQ 37.3125 6.203125 41.140625 7.25 \nQ 44.96875 8.296875 48.78125 10.40625 \nL 48.78125 2.09375 \nQ 45.015625 0.34375 40.984375 -0.53125 \nQ 36.96875 -1.421875 32.421875 -1.421875 \nQ 20.0625 -1.421875 12.78125 6.34375 \nQ 5.515625 14.109375 5.515625 27.296875 \nQ 5.515625 40.671875 12.859375 48.328125 \nQ 20.21875 56 33.015625 56 \nQ 37.15625 56 41.109375 55.140625 \nQ 45.0625 54.296875 48.78125 52.59375 \nz\n\" id=\"DejaVuSans-99\"/>\n       <path d=\"M 44.28125 53.078125 \nL 44.28125 44.578125 \nQ 40.484375 46.53125 36.375 47.5 \nQ 32.28125 48.484375 27.875 48.484375 \nQ 21.1875 48.484375 17.84375 46.4375 \nQ 14.5 44.390625 14.5 40.28125 \nQ 14.5 37.15625 16.890625 35.375 \nQ 19.28125 33.59375 26.515625 31.984375 \nL 29.59375 31.296875 \nQ 39.15625 29.25 43.1875 25.515625 \nQ 47.21875 21.78125 47.21875 15.09375 \nQ 47.21875 7.46875 41.1875 3.015625 \nQ 35.15625 -1.421875 24.609375 -1.421875 \nQ 20.21875 -1.421875 15.453125 -0.5625 \nQ 10.6875 0.296875 5.421875 2 \nL 5.421875 11.28125 \nQ 10.40625 8.6875 15.234375 7.390625 \nQ 20.0625 6.109375 24.8125 6.109375 \nQ 31.15625 6.109375 34.5625 8.28125 \nQ 37.984375 10.453125 37.984375 14.40625 \nQ 37.984375 18.0625 35.515625 20.015625 \nQ 33.0625 21.96875 24.703125 23.78125 \nL 21.578125 24.515625 \nQ 13.234375 26.265625 9.515625 29.90625 \nQ 5.8125 33.546875 5.8125 39.890625 \nQ 5.8125 47.609375 11.28125 51.796875 \nQ 16.75 56 26.8125 56 \nQ 31.78125 56 36.171875 55.265625 \nQ 40.578125 54.546875 44.28125 53.078125 \nz\n\" id=\"DejaVuSans-115\"/>\n      </defs>\n      <use xlink:href=\"#DejaVuSans-78\"/>\n      <use x=\"74.804688\" xlink:href=\"#DejaVuSans-117\"/>\n      <use x=\"138.183594\" xlink:href=\"#DejaVuSans-109\"/>\n      <use x=\"235.595703\" xlink:href=\"#DejaVuSans-98\"/>\n      <use x=\"299.072266\" xlink:href=\"#DejaVuSans-101\"/>\n      <use x=\"360.595703\" xlink:href=\"#DejaVuSans-114\"/>\n      <use x=\"401.708984\" xlink:href=\"#DejaVuSans-32\"/>\n      <use x=\"433.496094\" xlink:href=\"#DejaVuSans-111\"/>\n      <use x=\"494.677734\" xlink:href=\"#DejaVuSans-102\"/>\n      <use x=\"529.882812\" xlink:href=\"#DejaVuSans-32\"/>\n      <use x=\"561.669922\" xlink:href=\"#DejaVuSans-84\"/>\n      <use x=\"605.753906\" xlink:href=\"#DejaVuSans-111\"/>\n      <use x=\"666.935547\" xlink:href=\"#DejaVuSans-112\"/>\n      <use x=\"730.412109\" xlink:href=\"#DejaVuSans-105\"/>\n      <use x=\"758.195312\" xlink:href=\"#DejaVuSans-99\"/>\n      <use x=\"813.175781\" xlink:href=\"#DejaVuSans-115\"/>\n     </g>\n    </g>\n   </g>\n   <g id=\"matplotlib.axis_2\">\n    <g id=\"ytick_1\">\n     <g id=\"line2d_7\">\n      <defs>\n       <path d=\"M 0 0 \nL -3.5 0 \n\" id=\"mf0127ca31a\" style=\"stroke:#000000;stroke-width:0.8;\"/>\n      </defs>\n      <g>\n       <use style=\"stroke:#000000;stroke-width:0.8;\" x=\"50.14375\" xlink:href=\"#mf0127ca31a\" y=\"254.272762\"/>\n      </g>\n     </g>\n     <g id=\"text_8\">\n      <!-- −15 -->\n      <g transform=\"translate(22.039062 258.07198)scale(0.1 -0.1)\">\n       <defs>\n        <path d=\"M 10.59375 35.5 \nL 73.1875 35.5 \nL 73.1875 27.203125 \nL 10.59375 27.203125 \nz\n\" id=\"DejaVuSans-8722\"/>\n       </defs>\n       <use xlink:href=\"#DejaVuSans-8722\"/>\n       <use x=\"83.789062\" xlink:href=\"#DejaVuSans-49\"/>\n       <use x=\"147.412109\" xlink:href=\"#DejaVuSans-53\"/>\n      </g>\n     </g>\n    </g>\n    <g id=\"ytick_2\">\n     <g id=\"line2d_8\">\n      <g>\n       <use style=\"stroke:#000000;stroke-width:0.8;\" x=\"50.14375\" xlink:href=\"#mf0127ca31a\" y=\"220.500173\"/>\n      </g>\n     </g>\n     <g id=\"text_9\">\n      <!-- −14 -->\n      <g transform=\"translate(22.039062 224.299391)scale(0.1 -0.1)\">\n       <defs>\n        <path d=\"M 37.796875 64.3125 \nL 12.890625 25.390625 \nL 37.796875 25.390625 \nz\nM 35.203125 72.90625 \nL 47.609375 72.90625 \nL 47.609375 25.390625 \nL 58.015625 25.390625 \nL 58.015625 17.1875 \nL 47.609375 17.1875 \nL 47.609375 0 \nL 37.796875 0 \nL 37.796875 17.1875 \nL 4.890625 17.1875 \nL 4.890625 26.703125 \nz\n\" id=\"DejaVuSans-52\"/>\n       </defs>\n       <use xlink:href=\"#DejaVuSans-8722\"/>\n       <use x=\"83.789062\" xlink:href=\"#DejaVuSans-49\"/>\n       <use x=\"147.412109\" xlink:href=\"#DejaVuSans-52\"/>\n      </g>\n     </g>\n    </g>\n    <g id=\"ytick_3\">\n     <g id=\"line2d_9\">\n      <g>\n       <use style=\"stroke:#000000;stroke-width:0.8;\" x=\"50.14375\" xlink:href=\"#mf0127ca31a\" y=\"186.727584\"/>\n      </g>\n     </g>\n     <g id=\"text_10\">\n      <!-- −13 -->\n      <g transform=\"translate(22.039062 190.526802)scale(0.1 -0.1)\">\n       <use xlink:href=\"#DejaVuSans-8722\"/>\n       <use x=\"83.789062\" xlink:href=\"#DejaVuSans-49\"/>\n       <use x=\"147.412109\" xlink:href=\"#DejaVuSans-51\"/>\n      </g>\n     </g>\n    </g>\n    <g id=\"ytick_4\">\n     <g id=\"line2d_10\">\n      <g>\n       <use style=\"stroke:#000000;stroke-width:0.8;\" x=\"50.14375\" xlink:href=\"#mf0127ca31a\" y=\"152.954995\"/>\n      </g>\n     </g>\n     <g id=\"text_11\">\n      <!-- −12 -->\n      <g transform=\"translate(22.039062 156.754214)scale(0.1 -0.1)\">\n       <use xlink:href=\"#DejaVuSans-8722\"/>\n       <use x=\"83.789062\" xlink:href=\"#DejaVuSans-49\"/>\n       <use x=\"147.412109\" xlink:href=\"#DejaVuSans-50\"/>\n      </g>\n     </g>\n    </g>\n    <g id=\"ytick_5\">\n     <g id=\"line2d_11\">\n      <g>\n       <use style=\"stroke:#000000;stroke-width:0.8;\" x=\"50.14375\" xlink:href=\"#mf0127ca31a\" y=\"119.182406\"/>\n      </g>\n     </g>\n     <g id=\"text_12\">\n      <!-- −11 -->\n      <g transform=\"translate(22.039062 122.981625)scale(0.1 -0.1)\">\n       <use xlink:href=\"#DejaVuSans-8722\"/>\n       <use x=\"83.789062\" xlink:href=\"#DejaVuSans-49\"/>\n       <use x=\"147.412109\" xlink:href=\"#DejaVuSans-49\"/>\n      </g>\n     </g>\n    </g>\n    <g id=\"ytick_6\">\n     <g id=\"line2d_12\">\n      <g>\n       <use style=\"stroke:#000000;stroke-width:0.8;\" x=\"50.14375\" xlink:href=\"#mf0127ca31a\" y=\"85.409817\"/>\n      </g>\n     </g>\n     <g id=\"text_13\">\n      <!-- −10 -->\n      <g transform=\"translate(22.039062 89.209036)scale(0.1 -0.1)\">\n       <use xlink:href=\"#DejaVuSans-8722\"/>\n       <use x=\"83.789062\" xlink:href=\"#DejaVuSans-49\"/>\n       <use x=\"147.412109\" xlink:href=\"#DejaVuSans-48\"/>\n      </g>\n     </g>\n    </g>\n    <g id=\"ytick_7\">\n     <g id=\"line2d_13\">\n      <g>\n       <use style=\"stroke:#000000;stroke-width:0.8;\" x=\"50.14375\" xlink:href=\"#mf0127ca31a\" y=\"51.637228\"/>\n      </g>\n     </g>\n     <g id=\"text_14\">\n      <!-- −9 -->\n      <g transform=\"translate(28.401562 55.436447)scale(0.1 -0.1)\">\n       <defs>\n        <path d=\"M 10.984375 1.515625 \nL 10.984375 10.5 \nQ 14.703125 8.734375 18.5 7.8125 \nQ 22.3125 6.890625 25.984375 6.890625 \nQ 35.75 6.890625 40.890625 13.453125 \nQ 46.046875 20.015625 46.78125 33.40625 \nQ 43.953125 29.203125 39.59375 26.953125 \nQ 35.25 24.703125 29.984375 24.703125 \nQ 19.046875 24.703125 12.671875 31.3125 \nQ 6.296875 37.9375 6.296875 49.421875 \nQ 6.296875 60.640625 12.9375 67.421875 \nQ 19.578125 74.21875 30.609375 74.21875 \nQ 43.265625 74.21875 49.921875 64.515625 \nQ 56.59375 54.828125 56.59375 36.375 \nQ 56.59375 19.140625 48.40625 8.859375 \nQ 40.234375 -1.421875 26.421875 -1.421875 \nQ 22.703125 -1.421875 18.890625 -0.6875 \nQ 15.09375 0.046875 10.984375 1.515625 \nz\nM 30.609375 32.421875 \nQ 37.25 32.421875 41.125 36.953125 \nQ 45.015625 41.5 45.015625 49.421875 \nQ 45.015625 57.28125 41.125 61.84375 \nQ 37.25 66.40625 30.609375 66.40625 \nQ 23.96875 66.40625 20.09375 61.84375 \nQ 16.21875 57.28125 16.21875 49.421875 \nQ 16.21875 41.5 20.09375 36.953125 \nQ 23.96875 32.421875 30.609375 32.421875 \nz\n\" id=\"DejaVuSans-57\"/>\n       </defs>\n       <use xlink:href=\"#DejaVuSans-8722\"/>\n       <use x=\"83.789062\" xlink:href=\"#DejaVuSans-57\"/>\n      </g>\n     </g>\n    </g>\n    <g id=\"ytick_8\">\n     <g id=\"line2d_14\">\n      <g>\n       <use style=\"stroke:#000000;stroke-width:0.8;\" x=\"50.14375\" xlink:href=\"#mf0127ca31a\" y=\"17.864639\"/>\n      </g>\n     </g>\n     <g id=\"text_15\">\n      <!-- −8 -->\n      <g transform=\"translate(28.401562 21.663858)scale(0.1 -0.1)\">\n       <defs>\n        <path d=\"M 31.78125 34.625 \nQ 24.75 34.625 20.71875 30.859375 \nQ 16.703125 27.09375 16.703125 20.515625 \nQ 16.703125 13.921875 20.71875 10.15625 \nQ 24.75 6.390625 31.78125 6.390625 \nQ 38.8125 6.390625 42.859375 10.171875 \nQ 46.921875 13.96875 46.921875 20.515625 \nQ 46.921875 27.09375 42.890625 30.859375 \nQ 38.875 34.625 31.78125 34.625 \nz\nM 21.921875 38.8125 \nQ 15.578125 40.375 12.03125 44.71875 \nQ 8.5 49.078125 8.5 55.328125 \nQ 8.5 64.0625 14.71875 69.140625 \nQ 20.953125 74.21875 31.78125 74.21875 \nQ 42.671875 74.21875 48.875 69.140625 \nQ 55.078125 64.0625 55.078125 55.328125 \nQ 55.078125 49.078125 51.53125 44.71875 \nQ 48 40.375 41.703125 38.8125 \nQ 48.828125 37.15625 52.796875 32.3125 \nQ 56.78125 27.484375 56.78125 20.515625 \nQ 56.78125 9.90625 50.3125 4.234375 \nQ 43.84375 -1.421875 31.78125 -1.421875 \nQ 19.734375 -1.421875 13.25 4.234375 \nQ 6.78125 9.90625 6.78125 20.515625 \nQ 6.78125 27.484375 10.78125 32.3125 \nQ 14.796875 37.15625 21.921875 38.8125 \nz\nM 18.3125 54.390625 \nQ 18.3125 48.734375 21.84375 45.5625 \nQ 25.390625 42.390625 31.78125 42.390625 \nQ 38.140625 42.390625 41.71875 45.5625 \nQ 45.3125 48.734375 45.3125 54.390625 \nQ 45.3125 60.0625 41.71875 63.234375 \nQ 38.140625 66.40625 31.78125 66.40625 \nQ 25.390625 66.40625 21.84375 63.234375 \nQ 18.3125 60.0625 18.3125 54.390625 \nz\n\" id=\"DejaVuSans-56\"/>\n       </defs>\n       <use xlink:href=\"#DejaVuSans-8722\"/>\n       <use x=\"83.789062\" xlink:href=\"#DejaVuSans-56\"/>\n      </g>\n     </g>\n    </g>\n    <g id=\"text_16\">\n     <!-- Perplexity -->\n     <g transform=\"translate(15.959375 155.531392)rotate(-90)scale(0.1 -0.1)\">\n      <defs>\n       <path d=\"M 19.671875 64.796875 \nL 19.671875 37.40625 \nL 32.078125 37.40625 \nQ 38.96875 37.40625 42.71875 40.96875 \nQ 46.484375 44.53125 46.484375 51.125 \nQ 46.484375 57.671875 42.71875 61.234375 \nQ 38.96875 64.796875 32.078125 64.796875 \nz\nM 9.8125 72.90625 \nL 32.078125 72.90625 \nQ 44.34375 72.90625 50.609375 67.359375 \nQ 56.890625 61.8125 56.890625 51.125 \nQ 56.890625 40.328125 50.609375 34.8125 \nQ 44.34375 29.296875 32.078125 29.296875 \nL 19.671875 29.296875 \nL 19.671875 0 \nL 9.8125 0 \nz\n\" id=\"DejaVuSans-80\"/>\n       <path d=\"M 9.421875 75.984375 \nL 18.40625 75.984375 \nL 18.40625 0 \nL 9.421875 0 \nz\n\" id=\"DejaVuSans-108\"/>\n       <path d=\"M 54.890625 54.6875 \nL 35.109375 28.078125 \nL 55.90625 0 \nL 45.3125 0 \nL 29.390625 21.484375 \nL 13.484375 0 \nL 2.875 0 \nL 24.125 28.609375 \nL 4.6875 54.6875 \nL 15.28125 54.6875 \nL 29.78125 35.203125 \nL 44.28125 54.6875 \nz\n\" id=\"DejaVuSans-120\"/>\n       <path d=\"M 18.3125 70.21875 \nL 18.3125 54.6875 \nL 36.8125 54.6875 \nL 36.8125 47.703125 \nL 18.3125 47.703125 \nL 18.3125 18.015625 \nQ 18.3125 11.328125 20.140625 9.421875 \nQ 21.96875 7.515625 27.59375 7.515625 \nL 36.8125 7.515625 \nL 36.8125 0 \nL 27.59375 0 \nQ 17.1875 0 13.234375 3.875 \nQ 9.28125 7.765625 9.28125 18.015625 \nL 9.28125 47.703125 \nL 2.6875 47.703125 \nL 2.6875 54.6875 \nL 9.28125 54.6875 \nL 9.28125 70.21875 \nz\n\" id=\"DejaVuSans-116\"/>\n       <path d=\"M 32.171875 -5.078125 \nQ 28.375 -14.84375 24.75 -17.8125 \nQ 21.140625 -20.796875 15.09375 -20.796875 \nL 7.90625 -20.796875 \nL 7.90625 -13.28125 \nL 13.1875 -13.28125 \nQ 16.890625 -13.28125 18.9375 -11.515625 \nQ 21 -9.765625 23.484375 -3.21875 \nL 25.09375 0.875 \nL 2.984375 54.6875 \nL 12.5 54.6875 \nL 29.59375 11.921875 \nL 46.6875 54.6875 \nL 56.203125 54.6875 \nz\n\" id=\"DejaVuSans-121\"/>\n      </defs>\n      <use xlink:href=\"#DejaVuSans-80\"/>\n      <use x=\"56.677734\" xlink:href=\"#DejaVuSans-101\"/>\n      <use x=\"118.201172\" xlink:href=\"#DejaVuSans-114\"/>\n      <use x=\"159.314453\" xlink:href=\"#DejaVuSans-112\"/>\n      <use x=\"222.791016\" xlink:href=\"#DejaVuSans-108\"/>\n      <use x=\"250.574219\" xlink:href=\"#DejaVuSans-101\"/>\n      <use x=\"310.347656\" xlink:href=\"#DejaVuSans-120\"/>\n      <use x=\"369.527344\" xlink:href=\"#DejaVuSans-105\"/>\n      <use x=\"397.310547\" xlink:href=\"#DejaVuSans-116\"/>\n      <use x=\"436.519531\" xlink:href=\"#DejaVuSans-121\"/>\n     </g>\n    </g>\n   </g>\n   <g id=\"line2d_15\">\n    <path clip-path=\"url(#p86322ae7b7)\" d=\"M 75.507386 18.431405 \nL 93.624269 21.700488 \nL 111.741153 24.237136 \nL 129.858036 29.008257 \nL 147.974919 30.688556 \nL 166.091802 33.566368 \nL 184.208685 36.741764 \nL 202.325568 40.938839 \nL 220.442451 46.891502 \nL 238.559334 56.23089 \nL 256.676218 70.827769 \nL 274.793101 88.404086 \nL 292.909984 105.032727 \nL 311.026867 118.457746 \nL 329.14375 127.25565 \nL 347.260633 134.804373 \nL 365.377516 145.01365 \nL 383.494399 153.084814 \nL 401.611282 161.43658 \nL 419.728166 169.06363 \nL 437.845049 177.960348 \nL 455.961932 185.284268 \nL 474.078815 194.290966 \nL 492.195698 201.673995 \nL 510.312581 210.269331 \nL 528.429464 218.799717 \nL 546.546347 226.846825 \nL 564.663231 235.175695 \nL 582.780114 243.059504 \n\" style=\"fill:none;stroke:#1f77b4;stroke-linecap:square;stroke-width:1.5;\"/>\n    <defs>\n     <path d=\"M 0 3 \nC 0.795609 3 1.55874 2.683901 2.12132 2.12132 \nC 2.683901 1.55874 3 0.795609 3 0 \nC 3 -0.795609 2.683901 -1.55874 2.12132 -2.12132 \nC 1.55874 -2.683901 0.795609 -3 0 -3 \nC -0.795609 -3 -1.55874 -2.683901 -2.12132 -2.12132 \nC -2.683901 -1.55874 -3 -0.795609 -3 0 \nC -3 0.795609 -2.683901 1.55874 -2.12132 2.12132 \nC -1.55874 2.683901 -0.795609 3 0 3 \nz\n\" id=\"mc67559a2ac\" style=\"stroke:#1f77b4;\"/>\n    </defs>\n    <g clip-path=\"url(#p86322ae7b7)\">\n     <use style=\"fill:#1f77b4;stroke:#1f77b4;\" x=\"75.507386\" xlink:href=\"#mc67559a2ac\" y=\"18.431405\"/>\n     <use style=\"fill:#1f77b4;stroke:#1f77b4;\" x=\"93.624269\" xlink:href=\"#mc67559a2ac\" y=\"21.700488\"/>\n     <use style=\"fill:#1f77b4;stroke:#1f77b4;\" x=\"111.741153\" xlink:href=\"#mc67559a2ac\" y=\"24.237136\"/>\n     <use style=\"fill:#1f77b4;stroke:#1f77b4;\" x=\"129.858036\" xlink:href=\"#mc67559a2ac\" y=\"29.008257\"/>\n     <use style=\"fill:#1f77b4;stroke:#1f77b4;\" x=\"147.974919\" xlink:href=\"#mc67559a2ac\" y=\"30.688556\"/>\n     <use style=\"fill:#1f77b4;stroke:#1f77b4;\" x=\"166.091802\" xlink:href=\"#mc67559a2ac\" y=\"33.566368\"/>\n     <use style=\"fill:#1f77b4;stroke:#1f77b4;\" x=\"184.208685\" xlink:href=\"#mc67559a2ac\" y=\"36.741764\"/>\n     <use style=\"fill:#1f77b4;stroke:#1f77b4;\" x=\"202.325568\" xlink:href=\"#mc67559a2ac\" y=\"40.938839\"/>\n     <use style=\"fill:#1f77b4;stroke:#1f77b4;\" x=\"220.442451\" xlink:href=\"#mc67559a2ac\" y=\"46.891502\"/>\n     <use style=\"fill:#1f77b4;stroke:#1f77b4;\" x=\"238.559334\" xlink:href=\"#mc67559a2ac\" y=\"56.23089\"/>\n     <use style=\"fill:#1f77b4;stroke:#1f77b4;\" x=\"256.676218\" xlink:href=\"#mc67559a2ac\" y=\"70.827769\"/>\n     <use style=\"fill:#1f77b4;stroke:#1f77b4;\" x=\"274.793101\" xlink:href=\"#mc67559a2ac\" y=\"88.404086\"/>\n     <use style=\"fill:#1f77b4;stroke:#1f77b4;\" x=\"292.909984\" xlink:href=\"#mc67559a2ac\" y=\"105.032727\"/>\n     <use style=\"fill:#1f77b4;stroke:#1f77b4;\" x=\"311.026867\" xlink:href=\"#mc67559a2ac\" y=\"118.457746\"/>\n     <use style=\"fill:#1f77b4;stroke:#1f77b4;\" x=\"329.14375\" xlink:href=\"#mc67559a2ac\" y=\"127.25565\"/>\n     <use style=\"fill:#1f77b4;stroke:#1f77b4;\" x=\"347.260633\" xlink:href=\"#mc67559a2ac\" y=\"134.804373\"/>\n     <use style=\"fill:#1f77b4;stroke:#1f77b4;\" x=\"365.377516\" xlink:href=\"#mc67559a2ac\" y=\"145.01365\"/>\n     <use style=\"fill:#1f77b4;stroke:#1f77b4;\" x=\"383.494399\" xlink:href=\"#mc67559a2ac\" y=\"153.084814\"/>\n     <use style=\"fill:#1f77b4;stroke:#1f77b4;\" x=\"401.611282\" xlink:href=\"#mc67559a2ac\" y=\"161.43658\"/>\n     <use style=\"fill:#1f77b4;stroke:#1f77b4;\" x=\"419.728166\" xlink:href=\"#mc67559a2ac\" y=\"169.06363\"/>\n     <use style=\"fill:#1f77b4;stroke:#1f77b4;\" x=\"437.845049\" xlink:href=\"#mc67559a2ac\" y=\"177.960348\"/>\n     <use style=\"fill:#1f77b4;stroke:#1f77b4;\" x=\"455.961932\" xlink:href=\"#mc67559a2ac\" y=\"185.284268\"/>\n     <use style=\"fill:#1f77b4;stroke:#1f77b4;\" x=\"474.078815\" xlink:href=\"#mc67559a2ac\" y=\"194.290966\"/>\n     <use style=\"fill:#1f77b4;stroke:#1f77b4;\" x=\"492.195698\" xlink:href=\"#mc67559a2ac\" y=\"201.673995\"/>\n     <use style=\"fill:#1f77b4;stroke:#1f77b4;\" x=\"510.312581\" xlink:href=\"#mc67559a2ac\" y=\"210.269331\"/>\n     <use style=\"fill:#1f77b4;stroke:#1f77b4;\" x=\"528.429464\" xlink:href=\"#mc67559a2ac\" y=\"218.799717\"/>\n     <use style=\"fill:#1f77b4;stroke:#1f77b4;\" x=\"546.546347\" xlink:href=\"#mc67559a2ac\" y=\"226.846825\"/>\n     <use style=\"fill:#1f77b4;stroke:#1f77b4;\" x=\"564.663231\" xlink:href=\"#mc67559a2ac\" y=\"235.175695\"/>\n     <use style=\"fill:#1f77b4;stroke:#1f77b4;\" x=\"582.780114\" xlink:href=\"#mc67559a2ac\" y=\"243.059504\"/>\n    </g>\n   </g>\n   <g id=\"patch_3\">\n    <path d=\"M 50.14375 254.290909 \nL 50.14375 7.2 \n\" style=\"fill:none;stroke:#000000;stroke-linecap:square;stroke-linejoin:miter;stroke-width:0.8;\"/>\n   </g>\n   <g id=\"patch_4\">\n    <path d=\"M 608.14375 254.290909 \nL 608.14375 7.2 \n\" style=\"fill:none;stroke:#000000;stroke-linecap:square;stroke-linejoin:miter;stroke-width:0.8;\"/>\n   </g>\n   <g id=\"patch_5\">\n    <path d=\"M 50.14375 254.290909 \nL 608.14375 254.290909 \n\" style=\"fill:none;stroke:#000000;stroke-linecap:square;stroke-linejoin:miter;stroke-width:0.8;\"/>\n   </g>\n   <g id=\"patch_6\">\n    <path d=\"M 50.14375 7.2 \nL 608.14375 7.2 \n\" style=\"fill:none;stroke:#000000;stroke-linecap:square;stroke-linejoin:miter;stroke-width:0.8;\"/>\n   </g>\n   <g id=\"legend_1\">\n    <g id=\"patch_7\">\n     <path d=\"M 562.795313 29.878125 \nL 601.14375 29.878125 \nQ 603.14375 29.878125 603.14375 27.878125 \nL 603.14375 14.2 \nQ 603.14375 12.2 601.14375 12.2 \nL 562.795313 12.2 \nQ 560.795313 12.2 560.795313 14.2 \nL 560.795313 27.878125 \nQ 560.795313 29.878125 562.795313 29.878125 \nz\n\" style=\"fill:#ffffff;opacity:0.8;stroke:#cccccc;stroke-linejoin:miter;\"/>\n    </g>\n    <g id=\"line2d_16\">\n     <path d=\"M 564.795313 20.298438 \nL 584.795313 20.298438 \n\" style=\"fill:none;stroke:#1f77b4;stroke-linecap:square;stroke-width:1.5;\"/>\n    </g>\n    <g id=\"line2d_17\">\n     <g>\n      <use style=\"fill:#1f77b4;stroke:#1f77b4;\" x=\"574.795313\" xlink:href=\"#mc67559a2ac\" y=\"20.298438\"/>\n     </g>\n    </g>\n    <g id=\"text_17\">\n     <!-- p -->\n     <g transform=\"translate(592.795313 23.798438)scale(0.1 -0.1)\">\n      <use xlink:href=\"#DejaVuSans-112\"/>\n     </g>\n    </g>\n   </g>\n  </g>\n  <g id=\"axes_2\">\n   <g id=\"patch_8\">\n    <path d=\"M 50.14375 550.8 \nL 608.14375 550.8 \nL 608.14375 303.709091 \nL 50.14375 303.709091 \nz\n\" style=\"fill:#ffffff;\"/>\n   </g>\n   <g id=\"matplotlib.axis_3\">\n    <g id=\"xtick_7\">\n     <g id=\"line2d_18\">\n      <g>\n       <use style=\"stroke:#000000;stroke-width:0.8;\" x=\"129.858036\" xlink:href=\"#mfb100a30cb\" y=\"550.8\"/>\n      </g>\n     </g>\n     <g id=\"text_18\">\n      <!-- 5 -->\n      <g transform=\"translate(126.676786 565.398437)scale(0.1 -0.1)\">\n       <use xlink:href=\"#DejaVuSans-53\"/>\n      </g>\n     </g>\n    </g>\n    <g id=\"xtick_8\">\n     <g id=\"line2d_19\">\n      <g>\n       <use style=\"stroke:#000000;stroke-width:0.8;\" x=\"220.442451\" xlink:href=\"#mfb100a30cb\" y=\"550.8\"/>\n      </g>\n     </g>\n     <g id=\"text_19\">\n      <!-- 10 -->\n      <g transform=\"translate(214.079951 565.398437)scale(0.1 -0.1)\">\n       <use xlink:href=\"#DejaVuSans-49\"/>\n       <use x=\"63.623047\" xlink:href=\"#DejaVuSans-48\"/>\n      </g>\n     </g>\n    </g>\n    <g id=\"xtick_9\">\n     <g id=\"line2d_20\">\n      <g>\n       <use style=\"stroke:#000000;stroke-width:0.8;\" x=\"311.026867\" xlink:href=\"#mfb100a30cb\" y=\"550.8\"/>\n      </g>\n     </g>\n     <g id=\"text_20\">\n      <!-- 15 -->\n      <g transform=\"translate(304.664367 565.398437)scale(0.1 -0.1)\">\n       <use xlink:href=\"#DejaVuSans-49\"/>\n       <use x=\"63.623047\" xlink:href=\"#DejaVuSans-53\"/>\n      </g>\n     </g>\n    </g>\n    <g id=\"xtick_10\">\n     <g id=\"line2d_21\">\n      <g>\n       <use style=\"stroke:#000000;stroke-width:0.8;\" x=\"401.611282\" xlink:href=\"#mfb100a30cb\" y=\"550.8\"/>\n      </g>\n     </g>\n     <g id=\"text_21\">\n      <!-- 20 -->\n      <g transform=\"translate(395.248782 565.398437)scale(0.1 -0.1)\">\n       <use xlink:href=\"#DejaVuSans-50\"/>\n       <use x=\"63.623047\" xlink:href=\"#DejaVuSans-48\"/>\n      </g>\n     </g>\n    </g>\n    <g id=\"xtick_11\">\n     <g id=\"line2d_22\">\n      <g>\n       <use style=\"stroke:#000000;stroke-width:0.8;\" x=\"492.195698\" xlink:href=\"#mfb100a30cb\" y=\"550.8\"/>\n      </g>\n     </g>\n     <g id=\"text_22\">\n      <!-- 25 -->\n      <g transform=\"translate(485.833198 565.398437)scale(0.1 -0.1)\">\n       <use xlink:href=\"#DejaVuSans-50\"/>\n       <use x=\"63.623047\" xlink:href=\"#DejaVuSans-53\"/>\n      </g>\n     </g>\n    </g>\n    <g id=\"xtick_12\">\n     <g id=\"line2d_23\">\n      <g>\n       <use style=\"stroke:#000000;stroke-width:0.8;\" x=\"582.780114\" xlink:href=\"#mfb100a30cb\" y=\"550.8\"/>\n      </g>\n     </g>\n     <g id=\"text_23\">\n      <!-- 30 -->\n      <g transform=\"translate(576.417614 565.398437)scale(0.1 -0.1)\">\n       <use xlink:href=\"#DejaVuSans-51\"/>\n       <use x=\"63.623047\" xlink:href=\"#DejaVuSans-48\"/>\n      </g>\n     </g>\n    </g>\n    <g id=\"text_24\">\n     <!-- Number of Topics -->\n     <g transform=\"translate(285.879687 579.076562)scale(0.1 -0.1)\">\n      <use xlink:href=\"#DejaVuSans-78\"/>\n      <use x=\"74.804688\" xlink:href=\"#DejaVuSans-117\"/>\n      <use x=\"138.183594\" xlink:href=\"#DejaVuSans-109\"/>\n      <use x=\"235.595703\" xlink:href=\"#DejaVuSans-98\"/>\n      <use x=\"299.072266\" xlink:href=\"#DejaVuSans-101\"/>\n      <use x=\"360.595703\" xlink:href=\"#DejaVuSans-114\"/>\n      <use x=\"401.708984\" xlink:href=\"#DejaVuSans-32\"/>\n      <use x=\"433.496094\" xlink:href=\"#DejaVuSans-111\"/>\n      <use x=\"494.677734\" xlink:href=\"#DejaVuSans-102\"/>\n      <use x=\"529.882812\" xlink:href=\"#DejaVuSans-32\"/>\n      <use x=\"561.669922\" xlink:href=\"#DejaVuSans-84\"/>\n      <use x=\"605.753906\" xlink:href=\"#DejaVuSans-111\"/>\n      <use x=\"666.935547\" xlink:href=\"#DejaVuSans-112\"/>\n      <use x=\"730.412109\" xlink:href=\"#DejaVuSans-105\"/>\n      <use x=\"758.195312\" xlink:href=\"#DejaVuSans-99\"/>\n      <use x=\"813.175781\" xlink:href=\"#DejaVuSans-115\"/>\n     </g>\n    </g>\n   </g>\n   <g id=\"matplotlib.axis_4\">\n    <g id=\"ytick_9\">\n     <g id=\"line2d_24\">\n      <g>\n       <use style=\"stroke:#000000;stroke-width:0.8;\" x=\"50.14375\" xlink:href=\"#mf0127ca31a\" y=\"535.466023\"/>\n      </g>\n     </g>\n     <g id=\"text_25\">\n      <!-- 0.36 -->\n      <g transform=\"translate(20.878125 539.265242)scale(0.1 -0.1)\">\n       <defs>\n        <path d=\"M 10.6875 12.40625 \nL 21 12.40625 \nL 21 0 \nL 10.6875 0 \nz\n\" id=\"DejaVuSans-46\"/>\n        <path d=\"M 33.015625 40.375 \nQ 26.375 40.375 22.484375 35.828125 \nQ 18.609375 31.296875 18.609375 23.390625 \nQ 18.609375 15.53125 22.484375 10.953125 \nQ 26.375 6.390625 33.015625 6.390625 \nQ 39.65625 6.390625 43.53125 10.953125 \nQ 47.40625 15.53125 47.40625 23.390625 \nQ 47.40625 31.296875 43.53125 35.828125 \nQ 39.65625 40.375 33.015625 40.375 \nz\nM 52.59375 71.296875 \nL 52.59375 62.3125 \nQ 48.875 64.0625 45.09375 64.984375 \nQ 41.3125 65.921875 37.59375 65.921875 \nQ 27.828125 65.921875 22.671875 59.328125 \nQ 17.53125 52.734375 16.796875 39.40625 \nQ 19.671875 43.65625 24.015625 45.921875 \nQ 28.375 48.1875 33.59375 48.1875 \nQ 44.578125 48.1875 50.953125 41.515625 \nQ 57.328125 34.859375 57.328125 23.390625 \nQ 57.328125 12.15625 50.6875 5.359375 \nQ 44.046875 -1.421875 33.015625 -1.421875 \nQ 20.359375 -1.421875 13.671875 8.265625 \nQ 6.984375 17.96875 6.984375 36.375 \nQ 6.984375 53.65625 15.1875 63.9375 \nQ 23.390625 74.21875 37.203125 74.21875 \nQ 40.921875 74.21875 44.703125 73.484375 \nQ 48.484375 72.75 52.59375 71.296875 \nz\n\" id=\"DejaVuSans-54\"/>\n       </defs>\n       <use xlink:href=\"#DejaVuSans-48\"/>\n       <use x=\"63.623047\" xlink:href=\"#DejaVuSans-46\"/>\n       <use x=\"95.410156\" xlink:href=\"#DejaVuSans-51\"/>\n       <use x=\"159.033203\" xlink:href=\"#DejaVuSans-54\"/>\n      </g>\n     </g>\n    </g>\n    <g id=\"ytick_10\">\n     <g id=\"line2d_25\">\n      <g>\n       <use style=\"stroke:#000000;stroke-width:0.8;\" x=\"50.14375\" xlink:href=\"#mf0127ca31a\" y=\"503.115424\"/>\n      </g>\n     </g>\n     <g id=\"text_26\">\n      <!-- 0.38 -->\n      <g transform=\"translate(20.878125 506.914643)scale(0.1 -0.1)\">\n       <use xlink:href=\"#DejaVuSans-48\"/>\n       <use x=\"63.623047\" xlink:href=\"#DejaVuSans-46\"/>\n       <use x=\"95.410156\" xlink:href=\"#DejaVuSans-51\"/>\n       <use x=\"159.033203\" xlink:href=\"#DejaVuSans-56\"/>\n      </g>\n     </g>\n    </g>\n    <g id=\"ytick_11\">\n     <g id=\"line2d_26\">\n      <g>\n       <use style=\"stroke:#000000;stroke-width:0.8;\" x=\"50.14375\" xlink:href=\"#mf0127ca31a\" y=\"470.764825\"/>\n      </g>\n     </g>\n     <g id=\"text_27\">\n      <!-- 0.40 -->\n      <g transform=\"translate(20.878125 474.564044)scale(0.1 -0.1)\">\n       <use xlink:href=\"#DejaVuSans-48\"/>\n       <use x=\"63.623047\" xlink:href=\"#DejaVuSans-46\"/>\n       <use x=\"95.410156\" xlink:href=\"#DejaVuSans-52\"/>\n       <use x=\"159.033203\" xlink:href=\"#DejaVuSans-48\"/>\n      </g>\n     </g>\n    </g>\n    <g id=\"ytick_12\">\n     <g id=\"line2d_27\">\n      <g>\n       <use style=\"stroke:#000000;stroke-width:0.8;\" x=\"50.14375\" xlink:href=\"#mf0127ca31a\" y=\"438.414226\"/>\n      </g>\n     </g>\n     <g id=\"text_28\">\n      <!-- 0.42 -->\n      <g transform=\"translate(20.878125 442.213445)scale(0.1 -0.1)\">\n       <use xlink:href=\"#DejaVuSans-48\"/>\n       <use x=\"63.623047\" xlink:href=\"#DejaVuSans-46\"/>\n       <use x=\"95.410156\" xlink:href=\"#DejaVuSans-52\"/>\n       <use x=\"159.033203\" xlink:href=\"#DejaVuSans-50\"/>\n      </g>\n     </g>\n    </g>\n    <g id=\"ytick_13\">\n     <g id=\"line2d_28\">\n      <g>\n       <use style=\"stroke:#000000;stroke-width:0.8;\" x=\"50.14375\" xlink:href=\"#mf0127ca31a\" y=\"406.063627\"/>\n      </g>\n     </g>\n     <g id=\"text_29\">\n      <!-- 0.44 -->\n      <g transform=\"translate(20.878125 409.862845)scale(0.1 -0.1)\">\n       <use xlink:href=\"#DejaVuSans-48\"/>\n       <use x=\"63.623047\" xlink:href=\"#DejaVuSans-46\"/>\n       <use x=\"95.410156\" xlink:href=\"#DejaVuSans-52\"/>\n       <use x=\"159.033203\" xlink:href=\"#DejaVuSans-52\"/>\n      </g>\n     </g>\n    </g>\n    <g id=\"ytick_14\">\n     <g id=\"line2d_29\">\n      <g>\n       <use style=\"stroke:#000000;stroke-width:0.8;\" x=\"50.14375\" xlink:href=\"#mf0127ca31a\" y=\"373.713027\"/>\n      </g>\n     </g>\n     <g id=\"text_30\">\n      <!-- 0.46 -->\n      <g transform=\"translate(20.878125 377.512246)scale(0.1 -0.1)\">\n       <use xlink:href=\"#DejaVuSans-48\"/>\n       <use x=\"63.623047\" xlink:href=\"#DejaVuSans-46\"/>\n       <use x=\"95.410156\" xlink:href=\"#DejaVuSans-52\"/>\n       <use x=\"159.033203\" xlink:href=\"#DejaVuSans-54\"/>\n      </g>\n     </g>\n    </g>\n    <g id=\"ytick_15\">\n     <g id=\"line2d_30\">\n      <g>\n       <use style=\"stroke:#000000;stroke-width:0.8;\" x=\"50.14375\" xlink:href=\"#mf0127ca31a\" y=\"341.362428\"/>\n      </g>\n     </g>\n     <g id=\"text_31\">\n      <!-- 0.48 -->\n      <g transform=\"translate(20.878125 345.161647)scale(0.1 -0.1)\">\n       <use xlink:href=\"#DejaVuSans-48\"/>\n       <use x=\"63.623047\" xlink:href=\"#DejaVuSans-46\"/>\n       <use x=\"95.410156\" xlink:href=\"#DejaVuSans-52\"/>\n       <use x=\"159.033203\" xlink:href=\"#DejaVuSans-56\"/>\n      </g>\n     </g>\n    </g>\n    <g id=\"ytick_16\">\n     <g id=\"line2d_31\">\n      <g>\n       <use style=\"stroke:#000000;stroke-width:0.8;\" x=\"50.14375\" xlink:href=\"#mf0127ca31a\" y=\"309.011829\"/>\n      </g>\n     </g>\n     <g id=\"text_32\">\n      <!-- 0.50 -->\n      <g transform=\"translate(20.878125 312.811048)scale(0.1 -0.1)\">\n       <use xlink:href=\"#DejaVuSans-48\"/>\n       <use x=\"63.623047\" xlink:href=\"#DejaVuSans-46\"/>\n       <use x=\"95.410156\" xlink:href=\"#DejaVuSans-53\"/>\n       <use x=\"159.033203\" xlink:href=\"#DejaVuSans-48\"/>\n      </g>\n     </g>\n    </g>\n    <g id=\"text_33\">\n     <!-- Coherence score -->\n     <g transform=\"translate(14.798437 469.086577)rotate(-90)scale(0.1 -0.1)\">\n      <defs>\n       <path d=\"M 64.40625 67.28125 \nL 64.40625 56.890625 \nQ 59.421875 61.53125 53.78125 63.8125 \nQ 48.140625 66.109375 41.796875 66.109375 \nQ 29.296875 66.109375 22.65625 58.46875 \nQ 16.015625 50.828125 16.015625 36.375 \nQ 16.015625 21.96875 22.65625 14.328125 \nQ 29.296875 6.6875 41.796875 6.6875 \nQ 48.140625 6.6875 53.78125 8.984375 \nQ 59.421875 11.28125 64.40625 15.921875 \nL 64.40625 5.609375 \nQ 59.234375 2.09375 53.4375 0.328125 \nQ 47.65625 -1.421875 41.21875 -1.421875 \nQ 24.65625 -1.421875 15.125 8.703125 \nQ 5.609375 18.84375 5.609375 36.375 \nQ 5.609375 53.953125 15.125 64.078125 \nQ 24.65625 74.21875 41.21875 74.21875 \nQ 47.75 74.21875 53.53125 72.484375 \nQ 59.328125 70.75 64.40625 67.28125 \nz\n\" id=\"DejaVuSans-67\"/>\n       <path d=\"M 54.890625 33.015625 \nL 54.890625 0 \nL 45.90625 0 \nL 45.90625 32.71875 \nQ 45.90625 40.484375 42.875 44.328125 \nQ 39.84375 48.1875 33.796875 48.1875 \nQ 26.515625 48.1875 22.3125 43.546875 \nQ 18.109375 38.921875 18.109375 30.90625 \nL 18.109375 0 \nL 9.078125 0 \nL 9.078125 75.984375 \nL 18.109375 75.984375 \nL 18.109375 46.1875 \nQ 21.34375 51.125 25.703125 53.5625 \nQ 30.078125 56 35.796875 56 \nQ 45.21875 56 50.046875 50.171875 \nQ 54.890625 44.34375 54.890625 33.015625 \nz\n\" id=\"DejaVuSans-104\"/>\n       <path d=\"M 54.890625 33.015625 \nL 54.890625 0 \nL 45.90625 0 \nL 45.90625 32.71875 \nQ 45.90625 40.484375 42.875 44.328125 \nQ 39.84375 48.1875 33.796875 48.1875 \nQ 26.515625 48.1875 22.3125 43.546875 \nQ 18.109375 38.921875 18.109375 30.90625 \nL 18.109375 0 \nL 9.078125 0 \nL 9.078125 54.6875 \nL 18.109375 54.6875 \nL 18.109375 46.1875 \nQ 21.34375 51.125 25.703125 53.5625 \nQ 30.078125 56 35.796875 56 \nQ 45.21875 56 50.046875 50.171875 \nQ 54.890625 44.34375 54.890625 33.015625 \nz\n\" id=\"DejaVuSans-110\"/>\n      </defs>\n      <use xlink:href=\"#DejaVuSans-67\"/>\n      <use x=\"69.824219\" xlink:href=\"#DejaVuSans-111\"/>\n      <use x=\"131.005859\" xlink:href=\"#DejaVuSans-104\"/>\n      <use x=\"194.384766\" xlink:href=\"#DejaVuSans-101\"/>\n      <use x=\"255.908203\" xlink:href=\"#DejaVuSans-114\"/>\n      <use x=\"294.771484\" xlink:href=\"#DejaVuSans-101\"/>\n      <use x=\"356.294922\" xlink:href=\"#DejaVuSans-110\"/>\n      <use x=\"419.673828\" xlink:href=\"#DejaVuSans-99\"/>\n      <use x=\"474.654297\" xlink:href=\"#DejaVuSans-101\"/>\n      <use x=\"536.177734\" xlink:href=\"#DejaVuSans-32\"/>\n      <use x=\"567.964844\" xlink:href=\"#DejaVuSans-115\"/>\n      <use x=\"620.064453\" xlink:href=\"#DejaVuSans-99\"/>\n      <use x=\"675.044922\" xlink:href=\"#DejaVuSans-111\"/>\n      <use x=\"736.226562\" xlink:href=\"#DejaVuSans-114\"/>\n      <use x=\"775.089844\" xlink:href=\"#DejaVuSans-101\"/>\n     </g>\n    </g>\n   </g>\n   <g id=\"line2d_32\">\n    <path clip-path=\"url(#pd4404d4031)\" d=\"M 75.507386 460.139091 \nL 93.624269 455.374584 \nL 111.741153 362.700357 \nL 129.858036 415.465773 \nL 147.974919 401.655313 \nL 166.091802 347.85619 \nL 184.208685 320.883327 \nL 202.325568 343.193573 \nL 220.442451 314.940496 \nL 238.559334 348.703972 \nL 256.676218 358.904 \nL 274.793101 431.486182 \nL 292.909984 459.893779 \nL 311.026867 473.465497 \nL 329.14375 461.087783 \nL 347.260633 514.40242 \nL 365.377516 470.2253 \nL 383.494399 486.030097 \nL 401.611282 492.006017 \nL 419.728166 459.84279 \nL 437.845049 464.557761 \nL 455.961932 520.766778 \nL 474.078815 417.786739 \nL 492.195698 464.439679 \nL 510.312581 496.310354 \nL 528.429464 539.568595 \nL 546.546347 505.375509 \nL 564.663231 507.941983 \nL 582.780114 520.69167 \n\" style=\"fill:none;stroke:#1f77b4;stroke-linecap:square;stroke-width:1.5;\"/>\n    <g clip-path=\"url(#pd4404d4031)\">\n     <use style=\"fill:#1f77b4;stroke:#1f77b4;\" x=\"75.507386\" xlink:href=\"#mc67559a2ac\" y=\"460.139091\"/>\n     <use style=\"fill:#1f77b4;stroke:#1f77b4;\" x=\"93.624269\" xlink:href=\"#mc67559a2ac\" y=\"455.374584\"/>\n     <use style=\"fill:#1f77b4;stroke:#1f77b4;\" x=\"111.741153\" xlink:href=\"#mc67559a2ac\" y=\"362.700357\"/>\n     <use style=\"fill:#1f77b4;stroke:#1f77b4;\" x=\"129.858036\" xlink:href=\"#mc67559a2ac\" y=\"415.465773\"/>\n     <use style=\"fill:#1f77b4;stroke:#1f77b4;\" x=\"147.974919\" xlink:href=\"#mc67559a2ac\" y=\"401.655313\"/>\n     <use style=\"fill:#1f77b4;stroke:#1f77b4;\" x=\"166.091802\" xlink:href=\"#mc67559a2ac\" y=\"347.85619\"/>\n     <use style=\"fill:#1f77b4;stroke:#1f77b4;\" x=\"184.208685\" xlink:href=\"#mc67559a2ac\" y=\"320.883327\"/>\n     <use style=\"fill:#1f77b4;stroke:#1f77b4;\" x=\"202.325568\" xlink:href=\"#mc67559a2ac\" y=\"343.193573\"/>\n     <use style=\"fill:#1f77b4;stroke:#1f77b4;\" x=\"220.442451\" xlink:href=\"#mc67559a2ac\" y=\"314.940496\"/>\n     <use style=\"fill:#1f77b4;stroke:#1f77b4;\" x=\"238.559334\" xlink:href=\"#mc67559a2ac\" y=\"348.703972\"/>\n     <use style=\"fill:#1f77b4;stroke:#1f77b4;\" x=\"256.676218\" xlink:href=\"#mc67559a2ac\" y=\"358.904\"/>\n     <use style=\"fill:#1f77b4;stroke:#1f77b4;\" x=\"274.793101\" xlink:href=\"#mc67559a2ac\" y=\"431.486182\"/>\n     <use style=\"fill:#1f77b4;stroke:#1f77b4;\" x=\"292.909984\" xlink:href=\"#mc67559a2ac\" y=\"459.893779\"/>\n     <use style=\"fill:#1f77b4;stroke:#1f77b4;\" x=\"311.026867\" xlink:href=\"#mc67559a2ac\" y=\"473.465497\"/>\n     <use style=\"fill:#1f77b4;stroke:#1f77b4;\" x=\"329.14375\" xlink:href=\"#mc67559a2ac\" y=\"461.087783\"/>\n     <use style=\"fill:#1f77b4;stroke:#1f77b4;\" x=\"347.260633\" xlink:href=\"#mc67559a2ac\" y=\"514.40242\"/>\n     <use style=\"fill:#1f77b4;stroke:#1f77b4;\" x=\"365.377516\" xlink:href=\"#mc67559a2ac\" y=\"470.2253\"/>\n     <use style=\"fill:#1f77b4;stroke:#1f77b4;\" x=\"383.494399\" xlink:href=\"#mc67559a2ac\" y=\"486.030097\"/>\n     <use style=\"fill:#1f77b4;stroke:#1f77b4;\" x=\"401.611282\" xlink:href=\"#mc67559a2ac\" y=\"492.006017\"/>\n     <use style=\"fill:#1f77b4;stroke:#1f77b4;\" x=\"419.728166\" xlink:href=\"#mc67559a2ac\" y=\"459.84279\"/>\n     <use style=\"fill:#1f77b4;stroke:#1f77b4;\" x=\"437.845049\" xlink:href=\"#mc67559a2ac\" y=\"464.557761\"/>\n     <use style=\"fill:#1f77b4;stroke:#1f77b4;\" x=\"455.961932\" xlink:href=\"#mc67559a2ac\" y=\"520.766778\"/>\n     <use style=\"fill:#1f77b4;stroke:#1f77b4;\" x=\"474.078815\" xlink:href=\"#mc67559a2ac\" y=\"417.786739\"/>\n     <use style=\"fill:#1f77b4;stroke:#1f77b4;\" x=\"492.195698\" xlink:href=\"#mc67559a2ac\" y=\"464.439679\"/>\n     <use style=\"fill:#1f77b4;stroke:#1f77b4;\" x=\"510.312581\" xlink:href=\"#mc67559a2ac\" y=\"496.310354\"/>\n     <use style=\"fill:#1f77b4;stroke:#1f77b4;\" x=\"528.429464\" xlink:href=\"#mc67559a2ac\" y=\"539.568595\"/>\n     <use style=\"fill:#1f77b4;stroke:#1f77b4;\" x=\"546.546347\" xlink:href=\"#mc67559a2ac\" y=\"505.375509\"/>\n     <use style=\"fill:#1f77b4;stroke:#1f77b4;\" x=\"564.663231\" xlink:href=\"#mc67559a2ac\" y=\"507.941983\"/>\n     <use style=\"fill:#1f77b4;stroke:#1f77b4;\" x=\"582.780114\" xlink:href=\"#mc67559a2ac\" y=\"520.69167\"/>\n    </g>\n   </g>\n   <g id=\"patch_9\">\n    <path d=\"M 50.14375 550.8 \nL 50.14375 303.709091 \n\" style=\"fill:none;stroke:#000000;stroke-linecap:square;stroke-linejoin:miter;stroke-width:0.8;\"/>\n   </g>\n   <g id=\"patch_10\">\n    <path d=\"M 608.14375 550.8 \nL 608.14375 303.709091 \n\" style=\"fill:none;stroke:#000000;stroke-linecap:square;stroke-linejoin:miter;stroke-width:0.8;\"/>\n   </g>\n   <g id=\"patch_11\">\n    <path d=\"M 50.14375 550.8 \nL 608.14375 550.8 \n\" style=\"fill:none;stroke:#000000;stroke-linecap:square;stroke-linejoin:miter;stroke-width:0.8;\"/>\n   </g>\n   <g id=\"patch_12\">\n    <path d=\"M 50.14375 303.709091 \nL 608.14375 303.709091 \n\" style=\"fill:none;stroke:#000000;stroke-linecap:square;stroke-linejoin:miter;stroke-width:0.8;\"/>\n   </g>\n   <g id=\"legend_2\">\n    <g id=\"patch_13\">\n     <path d=\"M 563.645312 326.387216 \nL 601.14375 326.387216 \nQ 603.14375 326.387216 603.14375 324.387216 \nL 603.14375 310.709091 \nQ 603.14375 308.709091 601.14375 308.709091 \nL 563.645312 308.709091 \nQ 561.645312 308.709091 561.645312 310.709091 \nL 561.645312 324.387216 \nQ 561.645312 326.387216 563.645312 326.387216 \nz\n\" style=\"fill:#ffffff;opacity:0.8;stroke:#cccccc;stroke-linejoin:miter;\"/>\n    </g>\n    <g id=\"line2d_33\">\n     <path d=\"M 565.645312 316.807528 \nL 585.645312 316.807528 \n\" style=\"fill:none;stroke:#1f77b4;stroke-linecap:square;stroke-width:1.5;\"/>\n    </g>\n    <g id=\"line2d_34\">\n     <g>\n      <use style=\"fill:#1f77b4;stroke:#1f77b4;\" x=\"575.645312\" xlink:href=\"#mc67559a2ac\" y=\"316.807528\"/>\n     </g>\n    </g>\n    <g id=\"text_34\">\n     <!-- c -->\n     <g transform=\"translate(593.645312 320.307528)scale(0.1 -0.1)\">\n      <use xlink:href=\"#DejaVuSans-99\"/>\n     </g>\n    </g>\n   </g>\n  </g>\n </g>\n <defs>\n  <clipPath id=\"p86322ae7b7\">\n   <rect height=\"247.090909\" width=\"558\" x=\"50.14375\" y=\"7.2\"/>\n  </clipPath>\n  <clipPath id=\"pd4404d4031\">\n   <rect height=\"247.090909\" width=\"558\" x=\"50.14375\" y=\"303.709091\"/>\n  </clipPath>\n </defs>\n</svg>\n",
      "image/png": "[encoded data removed]"
     },
     "metadata": {
      "needs_background": "light"
     }
    }
   ],
   "source": [
    "limit=31 ######\n",
    "start=2\n",
    "step=1\n",
    "x = range(start, limit, step)\n",
    "\n",
    "\n",
    "fig, ax = plt.subplots(2,1, figsize=(10, 10))\n",
    "\n",
    "ax[0].plot(x, perplexity_values, marker='o')\n",
    "ax[0].set_xlabel(\"Number of Topics\")\n",
    "ax[0].set_ylabel(\"Perplexity\")\n",
    "ax[0].legend((\"perplexity\"), loc='best')\n",
    "\n",
    "ax[1].plot(x, coherence_values, marker='o')\n",
    "ax[1].set_xlabel(\"Number of Topics\")\n",
    "ax[1].set_ylabel(\"Coherence score\")\n",
    "ax[1].legend((\"coherence_values\"), loc='best')\n",
    "plt.show()"
   ]
  },
  {
   "cell_type": "code",
   "execution_count": 11,
   "metadata": {},
   "outputs": [
    {
     "output_type": "stream",
     "name": "stdout",
     "text": [
      "Num Topics = 2  has Perplexity Value of -8.0168\n",
      "Num Topics = 3  has Perplexity Value of -8.1136\n",
      "Num Topics = 4  has Perplexity Value of -8.1887\n",
      "Num Topics = 5  has Perplexity Value of -8.33\n",
      "Num Topics = 6  has Perplexity Value of -8.3797\n",
      "Num Topics = 7  has Perplexity Value of -8.4649\n",
      "Num Topics = 8  has Perplexity Value of -8.5589\n",
      "Num Topics = 9  has Perplexity Value of -8.6832\n",
      "Num Topics = 10  has Perplexity Value of -8.8595\n",
      "Num Topics = 11  has Perplexity Value of -9.136\n",
      "Num Topics = 12  has Perplexity Value of -9.5682\n",
      "Num Topics = 13  has Perplexity Value of -10.0887\n",
      "Num Topics = 14  has Perplexity Value of -10.581\n",
      "Num Topics = 15  has Perplexity Value of -10.9785\n",
      "Num Topics = 16  has Perplexity Value of -11.239\n",
      "Num Topics = 17  has Perplexity Value of -11.4626\n",
      "Num Topics = 18  has Perplexity Value of -11.7649\n",
      "Num Topics = 19  has Perplexity Value of -12.0038\n",
      "Num Topics = 20  has Perplexity Value of -12.2511\n",
      "Num Topics = 21  has Perplexity Value of -12.477\n",
      "Num Topics = 22  has Perplexity Value of -12.7404\n",
      "Num Topics = 23  has Perplexity Value of -12.9573\n",
      "Num Topics = 24  has Perplexity Value of -13.224\n",
      "Num Topics = 25  has Perplexity Value of -13.4426\n",
      "Num Topics = 26  has Perplexity Value of -13.6971\n",
      "Num Topics = 27  has Perplexity Value of -13.9496\n",
      "Num Topics = 28  has Perplexity Value of -14.1879\n",
      "Num Topics = 29  has Perplexity Value of -14.4345\n",
      "Num Topics = 30  has Perplexity Value of -14.668\n",
      "Num Topics = 2  has Coherence Value of 0.4066\n",
      "Num Topics = 3  has Coherence Value of 0.4095\n",
      "Num Topics = 4  has Coherence Value of 0.4668\n",
      "Num Topics = 5  has Coherence Value of 0.4342\n",
      "Num Topics = 6  has Coherence Value of 0.4427\n",
      "Num Topics = 7  has Coherence Value of 0.476\n",
      "Num Topics = 8  has Coherence Value of 0.4927\n",
      "Num Topics = 9  has Coherence Value of 0.4789\n",
      "Num Topics = 10  has Coherence Value of 0.4963\n",
      "Num Topics = 11  has Coherence Value of 0.4755\n",
      "Num Topics = 12  has Coherence Value of 0.4692\n",
      "Num Topics = 13  has Coherence Value of 0.4243\n",
      "Num Topics = 14  has Coherence Value of 0.4067\n",
      "Num Topics = 15  has Coherence Value of 0.3983\n",
      "Num Topics = 16  has Coherence Value of 0.406\n",
      "Num Topics = 17  has Coherence Value of 0.373\n",
      "Num Topics = 18  has Coherence Value of 0.4003\n",
      "Num Topics = 19  has Coherence Value of 0.3906\n",
      "Num Topics = 20  has Coherence Value of 0.3869\n",
      "Num Topics = 21  has Coherence Value of 0.4068\n",
      "Num Topics = 22  has Coherence Value of 0.4038\n",
      "Num Topics = 23  has Coherence Value of 0.3691\n",
      "Num Topics = 24  has Coherence Value of 0.4328\n",
      "Num Topics = 25  has Coherence Value of 0.4039\n",
      "Num Topics = 26  has Coherence Value of 0.3842\n",
      "Num Topics = 27  has Coherence Value of 0.3575\n",
      "Num Topics = 28  has Coherence Value of 0.3786\n",
      "Num Topics = 29  has Coherence Value of 0.377\n",
      "Num Topics = 30  has Coherence Value of 0.3691\n",
      "/Users/uni613/Library/Python/3.8/lib/python/site-packages/ipykernel/ipkernel.py:287: DeprecationWarning: `should_run_async` will not call `transform_cell` automatically in the future. Please pass the result to `transformed_cell` argument and any exception that happen during thetransform in `preprocessing_exc_tuple` in IPython 7.17 and above.\n",
      "  and should_run_async(code)\n"
     ]
    }
   ],
   "source": [
    "for m, pv in zip(x, perplexity_values):\n",
    "  print(\"Num Topics =\", m, \" has Perplexity Value of\", round(pv, 4))\n",
    "\n",
    "for m, cv in zip(x, coherence_values):\n",
    "  print(\"Num Topics =\", m, \" has Coherence Value of\", round(cv, 4))"
   ]
  },
  {
   "cell_type": "code",
   "execution_count": 12,
   "metadata": {},
   "outputs": [
    {
     "output_type": "stream",
     "name": "stderr",
     "text": [
      "/Users/uni613/Library/Python/3.8/lib/python/site-packages/ipykernel/ipkernel.py:287: DeprecationWarning: `should_run_async` will not call `transform_cell` automatically in the future. Please pass the result to `transformed_cell` argument and any exception that happen during thetransform in `preprocessing_exc_tuple` in IPython 7.17 and above.\n",
      "  and should_run_async(code)\n",
      "[(0,\n",
      "  '0.053*\"college\" + 0.011*\"elementary-school\" + 0.007*\"executive\" + '\n",
      "  '0.007*\"seniors\" + 0.006*\"evaluating\" + 0.005*\"like\" + 0.004*\"1966\" + '\n",
      "  '0.004*\"questionnaire\" + 0.004*\"achievements\" + 0.004*\"director\" + '\n",
      "  '0.004*\"1967\" + 0.003*\"hunter\" + 0.003*\"cost\" + 0.003*\"increasing\" + '\n",
      "  '0.003*\"ohio\" + 0.003*\"perfectionism\" + 0.002*\"secondary-school\" + '\n",
      "  '0.002*\"identity\" + 0.002*\"contributing\" + 0.002*\"ten\" + 0.002*\"judgment\" + '\n",
      "  '0.002*\"win\" + 0.002*\"preparatory\" + 0.002*\"equal\" + 0.002*\"cultures\" + '\n",
      "  '0.002*\"attend\" + 0.002*\"october\" + 0.002*\"happenings\" + 0.002*\"marriage\" + '\n",
      "  '0.002*\"differently\"'),\n",
      " (1,\n",
      "  '0.074*\"book\" + 0.063*\"review\" + 0.032*\"gifted-children\" + '\n",
      "  '0.021*\"gifted-child\" + 0.016*\"education\" + 0.012*\"educating\" + '\n",
      "  '0.010*\"guidance\" + 0.009*\"new\" + 0.008*\"attitudes\" + 0.007*\"rj\" + '\n",
      "  '0.007*\"havighurst\" + 0.007*\"toward\" + 0.007*\"view\" + 0.007*\"editorial\" + '\n",
      "  '0.005*\"history\" + 0.005*\"state\" + 0.005*\"message\" + 0.005*\"childs\" + '\n",
      "  '0.005*\"report\" + 0.004*\"preschool\" + 0.004*\"myopia\" + 0.004*\"rf\" + '\n",
      "  '0.004*\"dehaan\" + 0.004*\"readers\" + 0.004*\"become\" + 0.004*\"president\" + '\n",
      "  '0.004*\"mary\" + 0.004*\"journals\" + 0.003*\"movement\" + 0.003*\"individuals\"'),\n",
      " (2,\n",
      "  '0.056*\"gifted\" + 0.026*\"child\" + 0.022*\"parents\" + 0.021*\"education\" + '\n",
      "  '0.014*\"want\" + 0.013*\"research\" + 0.012*\"page\" + 0.012*\"development\" + '\n",
      "  '0.012*\"teachers\" + 0.012*\"learning\" + 0.012*\"\\'s\" + 0.011*\"talent\" + '\n",
      "  '0.010*\"teacher\" + 0.008*\"new\" + 0.007*\"children\" + 0.007*\"reviews\" + '\n",
      "  '0.006*\"program\" + 0.006*\"problems\" + 0.006*\"teach\" + 0.006*\"model\" + '\n",
      "  '0.006*\"evaluation\" + 0.006*\"thinking\" + 0.005*\"experiences\" + '\n",
      "  '0.005*\"curriculum\" + 0.005*\"training\" + 0.005*\"approach\" + 0.005*\"\\'\\'\" + '\n",
      "  '0.005*\"educational\" + 0.005*\"special\" + 0.005*\"best\"'),\n",
      " (3,\n",
      "  '0.017*\"superior\" + 0.013*\"identifying\" + 0.011*\"activities\" + 0.008*\"women\" '\n",
      "  '+ 0.007*\"perception\" + 0.007*\"something\" + 0.006*\"identification\" + '\n",
      "  '0.005*\"screening\" + 0.005*\"michigan\" + 0.005*\"eminence\" + 0.005*\"adult\" + '\n",
      "  '0.004*\"alternative\" + 0.004*\"overview\" + 0.004*\"plan\" + 0.004*\"achieving\" + '\n",
      "  '0.004*\"freedom\" + 0.004*\"give\" + 0.004*\"test\" + 0.004*\"kind\" + '\n",
      "  '0.004*\"cognitive\" + 0.004*\"genius\" + 0.004*\"disabilities\" + 0.003*\"include\" '\n",
      "  '+ 0.003*\"concerns\" + 0.003*\"abilities\" + 0.003*\"criteria\" + 0.003*\"brief\" + '\n",
      "  '0.003*\"tests\" + 0.003*\"assessment\" + 0.003*\"criterion\"'),\n",
      " (4,\n",
      "  '0.043*\"giftedness\" + 0.015*\"girls\" + 0.014*\"boys\" + 0.012*\"pupils\" + '\n",
      "  '0.011*\"helping\" + 0.010*\"ability\" + 0.008*\"personality\" + 0.007*\"problem\" + '\n",
      "  '0.007*\"writing\" + 0.006*\"self-concept\" + 0.006*\"guide\" + 0.006*\"interest\" + '\n",
      "  '0.005*\"must\" + 0.005*\"scale\" + 0.005*\"underachievement\" + 0.005*\"scores\" + '\n",
      "  '0.005*\"gender\" + 0.005*\"motivation\" + 0.005*\"choice\" + '\n",
      "  '0.004*\"underachieving\" + 0.004*\"validity\" + 0.004*\"nature\" + '\n",
      "  '0.004*\"mathematically\" + 0.004*\"time\" + 0.004*\"iii\" + 0.004*\"ideas\" + '\n",
      "  '0.004*\"sex\" + 0.004*\"childrens\" + 0.004*\"right\" + 0.003*\"problem-solving\"'),\n",
      " (5,\n",
      "  '0.106*\"gifted\" + 0.038*\"students\" + 0.026*\"children\" + 0.019*\"school\" + '\n",
      "  '0.016*\"study\" + 0.014*\"program\" + 0.011*\"programs\" + 0.010*\"talented\" + '\n",
      "  '0.009*\"high\" + 0.007*\"science\" + 0.007*\"elementary\" + 0.006*\"achievement\" + '\n",
      "  '0.006*\"among\" + 0.006*\"high-school\" + 0.005*\"group\" + 0.005*\"grade\" + '\n",
      "  '0.005*\"schools\" + 0.005*\"student\" + 0.004*\"results\" + 0.004*\"academic\" + '\n",
      "  '0.004*\"academically\" + 0.004*\"university\" + 0.004*\"use\" + 0.004*\"groups\" + '\n",
      "  '0.004*\"social\" + 0.004*\"journal\" + 0.004*\"summer\" + 0.004*\"level\" + '\n",
      "  '0.004*\"nagc\" + 0.004*\"effects\"'),\n",
      " (6,\n",
      "  '0.066*\"creative\" + 0.051*\"creativity\" + 0.029*\"teaching\" + '\n",
      "  '0.017*\"creatively\" + 0.012*\"bright\" + 0.010*\"meeting\" + 0.008*\"torrance\" + '\n",
      "  '0.007*\"encouraging\" + 0.007*\"person\" + 0.007*\"reading\" + 0.006*\"books\" + '\n",
      "  '0.005*\"recent\" + 0.005*\"jointly\" + 0.005*\"speech\" + 0.004*\"wisdom\" + '\n",
      "  '0.004*\"imagination\" + 0.004*\"theories\" + 0.004*\"cutts\" + 0.004*\"moseley\" + '\n",
      "  '0.004*\"ne\" + 0.004*\"boy\" + 0.003*\"critical\" + 0.003*\"production\" + '\n",
      "  '0.003*\"precocious\" + 0.003*\"divergent\" + 0.003*\"annotated-bibliography\" + '\n",
      "  '0.003*\"motivating\" + 0.003*\"john\" + 0.003*\"processes\" + 0.003*\"old\"'),\n",
      " (7,\n",
      "  '0.050*\"read\" + 0.018*\"acceleration\" + 0.012*\"musically\" + 0.011*\"reactions\" '\n",
      "  '+ 0.010*\"teachers\" + 0.009*\"senior\" + 0.008*\"family\" + 0.008*\"counseling\" + '\n",
      "  '0.006*\"independent\" + 0.006*\"perceived\" + 0.006*\"accelerate\" + '\n",
      "  '0.005*\"artistically\" + 0.005*\"nongifted\" + 0.004*\"challenge\" + 0.003*\"done\" '\n",
      "  '+ 0.003*\"in-service\" + 0.003*\"relations\" + 0.003*\"acceptance\" + '\n",
      "  '0.003*\"radical\" + 0.003*\"persistence\" + 0.003*\"lives\" + 0.003*\"renzulli\" + '\n",
      "  '0.003*\"profiles\" + 0.003*\"entrance\" + 0.003*\"varying\" + 0.003*\"older\" + '\n",
      "  '0.002*\"gallagher\" + 0.002*\"reasoning\" + 0.002*\"beliefs\" + '\n",
      "  '0.002*\"cooperative\"')]\n"
     ]
    }
   ],
   "source": [
    "a = int(input(\"set the number of topics \"))\n",
    "optimal_model = gensim.models.ldamodel.LdaModel(corpus=corpus,\n",
    "                                                id2word=id2word,\n",
    "                                                num_topics=a,\n",
    "                                                random_state=100,\n",
    "                                                update_every=1,\n",
    "                                                iterations=1000,\n",
    "                                                chunksize=100,\n",
    "                                                passes=10,\n",
    "                                                alpha='auto',\n",
    "                                                eta='auto',\n",
    "                                                per_word_topics=True)\n",
    "model_topics = optimal_model.show_topics(formatted=False)\n",
    "pprint(optimal_model.print_topics(num_words=30))"
   ]
  },
  {
   "cell_type": "code",
   "execution_count": 13,
   "metadata": {},
   "outputs": [
    {
     "output_type": "stream",
     "name": "stderr",
     "text": [
      "/Users/uni613/Library/Python/3.8/lib/python/site-packages/ipykernel/ipkernel.py:287: DeprecationWarning: `should_run_async` will not call `transform_cell` automatically in the future. Please pass the result to `transformed_cell` argument and any exception that happen during thetransform in `preprocessing_exc_tuple` in IPython 7.17 and above.\n  and should_run_async(code)\n"
     ]
    }
   ],
   "source": [
    "title = input(\"set the title of html file \")\n",
    "vis = pyLDAvis.gensim.prepare(optimal_model, corpus, id2word)\n",
    "pyLDAvis.save_html(vis, title+\".html\")"
   ]
  },
  {
   "cell_type": "code",
   "execution_count": 14,
   "metadata": {
    "tags": []
   },
   "outputs": [
    {
     "output_type": "stream",
     "name": "stderr",
     "text": [
      "/Users/uni613/Library/Python/3.8/lib/python/site-packages/ipykernel/ipkernel.py:287: DeprecationWarning: `should_run_async` will not call `transform_cell` automatically in the future. Please pass the result to `transformed_cell` argument and any exception that happen during thetransform in `preprocessing_exc_tuple` in IPython 7.17 and above.\n",
      "  and should_run_async(code)\n",
      "                      0                 1                 2                 3  \\\n",
      "0       (1, 0.05753986)   (2, 0.13709822)  (3, 0.013964497)   (4, 0.07106566)   \n",
      "1       (1, 0.43811882)  (2, 0.049217153)  (4, 0.043191906)   (5, 0.44863784)   \n",
      "2        (0, 0.1791867)  (1, 0.019803876)    (2, 0.1549623)   (3, 0.03305085)   \n",
      "3       (2, 0.19608517)  (3, 0.025551215)   (4, 0.03689302)   (5, 0.65371776)   \n",
      "4       (1, 0.08830982)   (2, 0.18452863)   (4, 0.02530056)    (5, 0.6809176)   \n",
      "...                 ...               ...               ...               ...   \n",
      "2532   (0, 0.014308738)   (1, 0.09040814)   (2, 0.36441103)  (3, 0.040329393)   \n",
      "2533  (0, 0.0143075595)   (1, 0.08943435)    (2, 0.3094421)  (3, 0.040288266)   \n",
      "2534  (0, 0.0143075595)   (1, 0.08943434)    (2, 0.3094031)  (3, 0.040288266)   \n",
      "2535   (0, 0.014307814)   (1, 0.24885884)   (2, 0.26837927)  (3, 0.040289156)   \n",
      "2536     (1, 0.0721109)    (2, 0.2317026)  (3, 0.027256165)  (4, 0.043722626)   \n",
      "\n",
      "                     4                5                 6                 7  \n",
      "0       (5, 0.4715771)   (7, 0.2417598)              None              None  \n",
      "1     (6, 0.012470751)             None              None              None  \n",
      "2      (4, 0.10229945)   (5, 0.4869823)  (6, 0.020048676)              None  \n",
      "3     (6, 0.075734004)             None              None              None  \n",
      "4                 None             None              None              None  \n",
      "...                ...              ...               ...               ...  \n",
      "2532  (4, 0.065000564)  (5, 0.34635407)  (6, 0.048231777)  (7, 0.030956285)  \n",
      "2533   (4, 0.06458882)  (5, 0.40285376)  (6, 0.048136473)  (7, 0.030948678)  \n",
      "2534   (4, 0.06458882)   (5, 0.4028928)  (6, 0.048136473)  (7, 0.030948678)  \n",
      "2535   (4, 0.06459034)  (5, 0.28448766)  (6, 0.048137564)  (7, 0.030949319)  \n",
      "2536    (5, 0.4173831)  (6, 0.17721109)   (7, 0.02093548)              None  \n",
      "\n",
      "[2537 rows x 8 columns]\n"
     ]
    }
   ],
   "source": [
    "# topic proportion\n",
    "# num of optimal topics = 8\n",
    "\n",
    "proportion = []\n",
    "for i, row_list in enumerate(optimal_model[corpus]):\n",
    "    #print(\"document number : \", i)\n",
    "    row = row_list[0]\n",
    "    #print(row)\n",
    "    proportion.append(row)\n",
    "print(pd.DataFrame(proportion))"
   ]
  },
  {
   "cell_type": "code",
   "execution_count": 16,
   "metadata": {
    "tags": []
   },
   "outputs": [
    {
     "output_type": "stream",
     "name": "stderr",
     "text": [
      "/Users/uni613/Library/Python/3.8/lib/python/site-packages/ipykernel/ipkernel.py:287: DeprecationWarning: `should_run_async` will not call `transform_cell` automatically in the future. Please pass the result to `transformed_cell` argument and any exception that happen during thetransform in `preprocessing_exc_tuple` in IPython 7.17 and above.\n  and should_run_async(code)\n"
     ]
    }
   ],
   "source": [
    "proportion = []\n",
    "for i, row_list in enumerate(optimal_model[corpus]):\n",
    "    #print(\"document number : \", i)\n",
    "    row = row_list[0]\n",
    "    #print(row)\n",
    "    inner_proportion = [\"-\", \"-\", \"-\", \"-\", \"-\", \"-\", \"-\", \"-\"] # numtopics 8\n",
    "    for j, (topic_num, prop) in enumerate(row):\n",
    "        for k in range(8): # numtopics 8\n",
    "            if topic_num == k:\n",
    "                inner_proportion[k] = prop\n",
    "    proportion.append(inner_proportion)\n",
    "    #print(inner_proportion)"
   ]
  },
  {
   "cell_type": "code",
   "execution_count": 17,
   "metadata": {},
   "outputs": [
    {
     "output_type": "stream",
     "name": "stderr",
     "text": [
      "/Users/uni613/Library/Python/3.8/lib/python/site-packages/ipykernel/ipkernel.py:287: DeprecationWarning: `should_run_async` will not call `transform_cell` automatically in the future. Please pass the result to `transformed_cell` argument and any exception that happen during thetransform in `preprocessing_exc_tuple` in IPython 7.17 and above.\n",
      "  and should_run_async(code)\n",
      "                                                  Title        T0        T1  \\\n",
      "0     Social–Emotional Characteristics and Adjustmen...         -  0.057540   \n",
      "1     Do Mass Media Shape Stereotypes About Intellec...         -  0.438119   \n",
      "2     College Choice: Considerations for Academicall...  0.179187  0.019804   \n",
      "3     Intellectual Precocity: What Have We Learned S...         -         -   \n",
      "4        Assessing the Scholarly Reach of Terman's Work         -  0.088310   \n",
      "...                                                 ...       ...       ...   \n",
      "2532                         The Gifted Child in France  0.014309  0.090409   \n",
      "2533                        How i Teach Gifted Children  0.014308  0.089434   \n",
      "2534                        How I Teach Gifted Children  0.014308  0.089434   \n",
      "2535                                President's Message  0.014308  0.248859   \n",
      "2536  The Annual Meeting of NAGC to be Held Jointly ...         -  0.072109   \n",
      "\n",
      "            T2        T3        T4        T5        T6        T7  \n",
      "0     0.137099  0.013965  0.071066  0.471577         -  0.241760  \n",
      "1     0.049216         -  0.043192  0.448638  0.012471         -  \n",
      "2     0.154962  0.033050  0.102300  0.486982  0.020049         -  \n",
      "3     0.196085  0.025553  0.036893  0.653717  0.075734         -  \n",
      "4     0.184528         -  0.025300  0.680918         -         -  \n",
      "...        ...       ...       ...       ...       ...       ...  \n",
      "2532  0.364368  0.040329  0.065001  0.346397  0.048232  0.030956  \n",
      "2533  0.309418  0.040288  0.064589  0.402878  0.048136  0.030949  \n",
      "2534  0.309408  0.040288  0.064589  0.402887  0.048136  0.030949  \n",
      "2535  0.268399  0.040289  0.064590  0.284468  0.048138  0.030949  \n",
      "2536  0.231704  0.027256  0.043723  0.417383  0.177211  0.020935  \n",
      "\n",
      "[2537 rows x 9 columns]\n"
     ]
    }
   ],
   "source": [
    "topic_proportions = pd.concat([data[\"title\"], pd.DataFrame(proportion)], axis=1)\n",
    "topic_proportions.columns = [\"Title\", \"T0\", \"T1\", \"T2\", \"T3\", \"T4\", \"T5\", \"T6\", \"T7\"] #num topics = 8\n",
    "print(topic_proportions)\n",
    "topic_proportions.to_excel(\"./final_data/0121_topic_proportions_nltk_total.xlsx\")"
   ]
  },
  {
   "cell_type": "code",
   "execution_count": null,
   "metadata": {},
   "outputs": [],
   "source": []
  }
 ]
}