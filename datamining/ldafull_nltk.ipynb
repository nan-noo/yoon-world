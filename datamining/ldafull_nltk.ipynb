{
 "metadata": {
  "language_info": {
   "codemirror_mode": {
    "name": "ipython",
    "version": 3
   },
   "file_extension": ".py",
   "mimetype": "text/x-python",
   "name": "python",
   "nbconvert_exporter": "python",
   "pygments_lexer": "ipython3",
   "version": "3.8.2-final"
  },
  "orig_nbformat": 2,
  "kernelspec": {
   "name": "python3",
   "display_name": "Python 3.8.2 64-bit",
   "metadata": {
    "interpreter": {
     "hash": "aee8b7b246df8f9039afb4144a1f6fd8d2ca17a180786b69acc140d282b71a49"
    }
   }
  }
 },
 "nbformat": 4,
 "nbformat_minor": 2,
 "cells": [
  {
   "cell_type": "code",
   "execution_count": 1,
   "metadata": {},
   "outputs": [],
   "source": [
    "import pandas as pd\n",
    "import numpy as np\n",
    "import nltk\n",
    "from nltk.corpus import stopwords\n",
    "from nltk.tokenize import word_tokenize\n",
    "import string\n",
    "import gensim\n",
    "import pyLDAvis.gensim\n",
    "import logging\n",
    "from gensim.models.coherencemodel import CoherenceModel\n",
    "import matplotlib.pyplot as plt\n",
    "import time\n",
    "from pprint import pprint"
   ]
  },
  {
   "cell_type": "code",
   "execution_count": 2,
   "metadata": {},
   "outputs": [
    {
     "output_type": "stream",
     "name": "stderr",
     "text": [
      "/Users/uni613/Library/Python/3.8/lib/python/site-packages/ipykernel/ipkernel.py:287: DeprecationWarning: `should_run_async` will not call `transform_cell` automatically in the future. Please pass the result to `transformed_cell` argument and any exception that happen during thetransform in `preprocessing_exc_tuple` in IPython 7.17 and above.\n  and should_run_async(code)\n"
     ]
    },
    {
     "output_type": "execute_result",
     "data": {
      "text/plain": [
       "   no    year                                              title  \\\n",
       "0   1  2021.0  Social–Emotional Characteristics and Adjustmen...   \n",
       "1   2  2021.0  Do Mass Media Shape Stereotypes About Intellec...   \n",
       "2   3  2021.0  College Choice: Considerations for Academicall...   \n",
       "3   4  2021.0  Intellectual Precocity: What Have We Learned S...   \n",
       "4   5  2021.0     Assessing the Scholarly Reach of Terman's Work   \n",
       "\n",
       "                                            eng_full  \n",
       "0  Social–Emotional Characteristics and Adjustmen...  \n",
       "1  Do Mass Media Shape Stereotypes About Intellec...  \n",
       "2  College Choice: Considerations for Academicall...  \n",
       "3  Intellectual Precocity: What Have We Learned S...  \n",
       "4  Assessing the Scholarly Reach of Terman's Work...  "
      ],
      "text/html": "<div>\n<style scoped>\n    .dataframe tbody tr th:only-of-type {\n        vertical-align: middle;\n    }\n\n    .dataframe tbody tr th {\n        vertical-align: top;\n    }\n\n    .dataframe thead th {\n        text-align: right;\n    }\n</style>\n<table border=\"1\" class=\"dataframe\">\n  <thead>\n    <tr style=\"text-align: right;\">\n      <th></th>\n      <th>no</th>\n      <th>year</th>\n      <th>title</th>\n      <th>eng_full</th>\n    </tr>\n  </thead>\n  <tbody>\n    <tr>\n      <th>0</th>\n      <td>1</td>\n      <td>2021.0</td>\n      <td>Social–Emotional Characteristics and Adjustmen...</td>\n      <td>Social–Emotional Characteristics and Adjustmen...</td>\n    </tr>\n    <tr>\n      <th>1</th>\n      <td>2</td>\n      <td>2021.0</td>\n      <td>Do Mass Media Shape Stereotypes About Intellec...</td>\n      <td>Do Mass Media Shape Stereotypes About Intellec...</td>\n    </tr>\n    <tr>\n      <th>2</th>\n      <td>3</td>\n      <td>2021.0</td>\n      <td>College Choice: Considerations for Academicall...</td>\n      <td>College Choice: Considerations for Academicall...</td>\n    </tr>\n    <tr>\n      <th>3</th>\n      <td>4</td>\n      <td>2021.0</td>\n      <td>Intellectual Precocity: What Have We Learned S...</td>\n      <td>Intellectual Precocity: What Have We Learned S...</td>\n    </tr>\n    <tr>\n      <th>4</th>\n      <td>5</td>\n      <td>2021.0</td>\n      <td>Assessing the Scholarly Reach of Terman's Work</td>\n      <td>Assessing the Scholarly Reach of Terman's Work...</td>\n    </tr>\n  </tbody>\n</table>\n</div>"
     },
     "metadata": {},
     "execution_count": 2
    }
   ],
   "source": [
    "data = pd.read_csv(\"./modi_data/eng_full.csv\") ############\n",
    "#data = data.drop(['Unnamed: 0'], axis=1)\n",
    "data.head()"
   ]
  },
  {
   "cell_type": "code",
   "execution_count": 3,
   "metadata": {},
   "outputs": [
    {
     "output_type": "stream",
     "name": "stderr",
     "text": [
      "/Users/uni613/Library/Python/3.8/lib/python/site-packages/ipykernel/ipkernel.py:287: DeprecationWarning: `should_run_async` will not call `transform_cell` automatically in the future. Please pass the result to `transformed_cell` argument and any exception that happen during thetransform in `preprocessing_exc_tuple` in IPython 7.17 and above.\n  and should_run_async(code)\n"
     ]
    }
   ],
   "source": [
    "dfWordList = pd.read_excel(\"./modi_data/nltk_word_cor.xlsx\")\n",
    "dfWordDel = dfWordList[dfWordList[\"correction\"] == \"delete\"]\n",
    "dfWordMod = dfWordList[dfWordList[\"correction\"] != \"delete\"]\n",
    "\n",
    "seriesDelete = dfWordDel[\"word\"]\n",
    "stopword = []\n",
    "for word in seriesDelete.values:\n",
    "    stopword.append(word)\n",
    "#print(stopword)\n",
    "\n",
    "seriesModify = dfWordMod[\"word\"]\n",
    "modiword = []\n",
    "for word in seriesModify.values:\n",
    "    modiword.append(word)\n",
    "#print(len(modiword))\n",
    "\n",
    "seriesModify2 = dfWordMod[\"correction\"]\n",
    "modiword2 = []\n",
    "for word in seriesModify2.values:\n",
    "    modiword2.append(word)\n",
    "#print(len(modiword2))"
   ]
  },
  {
   "cell_type": "code",
   "execution_count": 4,
   "metadata": {},
   "outputs": [
    {
     "output_type": "stream",
     "name": "stderr",
     "text": [
      "/Users/uni613/Library/Python/3.8/lib/python/site-packages/ipykernel/ipkernel.py:287: DeprecationWarning: `should_run_async` will not call `transform_cell` automatically in the future. Please pass the result to `transformed_cell` argument and any exception that happen during thetransform in `preprocessing_exc_tuple` in IPython 7.17 and above.\n  and should_run_async(code)\n"
     ]
    }
   ],
   "source": [
    "stop_word = set(stopword + stopwords.words('english') + list(string.punctuation))\n",
    "#print(stop_word)"
   ]
  },
  {
   "cell_type": "code",
   "execution_count": 5,
   "metadata": {},
   "outputs": [
    {
     "output_type": "stream",
     "name": "stderr",
     "text": [
      "/Users/uni613/Library/Python/3.8/lib/python/site-packages/ipykernel/ipkernel.py:287: DeprecationWarning: `should_run_async` will not call `transform_cell` automatically in the future. Please pass the result to `transformed_cell` argument and any exception that happen during thetransform in `preprocessing_exc_tuple` in IPython 7.17 and above.\n  and should_run_async(code)\n"
     ]
    }
   ],
   "source": [
    "def nltkTokenizer(raw, stopword=stop_word):\n",
    "    list = []\n",
    "\n",
    "    for word in word_tokenize(raw): #raw data\n",
    "        #print(word)\n",
    "        wl = word.lower()\n",
    "        if wl not in stopword and len(word) > 1:\n",
    "            if wl in modiword:\n",
    "                wl = modiword2[modiword.index(wl)].lower()\n",
    "            list.append(wl)            \n",
    "    return list"
   ]
  },
  {
   "cell_type": "code",
   "execution_count": 6,
   "metadata": {},
   "outputs": [
    {
     "output_type": "stream",
     "name": "stderr",
     "text": [
      "/Users/uni613/Library/Python/3.8/lib/python/site-packages/ipykernel/ipkernel.py:287: DeprecationWarning: `should_run_async` will not call `transform_cell` automatically in the future. Please pass the result to `transformed_cell` argument and any exception that happen during thetransform in `preprocessing_exc_tuple` in IPython 7.17 and above.\n",
      "  and should_run_async(code)\n",
      "========= tokenization completed =========\n"
     ]
    }
   ],
   "source": [
    "tokenized = data[\"eng_full\"].apply(lambda row: nltkTokenizer(row))\n",
    "#print(tokenized)\n",
    "print(\"========= tokenization completed =========\")"
   ]
  },
  {
   "cell_type": "code",
   "execution_count": 7,
   "metadata": {},
   "outputs": [
    {
     "output_type": "stream",
     "name": "stdout",
     "text": [
      "# words in total :  9699\n",
      "# documents :  2537\n",
      "/Users/uni613/Library/Python/3.8/lib/python/site-packages/ipykernel/ipkernel.py:287: DeprecationWarning: `should_run_async` will not call `transform_cell` automatically in the future. Please pass the result to `transformed_cell` argument and any exception that happen during thetransform in `preprocessing_exc_tuple` in IPython 7.17 and above.\n",
      "  and should_run_async(code)\n"
     ]
    }
   ],
   "source": [
    "#lda\n",
    "id2word = gensim.corpora.Dictionary(tokenized)\n",
    "\n",
    "wordlist = []\n",
    "for i in range(len(id2word)):\n",
    "    #print(id2word[i])\n",
    "    wordlist.append(id2word[i])\n",
    "#print(wordlist)\n",
    "seriesWordlist = pd.Series(wordlist)\n",
    "\n",
    "corpus=[id2word.doc2bow(text) for text in tokenized]\n",
    "#print(\"id2word for each document : \", corpus)\n",
    "print(\"# words in total : \", len(id2word))\n",
    "print(\"# documents : \", len(corpus))"
   ]
  },
  {
   "cell_type": "code",
   "execution_count": 8,
   "metadata": {},
   "outputs": [
    {
     "output_type": "stream",
     "name": "stderr",
     "text": [
      "/Users/uni613/Library/Python/3.8/lib/python/site-packages/ipykernel/ipkernel.py:287: DeprecationWarning: `should_run_async` will not call `transform_cell` automatically in the future. Please pass the result to `transformed_cell` argument and any exception that happen during thetransform in `preprocessing_exc_tuple` in IPython 7.17 and above.\n  and should_run_async(code)\n"
     ]
    }
   ],
   "source": [
    "def compute_coherence_values(dictionary, corpus, texts, limit, start=2, step=1):\n",
    "    \"\"\"\n",
    "    Compute c_v coherence for various number of topics\n",
    "\n",
    "    Parameters:\n",
    "    ----------\n",
    "    dictionary : Gensim dictionary\n",
    "    corpus : Gensim corpus\n",
    "    texts : List of input texts\n",
    "    limit : Max num of topics\n",
    "\n",
    "    Returns:\n",
    "    -------\n",
    "    model_list : List of LDA topic models\n",
    "    coherence_values : Coherence values corresponding to the LDA model with respective number of topics\n",
    "    \"\"\"\n",
    "    perplexity_values = []\n",
    "    coherence_values = []\n",
    "    model_list = []\n",
    "    for num_topics in range(start, limit, step):\n",
    "        print(num_topics)\n",
    "        model = gensim.models.ldamodel.LdaModel(corpus=corpus,\n",
    "                                                id2word=id2word,\n",
    "                                                num_topics=num_topics,\n",
    "                                                random_state=100,\n",
    "                                                update_every=1,\n",
    "                                                iterations=1000,\n",
    "                                                chunksize=100,\n",
    "                                                passes=10,\n",
    "                                                alpha='auto',\n",
    "                                                eta='auto',\n",
    "                                                per_word_topics=True)\n",
    "        model_list.append(model)\n",
    "        perplexitymodel = model.log_perplexity(corpus)\n",
    "        perplexity_values.append(perplexitymodel)\n",
    "        coherencemodel = CoherenceModel(model=model,\n",
    "                                        texts=texts,\n",
    "                                        dictionary=dictionary,\n",
    "                                        coherence='c_v')\n",
    "        coherence_values.append(coherencemodel.get_coherence())\n",
    "    return model_list, perplexity_values, coherence_values"
   ]
  },
  {
   "cell_type": "code",
   "execution_count": 9,
   "metadata": {},
   "outputs": [
    {
     "output_type": "stream",
     "name": "stderr",
     "text": [
      "/Users/uni613/Library/Python/3.8/lib/python/site-packages/ipykernel/ipkernel.py:287: DeprecationWarning: `should_run_async` will not call `transform_cell` automatically in the future. Please pass the result to `transformed_cell` argument and any exception that happen during thetransform in `preprocessing_exc_tuple` in IPython 7.17 and above.\n",
      "  and should_run_async(code)\n",
      "2\n",
      "3\n",
      "4\n",
      "5\n",
      "6\n",
      "7\n",
      "8\n",
      "9\n",
      "10\n",
      "11\n",
      "12\n",
      "13\n",
      "14\n",
      "15\n",
      "16\n",
      "17\n",
      "18\n",
      "19\n",
      "20\n",
      "21\n",
      "22\n",
      "23\n",
      "24\n",
      "25\n",
      "26\n",
      "27\n",
      "28\n",
      "29\n",
      "30\n",
      "time :  6.854463402430216 min\n"
     ]
    }
   ],
   "source": [
    "start = time.time()\n",
    "model_list, perplexity_values, coherence_values = compute_coherence_values(dictionary=id2word,\n",
    "                                                        corpus=corpus,\n",
    "                                                        texts=tokenized,\n",
    "                                                        start=2,\n",
    "                                                        limit=31, #####\n",
    "                                                        step=1)\n",
    "print(\"time : \", ( time.time() - start )/60, \"min\")"
   ]
  },
  {
   "cell_type": "code",
   "execution_count": 10,
   "metadata": {},
   "outputs": [
    {
     "output_type": "stream",
     "name": "stderr",
     "text": [
      "/Users/uni613/Library/Python/3.8/lib/python/site-packages/ipykernel/ipkernel.py:287: DeprecationWarning: `should_run_async` will not call `transform_cell` automatically in the future. Please pass the result to `transformed_cell` argument and any exception that happen during thetransform in `preprocessing_exc_tuple` in IPython 7.17 and above.\n  and should_run_async(code)\n"
     ]
    },
    {
     "output_type": "display_data",
     "data": {
      "text/plain": "<Figure size 720x720 with 2 Axes>",
      "image/svg+xml": "<?xml version=\"1.0\" encoding=\"utf-8\" standalone=\"no\"?>\n<!DOCTYPE svg PUBLIC \"-//W3C//DTD SVG 1.1//EN\"\n  \"http://www.w3.org/Graphics/SVG/1.1/DTD/svg11.dtd\">\n<!-- Created with matplotlib (https://matplotlib.org/) -->\n<svg height=\"588.35625pt\" version=\"1.1\" viewBox=\"0 0 615.34375 588.35625\" width=\"615.34375pt\" xmlns=\"http://www.w3.org/2000/svg\" xmlns:xlink=\"http://www.w3.org/1999/xlink\">\n <metadata>\n  <rdf:RDF xmlns:cc=\"http://creativecommons.org/ns#\" xmlns:dc=\"http://purl.org/dc/elements/1.1/\" xmlns:rdf=\"http://www.w3.org/1999/02/22-rdf-syntax-ns#\">\n   <cc:Work>\n    <dc:type rdf:resource=\"http://purl.org/dc/dcmitype/StillImage\"/>\n    <dc:date>2021-01-21T22:11:22.428867</dc:date>\n    <dc:format>image/svg+xml</dc:format>\n    <dc:creator>\n     <cc:Agent>\n      <dc:title>Matplotlib v3.3.3, https://matplotlib.org/</dc:title>\n     </cc:Agent>\n    </dc:creator>\n   </cc:Work>\n  </rdf:RDF>\n </metadata>\n <defs>\n  <style type=\"text/css\">*{stroke-linecap:butt;stroke-linejoin:round;}</style>\n </defs>\n <g id=\"figure_1\">\n  <g id=\"patch_1\">\n   <path d=\"M 0 588.35625 \nL 615.34375 588.35625 \nL 615.34375 0 \nL 0 0 \nz\n\" style=\"fill:none;\"/>\n  </g>\n  <g id=\"axes_1\">\n   <g id=\"patch_2\">\n    <path d=\"M 50.14375 254.290909 \nL 608.14375 254.290909 \nL 608.14375 7.2 \nL 50.14375 7.2 \nz\n\" style=\"fill:#ffffff;\"/>\n   </g>\n   <g id=\"matplotlib.axis_1\">\n    <g id=\"xtick_1\">\n     <g id=\"line2d_1\">\n      <defs>\n       <path d=\"M 0 0 \nL 0 3.5 \n\" id=\"m0db0bf0815\" style=\"stroke:#000000;stroke-width:0.8;\"/>\n      </defs>\n      <g>\n       <use style=\"stroke:#000000;stroke-width:0.8;\" x=\"129.858036\" xlink:href=\"#m0db0bf0815\" y=\"254.290909\"/>\n      </g>\n     </g>\n     <g id=\"text_1\">\n      <!-- 5 -->\n      <g transform=\"translate(126.676786 268.889347)scale(0.1 -0.1)\">\n       <defs>\n        <path d=\"M 10.796875 72.90625 \nL 49.515625 72.90625 \nL 49.515625 64.59375 \nL 19.828125 64.59375 \nL 19.828125 46.734375 \nQ 21.96875 47.46875 24.109375 47.828125 \nQ 26.265625 48.1875 28.421875 48.1875 \nQ 40.625 48.1875 47.75 41.5 \nQ 54.890625 34.8125 54.890625 23.390625 \nQ 54.890625 11.625 47.5625 5.09375 \nQ 40.234375 -1.421875 26.90625 -1.421875 \nQ 22.3125 -1.421875 17.546875 -0.640625 \nQ 12.796875 0.140625 7.71875 1.703125 \nL 7.71875 11.625 \nQ 12.109375 9.234375 16.796875 8.0625 \nQ 21.484375 6.890625 26.703125 6.890625 \nQ 35.15625 6.890625 40.078125 11.328125 \nQ 45.015625 15.765625 45.015625 23.390625 \nQ 45.015625 31 40.078125 35.4375 \nQ 35.15625 39.890625 26.703125 39.890625 \nQ 22.75 39.890625 18.8125 39.015625 \nQ 14.890625 38.140625 10.796875 36.28125 \nz\n\" id=\"DejaVuSans-53\"/>\n       </defs>\n       <use xlink:href=\"#DejaVuSans-53\"/>\n      </g>\n     </g>\n    </g>\n    <g id=\"xtick_2\">\n     <g id=\"line2d_2\">\n      <g>\n       <use style=\"stroke:#000000;stroke-width:0.8;\" x=\"220.442451\" xlink:href=\"#m0db0bf0815\" y=\"254.290909\"/>\n      </g>\n     </g>\n     <g id=\"text_2\">\n      <!-- 10 -->\n      <g transform=\"translate(214.079951 268.889347)scale(0.1 -0.1)\">\n       <defs>\n        <path d=\"M 12.40625 8.296875 \nL 28.515625 8.296875 \nL 28.515625 63.921875 \nL 10.984375 60.40625 \nL 10.984375 69.390625 \nL 28.421875 72.90625 \nL 38.28125 72.90625 \nL 38.28125 8.296875 \nL 54.390625 8.296875 \nL 54.390625 0 \nL 12.40625 0 \nz\n\" id=\"DejaVuSans-49\"/>\n        <path d=\"M 31.78125 66.40625 \nQ 24.171875 66.40625 20.328125 58.90625 \nQ 16.5 51.421875 16.5 36.375 \nQ 16.5 21.390625 20.328125 13.890625 \nQ 24.171875 6.390625 31.78125 6.390625 \nQ 39.453125 6.390625 43.28125 13.890625 \nQ 47.125 21.390625 47.125 36.375 \nQ 47.125 51.421875 43.28125 58.90625 \nQ 39.453125 66.40625 31.78125 66.40625 \nz\nM 31.78125 74.21875 \nQ 44.046875 74.21875 50.515625 64.515625 \nQ 56.984375 54.828125 56.984375 36.375 \nQ 56.984375 17.96875 50.515625 8.265625 \nQ 44.046875 -1.421875 31.78125 -1.421875 \nQ 19.53125 -1.421875 13.0625 8.265625 \nQ 6.59375 17.96875 6.59375 36.375 \nQ 6.59375 54.828125 13.0625 64.515625 \nQ 19.53125 74.21875 31.78125 74.21875 \nz\n\" id=\"DejaVuSans-48\"/>\n       </defs>\n       <use xlink:href=\"#DejaVuSans-49\"/>\n       <use x=\"63.623047\" xlink:href=\"#DejaVuSans-48\"/>\n      </g>\n     </g>\n    </g>\n    <g id=\"xtick_3\">\n     <g id=\"line2d_3\">\n      <g>\n       <use style=\"stroke:#000000;stroke-width:0.8;\" x=\"311.026867\" xlink:href=\"#m0db0bf0815\" y=\"254.290909\"/>\n      </g>\n     </g>\n     <g id=\"text_3\">\n      <!-- 15 -->\n      <g transform=\"translate(304.664367 268.889347)scale(0.1 -0.1)\">\n       <use xlink:href=\"#DejaVuSans-49\"/>\n       <use x=\"63.623047\" xlink:href=\"#DejaVuSans-53\"/>\n      </g>\n     </g>\n    </g>\n    <g id=\"xtick_4\">\n     <g id=\"line2d_4\">\n      <g>\n       <use style=\"stroke:#000000;stroke-width:0.8;\" x=\"401.611282\" xlink:href=\"#m0db0bf0815\" y=\"254.290909\"/>\n      </g>\n     </g>\n     <g id=\"text_4\">\n      <!-- 20 -->\n      <g transform=\"translate(395.248782 268.889347)scale(0.1 -0.1)\">\n       <defs>\n        <path d=\"M 19.1875 8.296875 \nL 53.609375 8.296875 \nL 53.609375 0 \nL 7.328125 0 \nL 7.328125 8.296875 \nQ 12.9375 14.109375 22.625 23.890625 \nQ 32.328125 33.6875 34.8125 36.53125 \nQ 39.546875 41.84375 41.421875 45.53125 \nQ 43.3125 49.21875 43.3125 52.78125 \nQ 43.3125 58.59375 39.234375 62.25 \nQ 35.15625 65.921875 28.609375 65.921875 \nQ 23.96875 65.921875 18.8125 64.3125 \nQ 13.671875 62.703125 7.8125 59.421875 \nL 7.8125 69.390625 \nQ 13.765625 71.78125 18.9375 73 \nQ 24.125 74.21875 28.421875 74.21875 \nQ 39.75 74.21875 46.484375 68.546875 \nQ 53.21875 62.890625 53.21875 53.421875 \nQ 53.21875 48.921875 51.53125 44.890625 \nQ 49.859375 40.875 45.40625 35.40625 \nQ 44.1875 33.984375 37.640625 27.21875 \nQ 31.109375 20.453125 19.1875 8.296875 \nz\n\" id=\"DejaVuSans-50\"/>\n       </defs>\n       <use xlink:href=\"#DejaVuSans-50\"/>\n       <use x=\"63.623047\" xlink:href=\"#DejaVuSans-48\"/>\n      </g>\n     </g>\n    </g>\n    <g id=\"xtick_5\">\n     <g id=\"line2d_5\">\n      <g>\n       <use style=\"stroke:#000000;stroke-width:0.8;\" x=\"492.195698\" xlink:href=\"#m0db0bf0815\" y=\"254.290909\"/>\n      </g>\n     </g>\n     <g id=\"text_5\">\n      <!-- 25 -->\n      <g transform=\"translate(485.833198 268.889347)scale(0.1 -0.1)\">\n       <use xlink:href=\"#DejaVuSans-50\"/>\n       <use x=\"63.623047\" xlink:href=\"#DejaVuSans-53\"/>\n      </g>\n     </g>\n    </g>\n    <g id=\"xtick_6\">\n     <g id=\"line2d_6\">\n      <g>\n       <use style=\"stroke:#000000;stroke-width:0.8;\" x=\"582.780114\" xlink:href=\"#m0db0bf0815\" y=\"254.290909\"/>\n      </g>\n     </g>\n     <g id=\"text_6\">\n      <!-- 30 -->\n      <g transform=\"translate(576.417614 268.889347)scale(0.1 -0.1)\">\n       <defs>\n        <path d=\"M 40.578125 39.3125 \nQ 47.65625 37.796875 51.625 33 \nQ 55.609375 28.21875 55.609375 21.1875 \nQ 55.609375 10.40625 48.1875 4.484375 \nQ 40.765625 -1.421875 27.09375 -1.421875 \nQ 22.515625 -1.421875 17.65625 -0.515625 \nQ 12.796875 0.390625 7.625 2.203125 \nL 7.625 11.71875 \nQ 11.71875 9.328125 16.59375 8.109375 \nQ 21.484375 6.890625 26.8125 6.890625 \nQ 36.078125 6.890625 40.9375 10.546875 \nQ 45.796875 14.203125 45.796875 21.1875 \nQ 45.796875 27.640625 41.28125 31.265625 \nQ 36.765625 34.90625 28.71875 34.90625 \nL 20.21875 34.90625 \nL 20.21875 43.015625 \nL 29.109375 43.015625 \nQ 36.375 43.015625 40.234375 45.921875 \nQ 44.09375 48.828125 44.09375 54.296875 \nQ 44.09375 59.90625 40.109375 62.90625 \nQ 36.140625 65.921875 28.71875 65.921875 \nQ 24.65625 65.921875 20.015625 65.03125 \nQ 15.375 64.15625 9.8125 62.3125 \nL 9.8125 71.09375 \nQ 15.4375 72.65625 20.34375 73.4375 \nQ 25.25 74.21875 29.59375 74.21875 \nQ 40.828125 74.21875 47.359375 69.109375 \nQ 53.90625 64.015625 53.90625 55.328125 \nQ 53.90625 49.265625 50.4375 45.09375 \nQ 46.96875 40.921875 40.578125 39.3125 \nz\n\" id=\"DejaVuSans-51\"/>\n       </defs>\n       <use xlink:href=\"#DejaVuSans-51\"/>\n       <use x=\"63.623047\" xlink:href=\"#DejaVuSans-48\"/>\n      </g>\n     </g>\n    </g>\n    <g id=\"text_7\">\n     <!-- Number of Topics -->\n     <g transform=\"translate(285.879687 282.567472)scale(0.1 -0.1)\">\n      <defs>\n       <path d=\"M 9.8125 72.90625 \nL 23.09375 72.90625 \nL 55.421875 11.921875 \nL 55.421875 72.90625 \nL 64.984375 72.90625 \nL 64.984375 0 \nL 51.703125 0 \nL 19.390625 60.984375 \nL 19.390625 0 \nL 9.8125 0 \nz\n\" id=\"DejaVuSans-78\"/>\n       <path d=\"M 8.5 21.578125 \nL 8.5 54.6875 \nL 17.484375 54.6875 \nL 17.484375 21.921875 \nQ 17.484375 14.15625 20.5 10.265625 \nQ 23.53125 6.390625 29.59375 6.390625 \nQ 36.859375 6.390625 41.078125 11.03125 \nQ 45.3125 15.671875 45.3125 23.6875 \nL 45.3125 54.6875 \nL 54.296875 54.6875 \nL 54.296875 0 \nL 45.3125 0 \nL 45.3125 8.40625 \nQ 42.046875 3.421875 37.71875 1 \nQ 33.40625 -1.421875 27.6875 -1.421875 \nQ 18.265625 -1.421875 13.375 4.4375 \nQ 8.5 10.296875 8.5 21.578125 \nz\nM 31.109375 56 \nz\n\" id=\"DejaVuSans-117\"/>\n       <path d=\"M 52 44.1875 \nQ 55.375 50.25 60.0625 53.125 \nQ 64.75 56 71.09375 56 \nQ 79.640625 56 84.28125 50.015625 \nQ 88.921875 44.046875 88.921875 33.015625 \nL 88.921875 0 \nL 79.890625 0 \nL 79.890625 32.71875 \nQ 79.890625 40.578125 77.09375 44.375 \nQ 74.3125 48.1875 68.609375 48.1875 \nQ 61.625 48.1875 57.5625 43.546875 \nQ 53.515625 38.921875 53.515625 30.90625 \nL 53.515625 0 \nL 44.484375 0 \nL 44.484375 32.71875 \nQ 44.484375 40.625 41.703125 44.40625 \nQ 38.921875 48.1875 33.109375 48.1875 \nQ 26.21875 48.1875 22.15625 43.53125 \nQ 18.109375 38.875 18.109375 30.90625 \nL 18.109375 0 \nL 9.078125 0 \nL 9.078125 54.6875 \nL 18.109375 54.6875 \nL 18.109375 46.1875 \nQ 21.1875 51.21875 25.484375 53.609375 \nQ 29.78125 56 35.6875 56 \nQ 41.65625 56 45.828125 52.96875 \nQ 50 49.953125 52 44.1875 \nz\n\" id=\"DejaVuSans-109\"/>\n       <path d=\"M 48.6875 27.296875 \nQ 48.6875 37.203125 44.609375 42.84375 \nQ 40.53125 48.484375 33.40625 48.484375 \nQ 26.265625 48.484375 22.1875 42.84375 \nQ 18.109375 37.203125 18.109375 27.296875 \nQ 18.109375 17.390625 22.1875 11.75 \nQ 26.265625 6.109375 33.40625 6.109375 \nQ 40.53125 6.109375 44.609375 11.75 \nQ 48.6875 17.390625 48.6875 27.296875 \nz\nM 18.109375 46.390625 \nQ 20.953125 51.265625 25.265625 53.625 \nQ 29.59375 56 35.59375 56 \nQ 45.5625 56 51.78125 48.09375 \nQ 58.015625 40.1875 58.015625 27.296875 \nQ 58.015625 14.40625 51.78125 6.484375 \nQ 45.5625 -1.421875 35.59375 -1.421875 \nQ 29.59375 -1.421875 25.265625 0.953125 \nQ 20.953125 3.328125 18.109375 8.203125 \nL 18.109375 0 \nL 9.078125 0 \nL 9.078125 75.984375 \nL 18.109375 75.984375 \nz\n\" id=\"DejaVuSans-98\"/>\n       <path d=\"M 56.203125 29.59375 \nL 56.203125 25.203125 \nL 14.890625 25.203125 \nQ 15.484375 15.921875 20.484375 11.0625 \nQ 25.484375 6.203125 34.421875 6.203125 \nQ 39.59375 6.203125 44.453125 7.46875 \nQ 49.3125 8.734375 54.109375 11.28125 \nL 54.109375 2.78125 \nQ 49.265625 0.734375 44.1875 -0.34375 \nQ 39.109375 -1.421875 33.890625 -1.421875 \nQ 20.796875 -1.421875 13.15625 6.1875 \nQ 5.515625 13.8125 5.515625 26.8125 \nQ 5.515625 40.234375 12.765625 48.109375 \nQ 20.015625 56 32.328125 56 \nQ 43.359375 56 49.78125 48.890625 \nQ 56.203125 41.796875 56.203125 29.59375 \nz\nM 47.21875 32.234375 \nQ 47.125 39.59375 43.09375 43.984375 \nQ 39.0625 48.390625 32.421875 48.390625 \nQ 24.90625 48.390625 20.390625 44.140625 \nQ 15.875 39.890625 15.1875 32.171875 \nz\n\" id=\"DejaVuSans-101\"/>\n       <path d=\"M 41.109375 46.296875 \nQ 39.59375 47.171875 37.8125 47.578125 \nQ 36.03125 48 33.890625 48 \nQ 26.265625 48 22.1875 43.046875 \nQ 18.109375 38.09375 18.109375 28.8125 \nL 18.109375 0 \nL 9.078125 0 \nL 9.078125 54.6875 \nL 18.109375 54.6875 \nL 18.109375 46.1875 \nQ 20.953125 51.171875 25.484375 53.578125 \nQ 30.03125 56 36.53125 56 \nQ 37.453125 56 38.578125 55.875 \nQ 39.703125 55.765625 41.0625 55.515625 \nz\n\" id=\"DejaVuSans-114\"/>\n       <path id=\"DejaVuSans-32\"/>\n       <path d=\"M 30.609375 48.390625 \nQ 23.390625 48.390625 19.1875 42.75 \nQ 14.984375 37.109375 14.984375 27.296875 \nQ 14.984375 17.484375 19.15625 11.84375 \nQ 23.34375 6.203125 30.609375 6.203125 \nQ 37.796875 6.203125 41.984375 11.859375 \nQ 46.1875 17.53125 46.1875 27.296875 \nQ 46.1875 37.015625 41.984375 42.703125 \nQ 37.796875 48.390625 30.609375 48.390625 \nz\nM 30.609375 56 \nQ 42.328125 56 49.015625 48.375 \nQ 55.71875 40.765625 55.71875 27.296875 \nQ 55.71875 13.875 49.015625 6.21875 \nQ 42.328125 -1.421875 30.609375 -1.421875 \nQ 18.84375 -1.421875 12.171875 6.21875 \nQ 5.515625 13.875 5.515625 27.296875 \nQ 5.515625 40.765625 12.171875 48.375 \nQ 18.84375 56 30.609375 56 \nz\n\" id=\"DejaVuSans-111\"/>\n       <path d=\"M 37.109375 75.984375 \nL 37.109375 68.5 \nL 28.515625 68.5 \nQ 23.6875 68.5 21.796875 66.546875 \nQ 19.921875 64.59375 19.921875 59.515625 \nL 19.921875 54.6875 \nL 34.71875 54.6875 \nL 34.71875 47.703125 \nL 19.921875 47.703125 \nL 19.921875 0 \nL 10.890625 0 \nL 10.890625 47.703125 \nL 2.296875 47.703125 \nL 2.296875 54.6875 \nL 10.890625 54.6875 \nL 10.890625 58.5 \nQ 10.890625 67.625 15.140625 71.796875 \nQ 19.390625 75.984375 28.609375 75.984375 \nz\n\" id=\"DejaVuSans-102\"/>\n       <path d=\"M -0.296875 72.90625 \nL 61.375 72.90625 \nL 61.375 64.59375 \nL 35.5 64.59375 \nL 35.5 0 \nL 25.59375 0 \nL 25.59375 64.59375 \nL -0.296875 64.59375 \nz\n\" id=\"DejaVuSans-84\"/>\n       <path d=\"M 18.109375 8.203125 \nL 18.109375 -20.796875 \nL 9.078125 -20.796875 \nL 9.078125 54.6875 \nL 18.109375 54.6875 \nL 18.109375 46.390625 \nQ 20.953125 51.265625 25.265625 53.625 \nQ 29.59375 56 35.59375 56 \nQ 45.5625 56 51.78125 48.09375 \nQ 58.015625 40.1875 58.015625 27.296875 \nQ 58.015625 14.40625 51.78125 6.484375 \nQ 45.5625 -1.421875 35.59375 -1.421875 \nQ 29.59375 -1.421875 25.265625 0.953125 \nQ 20.953125 3.328125 18.109375 8.203125 \nz\nM 48.6875 27.296875 \nQ 48.6875 37.203125 44.609375 42.84375 \nQ 40.53125 48.484375 33.40625 48.484375 \nQ 26.265625 48.484375 22.1875 42.84375 \nQ 18.109375 37.203125 18.109375 27.296875 \nQ 18.109375 17.390625 22.1875 11.75 \nQ 26.265625 6.109375 33.40625 6.109375 \nQ 40.53125 6.109375 44.609375 11.75 \nQ 48.6875 17.390625 48.6875 27.296875 \nz\n\" id=\"DejaVuSans-112\"/>\n       <path d=\"M 9.421875 54.6875 \nL 18.40625 54.6875 \nL 18.40625 0 \nL 9.421875 0 \nz\nM 9.421875 75.984375 \nL 18.40625 75.984375 \nL 18.40625 64.59375 \nL 9.421875 64.59375 \nz\n\" id=\"DejaVuSans-105\"/>\n       <path d=\"M 48.78125 52.59375 \nL 48.78125 44.1875 \nQ 44.96875 46.296875 41.140625 47.34375 \nQ 37.3125 48.390625 33.40625 48.390625 \nQ 24.65625 48.390625 19.8125 42.84375 \nQ 14.984375 37.3125 14.984375 27.296875 \nQ 14.984375 17.28125 19.8125 11.734375 \nQ 24.65625 6.203125 33.40625 6.203125 \nQ 37.3125 6.203125 41.140625 7.25 \nQ 44.96875 8.296875 48.78125 10.40625 \nL 48.78125 2.09375 \nQ 45.015625 0.34375 40.984375 -0.53125 \nQ 36.96875 -1.421875 32.421875 -1.421875 \nQ 20.0625 -1.421875 12.78125 6.34375 \nQ 5.515625 14.109375 5.515625 27.296875 \nQ 5.515625 40.671875 12.859375 48.328125 \nQ 20.21875 56 33.015625 56 \nQ 37.15625 56 41.109375 55.140625 \nQ 45.0625 54.296875 48.78125 52.59375 \nz\n\" id=\"DejaVuSans-99\"/>\n       <path d=\"M 44.28125 53.078125 \nL 44.28125 44.578125 \nQ 40.484375 46.53125 36.375 47.5 \nQ 32.28125 48.484375 27.875 48.484375 \nQ 21.1875 48.484375 17.84375 46.4375 \nQ 14.5 44.390625 14.5 40.28125 \nQ 14.5 37.15625 16.890625 35.375 \nQ 19.28125 33.59375 26.515625 31.984375 \nL 29.59375 31.296875 \nQ 39.15625 29.25 43.1875 25.515625 \nQ 47.21875 21.78125 47.21875 15.09375 \nQ 47.21875 7.46875 41.1875 3.015625 \nQ 35.15625 -1.421875 24.609375 -1.421875 \nQ 20.21875 -1.421875 15.453125 -0.5625 \nQ 10.6875 0.296875 5.421875 2 \nL 5.421875 11.28125 \nQ 10.40625 8.6875 15.234375 7.390625 \nQ 20.0625 6.109375 24.8125 6.109375 \nQ 31.15625 6.109375 34.5625 8.28125 \nQ 37.984375 10.453125 37.984375 14.40625 \nQ 37.984375 18.0625 35.515625 20.015625 \nQ 33.0625 21.96875 24.703125 23.78125 \nL 21.578125 24.515625 \nQ 13.234375 26.265625 9.515625 29.90625 \nQ 5.8125 33.546875 5.8125 39.890625 \nQ 5.8125 47.609375 11.28125 51.796875 \nQ 16.75 56 26.8125 56 \nQ 31.78125 56 36.171875 55.265625 \nQ 40.578125 54.546875 44.28125 53.078125 \nz\n\" id=\"DejaVuSans-115\"/>\n      </defs>\n      <use xlink:href=\"#DejaVuSans-78\"/>\n      <use x=\"74.804688\" xlink:href=\"#DejaVuSans-117\"/>\n      <use x=\"138.183594\" xlink:href=\"#DejaVuSans-109\"/>\n      <use x=\"235.595703\" xlink:href=\"#DejaVuSans-98\"/>\n      <use x=\"299.072266\" xlink:href=\"#DejaVuSans-101\"/>\n      <use x=\"360.595703\" xlink:href=\"#DejaVuSans-114\"/>\n      <use x=\"401.708984\" xlink:href=\"#DejaVuSans-32\"/>\n      <use x=\"433.496094\" xlink:href=\"#DejaVuSans-111\"/>\n      <use x=\"494.677734\" xlink:href=\"#DejaVuSans-102\"/>\n      <use x=\"529.882812\" xlink:href=\"#DejaVuSans-32\"/>\n      <use x=\"561.669922\" xlink:href=\"#DejaVuSans-84\"/>\n      <use x=\"605.753906\" xlink:href=\"#DejaVuSans-111\"/>\n      <use x=\"666.935547\" xlink:href=\"#DejaVuSans-112\"/>\n      <use x=\"730.412109\" xlink:href=\"#DejaVuSans-105\"/>\n      <use x=\"758.195312\" xlink:href=\"#DejaVuSans-99\"/>\n      <use x=\"813.175781\" xlink:href=\"#DejaVuSans-115\"/>\n     </g>\n    </g>\n   </g>\n   <g id=\"matplotlib.axis_2\">\n    <g id=\"ytick_1\">\n     <g id=\"line2d_7\">\n      <defs>\n       <path d=\"M 0 0 \nL -3.5 0 \n\" id=\"m1f9bd7fde6\" style=\"stroke:#000000;stroke-width:0.8;\"/>\n      </defs>\n      <g>\n       <use style=\"stroke:#000000;stroke-width:0.8;\" x=\"50.14375\" xlink:href=\"#m1f9bd7fde6\" y=\"225.175932\"/>\n      </g>\n     </g>\n     <g id=\"text_8\">\n      <!-- −14 -->\n      <g transform=\"translate(22.039062 228.975151)scale(0.1 -0.1)\">\n       <defs>\n        <path d=\"M 10.59375 35.5 \nL 73.1875 35.5 \nL 73.1875 27.203125 \nL 10.59375 27.203125 \nz\n\" id=\"DejaVuSans-8722\"/>\n        <path d=\"M 37.796875 64.3125 \nL 12.890625 25.390625 \nL 37.796875 25.390625 \nz\nM 35.203125 72.90625 \nL 47.609375 72.90625 \nL 47.609375 25.390625 \nL 58.015625 25.390625 \nL 58.015625 17.1875 \nL 47.609375 17.1875 \nL 47.609375 0 \nL 37.796875 0 \nL 37.796875 17.1875 \nL 4.890625 17.1875 \nL 4.890625 26.703125 \nz\n\" id=\"DejaVuSans-52\"/>\n       </defs>\n       <use xlink:href=\"#DejaVuSans-8722\"/>\n       <use x=\"83.789062\" xlink:href=\"#DejaVuSans-49\"/>\n       <use x=\"147.412109\" xlink:href=\"#DejaVuSans-52\"/>\n      </g>\n     </g>\n    </g>\n    <g id=\"ytick_2\">\n     <g id=\"line2d_8\">\n      <g>\n       <use style=\"stroke:#000000;stroke-width:0.8;\" x=\"50.14375\" xlink:href=\"#m1f9bd7fde6\" y=\"191.484388\"/>\n      </g>\n     </g>\n     <g id=\"text_9\">\n      <!-- −13 -->\n      <g transform=\"translate(22.039062 195.283607)scale(0.1 -0.1)\">\n       <use xlink:href=\"#DejaVuSans-8722\"/>\n       <use x=\"83.789062\" xlink:href=\"#DejaVuSans-49\"/>\n       <use x=\"147.412109\" xlink:href=\"#DejaVuSans-51\"/>\n      </g>\n     </g>\n    </g>\n    <g id=\"ytick_3\">\n     <g id=\"line2d_9\">\n      <g>\n       <use style=\"stroke:#000000;stroke-width:0.8;\" x=\"50.14375\" xlink:href=\"#m1f9bd7fde6\" y=\"157.792844\"/>\n      </g>\n     </g>\n     <g id=\"text_10\">\n      <!-- −12 -->\n      <g transform=\"translate(22.039062 161.592063)scale(0.1 -0.1)\">\n       <use xlink:href=\"#DejaVuSans-8722\"/>\n       <use x=\"83.789062\" xlink:href=\"#DejaVuSans-49\"/>\n       <use x=\"147.412109\" xlink:href=\"#DejaVuSans-50\"/>\n      </g>\n     </g>\n    </g>\n    <g id=\"ytick_4\">\n     <g id=\"line2d_10\">\n      <g>\n       <use style=\"stroke:#000000;stroke-width:0.8;\" x=\"50.14375\" xlink:href=\"#m1f9bd7fde6\" y=\"124.1013\"/>\n      </g>\n     </g>\n     <g id=\"text_11\">\n      <!-- −11 -->\n      <g transform=\"translate(22.039062 127.900519)scale(0.1 -0.1)\">\n       <use xlink:href=\"#DejaVuSans-8722\"/>\n       <use x=\"83.789062\" xlink:href=\"#DejaVuSans-49\"/>\n       <use x=\"147.412109\" xlink:href=\"#DejaVuSans-49\"/>\n      </g>\n     </g>\n    </g>\n    <g id=\"ytick_5\">\n     <g id=\"line2d_11\">\n      <g>\n       <use style=\"stroke:#000000;stroke-width:0.8;\" x=\"50.14375\" xlink:href=\"#m1f9bd7fde6\" y=\"90.409756\"/>\n      </g>\n     </g>\n     <g id=\"text_12\">\n      <!-- −10 -->\n      <g transform=\"translate(22.039062 94.208975)scale(0.1 -0.1)\">\n       <use xlink:href=\"#DejaVuSans-8722\"/>\n       <use x=\"83.789062\" xlink:href=\"#DejaVuSans-49\"/>\n       <use x=\"147.412109\" xlink:href=\"#DejaVuSans-48\"/>\n      </g>\n     </g>\n    </g>\n    <g id=\"ytick_6\">\n     <g id=\"line2d_12\">\n      <g>\n       <use style=\"stroke:#000000;stroke-width:0.8;\" x=\"50.14375\" xlink:href=\"#m1f9bd7fde6\" y=\"56.718212\"/>\n      </g>\n     </g>\n     <g id=\"text_13\">\n      <!-- −9 -->\n      <g transform=\"translate(28.401562 60.517431)scale(0.1 -0.1)\">\n       <defs>\n        <path d=\"M 10.984375 1.515625 \nL 10.984375 10.5 \nQ 14.703125 8.734375 18.5 7.8125 \nQ 22.3125 6.890625 25.984375 6.890625 \nQ 35.75 6.890625 40.890625 13.453125 \nQ 46.046875 20.015625 46.78125 33.40625 \nQ 43.953125 29.203125 39.59375 26.953125 \nQ 35.25 24.703125 29.984375 24.703125 \nQ 19.046875 24.703125 12.671875 31.3125 \nQ 6.296875 37.9375 6.296875 49.421875 \nQ 6.296875 60.640625 12.9375 67.421875 \nQ 19.578125 74.21875 30.609375 74.21875 \nQ 43.265625 74.21875 49.921875 64.515625 \nQ 56.59375 54.828125 56.59375 36.375 \nQ 56.59375 19.140625 48.40625 8.859375 \nQ 40.234375 -1.421875 26.421875 -1.421875 \nQ 22.703125 -1.421875 18.890625 -0.6875 \nQ 15.09375 0.046875 10.984375 1.515625 \nz\nM 30.609375 32.421875 \nQ 37.25 32.421875 41.125 36.953125 \nQ 45.015625 41.5 45.015625 49.421875 \nQ 45.015625 57.28125 41.125 61.84375 \nQ 37.25 66.40625 30.609375 66.40625 \nQ 23.96875 66.40625 20.09375 61.84375 \nQ 16.21875 57.28125 16.21875 49.421875 \nQ 16.21875 41.5 20.09375 36.953125 \nQ 23.96875 32.421875 30.609375 32.421875 \nz\n\" id=\"DejaVuSans-57\"/>\n       </defs>\n       <use xlink:href=\"#DejaVuSans-8722\"/>\n       <use x=\"83.789062\" xlink:href=\"#DejaVuSans-57\"/>\n      </g>\n     </g>\n    </g>\n    <g id=\"ytick_7\">\n     <g id=\"line2d_13\">\n      <g>\n       <use style=\"stroke:#000000;stroke-width:0.8;\" x=\"50.14375\" xlink:href=\"#m1f9bd7fde6\" y=\"23.026668\"/>\n      </g>\n     </g>\n     <g id=\"text_14\">\n      <!-- −8 -->\n      <g transform=\"translate(28.401562 26.825887)scale(0.1 -0.1)\">\n       <defs>\n        <path d=\"M 31.78125 34.625 \nQ 24.75 34.625 20.71875 30.859375 \nQ 16.703125 27.09375 16.703125 20.515625 \nQ 16.703125 13.921875 20.71875 10.15625 \nQ 24.75 6.390625 31.78125 6.390625 \nQ 38.8125 6.390625 42.859375 10.171875 \nQ 46.921875 13.96875 46.921875 20.515625 \nQ 46.921875 27.09375 42.890625 30.859375 \nQ 38.875 34.625 31.78125 34.625 \nz\nM 21.921875 38.8125 \nQ 15.578125 40.375 12.03125 44.71875 \nQ 8.5 49.078125 8.5 55.328125 \nQ 8.5 64.0625 14.71875 69.140625 \nQ 20.953125 74.21875 31.78125 74.21875 \nQ 42.671875 74.21875 48.875 69.140625 \nQ 55.078125 64.0625 55.078125 55.328125 \nQ 55.078125 49.078125 51.53125 44.71875 \nQ 48 40.375 41.703125 38.8125 \nQ 48.828125 37.15625 52.796875 32.3125 \nQ 56.78125 27.484375 56.78125 20.515625 \nQ 56.78125 9.90625 50.3125 4.234375 \nQ 43.84375 -1.421875 31.78125 -1.421875 \nQ 19.734375 -1.421875 13.25 4.234375 \nQ 6.78125 9.90625 6.78125 20.515625 \nQ 6.78125 27.484375 10.78125 32.3125 \nQ 14.796875 37.15625 21.921875 38.8125 \nz\nM 18.3125 54.390625 \nQ 18.3125 48.734375 21.84375 45.5625 \nQ 25.390625 42.390625 31.78125 42.390625 \nQ 38.140625 42.390625 41.71875 45.5625 \nQ 45.3125 48.734375 45.3125 54.390625 \nQ 45.3125 60.0625 41.71875 63.234375 \nQ 38.140625 66.40625 31.78125 66.40625 \nQ 25.390625 66.40625 21.84375 63.234375 \nQ 18.3125 60.0625 18.3125 54.390625 \nz\n\" id=\"DejaVuSans-56\"/>\n       </defs>\n       <use xlink:href=\"#DejaVuSans-8722\"/>\n       <use x=\"83.789062\" xlink:href=\"#DejaVuSans-56\"/>\n      </g>\n     </g>\n    </g>\n    <g id=\"text_15\">\n     <!-- Perplexity -->\n     <g transform=\"translate(15.959375 155.531392)rotate(-90)scale(0.1 -0.1)\">\n      <defs>\n       <path d=\"M 19.671875 64.796875 \nL 19.671875 37.40625 \nL 32.078125 37.40625 \nQ 38.96875 37.40625 42.71875 40.96875 \nQ 46.484375 44.53125 46.484375 51.125 \nQ 46.484375 57.671875 42.71875 61.234375 \nQ 38.96875 64.796875 32.078125 64.796875 \nz\nM 9.8125 72.90625 \nL 32.078125 72.90625 \nQ 44.34375 72.90625 50.609375 67.359375 \nQ 56.890625 61.8125 56.890625 51.125 \nQ 56.890625 40.328125 50.609375 34.8125 \nQ 44.34375 29.296875 32.078125 29.296875 \nL 19.671875 29.296875 \nL 19.671875 0 \nL 9.8125 0 \nz\n\" id=\"DejaVuSans-80\"/>\n       <path d=\"M 9.421875 75.984375 \nL 18.40625 75.984375 \nL 18.40625 0 \nL 9.421875 0 \nz\n\" id=\"DejaVuSans-108\"/>\n       <path d=\"M 54.890625 54.6875 \nL 35.109375 28.078125 \nL 55.90625 0 \nL 45.3125 0 \nL 29.390625 21.484375 \nL 13.484375 0 \nL 2.875 0 \nL 24.125 28.609375 \nL 4.6875 54.6875 \nL 15.28125 54.6875 \nL 29.78125 35.203125 \nL 44.28125 54.6875 \nz\n\" id=\"DejaVuSans-120\"/>\n       <path d=\"M 18.3125 70.21875 \nL 18.3125 54.6875 \nL 36.8125 54.6875 \nL 36.8125 47.703125 \nL 18.3125 47.703125 \nL 18.3125 18.015625 \nQ 18.3125 11.328125 20.140625 9.421875 \nQ 21.96875 7.515625 27.59375 7.515625 \nL 36.8125 7.515625 \nL 36.8125 0 \nL 27.59375 0 \nQ 17.1875 0 13.234375 3.875 \nQ 9.28125 7.765625 9.28125 18.015625 \nL 9.28125 47.703125 \nL 2.6875 47.703125 \nL 2.6875 54.6875 \nL 9.28125 54.6875 \nL 9.28125 70.21875 \nz\n\" id=\"DejaVuSans-116\"/>\n       <path d=\"M 32.171875 -5.078125 \nQ 28.375 -14.84375 24.75 -17.8125 \nQ 21.140625 -20.796875 15.09375 -20.796875 \nL 7.90625 -20.796875 \nL 7.90625 -13.28125 \nL 13.1875 -13.28125 \nQ 16.890625 -13.28125 18.9375 -11.515625 \nQ 21 -9.765625 23.484375 -3.21875 \nL 25.09375 0.875 \nL 2.984375 54.6875 \nL 12.5 54.6875 \nL 29.59375 11.921875 \nL 46.6875 54.6875 \nL 56.203125 54.6875 \nz\n\" id=\"DejaVuSans-121\"/>\n      </defs>\n      <use xlink:href=\"#DejaVuSans-80\"/>\n      <use x=\"56.677734\" xlink:href=\"#DejaVuSans-101\"/>\n      <use x=\"118.201172\" xlink:href=\"#DejaVuSans-114\"/>\n      <use x=\"159.314453\" xlink:href=\"#DejaVuSans-112\"/>\n      <use x=\"222.791016\" xlink:href=\"#DejaVuSans-108\"/>\n      <use x=\"250.574219\" xlink:href=\"#DejaVuSans-101\"/>\n      <use x=\"310.347656\" xlink:href=\"#DejaVuSans-120\"/>\n      <use x=\"369.527344\" xlink:href=\"#DejaVuSans-105\"/>\n      <use x=\"397.310547\" xlink:href=\"#DejaVuSans-116\"/>\n      <use x=\"436.519531\" xlink:href=\"#DejaVuSans-121\"/>\n     </g>\n    </g>\n   </g>\n   <g id=\"line2d_14\">\n    <path clip-path=\"url(#pd2c0e08b87)\" d=\"M 75.507386 18.431405 \nL 93.624269 22.107445 \nL 111.741153 27.516802 \nL 129.858036 31.141817 \nL 147.974919 33.154842 \nL 166.091802 35.80352 \nL 184.208685 40.400116 \nL 202.325568 44.950043 \nL 220.442451 49.955971 \nL 238.559334 58.448535 \nL 256.676218 72.002251 \nL 274.793101 89.303662 \nL 292.909984 104.748355 \nL 311.026867 117.290102 \nL 329.14375 126.457853 \nL 347.260633 134.111161 \nL 365.377516 148.782721 \nL 383.494399 157.018026 \nL 401.611282 164.608133 \nL 419.728166 171.233755 \nL 437.845049 179.036088 \nL 455.961932 187.596465 \nL 474.078815 195.40397 \nL 492.195698 203.273007 \nL 510.312581 212.408472 \nL 528.429464 219.909744 \nL 546.546347 226.918508 \nL 564.663231 235.299938 \nL 582.780114 243.059504 \n\" style=\"fill:none;stroke:#1f77b4;stroke-linecap:square;stroke-width:1.5;\"/>\n    <defs>\n     <path d=\"M 0 3 \nC 0.795609 3 1.55874 2.683901 2.12132 2.12132 \nC 2.683901 1.55874 3 0.795609 3 0 \nC 3 -0.795609 2.683901 -1.55874 2.12132 -2.12132 \nC 1.55874 -2.683901 0.795609 -3 0 -3 \nC -0.795609 -3 -1.55874 -2.683901 -2.12132 -2.12132 \nC -2.683901 -1.55874 -3 -0.795609 -3 0 \nC -3 0.795609 -2.683901 1.55874 -2.12132 2.12132 \nC -1.55874 2.683901 -0.795609 3 0 3 \nz\n\" id=\"m57a4f0d908\" style=\"stroke:#1f77b4;\"/>\n    </defs>\n    <g clip-path=\"url(#pd2c0e08b87)\">\n     <use style=\"fill:#1f77b4;stroke:#1f77b4;\" x=\"75.507386\" xlink:href=\"#m57a4f0d908\" y=\"18.431405\"/>\n     <use style=\"fill:#1f77b4;stroke:#1f77b4;\" x=\"93.624269\" xlink:href=\"#m57a4f0d908\" y=\"22.107445\"/>\n     <use style=\"fill:#1f77b4;stroke:#1f77b4;\" x=\"111.741153\" xlink:href=\"#m57a4f0d908\" y=\"27.516802\"/>\n     <use style=\"fill:#1f77b4;stroke:#1f77b4;\" x=\"129.858036\" xlink:href=\"#m57a4f0d908\" y=\"31.141817\"/>\n     <use style=\"fill:#1f77b4;stroke:#1f77b4;\" x=\"147.974919\" xlink:href=\"#m57a4f0d908\" y=\"33.154842\"/>\n     <use style=\"fill:#1f77b4;stroke:#1f77b4;\" x=\"166.091802\" xlink:href=\"#m57a4f0d908\" y=\"35.80352\"/>\n     <use style=\"fill:#1f77b4;stroke:#1f77b4;\" x=\"184.208685\" xlink:href=\"#m57a4f0d908\" y=\"40.400116\"/>\n     <use style=\"fill:#1f77b4;stroke:#1f77b4;\" x=\"202.325568\" xlink:href=\"#m57a4f0d908\" y=\"44.950043\"/>\n     <use style=\"fill:#1f77b4;stroke:#1f77b4;\" x=\"220.442451\" xlink:href=\"#m57a4f0d908\" y=\"49.955971\"/>\n     <use style=\"fill:#1f77b4;stroke:#1f77b4;\" x=\"238.559334\" xlink:href=\"#m57a4f0d908\" y=\"58.448535\"/>\n     <use style=\"fill:#1f77b4;stroke:#1f77b4;\" x=\"256.676218\" xlink:href=\"#m57a4f0d908\" y=\"72.002251\"/>\n     <use style=\"fill:#1f77b4;stroke:#1f77b4;\" x=\"274.793101\" xlink:href=\"#m57a4f0d908\" y=\"89.303662\"/>\n     <use style=\"fill:#1f77b4;stroke:#1f77b4;\" x=\"292.909984\" xlink:href=\"#m57a4f0d908\" y=\"104.748355\"/>\n     <use style=\"fill:#1f77b4;stroke:#1f77b4;\" x=\"311.026867\" xlink:href=\"#m57a4f0d908\" y=\"117.290102\"/>\n     <use style=\"fill:#1f77b4;stroke:#1f77b4;\" x=\"329.14375\" xlink:href=\"#m57a4f0d908\" y=\"126.457853\"/>\n     <use style=\"fill:#1f77b4;stroke:#1f77b4;\" x=\"347.260633\" xlink:href=\"#m57a4f0d908\" y=\"134.111161\"/>\n     <use style=\"fill:#1f77b4;stroke:#1f77b4;\" x=\"365.377516\" xlink:href=\"#m57a4f0d908\" y=\"148.782721\"/>\n     <use style=\"fill:#1f77b4;stroke:#1f77b4;\" x=\"383.494399\" xlink:href=\"#m57a4f0d908\" y=\"157.018026\"/>\n     <use style=\"fill:#1f77b4;stroke:#1f77b4;\" x=\"401.611282\" xlink:href=\"#m57a4f0d908\" y=\"164.608133\"/>\n     <use style=\"fill:#1f77b4;stroke:#1f77b4;\" x=\"419.728166\" xlink:href=\"#m57a4f0d908\" y=\"171.233755\"/>\n     <use style=\"fill:#1f77b4;stroke:#1f77b4;\" x=\"437.845049\" xlink:href=\"#m57a4f0d908\" y=\"179.036088\"/>\n     <use style=\"fill:#1f77b4;stroke:#1f77b4;\" x=\"455.961932\" xlink:href=\"#m57a4f0d908\" y=\"187.596465\"/>\n     <use style=\"fill:#1f77b4;stroke:#1f77b4;\" x=\"474.078815\" xlink:href=\"#m57a4f0d908\" y=\"195.40397\"/>\n     <use style=\"fill:#1f77b4;stroke:#1f77b4;\" x=\"492.195698\" xlink:href=\"#m57a4f0d908\" y=\"203.273007\"/>\n     <use style=\"fill:#1f77b4;stroke:#1f77b4;\" x=\"510.312581\" xlink:href=\"#m57a4f0d908\" y=\"212.408472\"/>\n     <use style=\"fill:#1f77b4;stroke:#1f77b4;\" x=\"528.429464\" xlink:href=\"#m57a4f0d908\" y=\"219.909744\"/>\n     <use style=\"fill:#1f77b4;stroke:#1f77b4;\" x=\"546.546347\" xlink:href=\"#m57a4f0d908\" y=\"226.918508\"/>\n     <use style=\"fill:#1f77b4;stroke:#1f77b4;\" x=\"564.663231\" xlink:href=\"#m57a4f0d908\" y=\"235.299938\"/>\n     <use style=\"fill:#1f77b4;stroke:#1f77b4;\" x=\"582.780114\" xlink:href=\"#m57a4f0d908\" y=\"243.059504\"/>\n    </g>\n   </g>\n   <g id=\"patch_3\">\n    <path d=\"M 50.14375 254.290909 \nL 50.14375 7.2 \n\" style=\"fill:none;stroke:#000000;stroke-linecap:square;stroke-linejoin:miter;stroke-width:0.8;\"/>\n   </g>\n   <g id=\"patch_4\">\n    <path d=\"M 608.14375 254.290909 \nL 608.14375 7.2 \n\" style=\"fill:none;stroke:#000000;stroke-linecap:square;stroke-linejoin:miter;stroke-width:0.8;\"/>\n   </g>\n   <g id=\"patch_5\">\n    <path d=\"M 50.14375 254.290909 \nL 608.14375 254.290909 \n\" style=\"fill:none;stroke:#000000;stroke-linecap:square;stroke-linejoin:miter;stroke-width:0.8;\"/>\n   </g>\n   <g id=\"patch_6\">\n    <path d=\"M 50.14375 7.2 \nL 608.14375 7.2 \n\" style=\"fill:none;stroke:#000000;stroke-linecap:square;stroke-linejoin:miter;stroke-width:0.8;\"/>\n   </g>\n   <g id=\"legend_1\">\n    <g id=\"patch_7\">\n     <path d=\"M 562.795313 29.878125 \nL 601.14375 29.878125 \nQ 603.14375 29.878125 603.14375 27.878125 \nL 603.14375 14.2 \nQ 603.14375 12.2 601.14375 12.2 \nL 562.795313 12.2 \nQ 560.795313 12.2 560.795313 14.2 \nL 560.795313 27.878125 \nQ 560.795313 29.878125 562.795313 29.878125 \nz\n\" style=\"fill:#ffffff;opacity:0.8;stroke:#cccccc;stroke-linejoin:miter;\"/>\n    </g>\n    <g id=\"line2d_15\">\n     <path d=\"M 564.795313 20.298438 \nL 584.795313 20.298438 \n\" style=\"fill:none;stroke:#1f77b4;stroke-linecap:square;stroke-width:1.5;\"/>\n    </g>\n    <g id=\"line2d_16\">\n     <g>\n      <use style=\"fill:#1f77b4;stroke:#1f77b4;\" x=\"574.795313\" xlink:href=\"#m57a4f0d908\" y=\"20.298438\"/>\n     </g>\n    </g>\n    <g id=\"text_16\">\n     <!-- p -->\n     <g transform=\"translate(592.795313 23.798438)scale(0.1 -0.1)\">\n      <use xlink:href=\"#DejaVuSans-112\"/>\n     </g>\n    </g>\n   </g>\n  </g>\n  <g id=\"axes_2\">\n   <g id=\"patch_8\">\n    <path d=\"M 50.14375 550.8 \nL 608.14375 550.8 \nL 608.14375 303.709091 \nL 50.14375 303.709091 \nz\n\" style=\"fill:#ffffff;\"/>\n   </g>\n   <g id=\"matplotlib.axis_3\">\n    <g id=\"xtick_7\">\n     <g id=\"line2d_17\">\n      <g>\n       <use style=\"stroke:#000000;stroke-width:0.8;\" x=\"129.858036\" xlink:href=\"#m0db0bf0815\" y=\"550.8\"/>\n      </g>\n     </g>\n     <g id=\"text_17\">\n      <!-- 5 -->\n      <g transform=\"translate(126.676786 565.398437)scale(0.1 -0.1)\">\n       <use xlink:href=\"#DejaVuSans-53\"/>\n      </g>\n     </g>\n    </g>\n    <g id=\"xtick_8\">\n     <g id=\"line2d_18\">\n      <g>\n       <use style=\"stroke:#000000;stroke-width:0.8;\" x=\"220.442451\" xlink:href=\"#m0db0bf0815\" y=\"550.8\"/>\n      </g>\n     </g>\n     <g id=\"text_18\">\n      <!-- 10 -->\n      <g transform=\"translate(214.079951 565.398437)scale(0.1 -0.1)\">\n       <use xlink:href=\"#DejaVuSans-49\"/>\n       <use x=\"63.623047\" xlink:href=\"#DejaVuSans-48\"/>\n      </g>\n     </g>\n    </g>\n    <g id=\"xtick_9\">\n     <g id=\"line2d_19\">\n      <g>\n       <use style=\"stroke:#000000;stroke-width:0.8;\" x=\"311.026867\" xlink:href=\"#m0db0bf0815\" y=\"550.8\"/>\n      </g>\n     </g>\n     <g id=\"text_19\">\n      <!-- 15 -->\n      <g transform=\"translate(304.664367 565.398437)scale(0.1 -0.1)\">\n       <use xlink:href=\"#DejaVuSans-49\"/>\n       <use x=\"63.623047\" xlink:href=\"#DejaVuSans-53\"/>\n      </g>\n     </g>\n    </g>\n    <g id=\"xtick_10\">\n     <g id=\"line2d_20\">\n      <g>\n       <use style=\"stroke:#000000;stroke-width:0.8;\" x=\"401.611282\" xlink:href=\"#m0db0bf0815\" y=\"550.8\"/>\n      </g>\n     </g>\n     <g id=\"text_20\">\n      <!-- 20 -->\n      <g transform=\"translate(395.248782 565.398437)scale(0.1 -0.1)\">\n       <use xlink:href=\"#DejaVuSans-50\"/>\n       <use x=\"63.623047\" xlink:href=\"#DejaVuSans-48\"/>\n      </g>\n     </g>\n    </g>\n    <g id=\"xtick_11\">\n     <g id=\"line2d_21\">\n      <g>\n       <use style=\"stroke:#000000;stroke-width:0.8;\" x=\"492.195698\" xlink:href=\"#m0db0bf0815\" y=\"550.8\"/>\n      </g>\n     </g>\n     <g id=\"text_21\">\n      <!-- 25 -->\n      <g transform=\"translate(485.833198 565.398437)scale(0.1 -0.1)\">\n       <use xlink:href=\"#DejaVuSans-50\"/>\n       <use x=\"63.623047\" xlink:href=\"#DejaVuSans-53\"/>\n      </g>\n     </g>\n    </g>\n    <g id=\"xtick_12\">\n     <g id=\"line2d_22\">\n      <g>\n       <use style=\"stroke:#000000;stroke-width:0.8;\" x=\"582.780114\" xlink:href=\"#m0db0bf0815\" y=\"550.8\"/>\n      </g>\n     </g>\n     <g id=\"text_22\">\n      <!-- 30 -->\n      <g transform=\"translate(576.417614 565.398437)scale(0.1 -0.1)\">\n       <use xlink:href=\"#DejaVuSans-51\"/>\n       <use x=\"63.623047\" xlink:href=\"#DejaVuSans-48\"/>\n      </g>\n     </g>\n    </g>\n    <g id=\"text_23\">\n     <!-- Number of Topics -->\n     <g transform=\"translate(285.879687 579.076562)scale(0.1 -0.1)\">\n      <use xlink:href=\"#DejaVuSans-78\"/>\n      <use x=\"74.804688\" xlink:href=\"#DejaVuSans-117\"/>\n      <use x=\"138.183594\" xlink:href=\"#DejaVuSans-109\"/>\n      <use x=\"235.595703\" xlink:href=\"#DejaVuSans-98\"/>\n      <use x=\"299.072266\" xlink:href=\"#DejaVuSans-101\"/>\n      <use x=\"360.595703\" xlink:href=\"#DejaVuSans-114\"/>\n      <use x=\"401.708984\" xlink:href=\"#DejaVuSans-32\"/>\n      <use x=\"433.496094\" xlink:href=\"#DejaVuSans-111\"/>\n      <use x=\"494.677734\" xlink:href=\"#DejaVuSans-102\"/>\n      <use x=\"529.882812\" xlink:href=\"#DejaVuSans-32\"/>\n      <use x=\"561.669922\" xlink:href=\"#DejaVuSans-84\"/>\n      <use x=\"605.753906\" xlink:href=\"#DejaVuSans-111\"/>\n      <use x=\"666.935547\" xlink:href=\"#DejaVuSans-112\"/>\n      <use x=\"730.412109\" xlink:href=\"#DejaVuSans-105\"/>\n      <use x=\"758.195312\" xlink:href=\"#DejaVuSans-99\"/>\n      <use x=\"813.175781\" xlink:href=\"#DejaVuSans-115\"/>\n     </g>\n    </g>\n   </g>\n   <g id=\"matplotlib.axis_4\">\n    <g id=\"ytick_8\">\n     <g id=\"line2d_23\">\n      <g>\n       <use style=\"stroke:#000000;stroke-width:0.8;\" x=\"50.14375\" xlink:href=\"#m1f9bd7fde6\" y=\"525.322304\"/>\n      </g>\n     </g>\n     <g id=\"text_24\">\n      <!-- 0.36 -->\n      <g transform=\"translate(20.878125 529.121523)scale(0.1 -0.1)\">\n       <defs>\n        <path d=\"M 10.6875 12.40625 \nL 21 12.40625 \nL 21 0 \nL 10.6875 0 \nz\n\" id=\"DejaVuSans-46\"/>\n        <path d=\"M 33.015625 40.375 \nQ 26.375 40.375 22.484375 35.828125 \nQ 18.609375 31.296875 18.609375 23.390625 \nQ 18.609375 15.53125 22.484375 10.953125 \nQ 26.375 6.390625 33.015625 6.390625 \nQ 39.65625 6.390625 43.53125 10.953125 \nQ 47.40625 15.53125 47.40625 23.390625 \nQ 47.40625 31.296875 43.53125 35.828125 \nQ 39.65625 40.375 33.015625 40.375 \nz\nM 52.59375 71.296875 \nL 52.59375 62.3125 \nQ 48.875 64.0625 45.09375 64.984375 \nQ 41.3125 65.921875 37.59375 65.921875 \nQ 27.828125 65.921875 22.671875 59.328125 \nQ 17.53125 52.734375 16.796875 39.40625 \nQ 19.671875 43.65625 24.015625 45.921875 \nQ 28.375 48.1875 33.59375 48.1875 \nQ 44.578125 48.1875 50.953125 41.515625 \nQ 57.328125 34.859375 57.328125 23.390625 \nQ 57.328125 12.15625 50.6875 5.359375 \nQ 44.046875 -1.421875 33.015625 -1.421875 \nQ 20.359375 -1.421875 13.671875 8.265625 \nQ 6.984375 17.96875 6.984375 36.375 \nQ 6.984375 53.65625 15.1875 63.9375 \nQ 23.390625 74.21875 37.203125 74.21875 \nQ 40.921875 74.21875 44.703125 73.484375 \nQ 48.484375 72.75 52.59375 71.296875 \nz\n\" id=\"DejaVuSans-54\"/>\n       </defs>\n       <use xlink:href=\"#DejaVuSans-48\"/>\n       <use x=\"63.623047\" xlink:href=\"#DejaVuSans-46\"/>\n       <use x=\"95.410156\" xlink:href=\"#DejaVuSans-51\"/>\n       <use x=\"159.033203\" xlink:href=\"#DejaVuSans-54\"/>\n      </g>\n     </g>\n    </g>\n    <g id=\"ytick_9\">\n     <g id=\"line2d_24\">\n      <g>\n       <use style=\"stroke:#000000;stroke-width:0.8;\" x=\"50.14375\" xlink:href=\"#m1f9bd7fde6\" y=\"495.676409\"/>\n      </g>\n     </g>\n     <g id=\"text_25\">\n      <!-- 0.38 -->\n      <g transform=\"translate(20.878125 499.475627)scale(0.1 -0.1)\">\n       <use xlink:href=\"#DejaVuSans-48\"/>\n       <use x=\"63.623047\" xlink:href=\"#DejaVuSans-46\"/>\n       <use x=\"95.410156\" xlink:href=\"#DejaVuSans-51\"/>\n       <use x=\"159.033203\" xlink:href=\"#DejaVuSans-56\"/>\n      </g>\n     </g>\n    </g>\n    <g id=\"ytick_10\">\n     <g id=\"line2d_25\">\n      <g>\n       <use style=\"stroke:#000000;stroke-width:0.8;\" x=\"50.14375\" xlink:href=\"#m1f9bd7fde6\" y=\"466.030513\"/>\n      </g>\n     </g>\n     <g id=\"text_26\">\n      <!-- 0.40 -->\n      <g transform=\"translate(20.878125 469.829732)scale(0.1 -0.1)\">\n       <use xlink:href=\"#DejaVuSans-48\"/>\n       <use x=\"63.623047\" xlink:href=\"#DejaVuSans-46\"/>\n       <use x=\"95.410156\" xlink:href=\"#DejaVuSans-52\"/>\n       <use x=\"159.033203\" xlink:href=\"#DejaVuSans-48\"/>\n      </g>\n     </g>\n    </g>\n    <g id=\"ytick_11\">\n     <g id=\"line2d_26\">\n      <g>\n       <use style=\"stroke:#000000;stroke-width:0.8;\" x=\"50.14375\" xlink:href=\"#m1f9bd7fde6\" y=\"436.384618\"/>\n      </g>\n     </g>\n     <g id=\"text_27\">\n      <!-- 0.42 -->\n      <g transform=\"translate(20.878125 440.183837)scale(0.1 -0.1)\">\n       <use xlink:href=\"#DejaVuSans-48\"/>\n       <use x=\"63.623047\" xlink:href=\"#DejaVuSans-46\"/>\n       <use x=\"95.410156\" xlink:href=\"#DejaVuSans-52\"/>\n       <use x=\"159.033203\" xlink:href=\"#DejaVuSans-50\"/>\n      </g>\n     </g>\n    </g>\n    <g id=\"ytick_12\">\n     <g id=\"line2d_27\">\n      <g>\n       <use style=\"stroke:#000000;stroke-width:0.8;\" x=\"50.14375\" xlink:href=\"#m1f9bd7fde6\" y=\"406.738723\"/>\n      </g>\n     </g>\n     <g id=\"text_28\">\n      <!-- 0.44 -->\n      <g transform=\"translate(20.878125 410.537941)scale(0.1 -0.1)\">\n       <use xlink:href=\"#DejaVuSans-48\"/>\n       <use x=\"63.623047\" xlink:href=\"#DejaVuSans-46\"/>\n       <use x=\"95.410156\" xlink:href=\"#DejaVuSans-52\"/>\n       <use x=\"159.033203\" xlink:href=\"#DejaVuSans-52\"/>\n      </g>\n     </g>\n    </g>\n    <g id=\"ytick_13\">\n     <g id=\"line2d_28\">\n      <g>\n       <use style=\"stroke:#000000;stroke-width:0.8;\" x=\"50.14375\" xlink:href=\"#m1f9bd7fde6\" y=\"377.092827\"/>\n      </g>\n     </g>\n     <g id=\"text_29\">\n      <!-- 0.46 -->\n      <g transform=\"translate(20.878125 380.892046)scale(0.1 -0.1)\">\n       <use xlink:href=\"#DejaVuSans-48\"/>\n       <use x=\"63.623047\" xlink:href=\"#DejaVuSans-46\"/>\n       <use x=\"95.410156\" xlink:href=\"#DejaVuSans-52\"/>\n       <use x=\"159.033203\" xlink:href=\"#DejaVuSans-54\"/>\n      </g>\n     </g>\n    </g>\n    <g id=\"ytick_14\">\n     <g id=\"line2d_29\">\n      <g>\n       <use style=\"stroke:#000000;stroke-width:0.8;\" x=\"50.14375\" xlink:href=\"#m1f9bd7fde6\" y=\"347.446932\"/>\n      </g>\n     </g>\n     <g id=\"text_30\">\n      <!-- 0.48 -->\n      <g transform=\"translate(20.878125 351.246151)scale(0.1 -0.1)\">\n       <use xlink:href=\"#DejaVuSans-48\"/>\n       <use x=\"63.623047\" xlink:href=\"#DejaVuSans-46\"/>\n       <use x=\"95.410156\" xlink:href=\"#DejaVuSans-52\"/>\n       <use x=\"159.033203\" xlink:href=\"#DejaVuSans-56\"/>\n      </g>\n     </g>\n    </g>\n    <g id=\"ytick_15\">\n     <g id=\"line2d_30\">\n      <g>\n       <use style=\"stroke:#000000;stroke-width:0.8;\" x=\"50.14375\" xlink:href=\"#m1f9bd7fde6\" y=\"317.801037\"/>\n      </g>\n     </g>\n     <g id=\"text_31\">\n      <!-- 0.50 -->\n      <g transform=\"translate(20.878125 321.600255)scale(0.1 -0.1)\">\n       <use xlink:href=\"#DejaVuSans-48\"/>\n       <use x=\"63.623047\" xlink:href=\"#DejaVuSans-46\"/>\n       <use x=\"95.410156\" xlink:href=\"#DejaVuSans-53\"/>\n       <use x=\"159.033203\" xlink:href=\"#DejaVuSans-48\"/>\n      </g>\n     </g>\n    </g>\n    <g id=\"text_32\">\n     <!-- Coherence score -->\n     <g transform=\"translate(14.798437 469.086577)rotate(-90)scale(0.1 -0.1)\">\n      <defs>\n       <path d=\"M 64.40625 67.28125 \nL 64.40625 56.890625 \nQ 59.421875 61.53125 53.78125 63.8125 \nQ 48.140625 66.109375 41.796875 66.109375 \nQ 29.296875 66.109375 22.65625 58.46875 \nQ 16.015625 50.828125 16.015625 36.375 \nQ 16.015625 21.96875 22.65625 14.328125 \nQ 29.296875 6.6875 41.796875 6.6875 \nQ 48.140625 6.6875 53.78125 8.984375 \nQ 59.421875 11.28125 64.40625 15.921875 \nL 64.40625 5.609375 \nQ 59.234375 2.09375 53.4375 0.328125 \nQ 47.65625 -1.421875 41.21875 -1.421875 \nQ 24.65625 -1.421875 15.125 8.703125 \nQ 5.609375 18.84375 5.609375 36.375 \nQ 5.609375 53.953125 15.125 64.078125 \nQ 24.65625 74.21875 41.21875 74.21875 \nQ 47.75 74.21875 53.53125 72.484375 \nQ 59.328125 70.75 64.40625 67.28125 \nz\n\" id=\"DejaVuSans-67\"/>\n       <path d=\"M 54.890625 33.015625 \nL 54.890625 0 \nL 45.90625 0 \nL 45.90625 32.71875 \nQ 45.90625 40.484375 42.875 44.328125 \nQ 39.84375 48.1875 33.796875 48.1875 \nQ 26.515625 48.1875 22.3125 43.546875 \nQ 18.109375 38.921875 18.109375 30.90625 \nL 18.109375 0 \nL 9.078125 0 \nL 9.078125 75.984375 \nL 18.109375 75.984375 \nL 18.109375 46.1875 \nQ 21.34375 51.125 25.703125 53.5625 \nQ 30.078125 56 35.796875 56 \nQ 45.21875 56 50.046875 50.171875 \nQ 54.890625 44.34375 54.890625 33.015625 \nz\n\" id=\"DejaVuSans-104\"/>\n       <path d=\"M 54.890625 33.015625 \nL 54.890625 0 \nL 45.90625 0 \nL 45.90625 32.71875 \nQ 45.90625 40.484375 42.875 44.328125 \nQ 39.84375 48.1875 33.796875 48.1875 \nQ 26.515625 48.1875 22.3125 43.546875 \nQ 18.109375 38.921875 18.109375 30.90625 \nL 18.109375 0 \nL 9.078125 0 \nL 9.078125 54.6875 \nL 18.109375 54.6875 \nL 18.109375 46.1875 \nQ 21.34375 51.125 25.703125 53.5625 \nQ 30.078125 56 35.796875 56 \nQ 45.21875 56 50.046875 50.171875 \nQ 54.890625 44.34375 54.890625 33.015625 \nz\n\" id=\"DejaVuSans-110\"/>\n      </defs>\n      <use xlink:href=\"#DejaVuSans-67\"/>\n      <use x=\"69.824219\" xlink:href=\"#DejaVuSans-111\"/>\n      <use x=\"131.005859\" xlink:href=\"#DejaVuSans-104\"/>\n      <use x=\"194.384766\" xlink:href=\"#DejaVuSans-101\"/>\n      <use x=\"255.908203\" xlink:href=\"#DejaVuSans-114\"/>\n      <use x=\"294.771484\" xlink:href=\"#DejaVuSans-101\"/>\n      <use x=\"356.294922\" xlink:href=\"#DejaVuSans-110\"/>\n      <use x=\"419.673828\" xlink:href=\"#DejaVuSans-99\"/>\n      <use x=\"474.654297\" xlink:href=\"#DejaVuSans-101\"/>\n      <use x=\"536.177734\" xlink:href=\"#DejaVuSans-32\"/>\n      <use x=\"567.964844\" xlink:href=\"#DejaVuSans-115\"/>\n      <use x=\"620.064453\" xlink:href=\"#DejaVuSans-99\"/>\n      <use x=\"675.044922\" xlink:href=\"#DejaVuSans-111\"/>\n      <use x=\"736.226562\" xlink:href=\"#DejaVuSans-114\"/>\n      <use x=\"775.089844\" xlink:href=\"#DejaVuSans-101\"/>\n     </g>\n    </g>\n   </g>\n   <g id=\"line2d_31\">\n    <path clip-path=\"url(#pe43a575393)\" d=\"M 75.507386 518.171283 \nL 93.624269 501.192477 \nL 111.741153 514.061999 \nL 129.858036 370.428757 \nL 147.974919 419.559043 \nL 166.091802 386.517378 \nL 184.208685 359.388037 \nL 202.325568 314.940496 \nL 220.442451 361.983024 \nL 238.559334 389.554786 \nL 256.676218 423.145583 \nL 274.793101 477.822364 \nL 292.909984 507.701676 \nL 311.026867 446.364465 \nL 329.14375 522.003842 \nL 347.260633 492.693169 \nL 365.377516 525.688562 \nL 383.494399 501.223911 \nL 401.611282 506.338508 \nL 419.728166 481.565837 \nL 437.845049 489.613186 \nL 455.961932 468.640179 \nL 474.078815 507.001692 \nL 492.195698 539.568595 \nL 510.312581 502.650443 \nL 528.429464 508.009062 \nL 546.546347 460.289349 \nL 564.663231 527.124345 \nL 582.780114 513.703039 \n\" style=\"fill:none;stroke:#1f77b4;stroke-linecap:square;stroke-width:1.5;\"/>\n    <g clip-path=\"url(#pe43a575393)\">\n     <use style=\"fill:#1f77b4;stroke:#1f77b4;\" x=\"75.507386\" xlink:href=\"#m57a4f0d908\" y=\"518.171283\"/>\n     <use style=\"fill:#1f77b4;stroke:#1f77b4;\" x=\"93.624269\" xlink:href=\"#m57a4f0d908\" y=\"501.192477\"/>\n     <use style=\"fill:#1f77b4;stroke:#1f77b4;\" x=\"111.741153\" xlink:href=\"#m57a4f0d908\" y=\"514.061999\"/>\n     <use style=\"fill:#1f77b4;stroke:#1f77b4;\" x=\"129.858036\" xlink:href=\"#m57a4f0d908\" y=\"370.428757\"/>\n     <use style=\"fill:#1f77b4;stroke:#1f77b4;\" x=\"147.974919\" xlink:href=\"#m57a4f0d908\" y=\"419.559043\"/>\n     <use style=\"fill:#1f77b4;stroke:#1f77b4;\" x=\"166.091802\" xlink:href=\"#m57a4f0d908\" y=\"386.517378\"/>\n     <use style=\"fill:#1f77b4;stroke:#1f77b4;\" x=\"184.208685\" xlink:href=\"#m57a4f0d908\" y=\"359.388037\"/>\n     <use style=\"fill:#1f77b4;stroke:#1f77b4;\" x=\"202.325568\" xlink:href=\"#m57a4f0d908\" y=\"314.940496\"/>\n     <use style=\"fill:#1f77b4;stroke:#1f77b4;\" x=\"220.442451\" xlink:href=\"#m57a4f0d908\" y=\"361.983024\"/>\n     <use style=\"fill:#1f77b4;stroke:#1f77b4;\" x=\"238.559334\" xlink:href=\"#m57a4f0d908\" y=\"389.554786\"/>\n     <use style=\"fill:#1f77b4;stroke:#1f77b4;\" x=\"256.676218\" xlink:href=\"#m57a4f0d908\" y=\"423.145583\"/>\n     <use style=\"fill:#1f77b4;stroke:#1f77b4;\" x=\"274.793101\" xlink:href=\"#m57a4f0d908\" y=\"477.822364\"/>\n     <use style=\"fill:#1f77b4;stroke:#1f77b4;\" x=\"292.909984\" xlink:href=\"#m57a4f0d908\" y=\"507.701676\"/>\n     <use style=\"fill:#1f77b4;stroke:#1f77b4;\" x=\"311.026867\" xlink:href=\"#m57a4f0d908\" y=\"446.364465\"/>\n     <use style=\"fill:#1f77b4;stroke:#1f77b4;\" x=\"329.14375\" xlink:href=\"#m57a4f0d908\" y=\"522.003842\"/>\n     <use style=\"fill:#1f77b4;stroke:#1f77b4;\" x=\"347.260633\" xlink:href=\"#m57a4f0d908\" y=\"492.693169\"/>\n     <use style=\"fill:#1f77b4;stroke:#1f77b4;\" x=\"365.377516\" xlink:href=\"#m57a4f0d908\" y=\"525.688562\"/>\n     <use style=\"fill:#1f77b4;stroke:#1f77b4;\" x=\"383.494399\" xlink:href=\"#m57a4f0d908\" y=\"501.223911\"/>\n     <use style=\"fill:#1f77b4;stroke:#1f77b4;\" x=\"401.611282\" xlink:href=\"#m57a4f0d908\" y=\"506.338508\"/>\n     <use style=\"fill:#1f77b4;stroke:#1f77b4;\" x=\"419.728166\" xlink:href=\"#m57a4f0d908\" y=\"481.565837\"/>\n     <use style=\"fill:#1f77b4;stroke:#1f77b4;\" x=\"437.845049\" xlink:href=\"#m57a4f0d908\" y=\"489.613186\"/>\n     <use style=\"fill:#1f77b4;stroke:#1f77b4;\" x=\"455.961932\" xlink:href=\"#m57a4f0d908\" y=\"468.640179\"/>\n     <use style=\"fill:#1f77b4;stroke:#1f77b4;\" x=\"474.078815\" xlink:href=\"#m57a4f0d908\" y=\"507.001692\"/>\n     <use style=\"fill:#1f77b4;stroke:#1f77b4;\" x=\"492.195698\" xlink:href=\"#m57a4f0d908\" y=\"539.568595\"/>\n     <use style=\"fill:#1f77b4;stroke:#1f77b4;\" x=\"510.312581\" xlink:href=\"#m57a4f0d908\" y=\"502.650443\"/>\n     <use style=\"fill:#1f77b4;stroke:#1f77b4;\" x=\"528.429464\" xlink:href=\"#m57a4f0d908\" y=\"508.009062\"/>\n     <use style=\"fill:#1f77b4;stroke:#1f77b4;\" x=\"546.546347\" xlink:href=\"#m57a4f0d908\" y=\"460.289349\"/>\n     <use style=\"fill:#1f77b4;stroke:#1f77b4;\" x=\"564.663231\" xlink:href=\"#m57a4f0d908\" y=\"527.124345\"/>\n     <use style=\"fill:#1f77b4;stroke:#1f77b4;\" x=\"582.780114\" xlink:href=\"#m57a4f0d908\" y=\"513.703039\"/>\n    </g>\n   </g>\n   <g id=\"patch_9\">\n    <path d=\"M 50.14375 550.8 \nL 50.14375 303.709091 \n\" style=\"fill:none;stroke:#000000;stroke-linecap:square;stroke-linejoin:miter;stroke-width:0.8;\"/>\n   </g>\n   <g id=\"patch_10\">\n    <path d=\"M 608.14375 550.8 \nL 608.14375 303.709091 \n\" style=\"fill:none;stroke:#000000;stroke-linecap:square;stroke-linejoin:miter;stroke-width:0.8;\"/>\n   </g>\n   <g id=\"patch_11\">\n    <path d=\"M 50.14375 550.8 \nL 608.14375 550.8 \n\" style=\"fill:none;stroke:#000000;stroke-linecap:square;stroke-linejoin:miter;stroke-width:0.8;\"/>\n   </g>\n   <g id=\"patch_12\">\n    <path d=\"M 50.14375 303.709091 \nL 608.14375 303.709091 \n\" style=\"fill:none;stroke:#000000;stroke-linecap:square;stroke-linejoin:miter;stroke-width:0.8;\"/>\n   </g>\n   <g id=\"legend_2\">\n    <g id=\"patch_13\">\n     <path d=\"M 563.645312 326.387216 \nL 601.14375 326.387216 \nQ 603.14375 326.387216 603.14375 324.387216 \nL 603.14375 310.709091 \nQ 603.14375 308.709091 601.14375 308.709091 \nL 563.645312 308.709091 \nQ 561.645312 308.709091 561.645312 310.709091 \nL 561.645312 324.387216 \nQ 561.645312 326.387216 563.645312 326.387216 \nz\n\" style=\"fill:#ffffff;opacity:0.8;stroke:#cccccc;stroke-linejoin:miter;\"/>\n    </g>\n    <g id=\"line2d_32\">\n     <path d=\"M 565.645312 316.807528 \nL 585.645312 316.807528 \n\" style=\"fill:none;stroke:#1f77b4;stroke-linecap:square;stroke-width:1.5;\"/>\n    </g>\n    <g id=\"line2d_33\">\n     <g>\n      <use style=\"fill:#1f77b4;stroke:#1f77b4;\" x=\"575.645312\" xlink:href=\"#m57a4f0d908\" y=\"316.807528\"/>\n     </g>\n    </g>\n    <g id=\"text_33\">\n     <!-- c -->\n     <g transform=\"translate(593.645312 320.307528)scale(0.1 -0.1)\">\n      <use xlink:href=\"#DejaVuSans-99\"/>\n     </g>\n    </g>\n   </g>\n  </g>\n </g>\n <defs>\n  <clipPath id=\"pd2c0e08b87\">\n   <rect height=\"247.090909\" width=\"558\" x=\"50.14375\" y=\"7.2\"/>\n  </clipPath>\n  <clipPath id=\"pe43a575393\">\n   <rect height=\"247.090909\" width=\"558\" x=\"50.14375\" y=\"303.709091\"/>\n  </clipPath>\n </defs>\n</svg>\n",
      "image/png": "[encoded data removed]"
     },
     "metadata": {
      "needs_background": "light"
     }
    }
   ],
   "source": [
    "limit=31 ######\n",
    "start=2\n",
    "step=1\n",
    "x = range(start, limit, step)\n",
    "\n",
    "\n",
    "fig, ax = plt.subplots(2,1, figsize=(10, 10))\n",
    "\n",
    "ax[0].plot(x, perplexity_values, marker='o')\n",
    "ax[0].set_xlabel(\"Number of Topics\")\n",
    "ax[0].set_ylabel(\"Perplexity\")\n",
    "ax[0].legend((\"perplexity\"), loc='best')\n",
    "\n",
    "ax[1].plot(x, coherence_values, marker='o')\n",
    "ax[1].set_xlabel(\"Number of Topics\")\n",
    "ax[1].set_ylabel(\"Coherence score\")\n",
    "ax[1].legend((\"coherence_values\"), loc='best')\n",
    "plt.show()"
   ]
  },
  {
   "cell_type": "code",
   "execution_count": 11,
   "metadata": {},
   "outputs": [
    {
     "output_type": "stream",
     "name": "stdout",
     "text": [
      "Num Topics = 2  has Perplexity Value of -7.8636\n",
      "Num Topics = 3  has Perplexity Value of -7.9727\n",
      "Num Topics = 4  has Perplexity Value of -8.1333\n",
      "Num Topics = 5  has Perplexity Value of -8.2409\n",
      "Num Topics = 6  has Perplexity Value of -8.3006\n",
      "Num Topics = 7  has Perplexity Value of -8.3792\n",
      "Num Topics = 8  has Perplexity Value of -8.5157\n",
      "Num Topics = 9  has Perplexity Value of -8.6507\n",
      "Num Topics = 10  has Perplexity Value of -8.7993\n",
      "Num Topics = 11  has Perplexity Value of -9.0514\n",
      "Num Topics = 12  has Perplexity Value of -9.4536\n",
      "Num Topics = 13  has Perplexity Value of -9.9672\n",
      "Num Topics = 14  has Perplexity Value of -10.4256\n",
      "Num Topics = 15  has Perplexity Value of -10.7978\n",
      "Num Topics = 16  has Perplexity Value of -11.0699\n",
      "Num Topics = 17  has Perplexity Value of -11.2971\n",
      "Num Topics = 18  has Perplexity Value of -11.7326\n",
      "Num Topics = 19  has Perplexity Value of -11.977\n",
      "Num Topics = 20  has Perplexity Value of -12.2023\n",
      "Num Topics = 21  has Perplexity Value of -12.3989\n",
      "Num Topics = 22  has Perplexity Value of -12.6305\n",
      "Num Topics = 23  has Perplexity Value of -12.8846\n",
      "Num Topics = 24  has Perplexity Value of -13.1163\n",
      "Num Topics = 25  has Perplexity Value of -13.3499\n",
      "Num Topics = 26  has Perplexity Value of -13.621\n",
      "Num Topics = 27  has Perplexity Value of -13.8437\n",
      "Num Topics = 28  has Perplexity Value of -14.0517\n",
      "Num Topics = 29  has Perplexity Value of -14.3005\n",
      "Num Topics = 30  has Perplexity Value of -14.5308\n",
      "Num Topics = 2  has Coherence Value of 0.3648\n",
      "Num Topics = 3  has Coherence Value of 0.3763\n",
      "Num Topics = 4  has Coherence Value of 0.3676\n",
      "Num Topics = 5  has Coherence Value of 0.4645\n",
      "Num Topics = 6  has Coherence Value of 0.4314\n",
      "Num Topics = 7  has Coherence Value of 0.4536\n",
      "Num Topics = 8  has Coherence Value of 0.4719\n",
      "Num Topics = 9  has Coherence Value of 0.5019\n",
      "Num Topics = 10  has Coherence Value of 0.4702\n",
      "Num Topics = 11  has Coherence Value of 0.4516\n",
      "Num Topics = 12  has Coherence Value of 0.4289\n",
      "Num Topics = 13  has Coherence Value of 0.392\n",
      "Num Topics = 14  has Coherence Value of 0.3719\n",
      "Num Topics = 15  has Coherence Value of 0.4133\n",
      "Num Topics = 16  has Coherence Value of 0.3622\n",
      "Num Topics = 17  has Coherence Value of 0.382\n",
      "Num Topics = 18  has Coherence Value of 0.3598\n",
      "Num Topics = 19  has Coherence Value of 0.3763\n",
      "Num Topics = 20  has Coherence Value of 0.3728\n",
      "Num Topics = 21  has Coherence Value of 0.3895\n",
      "Num Topics = 22  has Coherence Value of 0.3841\n",
      "Num Topics = 23  has Coherence Value of 0.3982\n",
      "Num Topics = 24  has Coherence Value of 0.3724\n",
      "Num Topics = 25  has Coherence Value of 0.3504\n",
      "Num Topics = 26  has Coherence Value of 0.3753\n",
      "Num Topics = 27  has Coherence Value of 0.3717\n",
      "Num Topics = 28  has Coherence Value of 0.4039\n",
      "Num Topics = 29  has Coherence Value of 0.3588\n",
      "Num Topics = 30  has Coherence Value of 0.3678\n",
      "/Users/uni613/Library/Python/3.8/lib/python/site-packages/ipykernel/ipkernel.py:287: DeprecationWarning: `should_run_async` will not call `transform_cell` automatically in the future. Please pass the result to `transformed_cell` argument and any exception that happen during thetransform in `preprocessing_exc_tuple` in IPython 7.17 and above.\n",
      "  and should_run_async(code)\n"
     ]
    }
   ],
   "source": [
    "for m, pv in zip(x, perplexity_values):\n",
    "  print(\"Num Topics =\", m, \" has Perplexity Value of\", round(pv, 4))\n",
    "\n",
    "for m, cv in zip(x, coherence_values):\n",
    "  print(\"Num Topics =\", m, \" has Coherence Value of\", round(cv, 4))"
   ]
  },
  {
   "cell_type": "code",
   "execution_count": 12,
   "metadata": {},
   "outputs": [
    {
     "output_type": "stream",
     "name": "stderr",
     "text": [
      "/Users/uni613/Library/Python/3.8/lib/python/site-packages/ipykernel/ipkernel.py:287: DeprecationWarning: `should_run_async` will not call `transform_cell` automatically in the future. Please pass the result to `transformed_cell` argument and any exception that happen during thetransform in `preprocessing_exc_tuple` in IPython 7.17 and above.\n",
      "  and should_run_async(code)\n",
      "[(0,\n",
      "  '0.061*\"will\" + 0.014*\"musical\" + 0.007*\"let\" + 0.005*\"john\" + '\n",
      "  '0.005*\"offered\" + 0.005*\"matter\" + 0.005*\"old\" + 0.004*\"dear\" + '\n",
      "  '0.003*\"aptitudes\" + 0.003*\"increasing\" + 0.003*\"emeritus\" + 0.003*\"san\" + '\n",
      "  '0.003*\"prodigies\" + 0.003*\"discovery\" + 0.003*\"position\" + '\n",
      "  '0.003*\"successes\" + 0.003*\"physical\" + 0.002*\"w.\" + 0.002*\"7.75\" + '\n",
      "  '0.002*\"francisco\" + 0.002*\"jossey-bass\" + 0.002*\"hispanic\" + '\n",
      "  '0.002*\"origins\" + 0.002*\"nurture\" + 0.002*\"reality\" + 0.002*\"promise\" + '\n",
      "  '0.002*\"only\" + 0.002*\"causes\" + 0.002*\"enrollment\" + 0.002*\"relating\"'),\n",
      " (1,\n",
      "  '0.035*\"at\" + 0.025*\"can\" + 0.025*\"do\" + 0.025*\"from\" + 0.019*\"teach\" + '\n",
      "  '0.018*\"about\" + 0.017*\"journal\" + 0.016*\"pupils\" + 0.016*\"helping\" + '\n",
      "  '0.015*\"nagc\" + 0.012*\"annual\" + 0.012*\"meeting\" + 0.008*\"myopia\" + '\n",
      "  '0.007*\"verbal\" + 0.007*\"editor\" + 0.006*\"regular\" + 0.006*\"quarterly\" + '\n",
      "  '0.005*\"ideas\" + 0.004*\"grouping\" + 0.004*\"sixth\" + 0.004*\"control\" + '\n",
      "  '0.004*\"average\" + 0.003*\"growing\" + 0.003*\"studying\" + 0.003*\"fifth\" + '\n",
      "  '0.003*\"winning\" + 0.003*\"j.\" + 0.003*\"evolution\" + 0.002*\"i.q\" + '\n",
      "  '0.002*\"nonverbal\"'),\n",
      " (2,\n",
      "  '0.049*\"is\" + 0.017*\"art\" + 0.016*\"not\" + 0.015*\"personality\" + '\n",
      "  '0.015*\"being\" + 0.014*\"reactions\" + 0.011*\"encouraging\" + 0.006*\"other\" + '\n",
      "  '0.005*\"production\" + 0.005*\"like\" + 0.004*\"relations\" + 0.004*\"in-service\" '\n",
      "  '+ 0.004*\"1967\" + 0.004*\"potentials\" + 0.004*\"renzulli\" + 0.003*\"george\" + '\n",
      "  '0.003*\"gallagher\" + 0.003*\"reasoning\" + 0.003*\"separate\" + 0.003*\"jj\" + '\n",
      "  '0.003*\"forms\" + 0.003*\"perfectionism\" + 0.003*\"dollar\" + 0.002*\"motor\" + '\n",
      "  '0.002*\"did\" + 0.002*\"correlates\" + 0.002*\"participating\" + '\n",
      "  '0.002*\"behavioral\" + 0.002*\"ratings\" + 0.002*\"trait\"'),\n",
      " (3,\n",
      "  '0.115*\"of\" + 0.048*\"children\" + 0.025*\"parents\" + 0.022*\"creativity\" + '\n",
      "  '0.017*\"study\" + 0.017*\"creative\" + 0.015*\"college\" + 0.009*\"group\" + '\n",
      "  '0.008*\"students\" + 0.007*\"the\" + 0.007*\"some\" + 0.006*\"groups\" + '\n",
      "  '0.006*\"social\" + 0.006*\"grade\" + 0.006*\"years\" + 0.006*\"effects\" + '\n",
      "  '0.005*\"adolescents\" + 0.005*\"early\" + 0.005*\"young\" + '\n",
      "  '0.005*\"characteristics\" + 0.004*\"by\" + 0.004*\"among\" + 0.004*\"adjustment\" + '\n",
      "  '0.004*\"\\'s\" + 0.004*\"enrichment\" + 0.004*\"through\" + 0.004*\"program\" + '\n",
      "  '0.004*\"music\" + 0.004*\"highly\" + 0.004*\"all\"'),\n",
      " (4,\n",
      "  '0.118*\"and\" + 0.033*\"students\" + 0.031*\"school\" + 0.021*\"be\" + 0.021*\"high\" '\n",
      "  '+ 0.014*\"achievement\" + 0.013*\"high-school\" + 0.011*\"their\" + 0.010*\"boys\" '\n",
      "  '+ 0.010*\"academically\" + 0.010*\"girls\" + 0.009*\"academic\" + '\n",
      "  '0.007*\"illinois\" + 0.007*\"disadvantaged\" + 0.007*\"honors\" + 0.007*\"come\" + '\n",
      "  '0.006*\"areas\" + 0.006*\"able\" + 0.006*\"musically\" + 0.006*\"family\" + '\n",
      "  '0.006*\"hither\" + 0.005*\"factors\" + 0.005*\"planning\" + 0.005*\"growth\" + '\n",
      "  '0.005*\"among\" + 0.005*\"message\" + 0.005*\"or\" + 0.004*\"classes\" + '\n",
      "  '0.004*\"behavior\" + 0.004*\"advanced\"'),\n",
      " (5,\n",
      "  '0.093*\"gifted\" + 0.072*\"the\" + 0.029*\"for\" + 0.021*\"in\" + 0.020*\"book\" + '\n",
      "  '0.018*\"to\" + 0.017*\"review\" + 0.014*\"education\" + 0.012*\"child\" + '\n",
      "  '0.011*\"students\" + 0.010*\"program\" + 0.010*\"you\" + 0.009*\"giftedness\" + '\n",
      "  '0.009*\"gifted-children\" + 0.007*\"talented\" + 0.007*\"programs\" + 0.007*\"on\" '\n",
      "  '+ 0.007*\"research\" + 0.007*\"how\" + 0.007*\"want\" + 0.006*\"an\" + 0.006*\"new\" '\n",
      "  '+ 0.006*\"teachers\" + 0.006*\"gifted-child\" + 0.005*\"learning\" + '\n",
      "  '0.005*\"teaching\" + 0.005*\"talent\" + 0.005*\"creative\" + 0.005*\"what\" + '\n",
      "  '0.005*\"development\"'),\n",
      " (6,\n",
      "  '0.023*\"elementary\" + 0.017*\"creatively\" + 0.013*\"identifying\" + '\n",
      "  '0.013*\"performance\" + 0.012*\"ability\" + 0.011*\"scores\" + 0.010*\"tests\" + '\n",
      "  '0.010*\"differences\" + 0.009*\"test\" + 0.008*\"torrance\" + 0.007*\"peer\" + '\n",
      "  '0.007*\"elementary-school\" + 0.006*\"sample\" + 0.006*\"grade\" + '\n",
      "  '0.006*\"something\" + 0.006*\"greater\" + 0.006*\"scale\" + 0.006*\"higher\" + '\n",
      "  '0.005*\"method\" + 0.005*\"students\" + 0.005*\"gender\" + 0.005*\"measures\" + '\n",
      "  '0.005*\"identification\" + 0.005*\"results\" + 0.005*\"doing\" + 0.005*\"validity\" '\n",
      "  '+ 0.005*\"iq\" + 0.005*\"style\" + 0.005*\"speech\" + 0.004*\"screening\"'),\n",
      " (7,\n",
      "  '0.020*\"reviews\" + 0.015*\"arts\" + 0.012*\"editorial\" + 0.010*\"writing\" + '\n",
      "  '0.009*\"plea\" + 0.008*\"senior\" + 0.008*\"when\" + 0.008*\"should\" + '\n",
      "  '0.008*\"english\" + 0.007*\"language\" + 0.006*\"pilot\" + 0.006*\"choice\" + '\n",
      "  '0.006*\"motivated\" + 0.006*\"underachieving\" + 0.006*\"michigan\" + '\n",
      "  '0.006*\"responsibility\" + 0.005*\"seniors\" + 0.005*\"iii\" + 0.005*\"nongifted\" '\n",
      "  '+ 0.005*\"evaluating\" + 0.004*\"attitude\" + 0.004*\"freedom\" + 0.004*\"work\" + '\n",
      "  '0.004*\"learner\" + 0.004*\"inquiry\" + 0.004*\"genius\" + 0.004*\"left\" + '\n",
      "  '0.004*\"terman\" + 0.004*\"mother\" + 0.004*\"climate\"'),\n",
      " (8,\n",
      "  '0.055*\"read\" + 0.044*\"page\" + 0.032*\"are\" + 0.010*\"reading\" + 0.010*\"have\" '\n",
      "  '+ 0.009*\"nurturing\" + 0.007*\"self\" + 0.006*\"exceptional\" + '\n",
      "  '0.005*\"alternative\" + 0.004*\"cause\" + 0.004*\"disabilities\" + '\n",
      "  '0.004*\"criteria\" + 0.004*\"criterion\" + 0.003*\"treatment\" + 0.003*\"any\" + '\n",
      "  '0.003*\"find\" + 0.003*\"against\" + 0.003*\"worth\" + 0.003*\"speed\" + '\n",
      "  '0.003*\"comprehension\" + 0.003*\"fluency\" + 0.003*\"achievers\" + 0.003*\"per\" + '\n",
      "  '0.003*\"lets\" + 0.003*\"later\" + 0.002*\"wisc-r\" + 0.002*\"credit\" + '\n",
      "  '0.002*\"normal\" + 0.002*\"50\" + 0.002*\"scorecard\"')]\n"
     ]
    }
   ],
   "source": [
    "a = int(input(\"set the number of topics \"))\n",
    "optimal_model = gensim.models.ldamodel.LdaModel(corpus=corpus,\n",
    "                                                id2word=id2word,\n",
    "                                                num_topics=a,\n",
    "                                                random_state=100,\n",
    "                                                update_every=1,\n",
    "                                                iterations=1000,\n",
    "                                                chunksize=100,\n",
    "                                                passes=10,\n",
    "                                                alpha='auto',\n",
    "                                                eta='auto',\n",
    "                                                per_word_topics=True)\n",
    "model_topics = optimal_model.show_topics(formatted=False)\n",
    "pprint(optimal_model.print_topics(num_words=30))"
   ]
  },
  {
   "cell_type": "code",
   "execution_count": 13,
   "metadata": {},
   "outputs": [
    {
     "output_type": "stream",
     "name": "stderr",
     "text": [
      "/Users/uni613/Library/Python/3.8/lib/python/site-packages/ipykernel/ipkernel.py:287: DeprecationWarning: `should_run_async` will not call `transform_cell` automatically in the future. Please pass the result to `transformed_cell` argument and any exception that happen during thetransform in `preprocessing_exc_tuple` in IPython 7.17 and above.\n  and should_run_async(code)\n"
     ]
    }
   ],
   "source": [
    "title = input(\"set the title of html file \")\n",
    "vis = pyLDAvis.gensim.prepare(optimal_model, corpus, id2word)\n",
    "pyLDAvis.save_html(vis, title+\".html\")"
   ]
  },
  {
   "cell_type": "code",
   "execution_count": 14,
   "metadata": {
    "tags": []
   },
   "outputs": [
    {
     "output_type": "stream",
     "name": "stderr",
     "text": [
      "/Users/uni613/Library/Python/3.8/lib/python/site-packages/ipykernel/ipkernel.py:287: DeprecationWarning: `should_run_async` will not call `transform_cell` automatically in the future. Please pass the result to `transformed_cell` argument and any exception that happen during thetransform in `preprocessing_exc_tuple` in IPython 7.17 and above.\n",
      "  and should_run_async(code)\n",
      "                     0                 1                 2                 3  \\\n",
      "0      (3, 0.22227378)    (4, 0.1905368)    (5, 0.5245921)  (6, 0.027181512)   \n",
      "1      (1, 0.14062473)    (3, 0.2116634)  (4, 0.016276702)    (5, 0.5854602)   \n",
      "2       (3, 0.1880583)    (4, 0.1997782)   (5, 0.26832405)  (6, 0.034514822)   \n",
      "3      (1, 0.01664621)    (3, 0.5908382)  (4, 0.025250336)   (5, 0.24064185)   \n",
      "4     (1, 0.018740544)   (3, 0.52246773)   (4, 0.03924895)    (5, 0.2934733)   \n",
      "...                ...               ...               ...               ...   \n",
      "2532   (1, 0.03026431)  (2, 0.013523266)   (3, 0.15175202)   (4, 0.08938345)   \n",
      "2533   (1, 0.08341215)  (2, 0.013511548)   (3, 0.19889817)  (4, 0.087406114)   \n",
      "2534   (1, 0.08341215)  (2, 0.013511548)   (3, 0.19889817)  (4, 0.087406114)   \n",
      "2535  (1, 0.031902798)  (2, 0.014271127)   (3, 0.16723084)    (4, 0.2047107)   \n",
      "2536    (1, 0.1808554)  (2, 0.010243061)   (3, 0.15204021)  (4, 0.066323586)   \n",
      "\n",
      "                     4                 5                  6                 7  \\\n",
      "0      (7, 0.02330249)              None               None              None   \n",
      "1     (6, 0.018944085)  (7, 0.020895587)               None              None   \n",
      "2       (7, 0.2971769)              None               None              None   \n",
      "3     (6, 0.078651816)  (7, 0.023949616)   (8, 0.021320982)              None   \n",
      "4     (6, 0.011580108)   (7, 0.09432642)  (8, 0.0154889785)              None   \n",
      "...                ...               ...                ...               ...   \n",
      "2532    (5, 0.6035879)   (6, 0.04697129)   (7, 0.035222646)  (8, 0.020365395)   \n",
      "2533   (5, 0.50573206)  (6, 0.046670824)    (7, 0.03510214)   (8, 0.02034473)   \n",
      "2534   (5, 0.50573206)  (6, 0.046670824)    (7, 0.03510214)   (8, 0.02034473)   \n",
      "2535   (5, 0.46460217)   (6, 0.04929459)   (7, 0.037075534)  (8, 0.021488462)   \n",
      "2536   (5, 0.50634503)   (6, 0.03539074)     (7, 0.0266146)  (8, 0.015423478)   \n",
      "\n",
      "         8  \n",
      "0     None  \n",
      "1     None  \n",
      "2     None  \n",
      "3     None  \n",
      "4     None  \n",
      "...    ...  \n",
      "2532  None  \n",
      "2533  None  \n",
      "2534  None  \n",
      "2535  None  \n",
      "2536  None  \n",
      "\n",
      "[2537 rows x 9 columns]\n"
     ]
    }
   ],
   "source": [
    "# topic proportion\n",
    "# num of optimal topics = 13\n",
    "\n",
    "proportion = []\n",
    "for i, row_list in enumerate(optimal_model[corpus]):\n",
    "    #print(\"document number : \", i)\n",
    "    row = row_list[0]\n",
    "    #print(row)\n",
    "    proportion.append(row)\n",
    "print(pd.DataFrame(proportion))"
   ]
  },
  {
   "cell_type": "code",
   "execution_count": 15,
   "metadata": {
    "tags": []
   },
   "outputs": [
    {
     "output_type": "stream",
     "name": "stderr",
     "text": [
      "/Users/uni613/Library/Python/3.8/lib/python/site-packages/ipykernel/ipkernel.py:287: DeprecationWarning: `should_run_async` will not call `transform_cell` automatically in the future. Please pass the result to `transformed_cell` argument and any exception that happen during thetransform in `preprocessing_exc_tuple` in IPython 7.17 and above.\n  and should_run_async(code)\n"
     ]
    }
   ],
   "source": [
    "proportion = []\n",
    "for i, row_list in enumerate(optimal_model[corpus]):\n",
    "    #print(\"document number : \", i)\n",
    "    row = row_list[0]\n",
    "    #print(row)\n",
    "    inner_proportion = [\"-\", \"-\", \"-\", \"-\", \"-\", \"-\", \"-\", \"-\", \"-\"] # numtopics 9\n",
    "    for j, (topic_num, prop) in enumerate(row):\n",
    "        for k in range(9): # numtopics 9\n",
    "            if topic_num == k:\n",
    "                inner_proportion[k] = prop\n",
    "    proportion.append(inner_proportion)\n",
    "    #print(inner_proportion)"
   ]
  },
  {
   "cell_type": "code",
   "execution_count": 16,
   "metadata": {},
   "outputs": [
    {
     "output_type": "stream",
     "name": "stderr",
     "text": [
      "/Users/uni613/Library/Python/3.8/lib/python/site-packages/ipykernel/ipkernel.py:287: DeprecationWarning: `should_run_async` will not call `transform_cell` automatically in the future. Please pass the result to `transformed_cell` argument and any exception that happen during thetransform in `preprocessing_exc_tuple` in IPython 7.17 and above.\n",
      "  and should_run_async(code)\n",
      "                                                  Title T0        T1  \\\n",
      "0     Social–Emotional Characteristics and Adjustmen...  -         -   \n",
      "1     Do Mass Media Shape Stereotypes About Intellec...  -  0.140625   \n",
      "2     College Choice: Considerations for Academicall...  -         -   \n",
      "3     Intellectual Precocity: What Have We Learned S...  -  0.016646   \n",
      "4        Assessing the Scholarly Reach of Terman's Work  -  0.018740   \n",
      "...                                                 ... ..       ...   \n",
      "2532                         The Gifted Child in France  -  0.030264   \n",
      "2533                        How i Teach Gifted Children  -  0.083412   \n",
      "2534                        How I Teach Gifted Children  -  0.083412   \n",
      "2535                                President's Message  -  0.031903   \n",
      "2536  The Annual Meeting of NAGC to be Held Jointly ...  -  0.180856   \n",
      "\n",
      "            T2        T3        T4        T5        T6        T7        T8  \n",
      "0            -  0.222274  0.190537  0.524592  0.027181  0.023302         -  \n",
      "1            -  0.211664  0.016277  0.585460  0.018943  0.020896         -  \n",
      "2            -  0.188059  0.199778  0.268324  0.034515  0.297177         -  \n",
      "3            -  0.590838  0.025250  0.240642  0.078652  0.023950  0.021321  \n",
      "4            -  0.522476  0.039246  0.293473  0.011576  0.094326  0.015489  \n",
      "...        ...       ...       ...       ...       ...       ...       ...  \n",
      "2532  0.013523  0.151753  0.089383  0.603587  0.046971  0.035223  0.020365  \n",
      "2533  0.013512  0.198898  0.087406  0.505732  0.046671  0.035102  0.020345  \n",
      "2534  0.013512  0.198898  0.087406  0.505732  0.046671  0.035102  0.020345  \n",
      "2535  0.014271  0.167227  0.204711  0.464606  0.049295  0.037076  0.021488  \n",
      "2536  0.010243  0.152040  0.066324  0.506345  0.035391  0.026615  0.015423  \n",
      "\n",
      "[2537 rows x 10 columns]\n"
     ]
    }
   ],
   "source": [
    "topic_proportions = pd.concat([data[\"title\"], pd.DataFrame(proportion)], axis=1)\n",
    "topic_proportions.columns = [\"Title\", \"T0\", \"T1\", \"T2\", \"T3\", \"T4\", \"T5\", \"T6\", \"T7\", \"T8\"] #num topics = 9\n",
    "print(topic_proportions)\n",
    "topic_proportions.to_excel(\"./final_data/0121_topic_proportions_nltk_total.xlsx\")"
   ]
  },
  {
   "cell_type": "code",
   "execution_count": null,
   "metadata": {},
   "outputs": [],
   "source": []
  }
 ]
}