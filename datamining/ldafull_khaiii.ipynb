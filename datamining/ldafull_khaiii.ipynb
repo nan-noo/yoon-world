{
 "metadata": {
  "language_info": {
   "codemirror_mode": {
    "name": "ipython",
    "version": 3
   },
   "file_extension": ".py",
   "mimetype": "text/x-python",
   "name": "python",
   "nbconvert_exporter": "python",
   "pygments_lexer": "ipython3",
   "version": "3.8.2-final"
  },
  "orig_nbformat": 2,
  "kernelspec": {
   "name": "python3",
   "display_name": "Python 3.8.2 64-bit",
   "metadata": {
    "interpreter": {
     "hash": "31f2aee4e71d21fbe5cf8b01ff0e069b9275f58929596ceb00d14d90e3e16cd6"
    }
   }
  }
 },
 "nbformat": 4,
 "nbformat_minor": 2,
 "cells": [
  {
   "cell_type": "code",
   "execution_count": 1,
   "metadata": {},
   "outputs": [],
   "source": [
    "import pandas as pd\n",
    "import numpy as np\n",
    "from khaiii import KhaiiiApi\n",
    "import gensim\n",
    "import pyLDAvis.gensim\n",
    "import numpy as np\n",
    "import logging\n",
    "from gensim.models.coherencemodel import CoherenceModel\n",
    "import matplotlib.pyplot as plt\n",
    "import time\n",
    "from pprint import pprint"
   ]
  },
  {
   "cell_type": "code",
   "execution_count": 2,
   "metadata": {},
   "outputs": [
    {
     "output_type": "stream",
     "name": "stderr",
     "text": [
      "/Users/uni613/Library/Python/3.8/lib/python/site-packages/ipykernel/ipkernel.py:287: DeprecationWarning: `should_run_async` will not call `transform_cell` automatically in the future. Please pass the result to `transformed_cell` argument and any exception that happen during thetransform in `preprocessing_exc_tuple` in IPython 7.17 and above.\n  and should_run_async(code)\n"
     ]
    },
    {
     "output_type": "execute_result",
     "data": {
      "text/plain": [
       "    no  year                                           kor_full\n",
       "0  137  2002  탐색 알고리즘 교육을 위한 S/W 컴포넌트의 개발 탐색알고리즘교육, 컴퓨터프로그래밍...\n",
       "1  147  2002  프로젝트 학습을 기반으로 하는 ICT 활용 수업 모형의 개발 및 적용 ICT 활용교...\n",
       "2  148  2002  분산 컴퓨팅 환경에서의 웹 교육 컴포넌트 개발과정 모델링 웹기반 교육, 컴포넌트 개...\n",
       "3  149  2002  효과적인 아동용 WBI를 위한 한글 타이포그래피의 가해성 분석과 활용 타이포 그래피...\n",
       "4  150  2002  교수 · 학습 디지털 컨텐트 통합메타데이터 및 개체-관계 모델 설계 교수.학습, 컨..."
      ],
      "text/html": "<div>\n<style scoped>\n    .dataframe tbody tr th:only-of-type {\n        vertical-align: middle;\n    }\n\n    .dataframe tbody tr th {\n        vertical-align: top;\n    }\n\n    .dataframe thead th {\n        text-align: right;\n    }\n</style>\n<table border=\"1\" class=\"dataframe\">\n  <thead>\n    <tr style=\"text-align: right;\">\n      <th></th>\n      <th>no</th>\n      <th>year</th>\n      <th>kor_full</th>\n    </tr>\n  </thead>\n  <tbody>\n    <tr>\n      <th>0</th>\n      <td>137</td>\n      <td>2002</td>\n      <td>탐색 알고리즘 교육을 위한 S/W 컴포넌트의 개발 탐색알고리즘교육, 컴퓨터프로그래밍...</td>\n    </tr>\n    <tr>\n      <th>1</th>\n      <td>147</td>\n      <td>2002</td>\n      <td>프로젝트 학습을 기반으로 하는 ICT 활용 수업 모형의 개발 및 적용 ICT 활용교...</td>\n    </tr>\n    <tr>\n      <th>2</th>\n      <td>148</td>\n      <td>2002</td>\n      <td>분산 컴퓨팅 환경에서의 웹 교육 컴포넌트 개발과정 모델링 웹기반 교육, 컴포넌트 개...</td>\n    </tr>\n    <tr>\n      <th>3</th>\n      <td>149</td>\n      <td>2002</td>\n      <td>효과적인 아동용 WBI를 위한 한글 타이포그래피의 가해성 분석과 활용 타이포 그래피...</td>\n    </tr>\n    <tr>\n      <th>4</th>\n      <td>150</td>\n      <td>2002</td>\n      <td>교수 · 학습 디지털 컨텐트 통합메타데이터 및 개체-관계 모델 설계 교수.학습, 컨...</td>\n    </tr>\n  </tbody>\n</table>\n</div>"
     },
     "metadata": {},
     "execution_count": 2
    }
   ],
   "source": [
    "data = pd.read_csv(\"./modi_data/kor_full.csv\") ############\n",
    "#data = data.drop(['Unnamed: 0'], axis=1)\n",
    "data.head()"
   ]
  },
  {
   "cell_type": "code",
   "execution_count": 3,
   "metadata": {},
   "outputs": [
    {
     "output_type": "stream",
     "name": "stdout",
     "text": [
      "       no  year                                           kor_full\n",
      "0     137  2002  탐색 알고리즘 교육을 위한 S/W 컴포넌트의 개발 탐색알고리즘교육, 컴퓨터프로그래밍...\n",
      "1     147  2002  프로젝트 학습을 기반으로 하는 ICT 활용 수업 모형의 개발 및 적용 ICT 활용교...\n",
      "2     148  2002  분산 컴퓨팅 환경에서의 웹 교육 컴포넌트 개발과정 모델링 웹기반 교육, 컴포넌트 개...\n",
      "3     149  2002  효과적인 아동용 WBI를 위한 한글 타이포그래피의 가해성 분석과 활용 타이포 그래피...\n",
      "4     150  2002  교수 · 학습 디지털 컨텐트 통합메타데이터 및 개체-관계 모델 설계 교수.학습, 컨...\n",
      "..    ...   ...                                                ...\n",
      "807  1121  2020  R 매핑을 이용한 인공지능의 교육적 활용 탐색 - 국외 문헌 분석을 중심으로 - 인...\n",
      "808  1122  2020  중학교 정보교과에서 짝 프로그래밍이 4Cs 향상에 미치는 영향 짝 프로그래밍, 4C...\n",
      "809  1123  2020  자동 분류 기술을 활용한 온라인 강의 평가 방법 빅 데이터 분석, 온라인 강의 평가...\n",
      "810  1124  2020  인공지능교육 역량 강화를 위한 교원 연수 프로그램과 교사 요구분석 인공지능교육, 교...\n",
      "811  1125  2020  초·중등 현직 교원의 스크래치 활용 교수자료 개발에 대한 경험 분석 : ASSURE...\n",
      "\n",
      "[812 rows x 3 columns]\n",
      "/Users/uni613/Library/Python/3.8/lib/python/site-packages/ipykernel/ipkernel.py:287: DeprecationWarning: `should_run_async` will not call `transform_cell` automatically in the future. Please pass the result to `transformed_cell` argument and any exception that happen during thetransform in `preprocessing_exc_tuple` in IPython 7.17 and above.\n",
      "  and should_run_async(code)\n"
     ]
    }
   ],
   "source": [
    "data = pd.read_csv(\"./modi_data/kor_full.csv\") ############\n",
    "#data = data.drop(data.index[50:]) ###################### decrease size\n",
    "#data = data.drop(['Unnamed: 0'], axis=1)\n",
    "print(data)"
   ]
  },
  {
   "cell_type": "code",
   "execution_count": 4,
   "metadata": {},
   "outputs": [
    {
     "output_type": "stream",
     "name": "stderr",
     "text": [
      "/Users/uni613/Library/Python/3.8/lib/python/site-packages/ipykernel/ipkernel.py:287: DeprecationWarning: `should_run_async` will not call `transform_cell` automatically in the future. Please pass the result to `transformed_cell` argument and any exception that happen during thetransform in `preprocessing_exc_tuple` in IPython 7.17 and above.\n  and should_run_async(code)\n"
     ]
    }
   ],
   "source": [
    "dfWordList = pd.read_excel(\"./khaiii_word_cor.xlsx\")\n",
    "dfWordList2 = pd.read_excel(\"./khaiii_word_cor_etc.xlsx\")\n",
    "#print(dfWordList2)\n",
    "\n",
    "dfWordDel = dfWordList[dfWordList[\"수정\"] == \"삭제\"]\n",
    "dfWordMod = dfWordList[dfWordList[\"수정\"] != \"삭제\"]\n",
    "dfWordDiv = dfWordList2\n",
    "#print(dfWordMod)\n",
    "\n",
    "seriesDelete = dfWordDel[\"기존\"]\n",
    "stopword = []\n",
    "for word in seriesDelete.values:\n",
    "    stopword.append(word)\n",
    "#print(stopword)\n",
    "\n",
    "seriesModify = dfWordMod[\"기존\"]\n",
    "modiword = []\n",
    "for word in seriesModify.values:\n",
    "    modiword.append(word)\n",
    "#print(len(modiword))\n",
    "\n",
    "seriesModify2 = dfWordMod[\"수정\"]\n",
    "modiword2 = []\n",
    "for word in seriesModify2.values:\n",
    "    modiword2.append(word)\n",
    "#print(len(modiword2))\n",
    "\n",
    "seriesDivide = dfWordDiv[\"기존\"]\n",
    "divword = []\n",
    "for word in seriesDivide.values:\n",
    "    divword.append(word)\n",
    "#print(divword)\n",
    "#print(len(divword))\n",
    "\n",
    "seriesDivide2 = dfWordDiv[\"수정\"]\n",
    "divword2 = []\n",
    "for words in seriesDivide2.values:\n",
    "    divword2.append(words.split(', '))\n",
    "#print(divword2)\n",
    "#print(len(divword2))"
   ]
  },
  {
   "cell_type": "code",
   "execution_count": 5,
   "metadata": {},
   "outputs": [
    {
     "output_type": "stream",
     "name": "stderr",
     "text": [
      "/Users/uni613/Library/Python/3.8/lib/python/site-packages/ipykernel/ipkernel.py:287: DeprecationWarning: `should_run_async` will not call `transform_cell` automatically in the future. Please pass the result to `transformed_cell` argument and any exception that happen during thetransform in `preprocessing_exc_tuple` in IPython 7.17 and above.\n  and should_run_async(code)\n"
     ]
    }
   ],
   "source": [
    "api = KhaiiiApi()\n",
    "def khaiiiTokenizer(raw, stopword=stopword, pos=['NNG', 'NNP', 'NNB', 'NP', 'NR', 'SL']): # 일반명사 고유명사 의존명사 대명사 수사 외국어\n",
    "    list = []\n",
    "    \n",
    "    for word in api.analyze(raw): #raw data\n",
    "        #print(word)\n",
    "        \n",
    "        for morph in word.morphs:\n",
    "            #print(morph.lex)\n",
    "            if len(morph.lex) > 1 and morph.tag in pos and morph.lex not in stopword: \n",
    "                if morph.tag == 'SL':\n",
    "                    morph.lex = morph.lex.lower()\n",
    "                if morph.lex in divword:\n",
    "                    morph.lex = divword2[divword.index(morph.lex)]\n",
    "                    list.extend(morph.lex)\n",
    "                elif morph.lex in modiword:\n",
    "                    morph.lex = modiword2[modiword.index(morph.lex)]\n",
    "                    list.append(morph.lex)\n",
    "                else: list.append(morph.lex)\n",
    "                \n",
    "    return list"
   ]
  },
  {
   "cell_type": "code",
   "execution_count": 6,
   "metadata": {},
   "outputs": [
    {
     "output_type": "stream",
     "name": "stderr",
     "text": [
      "/Users/uni613/Library/Python/3.8/lib/python/site-packages/ipykernel/ipkernel.py:287: DeprecationWarning: `should_run_async` will not call `transform_cell` automatically in the future. Please pass the result to `transformed_cell` argument and any exception that happen during thetransform in `preprocessing_exc_tuple` in IPython 7.17 and above.\n",
      "  and should_run_async(code)\n",
      "========= tokenization completed =========\n"
     ]
    }
   ],
   "source": [
    "tokenized = data[\"kor_full\"].apply(lambda row: khaiiiTokenizer(row))\n",
    "#print(tokenized)\n",
    "tokenized.to_excel(\"./final_data/1210token_khaiii_full.xls\") ##############\n",
    "print(\"========= tokenization completed =========\")"
   ]
  },
  {
   "cell_type": "code",
   "execution_count": 7,
   "metadata": {},
   "outputs": [
    {
     "output_type": "stream",
     "name": "stderr",
     "text": [
      "/Users/uni613/Library/Python/3.8/lib/python/site-packages/ipykernel/ipkernel.py:287: DeprecationWarning: `should_run_async` will not call `transform_cell` automatically in the future. Please pass the result to `transformed_cell` argument and any exception that happen during thetransform in `preprocessing_exc_tuple` in IPython 7.17 and above.\n",
      "  and should_run_async(code)\n",
      "# words in total :  4217\n",
      "# documents :  812\n"
     ]
    }
   ],
   "source": [
    "#lda\n",
    "id2word = gensim.corpora.Dictionary(tokenized)\n",
    "\n",
    "wordlist = []\n",
    "for i in range(len(id2word)):\n",
    "    #print(id2word[i])\n",
    "    wordlist.append(id2word[i])\n",
    "#print(wordlist)\n",
    "seriesWordlist = pd.Series(wordlist)\n",
    "seriesWordlist.to_excel(\"./final_data/1210wordlist_khaiii_full.xls\") #################\n",
    "\n",
    "corpus=[id2word.doc2bow(text) for text in tokenized]\n",
    "#print(\"id2word for each document : \", corpus)\n",
    "print(\"# words in total : \", len(id2word))\n",
    "print(\"# documents : \", len(corpus))"
   ]
  },
  {
   "cell_type": "code",
   "execution_count": 8,
   "metadata": {},
   "outputs": [
    {
     "output_type": "stream",
     "name": "stderr",
     "text": [
      "/Users/uni613/Library/Python/3.8/lib/python/site-packages/ipykernel/ipkernel.py:287: DeprecationWarning: `should_run_async` will not call `transform_cell` automatically in the future. Please pass the result to `transformed_cell` argument and any exception that happen during thetransform in `preprocessing_exc_tuple` in IPython 7.17 and above.\n  and should_run_async(code)\n"
     ]
    }
   ],
   "source": [
    "def compute_coherence_values(dictionary, corpus, texts, limit, start=2, step=1):\n",
    "    \"\"\"\n",
    "    Compute c_v coherence for various number of topics\n",
    "\n",
    "    Parameters:\n",
    "    ----------\n",
    "    dictionary : Gensim dictionary\n",
    "    corpus : Gensim corpus\n",
    "    texts : List of input texts\n",
    "    limit : Max num of topics\n",
    "\n",
    "    Returns:\n",
    "    -------\n",
    "    model_list : List of LDA topic models\n",
    "    coherence_values : Coherence values corresponding to the LDA model with respective number of topics\n",
    "    \"\"\"\n",
    "    perplexity_values = []\n",
    "    coherence_values = []\n",
    "    model_list = []\n",
    "    for num_topics in range(start, limit, step):\n",
    "        print(num_topics)\n",
    "        model = gensim.models.ldamodel.LdaModel(corpus=corpus,\n",
    "                                                id2word=id2word,\n",
    "                                                num_topics=num_topics,\n",
    "                                                random_state=100,\n",
    "                                                update_every=1,\n",
    "                                                iterations=1000,\n",
    "                                                chunksize=100,\n",
    "                                                passes=10,\n",
    "                                                alpha='auto',\n",
    "                                                eta='auto',\n",
    "                                                per_word_topics=True)\n",
    "        model_list.append(model)\n",
    "        perplexitymodel = model.log_perplexity(corpus)\n",
    "        perplexity_values.append(perplexitymodel)\n",
    "        coherencemodel = CoherenceModel(model=model,\n",
    "                                        texts=texts,\n",
    "                                        dictionary=dictionary,\n",
    "                                        coherence='c_v')\n",
    "        coherence_values.append(coherencemodel.get_coherence())\n",
    "    return model_list, perplexity_values, coherence_values"
   ]
  },
  {
   "cell_type": "code",
   "execution_count": 9,
   "metadata": {},
   "outputs": [
    {
     "output_type": "stream",
     "name": "stderr",
     "text": [
      "/Users/uni613/Library/Python/3.8/lib/python/site-packages/ipykernel/ipkernel.py:287: DeprecationWarning: `should_run_async` will not call `transform_cell` automatically in the future. Please pass the result to `transformed_cell` argument and any exception that happen during thetransform in `preprocessing_exc_tuple` in IPython 7.17 and above.\n",
      "  and should_run_async(code)\n",
      "2\n",
      "WARNING:gensim.models.ldamodel:updated prior is not positive\n",
      "WARNING:gensim.models.ldamodel:updated prior is not positive\n",
      "3\n",
      "WARNING:gensim.models.ldamodel:updated prior is not positive\n",
      "WARNING:gensim.models.ldamodel:updated prior is not positive\n",
      "4\n",
      "WARNING:gensim.models.ldamodel:updated prior is not positive\n",
      "5\n",
      "6\n",
      "7\n",
      "8\n",
      "9\n",
      "10\n",
      "11\n",
      "12\n",
      "13\n",
      "14\n",
      "15\n",
      "16\n",
      "17\n",
      "18\n",
      "19\n",
      "20\n",
      "21\n",
      "22\n",
      "23\n",
      "24\n",
      "25\n",
      "26\n",
      "27\n",
      "28\n",
      "29\n",
      "30\n"
     ]
    }
   ],
   "source": [
    "#start = time.time()\n",
    "model_list, perplexity_values, coherence_values = compute_coherence_values(dictionary=id2word,\n",
    "                                                        corpus=corpus,\n",
    "                                                        texts=tokenized,\n",
    "                                                        start=2,\n",
    "                                                        limit=31, #####\n",
    "                                                        step=1)\n",
    "#print(\"time : \", ( time.time() - start )/60, \"min\")"
   ]
  },
  {
   "cell_type": "code",
   "execution_count": 10,
   "metadata": {},
   "outputs": [
    {
     "output_type": "stream",
     "name": "stderr",
     "text": [
      "/Users/uni613/Library/Python/3.8/lib/python/site-packages/ipykernel/ipkernel.py:287: DeprecationWarning: `should_run_async` will not call `transform_cell` automatically in the future. Please pass the result to `transformed_cell` argument and any exception that happen during thetransform in `preprocessing_exc_tuple` in IPython 7.17 and above.\n  and should_run_async(code)\n"
     ]
    },
    {
     "output_type": "display_data",
     "data": {
      "text/plain": "<Figure size 720x720 with 2 Axes>",
      "image/svg+xml": "<?xml version=\"1.0\" encoding=\"utf-8\" standalone=\"no\"?>\n<!DOCTYPE svg PUBLIC \"-//W3C//DTD SVG 1.1//EN\"\n  \"http://www.w3.org/Graphics/SVG/1.1/DTD/svg11.dtd\">\n<!-- Created with matplotlib (https://matplotlib.org/) -->\n<svg height=\"588.35625pt\" version=\"1.1\" viewBox=\"0 0 623.723438 588.35625\" width=\"623.723438pt\" xmlns=\"http://www.w3.org/2000/svg\" xmlns:xlink=\"http://www.w3.org/1999/xlink\">\n <metadata>\n  <rdf:RDF xmlns:cc=\"http://creativecommons.org/ns#\" xmlns:dc=\"http://purl.org/dc/elements/1.1/\" xmlns:rdf=\"http://www.w3.org/1999/02/22-rdf-syntax-ns#\">\n   <cc:Work>\n    <dc:type rdf:resource=\"http://purl.org/dc/dcmitype/StillImage\"/>\n    <dc:date>2020-12-10T16:24:44.606904</dc:date>\n    <dc:format>image/svg+xml</dc:format>\n    <dc:creator>\n     <cc:Agent>\n      <dc:title>Matplotlib v3.3.3, https://matplotlib.org/</dc:title>\n     </cc:Agent>\n    </dc:creator>\n   </cc:Work>\n  </rdf:RDF>\n </metadata>\n <defs>\n  <style type=\"text/css\">*{stroke-linecap:butt;stroke-linejoin:round;}</style>\n </defs>\n <g id=\"figure_1\">\n  <g id=\"patch_1\">\n   <path d=\"M -0 588.35625 \nL 623.723438 588.35625 \nL 623.723438 0 \nL -0 0 \nz\n\" style=\"fill:none;\"/>\n  </g>\n  <g id=\"axes_1\">\n   <g id=\"patch_2\">\n    <path d=\"M 58.523438 254.290909 \nL 616.523438 254.290909 \nL 616.523438 7.2 \nL 58.523438 7.2 \nz\n\" style=\"fill:#ffffff;\"/>\n   </g>\n   <g id=\"matplotlib.axis_1\">\n    <g id=\"xtick_1\">\n     <g id=\"line2d_1\">\n      <defs>\n       <path d=\"M 0 0 \nL 0 3.5 \n\" id=\"m71f20ea2ac\" style=\"stroke:#000000;stroke-width:0.8;\"/>\n      </defs>\n      <g>\n       <use style=\"stroke:#000000;stroke-width:0.8;\" x=\"138.237723\" xlink:href=\"#m71f20ea2ac\" y=\"254.290909\"/>\n      </g>\n     </g>\n     <g id=\"text_1\">\n      <!-- 5 -->\n      <g transform=\"translate(135.056473 268.889347)scale(0.1 -0.1)\">\n       <defs>\n        <path d=\"M 10.796875 72.90625 \nL 49.515625 72.90625 \nL 49.515625 64.59375 \nL 19.828125 64.59375 \nL 19.828125 46.734375 \nQ 21.96875 47.46875 24.109375 47.828125 \nQ 26.265625 48.1875 28.421875 48.1875 \nQ 40.625 48.1875 47.75 41.5 \nQ 54.890625 34.8125 54.890625 23.390625 \nQ 54.890625 11.625 47.5625 5.09375 \nQ 40.234375 -1.421875 26.90625 -1.421875 \nQ 22.3125 -1.421875 17.546875 -0.640625 \nQ 12.796875 0.140625 7.71875 1.703125 \nL 7.71875 11.625 \nQ 12.109375 9.234375 16.796875 8.0625 \nQ 21.484375 6.890625 26.703125 6.890625 \nQ 35.15625 6.890625 40.078125 11.328125 \nQ 45.015625 15.765625 45.015625 23.390625 \nQ 45.015625 31 40.078125 35.4375 \nQ 35.15625 39.890625 26.703125 39.890625 \nQ 22.75 39.890625 18.8125 39.015625 \nQ 14.890625 38.140625 10.796875 36.28125 \nz\n\" id=\"DejaVuSans-53\"/>\n       </defs>\n       <use xlink:href=\"#DejaVuSans-53\"/>\n      </g>\n     </g>\n    </g>\n    <g id=\"xtick_2\">\n     <g id=\"line2d_2\">\n      <g>\n       <use style=\"stroke:#000000;stroke-width:0.8;\" x=\"228.822139\" xlink:href=\"#m71f20ea2ac\" y=\"254.290909\"/>\n      </g>\n     </g>\n     <g id=\"text_2\">\n      <!-- 10 -->\n      <g transform=\"translate(222.459639 268.889347)scale(0.1 -0.1)\">\n       <defs>\n        <path d=\"M 12.40625 8.296875 \nL 28.515625 8.296875 \nL 28.515625 63.921875 \nL 10.984375 60.40625 \nL 10.984375 69.390625 \nL 28.421875 72.90625 \nL 38.28125 72.90625 \nL 38.28125 8.296875 \nL 54.390625 8.296875 \nL 54.390625 0 \nL 12.40625 0 \nz\n\" id=\"DejaVuSans-49\"/>\n        <path d=\"M 31.78125 66.40625 \nQ 24.171875 66.40625 20.328125 58.90625 \nQ 16.5 51.421875 16.5 36.375 \nQ 16.5 21.390625 20.328125 13.890625 \nQ 24.171875 6.390625 31.78125 6.390625 \nQ 39.453125 6.390625 43.28125 13.890625 \nQ 47.125 21.390625 47.125 36.375 \nQ 47.125 51.421875 43.28125 58.90625 \nQ 39.453125 66.40625 31.78125 66.40625 \nz\nM 31.78125 74.21875 \nQ 44.046875 74.21875 50.515625 64.515625 \nQ 56.984375 54.828125 56.984375 36.375 \nQ 56.984375 17.96875 50.515625 8.265625 \nQ 44.046875 -1.421875 31.78125 -1.421875 \nQ 19.53125 -1.421875 13.0625 8.265625 \nQ 6.59375 17.96875 6.59375 36.375 \nQ 6.59375 54.828125 13.0625 64.515625 \nQ 19.53125 74.21875 31.78125 74.21875 \nz\n\" id=\"DejaVuSans-48\"/>\n       </defs>\n       <use xlink:href=\"#DejaVuSans-49\"/>\n       <use x=\"63.623047\" xlink:href=\"#DejaVuSans-48\"/>\n      </g>\n     </g>\n    </g>\n    <g id=\"xtick_3\">\n     <g id=\"line2d_3\">\n      <g>\n       <use style=\"stroke:#000000;stroke-width:0.8;\" x=\"319.406554\" xlink:href=\"#m71f20ea2ac\" y=\"254.290909\"/>\n      </g>\n     </g>\n     <g id=\"text_3\">\n      <!-- 15 -->\n      <g transform=\"translate(313.044054 268.889347)scale(0.1 -0.1)\">\n       <use xlink:href=\"#DejaVuSans-49\"/>\n       <use x=\"63.623047\" xlink:href=\"#DejaVuSans-53\"/>\n      </g>\n     </g>\n    </g>\n    <g id=\"xtick_4\">\n     <g id=\"line2d_4\">\n      <g>\n       <use style=\"stroke:#000000;stroke-width:0.8;\" x=\"409.99097\" xlink:href=\"#m71f20ea2ac\" y=\"254.290909\"/>\n      </g>\n     </g>\n     <g id=\"text_4\">\n      <!-- 20 -->\n      <g transform=\"translate(403.62847 268.889347)scale(0.1 -0.1)\">\n       <defs>\n        <path d=\"M 19.1875 8.296875 \nL 53.609375 8.296875 \nL 53.609375 0 \nL 7.328125 0 \nL 7.328125 8.296875 \nQ 12.9375 14.109375 22.625 23.890625 \nQ 32.328125 33.6875 34.8125 36.53125 \nQ 39.546875 41.84375 41.421875 45.53125 \nQ 43.3125 49.21875 43.3125 52.78125 \nQ 43.3125 58.59375 39.234375 62.25 \nQ 35.15625 65.921875 28.609375 65.921875 \nQ 23.96875 65.921875 18.8125 64.3125 \nQ 13.671875 62.703125 7.8125 59.421875 \nL 7.8125 69.390625 \nQ 13.765625 71.78125 18.9375 73 \nQ 24.125 74.21875 28.421875 74.21875 \nQ 39.75 74.21875 46.484375 68.546875 \nQ 53.21875 62.890625 53.21875 53.421875 \nQ 53.21875 48.921875 51.53125 44.890625 \nQ 49.859375 40.875 45.40625 35.40625 \nQ 44.1875 33.984375 37.640625 27.21875 \nQ 31.109375 20.453125 19.1875 8.296875 \nz\n\" id=\"DejaVuSans-50\"/>\n       </defs>\n       <use xlink:href=\"#DejaVuSans-50\"/>\n       <use x=\"63.623047\" xlink:href=\"#DejaVuSans-48\"/>\n      </g>\n     </g>\n    </g>\n    <g id=\"xtick_5\">\n     <g id=\"line2d_5\">\n      <g>\n       <use style=\"stroke:#000000;stroke-width:0.8;\" x=\"500.575386\" xlink:href=\"#m71f20ea2ac\" y=\"254.290909\"/>\n      </g>\n     </g>\n     <g id=\"text_5\">\n      <!-- 25 -->\n      <g transform=\"translate(494.212886 268.889347)scale(0.1 -0.1)\">\n       <use xlink:href=\"#DejaVuSans-50\"/>\n       <use x=\"63.623047\" xlink:href=\"#DejaVuSans-53\"/>\n      </g>\n     </g>\n    </g>\n    <g id=\"xtick_6\">\n     <g id=\"line2d_6\">\n      <g>\n       <use style=\"stroke:#000000;stroke-width:0.8;\" x=\"591.159801\" xlink:href=\"#m71f20ea2ac\" y=\"254.290909\"/>\n      </g>\n     </g>\n     <g id=\"text_6\">\n      <!-- 30 -->\n      <g transform=\"translate(584.797301 268.889347)scale(0.1 -0.1)\">\n       <defs>\n        <path d=\"M 40.578125 39.3125 \nQ 47.65625 37.796875 51.625 33 \nQ 55.609375 28.21875 55.609375 21.1875 \nQ 55.609375 10.40625 48.1875 4.484375 \nQ 40.765625 -1.421875 27.09375 -1.421875 \nQ 22.515625 -1.421875 17.65625 -0.515625 \nQ 12.796875 0.390625 7.625 2.203125 \nL 7.625 11.71875 \nQ 11.71875 9.328125 16.59375 8.109375 \nQ 21.484375 6.890625 26.8125 6.890625 \nQ 36.078125 6.890625 40.9375 10.546875 \nQ 45.796875 14.203125 45.796875 21.1875 \nQ 45.796875 27.640625 41.28125 31.265625 \nQ 36.765625 34.90625 28.71875 34.90625 \nL 20.21875 34.90625 \nL 20.21875 43.015625 \nL 29.109375 43.015625 \nQ 36.375 43.015625 40.234375 45.921875 \nQ 44.09375 48.828125 44.09375 54.296875 \nQ 44.09375 59.90625 40.109375 62.90625 \nQ 36.140625 65.921875 28.71875 65.921875 \nQ 24.65625 65.921875 20.015625 65.03125 \nQ 15.375 64.15625 9.8125 62.3125 \nL 9.8125 71.09375 \nQ 15.4375 72.65625 20.34375 73.4375 \nQ 25.25 74.21875 29.59375 74.21875 \nQ 40.828125 74.21875 47.359375 69.109375 \nQ 53.90625 64.015625 53.90625 55.328125 \nQ 53.90625 49.265625 50.4375 45.09375 \nQ 46.96875 40.921875 40.578125 39.3125 \nz\n\" id=\"DejaVuSans-51\"/>\n       </defs>\n       <use xlink:href=\"#DejaVuSans-51\"/>\n       <use x=\"63.623047\" xlink:href=\"#DejaVuSans-48\"/>\n      </g>\n     </g>\n    </g>\n    <g id=\"text_7\">\n     <!-- Number of Topics -->\n     <g transform=\"translate(294.259375 282.567472)scale(0.1 -0.1)\">\n      <defs>\n       <path d=\"M 9.8125 72.90625 \nL 23.09375 72.90625 \nL 55.421875 11.921875 \nL 55.421875 72.90625 \nL 64.984375 72.90625 \nL 64.984375 0 \nL 51.703125 0 \nL 19.390625 60.984375 \nL 19.390625 0 \nL 9.8125 0 \nz\n\" id=\"DejaVuSans-78\"/>\n       <path d=\"M 8.5 21.578125 \nL 8.5 54.6875 \nL 17.484375 54.6875 \nL 17.484375 21.921875 \nQ 17.484375 14.15625 20.5 10.265625 \nQ 23.53125 6.390625 29.59375 6.390625 \nQ 36.859375 6.390625 41.078125 11.03125 \nQ 45.3125 15.671875 45.3125 23.6875 \nL 45.3125 54.6875 \nL 54.296875 54.6875 \nL 54.296875 0 \nL 45.3125 0 \nL 45.3125 8.40625 \nQ 42.046875 3.421875 37.71875 1 \nQ 33.40625 -1.421875 27.6875 -1.421875 \nQ 18.265625 -1.421875 13.375 4.4375 \nQ 8.5 10.296875 8.5 21.578125 \nz\nM 31.109375 56 \nz\n\" id=\"DejaVuSans-117\"/>\n       <path d=\"M 52 44.1875 \nQ 55.375 50.25 60.0625 53.125 \nQ 64.75 56 71.09375 56 \nQ 79.640625 56 84.28125 50.015625 \nQ 88.921875 44.046875 88.921875 33.015625 \nL 88.921875 0 \nL 79.890625 0 \nL 79.890625 32.71875 \nQ 79.890625 40.578125 77.09375 44.375 \nQ 74.3125 48.1875 68.609375 48.1875 \nQ 61.625 48.1875 57.5625 43.546875 \nQ 53.515625 38.921875 53.515625 30.90625 \nL 53.515625 0 \nL 44.484375 0 \nL 44.484375 32.71875 \nQ 44.484375 40.625 41.703125 44.40625 \nQ 38.921875 48.1875 33.109375 48.1875 \nQ 26.21875 48.1875 22.15625 43.53125 \nQ 18.109375 38.875 18.109375 30.90625 \nL 18.109375 0 \nL 9.078125 0 \nL 9.078125 54.6875 \nL 18.109375 54.6875 \nL 18.109375 46.1875 \nQ 21.1875 51.21875 25.484375 53.609375 \nQ 29.78125 56 35.6875 56 \nQ 41.65625 56 45.828125 52.96875 \nQ 50 49.953125 52 44.1875 \nz\n\" id=\"DejaVuSans-109\"/>\n       <path d=\"M 48.6875 27.296875 \nQ 48.6875 37.203125 44.609375 42.84375 \nQ 40.53125 48.484375 33.40625 48.484375 \nQ 26.265625 48.484375 22.1875 42.84375 \nQ 18.109375 37.203125 18.109375 27.296875 \nQ 18.109375 17.390625 22.1875 11.75 \nQ 26.265625 6.109375 33.40625 6.109375 \nQ 40.53125 6.109375 44.609375 11.75 \nQ 48.6875 17.390625 48.6875 27.296875 \nz\nM 18.109375 46.390625 \nQ 20.953125 51.265625 25.265625 53.625 \nQ 29.59375 56 35.59375 56 \nQ 45.5625 56 51.78125 48.09375 \nQ 58.015625 40.1875 58.015625 27.296875 \nQ 58.015625 14.40625 51.78125 6.484375 \nQ 45.5625 -1.421875 35.59375 -1.421875 \nQ 29.59375 -1.421875 25.265625 0.953125 \nQ 20.953125 3.328125 18.109375 8.203125 \nL 18.109375 0 \nL 9.078125 0 \nL 9.078125 75.984375 \nL 18.109375 75.984375 \nz\n\" id=\"DejaVuSans-98\"/>\n       <path d=\"M 56.203125 29.59375 \nL 56.203125 25.203125 \nL 14.890625 25.203125 \nQ 15.484375 15.921875 20.484375 11.0625 \nQ 25.484375 6.203125 34.421875 6.203125 \nQ 39.59375 6.203125 44.453125 7.46875 \nQ 49.3125 8.734375 54.109375 11.28125 \nL 54.109375 2.78125 \nQ 49.265625 0.734375 44.1875 -0.34375 \nQ 39.109375 -1.421875 33.890625 -1.421875 \nQ 20.796875 -1.421875 13.15625 6.1875 \nQ 5.515625 13.8125 5.515625 26.8125 \nQ 5.515625 40.234375 12.765625 48.109375 \nQ 20.015625 56 32.328125 56 \nQ 43.359375 56 49.78125 48.890625 \nQ 56.203125 41.796875 56.203125 29.59375 \nz\nM 47.21875 32.234375 \nQ 47.125 39.59375 43.09375 43.984375 \nQ 39.0625 48.390625 32.421875 48.390625 \nQ 24.90625 48.390625 20.390625 44.140625 \nQ 15.875 39.890625 15.1875 32.171875 \nz\n\" id=\"DejaVuSans-101\"/>\n       <path d=\"M 41.109375 46.296875 \nQ 39.59375 47.171875 37.8125 47.578125 \nQ 36.03125 48 33.890625 48 \nQ 26.265625 48 22.1875 43.046875 \nQ 18.109375 38.09375 18.109375 28.8125 \nL 18.109375 0 \nL 9.078125 0 \nL 9.078125 54.6875 \nL 18.109375 54.6875 \nL 18.109375 46.1875 \nQ 20.953125 51.171875 25.484375 53.578125 \nQ 30.03125 56 36.53125 56 \nQ 37.453125 56 38.578125 55.875 \nQ 39.703125 55.765625 41.0625 55.515625 \nz\n\" id=\"DejaVuSans-114\"/>\n       <path id=\"DejaVuSans-32\"/>\n       <path d=\"M 30.609375 48.390625 \nQ 23.390625 48.390625 19.1875 42.75 \nQ 14.984375 37.109375 14.984375 27.296875 \nQ 14.984375 17.484375 19.15625 11.84375 \nQ 23.34375 6.203125 30.609375 6.203125 \nQ 37.796875 6.203125 41.984375 11.859375 \nQ 46.1875 17.53125 46.1875 27.296875 \nQ 46.1875 37.015625 41.984375 42.703125 \nQ 37.796875 48.390625 30.609375 48.390625 \nz\nM 30.609375 56 \nQ 42.328125 56 49.015625 48.375 \nQ 55.71875 40.765625 55.71875 27.296875 \nQ 55.71875 13.875 49.015625 6.21875 \nQ 42.328125 -1.421875 30.609375 -1.421875 \nQ 18.84375 -1.421875 12.171875 6.21875 \nQ 5.515625 13.875 5.515625 27.296875 \nQ 5.515625 40.765625 12.171875 48.375 \nQ 18.84375 56 30.609375 56 \nz\n\" id=\"DejaVuSans-111\"/>\n       <path d=\"M 37.109375 75.984375 \nL 37.109375 68.5 \nL 28.515625 68.5 \nQ 23.6875 68.5 21.796875 66.546875 \nQ 19.921875 64.59375 19.921875 59.515625 \nL 19.921875 54.6875 \nL 34.71875 54.6875 \nL 34.71875 47.703125 \nL 19.921875 47.703125 \nL 19.921875 0 \nL 10.890625 0 \nL 10.890625 47.703125 \nL 2.296875 47.703125 \nL 2.296875 54.6875 \nL 10.890625 54.6875 \nL 10.890625 58.5 \nQ 10.890625 67.625 15.140625 71.796875 \nQ 19.390625 75.984375 28.609375 75.984375 \nz\n\" id=\"DejaVuSans-102\"/>\n       <path d=\"M -0.296875 72.90625 \nL 61.375 72.90625 \nL 61.375 64.59375 \nL 35.5 64.59375 \nL 35.5 0 \nL 25.59375 0 \nL 25.59375 64.59375 \nL -0.296875 64.59375 \nz\n\" id=\"DejaVuSans-84\"/>\n       <path d=\"M 18.109375 8.203125 \nL 18.109375 -20.796875 \nL 9.078125 -20.796875 \nL 9.078125 54.6875 \nL 18.109375 54.6875 \nL 18.109375 46.390625 \nQ 20.953125 51.265625 25.265625 53.625 \nQ 29.59375 56 35.59375 56 \nQ 45.5625 56 51.78125 48.09375 \nQ 58.015625 40.1875 58.015625 27.296875 \nQ 58.015625 14.40625 51.78125 6.484375 \nQ 45.5625 -1.421875 35.59375 -1.421875 \nQ 29.59375 -1.421875 25.265625 0.953125 \nQ 20.953125 3.328125 18.109375 8.203125 \nz\nM 48.6875 27.296875 \nQ 48.6875 37.203125 44.609375 42.84375 \nQ 40.53125 48.484375 33.40625 48.484375 \nQ 26.265625 48.484375 22.1875 42.84375 \nQ 18.109375 37.203125 18.109375 27.296875 \nQ 18.109375 17.390625 22.1875 11.75 \nQ 26.265625 6.109375 33.40625 6.109375 \nQ 40.53125 6.109375 44.609375 11.75 \nQ 48.6875 17.390625 48.6875 27.296875 \nz\n\" id=\"DejaVuSans-112\"/>\n       <path d=\"M 9.421875 54.6875 \nL 18.40625 54.6875 \nL 18.40625 0 \nL 9.421875 0 \nz\nM 9.421875 75.984375 \nL 18.40625 75.984375 \nL 18.40625 64.59375 \nL 9.421875 64.59375 \nz\n\" id=\"DejaVuSans-105\"/>\n       <path d=\"M 48.78125 52.59375 \nL 48.78125 44.1875 \nQ 44.96875 46.296875 41.140625 47.34375 \nQ 37.3125 48.390625 33.40625 48.390625 \nQ 24.65625 48.390625 19.8125 42.84375 \nQ 14.984375 37.3125 14.984375 27.296875 \nQ 14.984375 17.28125 19.8125 11.734375 \nQ 24.65625 6.203125 33.40625 6.203125 \nQ 37.3125 6.203125 41.140625 7.25 \nQ 44.96875 8.296875 48.78125 10.40625 \nL 48.78125 2.09375 \nQ 45.015625 0.34375 40.984375 -0.53125 \nQ 36.96875 -1.421875 32.421875 -1.421875 \nQ 20.0625 -1.421875 12.78125 6.34375 \nQ 5.515625 14.109375 5.515625 27.296875 \nQ 5.515625 40.671875 12.859375 48.328125 \nQ 20.21875 56 33.015625 56 \nQ 37.15625 56 41.109375 55.140625 \nQ 45.0625 54.296875 48.78125 52.59375 \nz\n\" id=\"DejaVuSans-99\"/>\n       <path d=\"M 44.28125 53.078125 \nL 44.28125 44.578125 \nQ 40.484375 46.53125 36.375 47.5 \nQ 32.28125 48.484375 27.875 48.484375 \nQ 21.1875 48.484375 17.84375 46.4375 \nQ 14.5 44.390625 14.5 40.28125 \nQ 14.5 37.15625 16.890625 35.375 \nQ 19.28125 33.59375 26.515625 31.984375 \nL 29.59375 31.296875 \nQ 39.15625 29.25 43.1875 25.515625 \nQ 47.21875 21.78125 47.21875 15.09375 \nQ 47.21875 7.46875 41.1875 3.015625 \nQ 35.15625 -1.421875 24.609375 -1.421875 \nQ 20.21875 -1.421875 15.453125 -0.5625 \nQ 10.6875 0.296875 5.421875 2 \nL 5.421875 11.28125 \nQ 10.40625 8.6875 15.234375 7.390625 \nQ 20.0625 6.109375 24.8125 6.109375 \nQ 31.15625 6.109375 34.5625 8.28125 \nQ 37.984375 10.453125 37.984375 14.40625 \nQ 37.984375 18.0625 35.515625 20.015625 \nQ 33.0625 21.96875 24.703125 23.78125 \nL 21.578125 24.515625 \nQ 13.234375 26.265625 9.515625 29.90625 \nQ 5.8125 33.546875 5.8125 39.890625 \nQ 5.8125 47.609375 11.28125 51.796875 \nQ 16.75 56 26.8125 56 \nQ 31.78125 56 36.171875 55.265625 \nQ 40.578125 54.546875 44.28125 53.078125 \nz\n\" id=\"DejaVuSans-115\"/>\n      </defs>\n      <use xlink:href=\"#DejaVuSans-78\"/>\n      <use x=\"74.804688\" xlink:href=\"#DejaVuSans-117\"/>\n      <use x=\"138.183594\" xlink:href=\"#DejaVuSans-109\"/>\n      <use x=\"235.595703\" xlink:href=\"#DejaVuSans-98\"/>\n      <use x=\"299.072266\" xlink:href=\"#DejaVuSans-101\"/>\n      <use x=\"360.595703\" xlink:href=\"#DejaVuSans-114\"/>\n      <use x=\"401.708984\" xlink:href=\"#DejaVuSans-32\"/>\n      <use x=\"433.496094\" xlink:href=\"#DejaVuSans-111\"/>\n      <use x=\"494.677734\" xlink:href=\"#DejaVuSans-102\"/>\n      <use x=\"529.882812\" xlink:href=\"#DejaVuSans-32\"/>\n      <use x=\"561.669922\" xlink:href=\"#DejaVuSans-84\"/>\n      <use x=\"605.753906\" xlink:href=\"#DejaVuSans-111\"/>\n      <use x=\"666.935547\" xlink:href=\"#DejaVuSans-112\"/>\n      <use x=\"730.412109\" xlink:href=\"#DejaVuSans-105\"/>\n      <use x=\"758.195312\" xlink:href=\"#DejaVuSans-99\"/>\n      <use x=\"813.175781\" xlink:href=\"#DejaVuSans-115\"/>\n     </g>\n    </g>\n   </g>\n   <g id=\"matplotlib.axis_2\">\n    <g id=\"ytick_1\">\n     <g id=\"line2d_7\">\n      <defs>\n       <path d=\"M 0 0 \nL -3.5 0 \n\" id=\"med2b490556\" style=\"stroke:#000000;stroke-width:0.8;\"/>\n      </defs>\n      <g>\n       <use style=\"stroke:#000000;stroke-width:0.8;\" x=\"58.523438\" xlink:href=\"#med2b490556\" y=\"227.081215\"/>\n      </g>\n     </g>\n     <g id=\"text_8\">\n      <!-- −10.0 -->\n      <g transform=\"translate(20.878125 230.880434)scale(0.1 -0.1)\">\n       <defs>\n        <path d=\"M 10.59375 35.5 \nL 73.1875 35.5 \nL 73.1875 27.203125 \nL 10.59375 27.203125 \nz\n\" id=\"DejaVuSans-8722\"/>\n        <path d=\"M 10.6875 12.40625 \nL 21 12.40625 \nL 21 0 \nL 10.6875 0 \nz\n\" id=\"DejaVuSans-46\"/>\n       </defs>\n       <use xlink:href=\"#DejaVuSans-8722\"/>\n       <use x=\"83.789062\" xlink:href=\"#DejaVuSans-49\"/>\n       <use x=\"147.412109\" xlink:href=\"#DejaVuSans-48\"/>\n       <use x=\"211.035156\" xlink:href=\"#DejaVuSans-46\"/>\n       <use x=\"242.822266\" xlink:href=\"#DejaVuSans-48\"/>\n      </g>\n     </g>\n    </g>\n    <g id=\"ytick_2\">\n     <g id=\"line2d_8\">\n      <g>\n       <use style=\"stroke:#000000;stroke-width:0.8;\" x=\"58.523438\" xlink:href=\"#med2b490556\" y=\"198.16728\"/>\n      </g>\n     </g>\n     <g id=\"text_9\">\n      <!-- −9.5 -->\n      <g transform=\"translate(27.240625 201.966499)scale(0.1 -0.1)\">\n       <defs>\n        <path d=\"M 10.984375 1.515625 \nL 10.984375 10.5 \nQ 14.703125 8.734375 18.5 7.8125 \nQ 22.3125 6.890625 25.984375 6.890625 \nQ 35.75 6.890625 40.890625 13.453125 \nQ 46.046875 20.015625 46.78125 33.40625 \nQ 43.953125 29.203125 39.59375 26.953125 \nQ 35.25 24.703125 29.984375 24.703125 \nQ 19.046875 24.703125 12.671875 31.3125 \nQ 6.296875 37.9375 6.296875 49.421875 \nQ 6.296875 60.640625 12.9375 67.421875 \nQ 19.578125 74.21875 30.609375 74.21875 \nQ 43.265625 74.21875 49.921875 64.515625 \nQ 56.59375 54.828125 56.59375 36.375 \nQ 56.59375 19.140625 48.40625 8.859375 \nQ 40.234375 -1.421875 26.421875 -1.421875 \nQ 22.703125 -1.421875 18.890625 -0.6875 \nQ 15.09375 0.046875 10.984375 1.515625 \nz\nM 30.609375 32.421875 \nQ 37.25 32.421875 41.125 36.953125 \nQ 45.015625 41.5 45.015625 49.421875 \nQ 45.015625 57.28125 41.125 61.84375 \nQ 37.25 66.40625 30.609375 66.40625 \nQ 23.96875 66.40625 20.09375 61.84375 \nQ 16.21875 57.28125 16.21875 49.421875 \nQ 16.21875 41.5 20.09375 36.953125 \nQ 23.96875 32.421875 30.609375 32.421875 \nz\n\" id=\"DejaVuSans-57\"/>\n       </defs>\n       <use xlink:href=\"#DejaVuSans-8722\"/>\n       <use x=\"83.789062\" xlink:href=\"#DejaVuSans-57\"/>\n       <use x=\"147.412109\" xlink:href=\"#DejaVuSans-46\"/>\n       <use x=\"179.199219\" xlink:href=\"#DejaVuSans-53\"/>\n      </g>\n     </g>\n    </g>\n    <g id=\"ytick_3\">\n     <g id=\"line2d_9\">\n      <g>\n       <use style=\"stroke:#000000;stroke-width:0.8;\" x=\"58.523438\" xlink:href=\"#med2b490556\" y=\"169.253345\"/>\n      </g>\n     </g>\n     <g id=\"text_10\">\n      <!-- −9.0 -->\n      <g transform=\"translate(27.240625 173.052564)scale(0.1 -0.1)\">\n       <use xlink:href=\"#DejaVuSans-8722\"/>\n       <use x=\"83.789062\" xlink:href=\"#DejaVuSans-57\"/>\n       <use x=\"147.412109\" xlink:href=\"#DejaVuSans-46\"/>\n       <use x=\"179.199219\" xlink:href=\"#DejaVuSans-48\"/>\n      </g>\n     </g>\n    </g>\n    <g id=\"ytick_4\">\n     <g id=\"line2d_10\">\n      <g>\n       <use style=\"stroke:#000000;stroke-width:0.8;\" x=\"58.523438\" xlink:href=\"#med2b490556\" y=\"140.339411\"/>\n      </g>\n     </g>\n     <g id=\"text_11\">\n      <!-- −8.5 -->\n      <g transform=\"translate(27.240625 144.138629)scale(0.1 -0.1)\">\n       <defs>\n        <path d=\"M 31.78125 34.625 \nQ 24.75 34.625 20.71875 30.859375 \nQ 16.703125 27.09375 16.703125 20.515625 \nQ 16.703125 13.921875 20.71875 10.15625 \nQ 24.75 6.390625 31.78125 6.390625 \nQ 38.8125 6.390625 42.859375 10.171875 \nQ 46.921875 13.96875 46.921875 20.515625 \nQ 46.921875 27.09375 42.890625 30.859375 \nQ 38.875 34.625 31.78125 34.625 \nz\nM 21.921875 38.8125 \nQ 15.578125 40.375 12.03125 44.71875 \nQ 8.5 49.078125 8.5 55.328125 \nQ 8.5 64.0625 14.71875 69.140625 \nQ 20.953125 74.21875 31.78125 74.21875 \nQ 42.671875 74.21875 48.875 69.140625 \nQ 55.078125 64.0625 55.078125 55.328125 \nQ 55.078125 49.078125 51.53125 44.71875 \nQ 48 40.375 41.703125 38.8125 \nQ 48.828125 37.15625 52.796875 32.3125 \nQ 56.78125 27.484375 56.78125 20.515625 \nQ 56.78125 9.90625 50.3125 4.234375 \nQ 43.84375 -1.421875 31.78125 -1.421875 \nQ 19.734375 -1.421875 13.25 4.234375 \nQ 6.78125 9.90625 6.78125 20.515625 \nQ 6.78125 27.484375 10.78125 32.3125 \nQ 14.796875 37.15625 21.921875 38.8125 \nz\nM 18.3125 54.390625 \nQ 18.3125 48.734375 21.84375 45.5625 \nQ 25.390625 42.390625 31.78125 42.390625 \nQ 38.140625 42.390625 41.71875 45.5625 \nQ 45.3125 48.734375 45.3125 54.390625 \nQ 45.3125 60.0625 41.71875 63.234375 \nQ 38.140625 66.40625 31.78125 66.40625 \nQ 25.390625 66.40625 21.84375 63.234375 \nQ 18.3125 60.0625 18.3125 54.390625 \nz\n\" id=\"DejaVuSans-56\"/>\n       </defs>\n       <use xlink:href=\"#DejaVuSans-8722\"/>\n       <use x=\"83.789062\" xlink:href=\"#DejaVuSans-56\"/>\n       <use x=\"147.412109\" xlink:href=\"#DejaVuSans-46\"/>\n       <use x=\"179.199219\" xlink:href=\"#DejaVuSans-53\"/>\n      </g>\n     </g>\n    </g>\n    <g id=\"ytick_5\">\n     <g id=\"line2d_11\">\n      <g>\n       <use style=\"stroke:#000000;stroke-width:0.8;\" x=\"58.523438\" xlink:href=\"#med2b490556\" y=\"111.425476\"/>\n      </g>\n     </g>\n     <g id=\"text_12\">\n      <!-- −8.0 -->\n      <g transform=\"translate(27.240625 115.224694)scale(0.1 -0.1)\">\n       <use xlink:href=\"#DejaVuSans-8722\"/>\n       <use x=\"83.789062\" xlink:href=\"#DejaVuSans-56\"/>\n       <use x=\"147.412109\" xlink:href=\"#DejaVuSans-46\"/>\n       <use x=\"179.199219\" xlink:href=\"#DejaVuSans-48\"/>\n      </g>\n     </g>\n    </g>\n    <g id=\"ytick_6\">\n     <g id=\"line2d_12\">\n      <g>\n       <use style=\"stroke:#000000;stroke-width:0.8;\" x=\"58.523438\" xlink:href=\"#med2b490556\" y=\"82.511541\"/>\n      </g>\n     </g>\n     <g id=\"text_13\">\n      <!-- −7.5 -->\n      <g transform=\"translate(27.240625 86.31076)scale(0.1 -0.1)\">\n       <defs>\n        <path d=\"M 8.203125 72.90625 \nL 55.078125 72.90625 \nL 55.078125 68.703125 \nL 28.609375 0 \nL 18.3125 0 \nL 43.21875 64.59375 \nL 8.203125 64.59375 \nz\n\" id=\"DejaVuSans-55\"/>\n       </defs>\n       <use xlink:href=\"#DejaVuSans-8722\"/>\n       <use x=\"83.789062\" xlink:href=\"#DejaVuSans-55\"/>\n       <use x=\"147.412109\" xlink:href=\"#DejaVuSans-46\"/>\n       <use x=\"179.199219\" xlink:href=\"#DejaVuSans-53\"/>\n      </g>\n     </g>\n    </g>\n    <g id=\"ytick_7\">\n     <g id=\"line2d_13\">\n      <g>\n       <use style=\"stroke:#000000;stroke-width:0.8;\" x=\"58.523438\" xlink:href=\"#med2b490556\" y=\"53.597606\"/>\n      </g>\n     </g>\n     <g id=\"text_14\">\n      <!-- −7.0 -->\n      <g transform=\"translate(27.240625 57.396825)scale(0.1 -0.1)\">\n       <use xlink:href=\"#DejaVuSans-8722\"/>\n       <use x=\"83.789062\" xlink:href=\"#DejaVuSans-55\"/>\n       <use x=\"147.412109\" xlink:href=\"#DejaVuSans-46\"/>\n       <use x=\"179.199219\" xlink:href=\"#DejaVuSans-48\"/>\n      </g>\n     </g>\n    </g>\n    <g id=\"ytick_8\">\n     <g id=\"line2d_14\">\n      <g>\n       <use style=\"stroke:#000000;stroke-width:0.8;\" x=\"58.523438\" xlink:href=\"#med2b490556\" y=\"24.683671\"/>\n      </g>\n     </g>\n     <g id=\"text_15\">\n      <!-- −6.5 -->\n      <g transform=\"translate(27.240625 28.48289)scale(0.1 -0.1)\">\n       <defs>\n        <path d=\"M 33.015625 40.375 \nQ 26.375 40.375 22.484375 35.828125 \nQ 18.609375 31.296875 18.609375 23.390625 \nQ 18.609375 15.53125 22.484375 10.953125 \nQ 26.375 6.390625 33.015625 6.390625 \nQ 39.65625 6.390625 43.53125 10.953125 \nQ 47.40625 15.53125 47.40625 23.390625 \nQ 47.40625 31.296875 43.53125 35.828125 \nQ 39.65625 40.375 33.015625 40.375 \nz\nM 52.59375 71.296875 \nL 52.59375 62.3125 \nQ 48.875 64.0625 45.09375 64.984375 \nQ 41.3125 65.921875 37.59375 65.921875 \nQ 27.828125 65.921875 22.671875 59.328125 \nQ 17.53125 52.734375 16.796875 39.40625 \nQ 19.671875 43.65625 24.015625 45.921875 \nQ 28.375 48.1875 33.59375 48.1875 \nQ 44.578125 48.1875 50.953125 41.515625 \nQ 57.328125 34.859375 57.328125 23.390625 \nQ 57.328125 12.15625 50.6875 5.359375 \nQ 44.046875 -1.421875 33.015625 -1.421875 \nQ 20.359375 -1.421875 13.671875 8.265625 \nQ 6.984375 17.96875 6.984375 36.375 \nQ 6.984375 53.65625 15.1875 63.9375 \nQ 23.390625 74.21875 37.203125 74.21875 \nQ 40.921875 74.21875 44.703125 73.484375 \nQ 48.484375 72.75 52.59375 71.296875 \nz\n\" id=\"DejaVuSans-54\"/>\n       </defs>\n       <use xlink:href=\"#DejaVuSans-8722\"/>\n       <use x=\"83.789062\" xlink:href=\"#DejaVuSans-54\"/>\n       <use x=\"147.412109\" xlink:href=\"#DejaVuSans-46\"/>\n       <use x=\"179.199219\" xlink:href=\"#DejaVuSans-53\"/>\n      </g>\n     </g>\n    </g>\n    <g id=\"text_16\">\n     <!-- Perplexity -->\n     <g transform=\"translate(14.798437 155.531392)rotate(-90)scale(0.1 -0.1)\">\n      <defs>\n       <path d=\"M 19.671875 64.796875 \nL 19.671875 37.40625 \nL 32.078125 37.40625 \nQ 38.96875 37.40625 42.71875 40.96875 \nQ 46.484375 44.53125 46.484375 51.125 \nQ 46.484375 57.671875 42.71875 61.234375 \nQ 38.96875 64.796875 32.078125 64.796875 \nz\nM 9.8125 72.90625 \nL 32.078125 72.90625 \nQ 44.34375 72.90625 50.609375 67.359375 \nQ 56.890625 61.8125 56.890625 51.125 \nQ 56.890625 40.328125 50.609375 34.8125 \nQ 44.34375 29.296875 32.078125 29.296875 \nL 19.671875 29.296875 \nL 19.671875 0 \nL 9.8125 0 \nz\n\" id=\"DejaVuSans-80\"/>\n       <path d=\"M 9.421875 75.984375 \nL 18.40625 75.984375 \nL 18.40625 0 \nL 9.421875 0 \nz\n\" id=\"DejaVuSans-108\"/>\n       <path d=\"M 54.890625 54.6875 \nL 35.109375 28.078125 \nL 55.90625 0 \nL 45.3125 0 \nL 29.390625 21.484375 \nL 13.484375 0 \nL 2.875 0 \nL 24.125 28.609375 \nL 4.6875 54.6875 \nL 15.28125 54.6875 \nL 29.78125 35.203125 \nL 44.28125 54.6875 \nz\n\" id=\"DejaVuSans-120\"/>\n       <path d=\"M 18.3125 70.21875 \nL 18.3125 54.6875 \nL 36.8125 54.6875 \nL 36.8125 47.703125 \nL 18.3125 47.703125 \nL 18.3125 18.015625 \nQ 18.3125 11.328125 20.140625 9.421875 \nQ 21.96875 7.515625 27.59375 7.515625 \nL 36.8125 7.515625 \nL 36.8125 0 \nL 27.59375 0 \nQ 17.1875 0 13.234375 3.875 \nQ 9.28125 7.765625 9.28125 18.015625 \nL 9.28125 47.703125 \nL 2.6875 47.703125 \nL 2.6875 54.6875 \nL 9.28125 54.6875 \nL 9.28125 70.21875 \nz\n\" id=\"DejaVuSans-116\"/>\n       <path d=\"M 32.171875 -5.078125 \nQ 28.375 -14.84375 24.75 -17.8125 \nQ 21.140625 -20.796875 15.09375 -20.796875 \nL 7.90625 -20.796875 \nL 7.90625 -13.28125 \nL 13.1875 -13.28125 \nQ 16.890625 -13.28125 18.9375 -11.515625 \nQ 21 -9.765625 23.484375 -3.21875 \nL 25.09375 0.875 \nL 2.984375 54.6875 \nL 12.5 54.6875 \nL 29.59375 11.921875 \nL 46.6875 54.6875 \nL 56.203125 54.6875 \nz\n\" id=\"DejaVuSans-121\"/>\n      </defs>\n      <use xlink:href=\"#DejaVuSans-80\"/>\n      <use x=\"56.677734\" xlink:href=\"#DejaVuSans-101\"/>\n      <use x=\"118.201172\" xlink:href=\"#DejaVuSans-114\"/>\n      <use x=\"159.314453\" xlink:href=\"#DejaVuSans-112\"/>\n      <use x=\"222.791016\" xlink:href=\"#DejaVuSans-108\"/>\n      <use x=\"250.574219\" xlink:href=\"#DejaVuSans-101\"/>\n      <use x=\"310.347656\" xlink:href=\"#DejaVuSans-120\"/>\n      <use x=\"369.527344\" xlink:href=\"#DejaVuSans-105\"/>\n      <use x=\"397.310547\" xlink:href=\"#DejaVuSans-116\"/>\n      <use x=\"436.519531\" xlink:href=\"#DejaVuSans-121\"/>\n     </g>\n    </g>\n   </g>\n   <g id=\"line2d_15\">\n    <path clip-path=\"url(#p04a997ebf4)\" d=\"M 83.887074 18.542101 \nL 102.003957 18.669491 \nL 120.12084 18.431405 \nL 138.237723 20.95489 \nL 156.354606 21.499966 \nL 174.471489 21.218466 \nL 192.588373 20.829415 \nL 210.705256 22.970104 \nL 228.822139 27.978689 \nL 246.939022 36.772148 \nL 265.055905 50.108811 \nL 283.172788 67.782036 \nL 301.289671 85.941864 \nL 319.406554 104.539713 \nL 337.523438 123.097889 \nL 355.640321 136.719775 \nL 373.757204 152.471105 \nL 391.874087 161.043121 \nL 409.99097 168.680856 \nL 428.107853 176.460236 \nL 446.224736 182.991491 \nL 464.341619 190.790881 \nL 482.458502 198.588093 \nL 500.575386 206.235092 \nL 518.692269 214.123668 \nL 536.809152 220.67762 \nL 554.926035 228.414379 \nL 573.042918 235.787912 \nL 591.159801 243.059504 \n\" style=\"fill:none;stroke:#1f77b4;stroke-linecap:square;stroke-width:1.5;\"/>\n    <defs>\n     <path d=\"M 0 3 \nC 0.795609 3 1.55874 2.683901 2.12132 2.12132 \nC 2.683901 1.55874 3 0.795609 3 0 \nC 3 -0.795609 2.683901 -1.55874 2.12132 -2.12132 \nC 1.55874 -2.683901 0.795609 -3 0 -3 \nC -0.795609 -3 -1.55874 -2.683901 -2.12132 -2.12132 \nC -2.683901 -1.55874 -3 -0.795609 -3 0 \nC -3 0.795609 -2.683901 1.55874 -2.12132 2.12132 \nC -1.55874 2.683901 -0.795609 3 0 3 \nz\n\" id=\"m3cae294644\" style=\"stroke:#1f77b4;\"/>\n    </defs>\n    <g clip-path=\"url(#p04a997ebf4)\">\n     <use style=\"fill:#1f77b4;stroke:#1f77b4;\" x=\"83.887074\" xlink:href=\"#m3cae294644\" y=\"18.542101\"/>\n     <use style=\"fill:#1f77b4;stroke:#1f77b4;\" x=\"102.003957\" xlink:href=\"#m3cae294644\" y=\"18.669491\"/>\n     <use style=\"fill:#1f77b4;stroke:#1f77b4;\" x=\"120.12084\" xlink:href=\"#m3cae294644\" y=\"18.431405\"/>\n     <use style=\"fill:#1f77b4;stroke:#1f77b4;\" x=\"138.237723\" xlink:href=\"#m3cae294644\" y=\"20.95489\"/>\n     <use style=\"fill:#1f77b4;stroke:#1f77b4;\" x=\"156.354606\" xlink:href=\"#m3cae294644\" y=\"21.499966\"/>\n     <use style=\"fill:#1f77b4;stroke:#1f77b4;\" x=\"174.471489\" xlink:href=\"#m3cae294644\" y=\"21.218466\"/>\n     <use style=\"fill:#1f77b4;stroke:#1f77b4;\" x=\"192.588373\" xlink:href=\"#m3cae294644\" y=\"20.829415\"/>\n     <use style=\"fill:#1f77b4;stroke:#1f77b4;\" x=\"210.705256\" xlink:href=\"#m3cae294644\" y=\"22.970104\"/>\n     <use style=\"fill:#1f77b4;stroke:#1f77b4;\" x=\"228.822139\" xlink:href=\"#m3cae294644\" y=\"27.978689\"/>\n     <use style=\"fill:#1f77b4;stroke:#1f77b4;\" x=\"246.939022\" xlink:href=\"#m3cae294644\" y=\"36.772148\"/>\n     <use style=\"fill:#1f77b4;stroke:#1f77b4;\" x=\"265.055905\" xlink:href=\"#m3cae294644\" y=\"50.108811\"/>\n     <use style=\"fill:#1f77b4;stroke:#1f77b4;\" x=\"283.172788\" xlink:href=\"#m3cae294644\" y=\"67.782036\"/>\n     <use style=\"fill:#1f77b4;stroke:#1f77b4;\" x=\"301.289671\" xlink:href=\"#m3cae294644\" y=\"85.941864\"/>\n     <use style=\"fill:#1f77b4;stroke:#1f77b4;\" x=\"319.406554\" xlink:href=\"#m3cae294644\" y=\"104.539713\"/>\n     <use style=\"fill:#1f77b4;stroke:#1f77b4;\" x=\"337.523438\" xlink:href=\"#m3cae294644\" y=\"123.097889\"/>\n     <use style=\"fill:#1f77b4;stroke:#1f77b4;\" x=\"355.640321\" xlink:href=\"#m3cae294644\" y=\"136.719775\"/>\n     <use style=\"fill:#1f77b4;stroke:#1f77b4;\" x=\"373.757204\" xlink:href=\"#m3cae294644\" y=\"152.471105\"/>\n     <use style=\"fill:#1f77b4;stroke:#1f77b4;\" x=\"391.874087\" xlink:href=\"#m3cae294644\" y=\"161.043121\"/>\n     <use style=\"fill:#1f77b4;stroke:#1f77b4;\" x=\"409.99097\" xlink:href=\"#m3cae294644\" y=\"168.680856\"/>\n     <use style=\"fill:#1f77b4;stroke:#1f77b4;\" x=\"428.107853\" xlink:href=\"#m3cae294644\" y=\"176.460236\"/>\n     <use style=\"fill:#1f77b4;stroke:#1f77b4;\" x=\"446.224736\" xlink:href=\"#m3cae294644\" y=\"182.991491\"/>\n     <use style=\"fill:#1f77b4;stroke:#1f77b4;\" x=\"464.341619\" xlink:href=\"#m3cae294644\" y=\"190.790881\"/>\n     <use style=\"fill:#1f77b4;stroke:#1f77b4;\" x=\"482.458502\" xlink:href=\"#m3cae294644\" y=\"198.588093\"/>\n     <use style=\"fill:#1f77b4;stroke:#1f77b4;\" x=\"500.575386\" xlink:href=\"#m3cae294644\" y=\"206.235092\"/>\n     <use style=\"fill:#1f77b4;stroke:#1f77b4;\" x=\"518.692269\" xlink:href=\"#m3cae294644\" y=\"214.123668\"/>\n     <use style=\"fill:#1f77b4;stroke:#1f77b4;\" x=\"536.809152\" xlink:href=\"#m3cae294644\" y=\"220.67762\"/>\n     <use style=\"fill:#1f77b4;stroke:#1f77b4;\" x=\"554.926035\" xlink:href=\"#m3cae294644\" y=\"228.414379\"/>\n     <use style=\"fill:#1f77b4;stroke:#1f77b4;\" x=\"573.042918\" xlink:href=\"#m3cae294644\" y=\"235.787912\"/>\n     <use style=\"fill:#1f77b4;stroke:#1f77b4;\" x=\"591.159801\" xlink:href=\"#m3cae294644\" y=\"243.059504\"/>\n    </g>\n   </g>\n   <g id=\"patch_3\">\n    <path d=\"M 58.523438 254.290909 \nL 58.523438 7.2 \n\" style=\"fill:none;stroke:#000000;stroke-linecap:square;stroke-linejoin:miter;stroke-width:0.8;\"/>\n   </g>\n   <g id=\"patch_4\">\n    <path d=\"M 616.523438 254.290909 \nL 616.523438 7.2 \n\" style=\"fill:none;stroke:#000000;stroke-linecap:square;stroke-linejoin:miter;stroke-width:0.8;\"/>\n   </g>\n   <g id=\"patch_5\">\n    <path d=\"M 58.523438 254.290909 \nL 616.523438 254.290909 \n\" style=\"fill:none;stroke:#000000;stroke-linecap:square;stroke-linejoin:miter;stroke-width:0.8;\"/>\n   </g>\n   <g id=\"patch_6\">\n    <path d=\"M 58.523438 7.2 \nL 616.523438 7.2 \n\" style=\"fill:none;stroke:#000000;stroke-linecap:square;stroke-linejoin:miter;stroke-width:0.8;\"/>\n   </g>\n   <g id=\"legend_1\">\n    <g id=\"patch_7\">\n     <path d=\"M 571.175 29.878125 \nL 609.523438 29.878125 \nQ 611.523438 29.878125 611.523438 27.878125 \nL 611.523438 14.2 \nQ 611.523438 12.2 609.523438 12.2 \nL 571.175 12.2 \nQ 569.175 12.2 569.175 14.2 \nL 569.175 27.878125 \nQ 569.175 29.878125 571.175 29.878125 \nz\n\" style=\"fill:#ffffff;opacity:0.8;stroke:#cccccc;stroke-linejoin:miter;\"/>\n    </g>\n    <g id=\"line2d_16\">\n     <path d=\"M 573.175 20.298438 \nL 593.175 20.298438 \n\" style=\"fill:none;stroke:#1f77b4;stroke-linecap:square;stroke-width:1.5;\"/>\n    </g>\n    <g id=\"line2d_17\">\n     <g>\n      <use style=\"fill:#1f77b4;stroke:#1f77b4;\" x=\"583.175\" xlink:href=\"#m3cae294644\" y=\"20.298438\"/>\n     </g>\n    </g>\n    <g id=\"text_17\">\n     <!-- p -->\n     <g transform=\"translate(601.175 23.798438)scale(0.1 -0.1)\">\n      <use xlink:href=\"#DejaVuSans-112\"/>\n     </g>\n    </g>\n   </g>\n  </g>\n  <g id=\"axes_2\">\n   <g id=\"patch_8\">\n    <path d=\"M 58.523438 550.8 \nL 616.523438 550.8 \nL 616.523438 303.709091 \nL 58.523438 303.709091 \nz\n\" style=\"fill:#ffffff;\"/>\n   </g>\n   <g id=\"matplotlib.axis_3\">\n    <g id=\"xtick_7\">\n     <g id=\"line2d_18\">\n      <g>\n       <use style=\"stroke:#000000;stroke-width:0.8;\" x=\"138.237723\" xlink:href=\"#m71f20ea2ac\" y=\"550.8\"/>\n      </g>\n     </g>\n     <g id=\"text_18\">\n      <!-- 5 -->\n      <g transform=\"translate(135.056473 565.398437)scale(0.1 -0.1)\">\n       <use xlink:href=\"#DejaVuSans-53\"/>\n      </g>\n     </g>\n    </g>\n    <g id=\"xtick_8\">\n     <g id=\"line2d_19\">\n      <g>\n       <use style=\"stroke:#000000;stroke-width:0.8;\" x=\"228.822139\" xlink:href=\"#m71f20ea2ac\" y=\"550.8\"/>\n      </g>\n     </g>\n     <g id=\"text_19\">\n      <!-- 10 -->\n      <g transform=\"translate(222.459639 565.398437)scale(0.1 -0.1)\">\n       <use xlink:href=\"#DejaVuSans-49\"/>\n       <use x=\"63.623047\" xlink:href=\"#DejaVuSans-48\"/>\n      </g>\n     </g>\n    </g>\n    <g id=\"xtick_9\">\n     <g id=\"line2d_20\">\n      <g>\n       <use style=\"stroke:#000000;stroke-width:0.8;\" x=\"319.406554\" xlink:href=\"#m71f20ea2ac\" y=\"550.8\"/>\n      </g>\n     </g>\n     <g id=\"text_20\">\n      <!-- 15 -->\n      <g transform=\"translate(313.044054 565.398437)scale(0.1 -0.1)\">\n       <use xlink:href=\"#DejaVuSans-49\"/>\n       <use x=\"63.623047\" xlink:href=\"#DejaVuSans-53\"/>\n      </g>\n     </g>\n    </g>\n    <g id=\"xtick_10\">\n     <g id=\"line2d_21\">\n      <g>\n       <use style=\"stroke:#000000;stroke-width:0.8;\" x=\"409.99097\" xlink:href=\"#m71f20ea2ac\" y=\"550.8\"/>\n      </g>\n     </g>\n     <g id=\"text_21\">\n      <!-- 20 -->\n      <g transform=\"translate(403.62847 565.398437)scale(0.1 -0.1)\">\n       <use xlink:href=\"#DejaVuSans-50\"/>\n       <use x=\"63.623047\" xlink:href=\"#DejaVuSans-48\"/>\n      </g>\n     </g>\n    </g>\n    <g id=\"xtick_11\">\n     <g id=\"line2d_22\">\n      <g>\n       <use style=\"stroke:#000000;stroke-width:0.8;\" x=\"500.575386\" xlink:href=\"#m71f20ea2ac\" y=\"550.8\"/>\n      </g>\n     </g>\n     <g id=\"text_22\">\n      <!-- 25 -->\n      <g transform=\"translate(494.212886 565.398437)scale(0.1 -0.1)\">\n       <use xlink:href=\"#DejaVuSans-50\"/>\n       <use x=\"63.623047\" xlink:href=\"#DejaVuSans-53\"/>\n      </g>\n     </g>\n    </g>\n    <g id=\"xtick_12\">\n     <g id=\"line2d_23\">\n      <g>\n       <use style=\"stroke:#000000;stroke-width:0.8;\" x=\"591.159801\" xlink:href=\"#m71f20ea2ac\" y=\"550.8\"/>\n      </g>\n     </g>\n     <g id=\"text_23\">\n      <!-- 30 -->\n      <g transform=\"translate(584.797301 565.398437)scale(0.1 -0.1)\">\n       <use xlink:href=\"#DejaVuSans-51\"/>\n       <use x=\"63.623047\" xlink:href=\"#DejaVuSans-48\"/>\n      </g>\n     </g>\n    </g>\n    <g id=\"text_24\">\n     <!-- Number of Topics -->\n     <g transform=\"translate(294.259375 579.076562)scale(0.1 -0.1)\">\n      <use xlink:href=\"#DejaVuSans-78\"/>\n      <use x=\"74.804688\" xlink:href=\"#DejaVuSans-117\"/>\n      <use x=\"138.183594\" xlink:href=\"#DejaVuSans-109\"/>\n      <use x=\"235.595703\" xlink:href=\"#DejaVuSans-98\"/>\n      <use x=\"299.072266\" xlink:href=\"#DejaVuSans-101\"/>\n      <use x=\"360.595703\" xlink:href=\"#DejaVuSans-114\"/>\n      <use x=\"401.708984\" xlink:href=\"#DejaVuSans-32\"/>\n      <use x=\"433.496094\" xlink:href=\"#DejaVuSans-111\"/>\n      <use x=\"494.677734\" xlink:href=\"#DejaVuSans-102\"/>\n      <use x=\"529.882812\" xlink:href=\"#DejaVuSans-32\"/>\n      <use x=\"561.669922\" xlink:href=\"#DejaVuSans-84\"/>\n      <use x=\"605.753906\" xlink:href=\"#DejaVuSans-111\"/>\n      <use x=\"666.935547\" xlink:href=\"#DejaVuSans-112\"/>\n      <use x=\"730.412109\" xlink:href=\"#DejaVuSans-105\"/>\n      <use x=\"758.195312\" xlink:href=\"#DejaVuSans-99\"/>\n      <use x=\"813.175781\" xlink:href=\"#DejaVuSans-115\"/>\n     </g>\n    </g>\n   </g>\n   <g id=\"matplotlib.axis_4\">\n    <g id=\"ytick_9\">\n     <g id=\"line2d_24\">\n      <g>\n       <use style=\"stroke:#000000;stroke-width:0.8;\" x=\"58.523438\" xlink:href=\"#med2b490556\" y=\"505.39202\"/>\n      </g>\n     </g>\n     <g id=\"text_25\">\n      <!-- 0.30 -->\n      <g transform=\"translate(29.257812 509.191239)scale(0.1 -0.1)\">\n       <use xlink:href=\"#DejaVuSans-48\"/>\n       <use x=\"63.623047\" xlink:href=\"#DejaVuSans-46\"/>\n       <use x=\"95.410156\" xlink:href=\"#DejaVuSans-51\"/>\n       <use x=\"159.033203\" xlink:href=\"#DejaVuSans-48\"/>\n      </g>\n     </g>\n    </g>\n    <g id=\"ytick_10\">\n     <g id=\"line2d_25\">\n      <g>\n       <use style=\"stroke:#000000;stroke-width:0.8;\" x=\"58.523438\" xlink:href=\"#med2b490556\" y=\"458.434837\"/>\n      </g>\n     </g>\n     <g id=\"text_26\">\n      <!-- 0.32 -->\n      <g transform=\"translate(29.257812 462.234056)scale(0.1 -0.1)\">\n       <use xlink:href=\"#DejaVuSans-48\"/>\n       <use x=\"63.623047\" xlink:href=\"#DejaVuSans-46\"/>\n       <use x=\"95.410156\" xlink:href=\"#DejaVuSans-51\"/>\n       <use x=\"159.033203\" xlink:href=\"#DejaVuSans-50\"/>\n      </g>\n     </g>\n    </g>\n    <g id=\"ytick_11\">\n     <g id=\"line2d_26\">\n      <g>\n       <use style=\"stroke:#000000;stroke-width:0.8;\" x=\"58.523438\" xlink:href=\"#med2b490556\" y=\"411.477654\"/>\n      </g>\n     </g>\n     <g id=\"text_27\">\n      <!-- 0.34 -->\n      <g transform=\"translate(29.257812 415.276872)scale(0.1 -0.1)\">\n       <defs>\n        <path d=\"M 37.796875 64.3125 \nL 12.890625 25.390625 \nL 37.796875 25.390625 \nz\nM 35.203125 72.90625 \nL 47.609375 72.90625 \nL 47.609375 25.390625 \nL 58.015625 25.390625 \nL 58.015625 17.1875 \nL 47.609375 17.1875 \nL 47.609375 0 \nL 37.796875 0 \nL 37.796875 17.1875 \nL 4.890625 17.1875 \nL 4.890625 26.703125 \nz\n\" id=\"DejaVuSans-52\"/>\n       </defs>\n       <use xlink:href=\"#DejaVuSans-48\"/>\n       <use x=\"63.623047\" xlink:href=\"#DejaVuSans-46\"/>\n       <use x=\"95.410156\" xlink:href=\"#DejaVuSans-51\"/>\n       <use x=\"159.033203\" xlink:href=\"#DejaVuSans-52\"/>\n      </g>\n     </g>\n    </g>\n    <g id=\"ytick_12\">\n     <g id=\"line2d_27\">\n      <g>\n       <use style=\"stroke:#000000;stroke-width:0.8;\" x=\"58.523438\" xlink:href=\"#med2b490556\" y=\"364.520471\"/>\n      </g>\n     </g>\n     <g id=\"text_28\">\n      <!-- 0.36 -->\n      <g transform=\"translate(29.257812 368.319689)scale(0.1 -0.1)\">\n       <use xlink:href=\"#DejaVuSans-48\"/>\n       <use x=\"63.623047\" xlink:href=\"#DejaVuSans-46\"/>\n       <use x=\"95.410156\" xlink:href=\"#DejaVuSans-51\"/>\n       <use x=\"159.033203\" xlink:href=\"#DejaVuSans-54\"/>\n      </g>\n     </g>\n    </g>\n    <g id=\"ytick_13\">\n     <g id=\"line2d_28\">\n      <g>\n       <use style=\"stroke:#000000;stroke-width:0.8;\" x=\"58.523438\" xlink:href=\"#med2b490556\" y=\"317.563287\"/>\n      </g>\n     </g>\n     <g id=\"text_29\">\n      <!-- 0.38 -->\n      <g transform=\"translate(29.257812 321.362506)scale(0.1 -0.1)\">\n       <use xlink:href=\"#DejaVuSans-48\"/>\n       <use x=\"63.623047\" xlink:href=\"#DejaVuSans-46\"/>\n       <use x=\"95.410156\" xlink:href=\"#DejaVuSans-51\"/>\n       <use x=\"159.033203\" xlink:href=\"#DejaVuSans-56\"/>\n      </g>\n     </g>\n    </g>\n    <g id=\"text_30\">\n     <!-- Coherence score -->\n     <g transform=\"translate(23.178125 469.086577)rotate(-90)scale(0.1 -0.1)\">\n      <defs>\n       <path d=\"M 64.40625 67.28125 \nL 64.40625 56.890625 \nQ 59.421875 61.53125 53.78125 63.8125 \nQ 48.140625 66.109375 41.796875 66.109375 \nQ 29.296875 66.109375 22.65625 58.46875 \nQ 16.015625 50.828125 16.015625 36.375 \nQ 16.015625 21.96875 22.65625 14.328125 \nQ 29.296875 6.6875 41.796875 6.6875 \nQ 48.140625 6.6875 53.78125 8.984375 \nQ 59.421875 11.28125 64.40625 15.921875 \nL 64.40625 5.609375 \nQ 59.234375 2.09375 53.4375 0.328125 \nQ 47.65625 -1.421875 41.21875 -1.421875 \nQ 24.65625 -1.421875 15.125 8.703125 \nQ 5.609375 18.84375 5.609375 36.375 \nQ 5.609375 53.953125 15.125 64.078125 \nQ 24.65625 74.21875 41.21875 74.21875 \nQ 47.75 74.21875 53.53125 72.484375 \nQ 59.328125 70.75 64.40625 67.28125 \nz\n\" id=\"DejaVuSans-67\"/>\n       <path d=\"M 54.890625 33.015625 \nL 54.890625 0 \nL 45.90625 0 \nL 45.90625 32.71875 \nQ 45.90625 40.484375 42.875 44.328125 \nQ 39.84375 48.1875 33.796875 48.1875 \nQ 26.515625 48.1875 22.3125 43.546875 \nQ 18.109375 38.921875 18.109375 30.90625 \nL 18.109375 0 \nL 9.078125 0 \nL 9.078125 75.984375 \nL 18.109375 75.984375 \nL 18.109375 46.1875 \nQ 21.34375 51.125 25.703125 53.5625 \nQ 30.078125 56 35.796875 56 \nQ 45.21875 56 50.046875 50.171875 \nQ 54.890625 44.34375 54.890625 33.015625 \nz\n\" id=\"DejaVuSans-104\"/>\n       <path d=\"M 54.890625 33.015625 \nL 54.890625 0 \nL 45.90625 0 \nL 45.90625 32.71875 \nQ 45.90625 40.484375 42.875 44.328125 \nQ 39.84375 48.1875 33.796875 48.1875 \nQ 26.515625 48.1875 22.3125 43.546875 \nQ 18.109375 38.921875 18.109375 30.90625 \nL 18.109375 0 \nL 9.078125 0 \nL 9.078125 54.6875 \nL 18.109375 54.6875 \nL 18.109375 46.1875 \nQ 21.34375 51.125 25.703125 53.5625 \nQ 30.078125 56 35.796875 56 \nQ 45.21875 56 50.046875 50.171875 \nQ 54.890625 44.34375 54.890625 33.015625 \nz\n\" id=\"DejaVuSans-110\"/>\n      </defs>\n      <use xlink:href=\"#DejaVuSans-67\"/>\n      <use x=\"69.824219\" xlink:href=\"#DejaVuSans-111\"/>\n      <use x=\"131.005859\" xlink:href=\"#DejaVuSans-104\"/>\n      <use x=\"194.384766\" xlink:href=\"#DejaVuSans-101\"/>\n      <use x=\"255.908203\" xlink:href=\"#DejaVuSans-114\"/>\n      <use x=\"294.771484\" xlink:href=\"#DejaVuSans-101\"/>\n      <use x=\"356.294922\" xlink:href=\"#DejaVuSans-110\"/>\n      <use x=\"419.673828\" xlink:href=\"#DejaVuSans-99\"/>\n      <use x=\"474.654297\" xlink:href=\"#DejaVuSans-101\"/>\n      <use x=\"536.177734\" xlink:href=\"#DejaVuSans-32\"/>\n      <use x=\"567.964844\" xlink:href=\"#DejaVuSans-115\"/>\n      <use x=\"620.064453\" xlink:href=\"#DejaVuSans-99\"/>\n      <use x=\"675.044922\" xlink:href=\"#DejaVuSans-111\"/>\n      <use x=\"736.226562\" xlink:href=\"#DejaVuSans-114\"/>\n      <use x=\"775.089844\" xlink:href=\"#DejaVuSans-101\"/>\n     </g>\n    </g>\n   </g>\n   <g id=\"line2d_29\">\n    <path clip-path=\"url(#p84e366816b)\" d=\"M 83.887074 497.501643 \nL 102.003957 511.175392 \nL 120.12084 471.370338 \nL 138.237723 501.234845 \nL 156.354606 433.987624 \nL 174.471489 423.500382 \nL 192.588373 434.520199 \nL 210.705256 402.658842 \nL 228.822139 363.70272 \nL 246.939022 340.620743 \nL 265.055905 314.940496 \nL 283.172788 316.14551 \nL 301.289671 436.554688 \nL 319.406554 400.406809 \nL 337.523438 321.190054 \nL 355.640321 438.424873 \nL 373.757204 539.568595 \nL 391.874087 469.103114 \nL 409.99097 418.513421 \nL 428.107853 504.001958 \nL 446.224736 529.195023 \nL 464.341619 402.313999 \nL 482.458502 497.356602 \nL 500.575386 520.415179 \nL 518.692269 489.931617 \nL 536.809152 433.680057 \nL 554.926035 370.671922 \nL 573.042918 411.598589 \nL 591.159801 361.321111 \n\" style=\"fill:none;stroke:#1f77b4;stroke-linecap:square;stroke-width:1.5;\"/>\n    <g clip-path=\"url(#p84e366816b)\">\n     <use style=\"fill:#1f77b4;stroke:#1f77b4;\" x=\"83.887074\" xlink:href=\"#m3cae294644\" y=\"497.501643\"/>\n     <use style=\"fill:#1f77b4;stroke:#1f77b4;\" x=\"102.003957\" xlink:href=\"#m3cae294644\" y=\"511.175392\"/>\n     <use style=\"fill:#1f77b4;stroke:#1f77b4;\" x=\"120.12084\" xlink:href=\"#m3cae294644\" y=\"471.370338\"/>\n     <use style=\"fill:#1f77b4;stroke:#1f77b4;\" x=\"138.237723\" xlink:href=\"#m3cae294644\" y=\"501.234845\"/>\n     <use style=\"fill:#1f77b4;stroke:#1f77b4;\" x=\"156.354606\" xlink:href=\"#m3cae294644\" y=\"433.987624\"/>\n     <use style=\"fill:#1f77b4;stroke:#1f77b4;\" x=\"174.471489\" xlink:href=\"#m3cae294644\" y=\"423.500382\"/>\n     <use style=\"fill:#1f77b4;stroke:#1f77b4;\" x=\"192.588373\" xlink:href=\"#m3cae294644\" y=\"434.520199\"/>\n     <use style=\"fill:#1f77b4;stroke:#1f77b4;\" x=\"210.705256\" xlink:href=\"#m3cae294644\" y=\"402.658842\"/>\n     <use style=\"fill:#1f77b4;stroke:#1f77b4;\" x=\"228.822139\" xlink:href=\"#m3cae294644\" y=\"363.70272\"/>\n     <use style=\"fill:#1f77b4;stroke:#1f77b4;\" x=\"246.939022\" xlink:href=\"#m3cae294644\" y=\"340.620743\"/>\n     <use style=\"fill:#1f77b4;stroke:#1f77b4;\" x=\"265.055905\" xlink:href=\"#m3cae294644\" y=\"314.940496\"/>\n     <use style=\"fill:#1f77b4;stroke:#1f77b4;\" x=\"283.172788\" xlink:href=\"#m3cae294644\" y=\"316.14551\"/>\n     <use style=\"fill:#1f77b4;stroke:#1f77b4;\" x=\"301.289671\" xlink:href=\"#m3cae294644\" y=\"436.554688\"/>\n     <use style=\"fill:#1f77b4;stroke:#1f77b4;\" x=\"319.406554\" xlink:href=\"#m3cae294644\" y=\"400.406809\"/>\n     <use style=\"fill:#1f77b4;stroke:#1f77b4;\" x=\"337.523438\" xlink:href=\"#m3cae294644\" y=\"321.190054\"/>\n     <use style=\"fill:#1f77b4;stroke:#1f77b4;\" x=\"355.640321\" xlink:href=\"#m3cae294644\" y=\"438.424873\"/>\n     <use style=\"fill:#1f77b4;stroke:#1f77b4;\" x=\"373.757204\" xlink:href=\"#m3cae294644\" y=\"539.568595\"/>\n     <use style=\"fill:#1f77b4;stroke:#1f77b4;\" x=\"391.874087\" xlink:href=\"#m3cae294644\" y=\"469.103114\"/>\n     <use style=\"fill:#1f77b4;stroke:#1f77b4;\" x=\"409.99097\" xlink:href=\"#m3cae294644\" y=\"418.513421\"/>\n     <use style=\"fill:#1f77b4;stroke:#1f77b4;\" x=\"428.107853\" xlink:href=\"#m3cae294644\" y=\"504.001958\"/>\n     <use style=\"fill:#1f77b4;stroke:#1f77b4;\" x=\"446.224736\" xlink:href=\"#m3cae294644\" y=\"529.195023\"/>\n     <use style=\"fill:#1f77b4;stroke:#1f77b4;\" x=\"464.341619\" xlink:href=\"#m3cae294644\" y=\"402.313999\"/>\n     <use style=\"fill:#1f77b4;stroke:#1f77b4;\" x=\"482.458502\" xlink:href=\"#m3cae294644\" y=\"497.356602\"/>\n     <use style=\"fill:#1f77b4;stroke:#1f77b4;\" x=\"500.575386\" xlink:href=\"#m3cae294644\" y=\"520.415179\"/>\n     <use style=\"fill:#1f77b4;stroke:#1f77b4;\" x=\"518.692269\" xlink:href=\"#m3cae294644\" y=\"489.931617\"/>\n     <use style=\"fill:#1f77b4;stroke:#1f77b4;\" x=\"536.809152\" xlink:href=\"#m3cae294644\" y=\"433.680057\"/>\n     <use style=\"fill:#1f77b4;stroke:#1f77b4;\" x=\"554.926035\" xlink:href=\"#m3cae294644\" y=\"370.671922\"/>\n     <use style=\"fill:#1f77b4;stroke:#1f77b4;\" x=\"573.042918\" xlink:href=\"#m3cae294644\" y=\"411.598589\"/>\n     <use style=\"fill:#1f77b4;stroke:#1f77b4;\" x=\"591.159801\" xlink:href=\"#m3cae294644\" y=\"361.321111\"/>\n    </g>\n   </g>\n   <g id=\"patch_9\">\n    <path d=\"M 58.523438 550.8 \nL 58.523438 303.709091 \n\" style=\"fill:none;stroke:#000000;stroke-linecap:square;stroke-linejoin:miter;stroke-width:0.8;\"/>\n   </g>\n   <g id=\"patch_10\">\n    <path d=\"M 616.523438 550.8 \nL 616.523438 303.709091 \n\" style=\"fill:none;stroke:#000000;stroke-linecap:square;stroke-linejoin:miter;stroke-width:0.8;\"/>\n   </g>\n   <g id=\"patch_11\">\n    <path d=\"M 58.523438 550.8 \nL 616.523438 550.8 \n\" style=\"fill:none;stroke:#000000;stroke-linecap:square;stroke-linejoin:miter;stroke-width:0.8;\"/>\n   </g>\n   <g id=\"patch_12\">\n    <path d=\"M 58.523438 303.709091 \nL 616.523438 303.709091 \n\" style=\"fill:none;stroke:#000000;stroke-linecap:square;stroke-linejoin:miter;stroke-width:0.8;\"/>\n   </g>\n   <g id=\"legend_2\">\n    <g id=\"patch_13\">\n     <path d=\"M 572.025 326.387216 \nL 609.523438 326.387216 \nQ 611.523438 326.387216 611.523438 324.387216 \nL 611.523438 310.709091 \nQ 611.523438 308.709091 609.523438 308.709091 \nL 572.025 308.709091 \nQ 570.025 308.709091 570.025 310.709091 \nL 570.025 324.387216 \nQ 570.025 326.387216 572.025 326.387216 \nz\n\" style=\"fill:#ffffff;opacity:0.8;stroke:#cccccc;stroke-linejoin:miter;\"/>\n    </g>\n    <g id=\"line2d_30\">\n     <path d=\"M 574.025 316.807528 \nL 594.025 316.807528 \n\" style=\"fill:none;stroke:#1f77b4;stroke-linecap:square;stroke-width:1.5;\"/>\n    </g>\n    <g id=\"line2d_31\">\n     <g>\n      <use style=\"fill:#1f77b4;stroke:#1f77b4;\" x=\"584.025\" xlink:href=\"#m3cae294644\" y=\"316.807528\"/>\n     </g>\n    </g>\n    <g id=\"text_31\">\n     <!-- c -->\n     <g transform=\"translate(602.025 320.307528)scale(0.1 -0.1)\">\n      <use xlink:href=\"#DejaVuSans-99\"/>\n     </g>\n    </g>\n   </g>\n  </g>\n </g>\n <defs>\n  <clipPath id=\"p04a997ebf4\">\n   <rect height=\"247.090909\" width=\"558\" x=\"58.523438\" y=\"7.2\"/>\n  </clipPath>\n  <clipPath id=\"p84e366816b\">\n   <rect height=\"247.090909\" width=\"558\" x=\"58.523438\" y=\"303.709091\"/>\n  </clipPath>\n </defs>\n</svg>\n",
      "image/png": "[encoded data removed]"
     },
     "metadata": {
      "needs_background": "light"
     }
    }
   ],
   "source": [
    "limit=31 ######\n",
    "start=2\n",
    "step=1\n",
    "x = range(start, limit, step)\n",
    "\n",
    "\n",
    "fig, ax = plt.subplots(2,1, figsize=(10, 10))\n",
    "\n",
    "ax[0].plot(x, perplexity_values, marker='o')\n",
    "ax[0].set_xlabel(\"Number of Topics\")\n",
    "ax[0].set_ylabel(\"Perplexity\")\n",
    "ax[0].legend((\"perplexity\"), loc='best')\n",
    "\n",
    "ax[1].plot(x, coherence_values, marker='o')\n",
    "ax[1].set_xlabel(\"Number of Topics\")\n",
    "ax[1].set_ylabel(\"Coherence score\")\n",
    "ax[1].legend((\"coherence_values\"), loc='best')\n",
    "plt.show()"
   ]
  },
  {
   "cell_type": "code",
   "execution_count": 11,
   "metadata": {},
   "outputs": [
    {
     "output_type": "stream",
     "name": "stdout",
     "text": [
      "Num Topics = 2  has Perplexity Value of -6.3938\n",
      "Num Topics = 3  has Perplexity Value of -6.396\n",
      "Num Topics = 4  has Perplexity Value of -6.3919\n",
      "Num Topics = 5  has Perplexity Value of -6.4355\n",
      "Num Topics = 6  has Perplexity Value of -6.4449\n",
      "Num Topics = 7  has Perplexity Value of -6.4401\n",
      "Num Topics = 8  has Perplexity Value of -6.4333\n",
      "Num Topics = 9  has Perplexity Value of -6.4704\n",
      "Num Topics = 10  has Perplexity Value of -6.557\n",
      "Num Topics = 11  has Perplexity Value of -6.709\n",
      "Num Topics = 12  has Perplexity Value of -6.9397\n",
      "Num Topics = 13  has Perplexity Value of -7.2453\n",
      "Num Topics = 14  has Perplexity Value of -7.5593\n",
      "Num Topics = 15  has Perplexity Value of -7.8809\n",
      "Num Topics = 16  has Perplexity Value of -8.2018\n",
      "Num Topics = 17  has Perplexity Value of -8.4374\n",
      "Num Topics = 18  has Perplexity Value of -8.7098\n",
      "Num Topics = 19  has Perplexity Value of -8.858\n",
      "Num Topics = 20  has Perplexity Value of -8.9901\n",
      "Num Topics = 21  has Perplexity Value of -9.1246\n",
      "Num Topics = 22  has Perplexity Value of -9.2376\n",
      "Num Topics = 23  has Perplexity Value of -9.3724\n",
      "Num Topics = 24  has Perplexity Value of -9.5073\n",
      "Num Topics = 25  has Perplexity Value of -9.6395\n",
      "Num Topics = 26  has Perplexity Value of -9.7759\n",
      "Num Topics = 27  has Perplexity Value of -9.8893\n",
      "Num Topics = 28  has Perplexity Value of -10.0231\n",
      "Num Topics = 29  has Perplexity Value of -10.1506\n",
      "Num Topics = 30  has Perplexity Value of -10.2763\n",
      "Num Topics = 2  has Coherence Value of 0.3034\n",
      "Num Topics = 3  has Coherence Value of 0.2975\n",
      "Num Topics = 4  has Coherence Value of 0.3145\n",
      "Num Topics = 5  has Coherence Value of 0.3018\n",
      "Num Topics = 6  has Coherence Value of 0.3304\n",
      "Num Topics = 7  has Coherence Value of 0.3349\n",
      "Num Topics = 8  has Coherence Value of 0.3302\n",
      "Num Topics = 9  has Coherence Value of 0.3438\n",
      "Num Topics = 10  has Coherence Value of 0.3603\n",
      "Num Topics = 11  has Coherence Value of 0.3702\n",
      "Num Topics = 12  has Coherence Value of 0.3811\n",
      "Num Topics = 13  has Coherence Value of 0.3806\n",
      "Num Topics = 14  has Coherence Value of 0.3293\n",
      "Num Topics = 15  has Coherence Value of 0.3447\n",
      "Num Topics = 16  has Coherence Value of 0.3785\n",
      "Num Topics = 17  has Coherence Value of 0.3285\n",
      "Num Topics = 18  has Coherence Value of 0.2854\n",
      "Num Topics = 19  has Coherence Value of 0.3155\n",
      "Num Topics = 20  has Coherence Value of 0.337\n",
      "Num Topics = 21  has Coherence Value of 0.3006\n",
      "Num Topics = 22  has Coherence Value of 0.2899\n",
      "Num Topics = 23  has Coherence Value of 0.3439\n",
      "Num Topics = 24  has Coherence Value of 0.3034\n",
      "Num Topics = 25  has Coherence Value of 0.2936\n",
      "Num Topics = 26  has Coherence Value of 0.3066\n",
      "Num Topics = 27  has Coherence Value of 0.3305\n",
      "Num Topics = 28  has Coherence Value of 0.3574\n",
      "Num Topics = 29  has Coherence Value of 0.3399\n",
      "Num Topics = 30  has Coherence Value of 0.3614\n",
      "/Users/uni613/Library/Python/3.8/lib/python/site-packages/ipykernel/ipkernel.py:287: DeprecationWarning: `should_run_async` will not call `transform_cell` automatically in the future. Please pass the result to `transformed_cell` argument and any exception that happen during thetransform in `preprocessing_exc_tuple` in IPython 7.17 and above.\n",
      "  and should_run_async(code)\n"
     ]
    }
   ],
   "source": [
    "for m, pv in zip(x, perplexity_values):\n",
    "  print(\"Num Topics =\", m, \" has Perplexity Value of\", round(pv, 4))\n",
    "\n",
    "for m, cv in zip(x, coherence_values):\n",
    "  print(\"Num Topics =\", m, \" has Coherence Value of\", round(cv, 4))"
   ]
  },
  {
   "cell_type": "code",
   "execution_count": 12,
   "metadata": {},
   "outputs": [
    {
     "output_type": "stream",
     "name": "stderr",
     "text": [
      "/Users/uni613/Library/Python/3.8/lib/python/site-packages/ipykernel/ipkernel.py:287: DeprecationWarning: `should_run_async` will not call `transform_cell` automatically in the future. Please pass the result to `transformed_cell` argument and any exception that happen during thetransform in `preprocessing_exc_tuple` in IPython 7.17 and above.\n",
      "  and should_run_async(code)\n",
      "[(0,\n",
      "  '0.301*\"sw\" + 0.038*\"교육\" + 0.035*\"모델\" + 0.033*\"윤리\" + 0.027*\"학부모\" + '\n",
      "  '0.026*\"정보\" + 0.023*\"정책\" + 0.021*\"소속\" + 0.013*\"개발\" + 0.013*\"통신\" + '\n",
      "  '0.012*\"소프트웨어교육\" + 0.011*\"관련\" + 0.011*\"세부\" + 0.011*\"담당\" + 0.010*\"자녀\" + '\n",
      "  '0.010*\"대두\" + 0.009*\"교육청\" + 0.008*\"환경\" + 0.008*\"포함\" + 0.008*\"차기\" + '\n",
      "  '0.008*\"글로벌\" + 0.008*\"연계\" + 0.007*\"보호\" + 0.007*\"대국민\" + 0.007*\"소프트웨어\" + '\n",
      "  '0.007*\"포럼\" + 0.007*\"스스로\" + 0.007*\"초등\" + 0.007*\"공청회\" + 0.007*\"유관\"'),\n",
      " (1,\n",
      "  '0.195*\"온라인\" + 0.126*\"민원\" + 0.078*\"몰입\" + 0.034*\"비교\" + 0.025*\"국내외\" + '\n",
      "  '0.024*\"그룹\" + 0.023*\"예측\" + 0.022*\"지역\" + 0.016*\"학생\" + 0.015*\"초점\" + 0.014*\"증강\" '\n",
      "  '+ 0.013*\"사이버\" + 0.013*\"패턴\" + 0.011*\"항목\" + 0.010*\"축적\" + 0.010*\"커뮤니티\" + '\n",
      "  '0.010*\"정학습\" + 0.009*\"근거\" + 0.009*\"운영함\" + 0.009*\"학사\" + 0.008*\"제안\" + '\n",
      "  '0.007*\"운영\" + 0.007*\"유사\" + 0.007*\"소개\" + 0.006*\"경우\" + 0.006*\"규모\" + '\n",
      "  '0.006*\"사용자\" + 0.005*\"관심\" + 0.005*\"추천\" + 0.005*\"창조\"'),\n",
      " (2,\n",
      "  '0.150*\"교육\" + 0.040*\"정보\" + 0.038*\"연구\" + 0.031*\"분석\" + 0.030*\"교사\" + 0.025*\"과정\" '\n",
      "  '+ 0.021*\"컴퓨터\" + 0.020*\"초등\" + 0.019*\"내용\" + 0.014*\"활용\" + 0.012*\"과학\" + '\n",
      "  '0.012*\"관련\" + 0.011*\"인식\" + 0.011*\"중등\" + 0.010*\"자료\" + 0.010*\"연수\" + 0.010*\"제시\" '\n",
      "  '+ 0.010*\"학교\" + 0.010*\"ict\" + 0.009*\"교원\" + 0.009*\"조사\" + 0.009*\"필요\" + '\n",
      "  '0.009*\"결과\" + 0.008*\"개발\" + 0.008*\"대상\" + 0.007*\"지식\" + 0.007*\"역량\" + 0.007*\"체계\" '\n",
      "  '+ 0.007*\"실시\" + 0.007*\"영재\"'),\n",
      " (3,\n",
      "  '0.077*\"경로\" + 0.074*\"스마트\" + 0.066*\"디지털교과서\" + 0.040*\"빈도\" + 0.033*\"빅데이터\" + '\n",
      "  '0.030*\"과서\" + 0.029*\"마트\" + 0.027*\"원격\" + 0.026*\"대비\" + 0.021*\"시범\" + 0.019*\"질문\" '\n",
      "  '+ 0.018*\"단어\" + 0.015*\"운영자\" + 0.013*\"문장\" + 0.011*\"보안\" + 0.010*\"성능\" + '\n",
      "  '0.010*\"범주\" + 0.010*\"제안\" + 0.009*\"문서\" + 0.008*\"훈련\" + 0.008*\"교과서\" + '\n",
      "  '0.007*\"토픽\" + 0.007*\"일반\" + 0.006*\"시간\" + 0.006*\"시민\" + 0.006*\"방해\" + 0.006*\"소통\" '\n",
      "  '+ 0.005*\"어려움\" + 0.005*\"강사\" + 0.005*\"본인\"'),\n",
      " (4,\n",
      "  '0.211*\"지능\" + 0.189*\"인공\" + 0.043*\"ai\" + 0.034*\"기술\" + 0.023*\"차세대\" + '\n",
      "  '0.021*\"제기\" + 0.019*\"변화\" + 0.017*\"기기\" + 0.015*\"가능\" + 0.014*\"진로\" + 0.011*\"국외\" '\n",
      "  '+ 0.011*\"bibliometrix\" + 0.009*\"적용\" + 0.009*\"태도\" + 0.009*\"프레임\" + 0.009*\"면담\" '\n",
      "  '+ 0.008*\"탐색\" + 0.008*\"직업\" + 0.008*\"머신러닝\" + 0.008*\"관찰\" + 0.008*\"pbl\" + '\n",
      "  '0.008*\"수준\" + 0.007*\"건강\" + 0.007*\"블록형\" + 0.007*\"of\" + 0.007*\"씽킹\" + '\n",
      "  '0.007*\"키워드\" + 0.007*\"워크\" + 0.006*\"진보\" + 0.006*\"게시판\"'),\n",
      " (5,\n",
      "  '0.120*\"교수\" + 0.095*\"소프트웨어\" + 0.084*\"예비\" + 0.061*\"교사\" + 0.045*\"단계\" + '\n",
      "  '0.040*\"전략\" + 0.029*\"방법\" + 0.024*\"모델\" + 0.023*\"모형\" + 0.022*\"방식\" + 0.020*\"성취\" '\n",
      "  '+ 0.020*\"러닝\" + 0.017*\"대학교\" + 0.017*\"교과\" + 0.017*\"양성\" + 0.017*\"설계\" + '\n",
      "  '0.013*\"일관\" + 0.012*\"제시\" + 0.010*\"확산\" + 0.010*\"텍스트\" + 0.009*\"플립\" + '\n",
      "  '0.007*\"전문\" + 0.007*\"학습\" + 0.007*\"전공자\" + 0.007*\"실습\" + 0.006*\"정보교\" + '\n",
      "  '0.006*\"과정\" + 0.006*\"자료\" + 0.006*\"계열\" + 0.006*\"사업\"'),\n",
      " (6,\n",
      "  '0.088*\"횟수\" + 0.068*\"스마트폰\" + 0.064*\"매개\" + 0.033*\"이중\" + 0.033*\"저지\" + '\n",
      "  '0.023*\"제어\" + 0.021*\"누구\" + 0.019*\"발현\" + 0.018*\"적합도\" + 0.017*\"등록\" + '\n",
      "  '0.017*\"단독\" + 0.017*\"비대면\" + 0.017*\"코로나\" + 0.016*\"심화\" + 0.016*\"전력\" + '\n",
      "  '0.014*\"상담\" + 0.014*\"라즈베리파이\" + 0.014*\"사이버\" + 0.011*\"구조\" + 0.009*\"이동\" + '\n",
      "  '0.008*\"해당\" + 0.008*\"존재\" + 0.008*\"자유\" + 0.007*\"변경\" + 0.007*\"융복합\" + '\n",
      "  '0.006*\"실기\" + 0.006*\"위치\" + 0.005*\"수단\" + 0.005*\"편집\" + 0.004*\"정교사\"'),\n",
      " (7,\n",
      "  '0.066*\"교육\" + 0.043*\"프로그래밍\" + 0.035*\"컴퓨팅\" + 0.033*\"초등\" + 0.028*\"로봇\" + '\n",
      "  '0.027*\"사고력\" + 0.025*\"프로그램\" + 0.024*\"개발\" + 0.020*\"학습\" + 0.019*\"적용\" + '\n",
      "  '0.018*\"문제\" + 0.018*\"수업\" + 0.017*\"활용\" + 0.016*\"효과\" + 0.015*\"연구\" + 0.013*\"활동\" '\n",
      "  '+ 0.012*\"알고리즘\" + 0.012*\"학생\" + 0.011*\"결과\" + 0.011*\"도구\" + 0.011*\"과정\" + '\n",
      "  '0.009*\"학년\" + 0.009*\"창의\" + 0.009*\"해결\" + 0.008*\"분석\" + 0.008*\"발문\" + 0.008*\"언어\" '\n",
      "  '+ 0.008*\"소프트웨어\" + 0.007*\"향상\" + 0.007*\"사고\"'),\n",
      " (8,\n",
      "  '0.076*\"사용\" + 0.075*\"인터넷\" + 0.073*\"중독\" + 0.038*\"표현\" + 0.034*\"교구\" + '\n",
      "  '0.023*\"계산\" + 0.023*\"초등\" + 0.020*\"방학\" + 0.020*\"동료\" + 0.019*\"기록\" + 0.013*\"도전\" '\n",
      "  '+ 0.013*\"치료\" + 0.009*\"참가\" + 0.009*\"이용\" + 0.009*\"보유\" + 0.009*\"종단\" + '\n",
      "  '0.009*\"완성\" + 0.008*\"고위험군\" + 0.008*\"위험군\" + 0.008*\"스마트폰생활\" + 0.007*\"어린이\" + '\n",
      "  '0.007*\"수학교\" + 0.007*\"자군\" + 0.007*\"시간\" + 0.007*\"수식\" + 0.006*\"관찰\" + '\n",
      "  '0.006*\"학년\" + 0.006*\"자체\" + 0.006*\"자기통제력\" + 0.006*\"소셜\"'),\n",
      " (9,\n",
      "  '0.072*\"평가\" + 0.049*\"시스템\" + 0.037*\"데이터\" + 0.033*\"서비스\" + 0.031*\"학습\" + '\n",
      "  '0.030*\"분석\" + 0.029*\"유의\" + 0.024*\"콘텐츠\" + 0.023*\"방법\" + 0.021*\"분류\" + '\n",
      "  '0.020*\"적용\" + 0.016*\"학기\" + 0.016*\"자동\" + 0.015*\"결과\" + 0.015*\"설계\" + 0.013*\"이용\" '\n",
      "  '+ 0.012*\"연구\" + 0.012*\"관리\" + 0.012*\"기법\" + 0.012*\"사용\" + 0.012*\"구현\" + '\n",
      "  '0.011*\"개발\" + 0.011*\"가능\" + 0.011*\"기술\" + 0.010*\"기능\" + 0.009*\"학습자\" + '\n",
      "  '0.009*\"강의\" + 0.008*\"경우\" + 0.008*\"진단\" + 0.008*\"온라인\"'),\n",
      " (10,\n",
      "  '0.119*\"변인\" + 0.054*\"지각\" + 0.037*\"실재감\" + 0.037*\"규명\" + 0.034*\"적응\" + '\n",
      "  '0.034*\"인과\" + 0.023*\"테크노스트레스\" + 0.020*\"사이버대학\" + 0.017*\"관계\" + 0.008*\"페이스북\" + '\n",
      "  '0.006*\"중도\" + 0.005*\"숙달\" + 0.005*\"탈락\" + 0.005*\"정원\" + 0.004*\"학기\" + '\n",
      "  '0.004*\"학습능력\" + 0.004*\"목표지향\" + 0.003*\"매개역할\" + 0.003*\"사이버대학생\" + 0.003*\"근무\" + '\n",
      "  '0.003*\"어려움\" + 0.001*\"탈락자\" + 0.001*\"불안감\" + 0.001*\"인지도\" + 0.001*\"담보\" + '\n",
      "  '0.001*\"증원\" + 0.001*\"자퇴\" + 0.001*\"등록금\" + 0.001*\"제적\" + 0.001*\"소속감\"'),\n",
      " (11,\n",
      "  '0.053*\"학습\" + 0.039*\"활용\" + 0.033*\"연구\" + 0.027*\"분석\" + 0.022*\"결과\" + '\n",
      "  '0.019*\"학습자\" + 0.018*\"차이\" + 0.017*\"역량\" + 0.017*\"영향\" + 0.015*\"학생\" + '\n",
      "  '0.014*\"효과\" + 0.013*\"프로젝트\" + 0.012*\"태도\" + 0.012*\"집단\" + 0.012*\"스크래치\" + '\n",
      "  '0.012*\"수업\" + 0.011*\"협업\" + 0.010*\"효능감\" + 0.010*\"모형\" + 0.010*\"대상\" + '\n",
      "  '0.009*\"자기\" + 0.009*\"유의미\" + 0.008*\"고력\" + 0.008*\"요인\" + 0.008*\"통계\" + '\n",
      "  '0.008*\"실시\" + 0.008*\"게임\" + 0.008*\"필요\" + 0.008*\"능력\" + 0.007*\"핵심\"')]\n"
     ]
    }
   ],
   "source": [
    "a = int(input(\"set the number of topics \"))\n",
    "optimal_model = gensim.models.ldamodel.LdaModel(corpus=corpus,\n",
    "                                                id2word=id2word,\n",
    "                                                num_topics=a,\n",
    "                                                random_state=100,\n",
    "                                                update_every=1,\n",
    "                                                iterations=1000,\n",
    "                                                chunksize=100,\n",
    "                                                passes=10,\n",
    "                                                alpha='auto',\n",
    "                                                eta='auto',\n",
    "                                                per_word_topics=True)\n",
    "model_topics = optimal_model.show_topics(formatted=False)\n",
    "pprint(optimal_model.print_topics(num_words=30))"
   ]
  },
  {
   "cell_type": "code",
   "execution_count": 13,
   "metadata": {},
   "outputs": [
    {
     "output_type": "stream",
     "name": "stderr",
     "text": [
      "/Users/uni613/Library/Python/3.8/lib/python/site-packages/ipykernel/ipkernel.py:287: DeprecationWarning: `should_run_async` will not call `transform_cell` automatically in the future. Please pass the result to `transformed_cell` argument and any exception that happen during thetransform in `preprocessing_exc_tuple` in IPython 7.17 and above.\n  and should_run_async(code)\n"
     ]
    }
   ],
   "source": [
    "title = input(\"set the title of html file \")\n",
    "vis = pyLDAvis.gensim.prepare(optimal_model, corpus, id2word)\n",
    "pyLDAvis.save_html(vis, title+\".html\")"
   ]
  },
  {
   "cell_type": "code",
   "execution_count": 14,
   "metadata": {},
   "outputs": [
    {
     "output_type": "stream",
     "name": "stderr",
     "text": [
      "/Users/uni613/Library/Python/3.8/lib/python/site-packages/ipykernel/ipkernel.py:287: DeprecationWarning: `should_run_async` will not call `transform_cell` automatically in the future. Please pass the result to `transformed_cell` argument and any exception that happen during thetransform in `preprocessing_exc_tuple` in IPython 7.17 and above.\n",
      "  and should_run_async(code)\n",
      "                    0                 1                 2                 3  \\\n",
      "0     (2, 0.21553157)    (5, 0.3151984)   (7, 0.41266254)  (11, 0.03299175)   \n",
      "1      (2, 0.3057192)  (5, 0.037377562)  (7, 0.100475915)   (11, 0.5387456)   \n",
      "2     (2, 0.21880527)   (7, 0.13581628)  (8, 0.014987723)   (9, 0.60236084)   \n",
      "3     (2, 0.12554735)   (7, 0.14209701)   (9, 0.49780867)  (11, 0.22488447)   \n",
      "4     (2, 0.10046191)   (5, 0.25508302)   (7, 0.10844378)   (9, 0.39702338)   \n",
      "..                ...               ...               ...               ...   \n",
      "807   (2, 0.48346934)   (4, 0.32776806)  (6, 0.016185544)  (7, 0.035824563)   \n",
      "808   (2, 0.04046602)   (7, 0.49334162)    (9, 0.0383763)   (11, 0.4186893)   \n",
      "809   (1, 0.09490244)   (2, 0.09412023)  (3, 0.012172481)  (4, 0.016351542)   \n",
      "810  (0, 0.031922508)   (2, 0.40187222)   (4, 0.16607784)   (7, 0.31297767)   \n",
      "811   (2, 0.24917252)  (5, 0.085667394)   (7, 0.17165817)  (11, 0.48593375)   \n",
      "\n",
      "                     4                  5                  6     7     8     9  \n",
      "0                 None               None               None  None  None  None  \n",
      "1                 None               None               None  None  None  None  \n",
      "2    (11, 0.018308185)               None               None  None  None  None  \n",
      "3                 None               None               None  None  None  None  \n",
      "4     (11, 0.13265295)               None               None  None  None  None  \n",
      "..                 ...                ...                ...   ...   ...   ...  \n",
      "807    (9, 0.04420997)  (11, 0.079236604)               None  None  None  None  \n",
      "808               None               None               None  None  None  None  \n",
      "809    (7, 0.06537722)     (9, 0.6661538)  (11, 0.045061477)  None  None  None  \n",
      "810  (11, 0.079248756)               None               None  None  None  None  \n",
      "811               None               None               None  None  None  None  \n",
      "\n",
      "[812 rows x 10 columns]\n"
     ]
    }
   ],
   "source": [
    "# topic proportion\n",
    "\n",
    "proportion = []\n",
    "for i, row_list in enumerate(optimal_model[corpus]):\n",
    "    #print(\"document number : \", i)\n",
    "    row = row_list[0]\n",
    "    #print(row)\n",
    "    proportion.append(row)\n",
    "print(pd.DataFrame(proportion))"
   ]
  },
  {
   "cell_type": "code",
   "execution_count": 22,
   "metadata": {},
   "outputs": [
    {
     "output_type": "stream",
     "name": "stderr",
     "text": [
      "/Users/uni613/Library/Python/3.8/lib/python/site-packages/ipykernel/ipkernel.py:287: DeprecationWarning: `should_run_async` will not call `transform_cell` automatically in the future. Please pass the result to `transformed_cell` argument and any exception that happen during thetransform in `preprocessing_exc_tuple` in IPython 7.17 and above.\n  and should_run_async(code)\n"
     ]
    }
   ],
   "source": [
    "proportion = []\n",
    "for i, row_list in enumerate(optimal_model[corpus]):\n",
    "    #print(\"document number : \", i)\n",
    "    row = row_list[0]\n",
    "    #print(row)\n",
    "    inner_proportion = [\"-\", \"-\", \"-\", \"-\", \"-\", \"-\", \"-\", \"-\", \"-\", \"-\", \"-\", \"-\"] # numtopics 12\n",
    "    for j, (topic_num, prop) in enumerate(row):\n",
    "        for k in range(12): # numtopics 12\n",
    "            if topic_num == k:\n",
    "                inner_proportion[k] = prop\n",
    "    proportion.append(inner_proportion)\n",
    "    #print(inner_proportion)\n",
    "#print(proportion)\n",
    "\n",
    "#topic_proportions = pd.DataFrame(data[\"title\"])"
   ]
  },
  {
   "cell_type": "code",
   "execution_count": 23,
   "metadata": {},
   "outputs": [
    {
     "output_type": "stream",
     "name": "stdout",
     "text": [
      "     Title         T0         T1        T2         T3         T4         T5  \\\n",
      "0      137          -          -  0.215544          -          -   0.315169   \n",
      "1      147          -          -  0.305720          -          -  0.0373771   \n",
      "2      148          -          -  0.218796          -          -          -   \n",
      "3      149          -          -  0.125546          -          -          -   \n",
      "4      150          -          -  0.100383          -          -   0.255099   \n",
      "..     ...        ...        ...       ...        ...        ...        ...   \n",
      "807   1121          -          -  0.483488          -   0.327768          -   \n",
      "808   1122          -          -  0.040467          -          -          -   \n",
      "809   1123          -  0.0949009  0.094128  0.0121725  0.0163519          -   \n",
      "810   1124  0.0319225          -  0.401873          -   0.166078          -   \n",
      "811   1125          -          -  0.249153          -          -  0.0856778   \n",
      "\n",
      "            T6        T7         T8         T9 T10       T11  \n",
      "0            -  0.412659          -          -   -  0.032992  \n",
      "1            -  0.100475          -          -   -  0.538747  \n",
      "2            -  0.135828  0.0149877   0.602358   -  0.018308  \n",
      "3            -  0.142112          -   0.497812   -  0.224867  \n",
      "4            -  0.108440          -   0.397006   -  0.132738  \n",
      "..         ...       ...        ...        ...  ..       ...  \n",
      "807  0.0161855  0.035824          -    0.04421   -  0.079218  \n",
      "808          -  0.493339          -  0.0383763   -  0.418691  \n",
      "809          -  0.065379          -   0.666164   -  0.045044  \n",
      "810          -  0.312976          -          -   -  0.079249  \n",
      "811          -  0.171664          -          -   -  0.485936  \n",
      "\n",
      "[812 rows x 13 columns]\n",
      "/Users/uni613/Library/Python/3.8/lib/python/site-packages/ipykernel/ipkernel.py:287: DeprecationWarning: `should_run_async` will not call `transform_cell` automatically in the future. Please pass the result to `transformed_cell` argument and any exception that happen during thetransform in `preprocessing_exc_tuple` in IPython 7.17 and above.\n",
      "  and should_run_async(code)\n"
     ]
    },
    {
     "output_type": "error",
     "ename": "ModuleNotFoundError",
     "evalue": "No module named 'openpyxl'",
     "traceback": [
      "\u001b[0;31m---------------------------------------------------------------------------\u001b[0m",
      "\u001b[0;31mModuleNotFoundError\u001b[0m                       Traceback (most recent call last)",
      "\u001b[0;32m<ipython-input-23-0fd4ad8d606a>\u001b[0m in \u001b[0;36m<module>\u001b[0;34m\u001b[0m\n\u001b[1;32m      2\u001b[0m \u001b[0mtopic_proportions\u001b[0m\u001b[0;34m.\u001b[0m\u001b[0mcolumns\u001b[0m \u001b[0;34m=\u001b[0m \u001b[0;34m[\u001b[0m\u001b[0;34m\"Title\"\u001b[0m\u001b[0;34m,\u001b[0m \u001b[0;34m\"T0\"\u001b[0m\u001b[0;34m,\u001b[0m \u001b[0;34m\"T1\"\u001b[0m\u001b[0;34m,\u001b[0m \u001b[0;34m\"T2\"\u001b[0m\u001b[0;34m,\u001b[0m \u001b[0;34m\"T3\"\u001b[0m\u001b[0;34m,\u001b[0m \u001b[0;34m\"T4\"\u001b[0m\u001b[0;34m,\u001b[0m \u001b[0;34m\"T5\"\u001b[0m\u001b[0;34m,\u001b[0m \u001b[0;34m\"T6\"\u001b[0m\u001b[0;34m,\u001b[0m \u001b[0;34m\"T7\"\u001b[0m\u001b[0;34m,\u001b[0m \u001b[0;34m\"T8\"\u001b[0m\u001b[0;34m,\u001b[0m \u001b[0;34m\"T9\"\u001b[0m\u001b[0;34m,\u001b[0m \u001b[0;34m\"T10\"\u001b[0m\u001b[0;34m,\u001b[0m \u001b[0;34m\"T11\"\u001b[0m\u001b[0;34m]\u001b[0m \u001b[0;31m#num topics = 12\u001b[0m\u001b[0;34m\u001b[0m\u001b[0;34m\u001b[0m\u001b[0m\n\u001b[1;32m      3\u001b[0m \u001b[0mprint\u001b[0m\u001b[0;34m(\u001b[0m\u001b[0mtopic_proportions\u001b[0m\u001b[0;34m)\u001b[0m\u001b[0;34m\u001b[0m\u001b[0;34m\u001b[0m\u001b[0m\n\u001b[0;32m----> 4\u001b[0;31m \u001b[0mtopic_proportions\u001b[0m\u001b[0;34m.\u001b[0m\u001b[0mto_excel\u001b[0m\u001b[0;34m(\u001b[0m\u001b[0;34m\"./final_data/1210_topic_proportions_total.xlsx\"\u001b[0m\u001b[0;34m)\u001b[0m\u001b[0;34m\u001b[0m\u001b[0;34m\u001b[0m\u001b[0m\n\u001b[0m",
      "\u001b[0;32m~/Library/Python/3.8/lib/python/site-packages/pandas/core/generic.py\u001b[0m in \u001b[0;36mto_excel\u001b[0;34m(self, excel_writer, sheet_name, na_rep, float_format, columns, header, index, index_label, startrow, startcol, engine, merge_cells, encoding, inf_rep, verbose, freeze_panes)\u001b[0m\n\u001b[1;32m   2024\u001b[0m             \u001b[0minf_rep\u001b[0m\u001b[0;34m=\u001b[0m\u001b[0minf_rep\u001b[0m\u001b[0;34m,\u001b[0m\u001b[0;34m\u001b[0m\u001b[0;34m\u001b[0m\u001b[0m\n\u001b[1;32m   2025\u001b[0m         )\n\u001b[0;32m-> 2026\u001b[0;31m         formatter.write(\n\u001b[0m\u001b[1;32m   2027\u001b[0m             \u001b[0mexcel_writer\u001b[0m\u001b[0;34m,\u001b[0m\u001b[0;34m\u001b[0m\u001b[0;34m\u001b[0m\u001b[0m\n\u001b[1;32m   2028\u001b[0m             \u001b[0msheet_name\u001b[0m\u001b[0;34m=\u001b[0m\u001b[0msheet_name\u001b[0m\u001b[0;34m,\u001b[0m\u001b[0;34m\u001b[0m\u001b[0;34m\u001b[0m\u001b[0m\n",
      "\u001b[0;32m~/Library/Python/3.8/lib/python/site-packages/pandas/io/formats/excel.py\u001b[0m in \u001b[0;36mwrite\u001b[0;34m(self, writer, sheet_name, startrow, startcol, freeze_panes, engine)\u001b[0m\n\u001b[1;32m    728\u001b[0m             \u001b[0mneed_save\u001b[0m \u001b[0;34m=\u001b[0m \u001b[0;32mFalse\u001b[0m\u001b[0;34m\u001b[0m\u001b[0;34m\u001b[0m\u001b[0m\n\u001b[1;32m    729\u001b[0m         \u001b[0;32melse\u001b[0m\u001b[0;34m:\u001b[0m\u001b[0;34m\u001b[0m\u001b[0;34m\u001b[0m\u001b[0m\n\u001b[0;32m--> 730\u001b[0;31m             \u001b[0mwriter\u001b[0m \u001b[0;34m=\u001b[0m \u001b[0mExcelWriter\u001b[0m\u001b[0;34m(\u001b[0m\u001b[0mstringify_path\u001b[0m\u001b[0;34m(\u001b[0m\u001b[0mwriter\u001b[0m\u001b[0;34m)\u001b[0m\u001b[0;34m,\u001b[0m \u001b[0mengine\u001b[0m\u001b[0;34m=\u001b[0m\u001b[0mengine\u001b[0m\u001b[0;34m)\u001b[0m\u001b[0;34m\u001b[0m\u001b[0;34m\u001b[0m\u001b[0m\n\u001b[0m\u001b[1;32m    731\u001b[0m             \u001b[0mneed_save\u001b[0m \u001b[0;34m=\u001b[0m \u001b[0;32mTrue\u001b[0m\u001b[0;34m\u001b[0m\u001b[0;34m\u001b[0m\u001b[0m\n\u001b[1;32m    732\u001b[0m \u001b[0;34m\u001b[0m\u001b[0m\n",
      "\u001b[0;32m~/Library/Python/3.8/lib/python/site-packages/pandas/io/excel/_openpyxl.py\u001b[0m in \u001b[0;36m__init__\u001b[0;34m(self, path, engine, mode, **engine_kwargs)\u001b[0m\n\u001b[1;32m     16\u001b[0m     \u001b[0;32mdef\u001b[0m \u001b[0m__init__\u001b[0m\u001b[0;34m(\u001b[0m\u001b[0mself\u001b[0m\u001b[0;34m,\u001b[0m \u001b[0mpath\u001b[0m\u001b[0;34m,\u001b[0m \u001b[0mengine\u001b[0m\u001b[0;34m=\u001b[0m\u001b[0;32mNone\u001b[0m\u001b[0;34m,\u001b[0m \u001b[0mmode\u001b[0m\u001b[0;34m=\u001b[0m\u001b[0;34m\"w\"\u001b[0m\u001b[0;34m,\u001b[0m \u001b[0;34m**\u001b[0m\u001b[0mengine_kwargs\u001b[0m\u001b[0;34m)\u001b[0m\u001b[0;34m:\u001b[0m\u001b[0;34m\u001b[0m\u001b[0;34m\u001b[0m\u001b[0m\n\u001b[1;32m     17\u001b[0m         \u001b[0;31m# Use the openpyxl module as the Excel writer.\u001b[0m\u001b[0;34m\u001b[0m\u001b[0;34m\u001b[0m\u001b[0;34m\u001b[0m\u001b[0m\n\u001b[0;32m---> 18\u001b[0;31m         \u001b[0;32mfrom\u001b[0m \u001b[0mopenpyxl\u001b[0m\u001b[0;34m.\u001b[0m\u001b[0mworkbook\u001b[0m \u001b[0;32mimport\u001b[0m \u001b[0mWorkbook\u001b[0m\u001b[0;34m\u001b[0m\u001b[0;34m\u001b[0m\u001b[0m\n\u001b[0m\u001b[1;32m     19\u001b[0m \u001b[0;34m\u001b[0m\u001b[0m\n\u001b[1;32m     20\u001b[0m         \u001b[0msuper\u001b[0m\u001b[0;34m(\u001b[0m\u001b[0;34m)\u001b[0m\u001b[0;34m.\u001b[0m\u001b[0m__init__\u001b[0m\u001b[0;34m(\u001b[0m\u001b[0mpath\u001b[0m\u001b[0;34m,\u001b[0m \u001b[0mmode\u001b[0m\u001b[0;34m=\u001b[0m\u001b[0mmode\u001b[0m\u001b[0;34m,\u001b[0m \u001b[0;34m**\u001b[0m\u001b[0mengine_kwargs\u001b[0m\u001b[0;34m)\u001b[0m\u001b[0;34m\u001b[0m\u001b[0;34m\u001b[0m\u001b[0m\n",
      "\u001b[0;31mModuleNotFoundError\u001b[0m: No module named 'openpyxl'"
     ]
    }
   ],
   "source": [
    "topic_proportions = pd.concat([data[\"no\"], pd.DataFrame(proportion)], axis=1)\n",
    "topic_proportions.columns = [\"Title\", \"T0\", \"T1\", \"T2\", \"T3\", \"T4\", \"T5\", \"T6\", \"T7\", \"T8\", \"T9\", \"T10\", \"T11\"] #num topics = 12\n",
    "print(topic_proportions)\n",
    "topic_proportions.to_excel(\"./final_data/1210_topic_proportions_total.xlsx\")"
   ]
  },
  {
   "cell_type": "code",
   "execution_count": null,
   "metadata": {},
   "outputs": [],
   "source": []
  }
 ]
}