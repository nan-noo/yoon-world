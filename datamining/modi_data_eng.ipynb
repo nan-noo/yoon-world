{
 "metadata": {
  "language_info": {
   "codemirror_mode": {
    "name": "ipython",
    "version": 3
   },
   "file_extension": ".py",
   "mimetype": "text/x-python",
   "name": "python",
   "nbconvert_exporter": "python",
   "pygments_lexer": "ipython3",
   "version": "3.8.2-final"
  },
  "orig_nbformat": 2,
  "kernelspec": {
   "name": "python3",
   "display_name": "Python 3.8.2 64-bit",
   "metadata": {
    "interpreter": {
     "hash": "aee8b7b246df8f9039afb4144a1f6fd8d2ca17a180786b69acc140d282b71a49"
    }
   }
  }
 },
 "nbformat": 4,
 "nbformat_minor": 2,
 "cells": [
  {
   "cell_type": "code",
   "execution_count": 1,
   "metadata": {},
   "outputs": [],
   "source": [
    "import pandas as pd\n",
    "import numpy as np"
   ]
  },
  {
   "cell_type": "code",
   "execution_count": 2,
   "metadata": {},
   "outputs": [
    {
     "output_type": "execute_result",
     "data": {
      "text/plain": [
       "   연번    Year  Volume  Issue  \\\n",
       "0   1  2021.0    65.0    1.0   \n",
       "1   2  2021.0    65.0    1.0   \n",
       "2   3  2021.0    65.0    1.0   \n",
       "3   4  2021.0    65.0    1.0   \n",
       "4   5  2021.0    65.0    1.0   \n",
       "\n",
       "                                       Article Title  \\\n",
       "0  Social–Emotional Characteristics and Adjustmen...   \n",
       "1  Do Mass Media Shape Stereotypes About Intellec...   \n",
       "2  College Choice: Considerations for Academicall...   \n",
       "3  Intellectual Precocity: What Have We Learned S...   \n",
       "4     Assessing the Scholarly Reach of Terman's Work   \n",
       "\n",
       "                                     Author Keywords  \\\n",
       "0  academic acceleration, giftedness, social–emot...   \n",
       "1  attitudes toward the gifted, experimental desi...   \n",
       "2  interviews; thematic analysis; qualitative des...   \n",
       "3  basic interpretive; mixed methods; psychometri...   \n",
       "4       bibliometric; gifted education; Lewis Terman   \n",
       "\n",
       "                                            Abstract  \n",
       "0  Gifted students who experienced grade-based ac...  \n",
       "1  Negative stereotypes about intellectually gift...  \n",
       "2  When choosing a college, high school students ...  \n",
       "3  Over the past 50 years, eight robust generaliz...  \n",
       "4  Lewis M. Terman'sGenetic Studies of Geniusstan...  "
      ],
      "text/html": "<div>\n<style scoped>\n    .dataframe tbody tr th:only-of-type {\n        vertical-align: middle;\n    }\n\n    .dataframe tbody tr th {\n        vertical-align: top;\n    }\n\n    .dataframe thead th {\n        text-align: right;\n    }\n</style>\n<table border=\"1\" class=\"dataframe\">\n  <thead>\n    <tr style=\"text-align: right;\">\n      <th></th>\n      <th>연번</th>\n      <th>Year</th>\n      <th>Volume</th>\n      <th>Issue</th>\n      <th>Article Title</th>\n      <th>Author Keywords</th>\n      <th>Abstract</th>\n    </tr>\n  </thead>\n  <tbody>\n    <tr>\n      <th>0</th>\n      <td>1</td>\n      <td>2021.0</td>\n      <td>65.0</td>\n      <td>1.0</td>\n      <td>Social–Emotional Characteristics and Adjustmen...</td>\n      <td>academic acceleration, giftedness, social–emot...</td>\n      <td>Gifted students who experienced grade-based ac...</td>\n    </tr>\n    <tr>\n      <th>1</th>\n      <td>2</td>\n      <td>2021.0</td>\n      <td>65.0</td>\n      <td>1.0</td>\n      <td>Do Mass Media Shape Stereotypes About Intellec...</td>\n      <td>attitudes toward the gifted, experimental desi...</td>\n      <td>Negative stereotypes about intellectually gift...</td>\n    </tr>\n    <tr>\n      <th>2</th>\n      <td>3</td>\n      <td>2021.0</td>\n      <td>65.0</td>\n      <td>1.0</td>\n      <td>College Choice: Considerations for Academicall...</td>\n      <td>interviews; thematic analysis; qualitative des...</td>\n      <td>When choosing a college, high school students ...</td>\n    </tr>\n    <tr>\n      <th>3</th>\n      <td>4</td>\n      <td>2021.0</td>\n      <td>65.0</td>\n      <td>1.0</td>\n      <td>Intellectual Precocity: What Have We Learned S...</td>\n      <td>basic interpretive; mixed methods; psychometri...</td>\n      <td>Over the past 50 years, eight robust generaliz...</td>\n    </tr>\n    <tr>\n      <th>4</th>\n      <td>5</td>\n      <td>2021.0</td>\n      <td>65.0</td>\n      <td>1.0</td>\n      <td>Assessing the Scholarly Reach of Terman's Work</td>\n      <td>bibliometric; gifted education; Lewis Terman</td>\n      <td>Lewis M. Terman'sGenetic Studies of Geniusstan...</td>\n    </tr>\n  </tbody>\n</table>\n</div>"
     },
     "metadata": {},
     "execution_count": 2
    }
   ],
   "source": [
    "data = pd.read_excel(\"./eng_abs_full.xlsx\") ############\n",
    "\n",
    "data.head()"
   ]
  },
  {
   "cell_type": "code",
   "execution_count": 3,
   "metadata": {},
   "outputs": [
    {
     "output_type": "execute_result",
     "data": {
      "text/plain": [
       "   연번    Year  Volume  Issue  \\\n",
       "0   1  2021.0    65.0    1.0   \n",
       "1   2  2021.0    65.0    1.0   \n",
       "2   3  2021.0    65.0    1.0   \n",
       "3   4  2021.0    65.0    1.0   \n",
       "4   5  2021.0    65.0    1.0   \n",
       "\n",
       "                                       Article Title  \\\n",
       "0  Social–Emotional Characteristics and Adjustmen...   \n",
       "1  Do Mass Media Shape Stereotypes About Intellec...   \n",
       "2  College Choice: Considerations for Academicall...   \n",
       "3  Intellectual Precocity: What Have We Learned S...   \n",
       "4     Assessing the Scholarly Reach of Terman's Work   \n",
       "\n",
       "                                     Author Keywords  \\\n",
       "0  academic acceleration, giftedness, social–emot...   \n",
       "1  attitudes toward the gifted, experimental desi...   \n",
       "2  interviews; thematic analysis; qualitative des...   \n",
       "3  basic interpretive; mixed methods; psychometri...   \n",
       "4       bibliometric; gifted education; Lewis Terman   \n",
       "\n",
       "                                            Abstract  \n",
       "0  Gifted students who experienced grade-based ac...  \n",
       "1  Negative stereotypes about intellectually gift...  \n",
       "2  When choosing a college, high school students ...  \n",
       "3  Over the past 50 years, eight robust generaliz...  \n",
       "4  Lewis M. Terman'sGenetic Studies of Geniusstan...  "
      ],
      "text/html": "<div>\n<style scoped>\n    .dataframe tbody tr th:only-of-type {\n        vertical-align: middle;\n    }\n\n    .dataframe tbody tr th {\n        vertical-align: top;\n    }\n\n    .dataframe thead th {\n        text-align: right;\n    }\n</style>\n<table border=\"1\" class=\"dataframe\">\n  <thead>\n    <tr style=\"text-align: right;\">\n      <th></th>\n      <th>연번</th>\n      <th>Year</th>\n      <th>Volume</th>\n      <th>Issue</th>\n      <th>Article Title</th>\n      <th>Author Keywords</th>\n      <th>Abstract</th>\n    </tr>\n  </thead>\n  <tbody>\n    <tr>\n      <th>0</th>\n      <td>1</td>\n      <td>2021.0</td>\n      <td>65.0</td>\n      <td>1.0</td>\n      <td>Social–Emotional Characteristics and Adjustmen...</td>\n      <td>academic acceleration, giftedness, social–emot...</td>\n      <td>Gifted students who experienced grade-based ac...</td>\n    </tr>\n    <tr>\n      <th>1</th>\n      <td>2</td>\n      <td>2021.0</td>\n      <td>65.0</td>\n      <td>1.0</td>\n      <td>Do Mass Media Shape Stereotypes About Intellec...</td>\n      <td>attitudes toward the gifted, experimental desi...</td>\n      <td>Negative stereotypes about intellectually gift...</td>\n    </tr>\n    <tr>\n      <th>2</th>\n      <td>3</td>\n      <td>2021.0</td>\n      <td>65.0</td>\n      <td>1.0</td>\n      <td>College Choice: Considerations for Academicall...</td>\n      <td>interviews; thematic analysis; qualitative des...</td>\n      <td>When choosing a college, high school students ...</td>\n    </tr>\n    <tr>\n      <th>3</th>\n      <td>4</td>\n      <td>2021.0</td>\n      <td>65.0</td>\n      <td>1.0</td>\n      <td>Intellectual Precocity: What Have We Learned S...</td>\n      <td>basic interpretive; mixed methods; psychometri...</td>\n      <td>Over the past 50 years, eight robust generaliz...</td>\n    </tr>\n    <tr>\n      <th>4</th>\n      <td>5</td>\n      <td>2021.0</td>\n      <td>65.0</td>\n      <td>1.0</td>\n      <td>Assessing the Scholarly Reach of Terman's Work</td>\n      <td>bibliometric; gifted education; Lewis Terman</td>\n      <td>Lewis M. Terman'sGenetic Studies of Geniusstan...</td>\n    </tr>\n  </tbody>\n</table>\n</div>"
     },
     "metadata": {},
     "execution_count": 3
    }
   ],
   "source": [
    "# 논문명, 키워드, 초록이 모두 없는 값 삭제\n",
    "data = data.dropna(subset=['Article Title', 'Author Keywords', 'Abstract'], how='all')\n",
    "data.head()"
   ]
  },
  {
   "cell_type": "code",
   "execution_count": 4,
   "metadata": {},
   "outputs": [
    {
     "output_type": "execute_result",
     "data": {
      "text/plain": [
       "(2537, 7)"
      ]
     },
     "metadata": {},
     "execution_count": 4
    }
   ],
   "source": [
    "data.shape"
   ]
  },
  {
   "cell_type": "code",
   "execution_count": 6,
   "metadata": {},
   "outputs": [
    {
     "output_type": "execute_result",
     "data": {
      "text/plain": [
       "                                          Article Title Author Keywords  \\\n",
       "2532                         The Gifted Child in France                   \n",
       "2533                        How i Teach Gifted Children                   \n",
       "2534                        How I Teach Gifted Children                   \n",
       "2535                                President's Message                   \n",
       "2536  The Annual Meeting of NAGC to be Held Jointly ...                   \n",
       "\n",
       "     Abstract  \n",
       "2532           \n",
       "2533           \n",
       "2534           \n",
       "2535           \n",
       "2536           "
      ],
      "text/html": "<div>\n<style scoped>\n    .dataframe tbody tr th:only-of-type {\n        vertical-align: middle;\n    }\n\n    .dataframe tbody tr th {\n        vertical-align: top;\n    }\n\n    .dataframe thead th {\n        text-align: right;\n    }\n</style>\n<table border=\"1\" class=\"dataframe\">\n  <thead>\n    <tr style=\"text-align: right;\">\n      <th></th>\n      <th>Article Title</th>\n      <th>Author Keywords</th>\n      <th>Abstract</th>\n    </tr>\n  </thead>\n  <tbody>\n    <tr>\n      <th>2532</th>\n      <td>The Gifted Child in France</td>\n      <td></td>\n      <td></td>\n    </tr>\n    <tr>\n      <th>2533</th>\n      <td>How i Teach Gifted Children</td>\n      <td></td>\n      <td></td>\n    </tr>\n    <tr>\n      <th>2534</th>\n      <td>How I Teach Gifted Children</td>\n      <td></td>\n      <td></td>\n    </tr>\n    <tr>\n      <th>2535</th>\n      <td>President's Message</td>\n      <td></td>\n      <td></td>\n    </tr>\n    <tr>\n      <th>2536</th>\n      <td>The Annual Meeting of NAGC to be Held Jointly ...</td>\n      <td></td>\n      <td></td>\n    </tr>\n  </tbody>\n</table>\n</div>"
     },
     "metadata": {},
     "execution_count": 6
    }
   ],
   "source": [
    "filtered_data = data.drop(columns=['연번', 'Year', 'Volume', 'Issue'])\n",
    "filtered_data = filtered_data.fillna(' ') #공백으로 바꾸기\n",
    "filtered_data.tail()"
   ]
  },
  {
   "cell_type": "code",
   "execution_count": 7,
   "metadata": {},
   "outputs": [
    {
     "output_type": "execute_result",
     "data": {
      "text/plain": [
       "   no    year                                              title  \\\n",
       "0   1  2021.0  Social–Emotional Characteristics and Adjustmen...   \n",
       "1   2  2021.0  Do Mass Media Shape Stereotypes About Intellec...   \n",
       "2   3  2021.0  College Choice: Considerations for Academicall...   \n",
       "3   4  2021.0  Intellectual Precocity: What Have We Learned S...   \n",
       "4   5  2021.0     Assessing the Scholarly Reach of Terman's Work   \n",
       "\n",
       "                                            eng_full  \n",
       "0  Social–Emotional Characteristics and Adjustmen...  \n",
       "1  Do Mass Media Shape Stereotypes About Intellec...  \n",
       "2  College Choice: Considerations for Academicall...  \n",
       "3  Intellectual Precocity: What Have We Learned S...  \n",
       "4  Assessing the Scholarly Reach of Terman's Work...  "
      ],
      "text/html": "<div>\n<style scoped>\n    .dataframe tbody tr th:only-of-type {\n        vertical-align: middle;\n    }\n\n    .dataframe tbody tr th {\n        vertical-align: top;\n    }\n\n    .dataframe thead th {\n        text-align: right;\n    }\n</style>\n<table border=\"1\" class=\"dataframe\">\n  <thead>\n    <tr style=\"text-align: right;\">\n      <th></th>\n      <th>no</th>\n      <th>year</th>\n      <th>title</th>\n      <th>eng_full</th>\n    </tr>\n  </thead>\n  <tbody>\n    <tr>\n      <th>0</th>\n      <td>1</td>\n      <td>2021.0</td>\n      <td>Social–Emotional Characteristics and Adjustmen...</td>\n      <td>Social–Emotional Characteristics and Adjustmen...</td>\n    </tr>\n    <tr>\n      <th>1</th>\n      <td>2</td>\n      <td>2021.0</td>\n      <td>Do Mass Media Shape Stereotypes About Intellec...</td>\n      <td>Do Mass Media Shape Stereotypes About Intellec...</td>\n    </tr>\n    <tr>\n      <th>2</th>\n      <td>3</td>\n      <td>2021.0</td>\n      <td>College Choice: Considerations for Academicall...</td>\n      <td>College Choice: Considerations for Academicall...</td>\n    </tr>\n    <tr>\n      <th>3</th>\n      <td>4</td>\n      <td>2021.0</td>\n      <td>Intellectual Precocity: What Have We Learned S...</td>\n      <td>Intellectual Precocity: What Have We Learned S...</td>\n    </tr>\n    <tr>\n      <th>4</th>\n      <td>5</td>\n      <td>2021.0</td>\n      <td>Assessing the Scholarly Reach of Terman's Work</td>\n      <td>Assessing the Scholarly Reach of Terman's Work...</td>\n    </tr>\n  </tbody>\n</table>\n</div>"
     },
     "metadata": {},
     "execution_count": 7
    }
   ],
   "source": [
    "# 논문명 + 키워드 + 초록\n",
    "final_data = data.drop(columns=['Volume', 'Issue', 'Author Keywords', 'Abstract'])\n",
    "final_data.columns = ['no', 'year', 'title']\n",
    "final_data['eng_full'] = filtered_data['Article Title'] + \" \" + filtered_data['Author Keywords'] + \" \" + filtered_data['Abstract']\n",
    "\n",
    "final_data.head()"
   ]
  },
  {
   "cell_type": "code",
   "execution_count": 8,
   "metadata": {},
   "outputs": [
    {
     "output_type": "execute_result",
     "data": {
      "text/plain": [
       "   no    year                                              title  \\\n",
       "0   1  2021.0  Social–Emotional Characteristics and Adjustmen...   \n",
       "1   2  2021.0  Do Mass Media Shape Stereotypes About Intellec...   \n",
       "2   3  2021.0  College Choice: Considerations for Academicall...   \n",
       "3   4  2021.0  Intellectual Precocity: What Have We Learned S...   \n",
       "4   5  2021.0     Assessing the Scholarly Reach of Terman's Work   \n",
       "\n",
       "                                            eng_full  \n",
       "0  Social–Emotional Characteristics and Adjustmen...  \n",
       "1  Do Mass Media Shape Stereotypes About Intellec...  \n",
       "2  College Choice: Considerations for Academicall...  \n",
       "3  Intellectual Precocity: What Have We Learned S...  \n",
       "4  Assessing the Scholarly Reach of Terman's Work...  "
      ],
      "text/html": "<div>\n<style scoped>\n    .dataframe tbody tr th:only-of-type {\n        vertical-align: middle;\n    }\n\n    .dataframe tbody tr th {\n        vertical-align: top;\n    }\n\n    .dataframe thead th {\n        text-align: right;\n    }\n</style>\n<table border=\"1\" class=\"dataframe\">\n  <thead>\n    <tr style=\"text-align: right;\">\n      <th></th>\n      <th>no</th>\n      <th>year</th>\n      <th>title</th>\n      <th>eng_full</th>\n    </tr>\n  </thead>\n  <tbody>\n    <tr>\n      <th>0</th>\n      <td>1</td>\n      <td>2021.0</td>\n      <td>Social–Emotional Characteristics and Adjustmen...</td>\n      <td>Social–Emotional Characteristics and Adjustmen...</td>\n    </tr>\n    <tr>\n      <th>1</th>\n      <td>2</td>\n      <td>2021.0</td>\n      <td>Do Mass Media Shape Stereotypes About Intellec...</td>\n      <td>Do Mass Media Shape Stereotypes About Intellec...</td>\n    </tr>\n    <tr>\n      <th>2</th>\n      <td>3</td>\n      <td>2021.0</td>\n      <td>College Choice: Considerations for Academicall...</td>\n      <td>College Choice: Considerations for Academicall...</td>\n    </tr>\n    <tr>\n      <th>3</th>\n      <td>4</td>\n      <td>2021.0</td>\n      <td>Intellectual Precocity: What Have We Learned S...</td>\n      <td>Intellectual Precocity: What Have We Learned S...</td>\n    </tr>\n    <tr>\n      <th>4</th>\n      <td>5</td>\n      <td>2021.0</td>\n      <td>Assessing the Scholarly Reach of Terman's Work</td>\n      <td>Assessing the Scholarly Reach of Terman's Work...</td>\n    </tr>\n  </tbody>\n</table>\n</div>"
     },
     "metadata": {},
     "execution_count": 8
    }
   ],
   "source": [
    "final_data = final_data.reset_index(drop = True)\n",
    "final_data.head()"
   ]
  },
  {
   "cell_type": "code",
   "execution_count": 9,
   "metadata": {},
   "outputs": [
    {
     "output_type": "execute_result",
     "data": {
      "text/plain": [
       "(2537, 4)"
      ]
     },
     "metadata": {},
     "execution_count": 9
    }
   ],
   "source": [
    "final_data.shape"
   ]
  },
  {
   "cell_type": "code",
   "execution_count": 10,
   "metadata": {},
   "outputs": [],
   "source": [
    "final_data.to_csv('./modi_data/eng_full.csv', index=False)"
   ]
  },
  {
   "cell_type": "code",
   "execution_count": 11,
   "metadata": {},
   "outputs": [
    {
     "output_type": "stream",
     "name": "stdout",
     "text": [
      "===finish====\n"
     ]
    }
   ],
   "source": [
    "# 연도별 저장\n",
    "df = pd.DataFrame()\n",
    "\n",
    "for i in range(1957, 2022):\n",
    "    for j in range(len(final_data)):\n",
    "        if final_data.loc[j, 'year'] == int(i):\n",
    "            df = df.append(final_data.loc[j])\n",
    "            #print(final_data.loc[j])\n",
    "    #if not df.empty: print(df)\n",
    "    if not df.empty: df.to_csv('./modi_data/eng_' + str(i) + '.csv', index=False)\n",
    "    df = pd.DataFrame()\n",
    "print(\"===finish====\")"
   ]
  },
  {
   "cell_type": "code",
   "execution_count": null,
   "metadata": {},
   "outputs": [],
   "source": []
  }
 ]
}