{
 "cells": [
  {
   "cell_type": "code",
   "execution_count": 1,
   "metadata": {},
   "outputs": [],
   "source": [
    "import pandas as pd\n",
    "import numpy as np\n",
    "from konlpy.tag import Okt\n",
    "import gensim\n",
    "import pyLDAvis.gensim\n",
    "import numpy as np\n",
    "import logging\n",
    "from gensim.models.coherencemodel import CoherenceModel\n",
    "import matplotlib.pyplot as plt\n",
    "import time\n",
    "from pprint import pprint"
   ]
  },
  {
   "cell_type": "code",
   "execution_count": 2,
   "metadata": {},
   "outputs": [],
   "source": [
    "data = pd.read_csv(\"./absconfull.csv\") ############\n",
    "data = data.drop(data.index[50:]) ###################### decrease size\n",
    "data = data.drop(['Unnamed: 0'], axis=1)\n",
    "#print(data)"
   ]
  },
  {
   "cell_type": "code",
   "execution_count": 4,
   "metadata": {},
   "outputs": [
    {
     "name": "stderr",
     "output_type": "stream",
     "text": [
      "C:\\Users\\uni61\\anaconda3\\lib\\site-packages\\xlrd\\xlsx.py:266: DeprecationWarning: This method will be removed in future versions.  Use 'tree.iter()' or 'list(tree.iter())' instead.\n",
      "  for elem in self.tree.iter() if Element_has_iter else self.tree.getiterator():\n",
      "C:\\Users\\uni61\\anaconda3\\lib\\site-packages\\xlrd\\xlsx.py:312: DeprecationWarning: This method will be removed in future versions.  Use 'tree.iter()' or 'list(tree.iter())' instead.\n",
      "  for elem in self.tree.iter() if Element_has_iter else self.tree.getiterator():\n",
      "C:\\Users\\uni61\\anaconda3\\lib\\site-packages\\xlrd\\xlsx.py:266: DeprecationWarning: This method will be removed in future versions.  Use 'tree.iter()' or 'list(tree.iter())' instead.\n",
      "  for elem in self.tree.iter() if Element_has_iter else self.tree.getiterator():\n"
     ]
    }
   ],
   "source": [
    "dfWordList = pd.read_excel(\"./word_cor.xlsx\")\n",
    "#print(dfWordList)\n",
    "\n",
    "dfWordDel = dfWordList[dfWordList[\"수정\"] == \"삭제\"]\n",
    "dfWordMod = dfWordList[dfWordList[\"수정\"] != \"삭제\"]\n",
    "#print(dfWordMod)\n",
    "\n",
    "seriesDelete = dfWordDel[\"원본\"]\n",
    "stopword = []\n",
    "for word in seriesDelete.values:\n",
    "    stopword.append(word)\n",
    "#print(listDelete)\n",
    "\n",
    "seriesModify = dfWordMod[\"원본\"]\n",
    "modiword = []\n",
    "for word in seriesModify.values:\n",
    "    modiword.append(word)\n",
    "#print(len(modiword))\n",
    "\n",
    "seriesModify2 = dfWordMod[\"수정\"]\n",
    "modiword2 = []\n",
    "for word in seriesModify2.values:\n",
    "    modiword2.append(word)\n",
    "#print(len(modiword2))"
   ]
  },
  {
   "cell_type": "code",
   "execution_count": 5,
   "metadata": {},
   "outputs": [],
   "source": [
    "okt = Okt()\n",
    "def oktTokenizer(raw, stopword=stopword, pos=['Noun', 'Alpha']):\n",
    "    list = []\n",
    "    for word, tag in okt.pos(raw, #raw data\n",
    "                                 norm=True, #normalize\n",
    "                                 stem=True #stemming\n",
    "                                 ):\n",
    "        if len(word) > 1 and tag in pos and word not in stopword: \n",
    "            if tag == 'Alpha':\n",
    "                word = word.lower()\n",
    "            if word in modiword:\n",
    "                word = modiword2[modiword.index(word)]\n",
    "            list.append(word)        \n",
    "    return list"
   ]
  },
  {
   "cell_type": "code",
   "execution_count": 6,
   "metadata": {},
   "outputs": [
    {
     "name": "stderr",
     "output_type": "stream",
     "text": [
      "<>:3: DeprecationWarning: invalid escape sequence \\P\n",
      "<>:3: DeprecationWarning: invalid escape sequence \\P\n",
      "<ipython-input-6-6cc9197821c5>:3: DeprecationWarning: invalid escape sequence \\P\n",
      "  tokenized.to_excel(\"C:\\\\Users\\\\uni61\\PycharmProjects/untitled1/0911token_full.xls\") ##############\n"
     ]
    },
    {
     "name": "stdout",
     "output_type": "stream",
     "text": [
      "========= tokenization completed =========\n"
     ]
    }
   ],
   "source": [
    "tokenized = data[\"abscon\"].apply(lambda row: oktTokenizer(row))\n",
    "#print(tokenized)\n",
    "tokenized.to_excel(\"C:\\\\Users\\\\uni61\\PycharmProjects/untitled1/0911token_full.xls\") ##############\n",
    "print(\"========= tokenization completed =========\")"
   ]
  },
  {
   "cell_type": "code",
   "execution_count": 7,
   "metadata": {},
   "outputs": [
    {
     "name": "stdout",
     "output_type": "stream",
     "text": [
      "# words in total :  1892\n",
      "# documents :  50\n"
     ]
    },
    {
     "name": "stderr",
     "output_type": "stream",
     "text": [
      "<>:10: DeprecationWarning: invalid escape sequence \\P\n",
      "<ipython-input-7-f18c7f957595>:10: DeprecationWarning: invalid escape sequence \\P\n",
      "  seriesWordlist.to_excel(\"C:\\\\Users\\\\uni61\\PycharmProjects/untitled1/0911wordlist_full.xls\") #################\n"
     ]
    }
   ],
   "source": [
    "#lda\n",
    "id2word = gensim.corpora.Dictionary(tokenized)\n",
    "\n",
    "wordlist = []\n",
    "for i in range(len(id2word)):\n",
    "    #print(id2word[i])\n",
    "    wordlist.append(id2word[i])\n",
    "#print(wordlist)\n",
    "seriesWordlist = pd.Series(wordlist)\n",
    "seriesWordlist.to_excel(\"C:\\\\Users\\\\uni61\\PycharmProjects/untitled1/0911wordlist_full.xls\") #################\n",
    "\n",
    "corpus=[id2word.doc2bow(text) for text in tokenized]\n",
    "#print(\"id2word for each document : \", corpus)\n",
    "print(\"# words in total : \", len(id2word))\n",
    "print(\"# documents : \", len(corpus))"
   ]
  },
  {
   "cell_type": "code",
   "execution_count": 9,
   "metadata": {},
   "outputs": [],
   "source": [
    "def compute_coherence_values(dictionary, corpus, texts, limit, start=2, step=1):\n",
    "    \"\"\"\n",
    "    Compute c_v coherence for various number of topics\n",
    "\n",
    "    Parameters:\n",
    "    ----------\n",
    "    dictionary : Gensim dictionary\n",
    "    corpus : Gensim corpus\n",
    "    texts : List of input texts\n",
    "    limit : Max num of topics\n",
    "\n",
    "    Returns:\n",
    "    -------\n",
    "    model_list : List of LDA topic models\n",
    "    coherence_values : Coherence values corresponding to the LDA model with respective number of topics\n",
    "    \"\"\"\n",
    "    perplexity_values = []\n",
    "    coherence_values = []\n",
    "    model_list = []\n",
    "    for num_topics in range(start, limit, step):\n",
    "        print(num_topics)\n",
    "        model = gensim.models.ldamodel.LdaModel(corpus=corpus,\n",
    "                                                id2word=id2word,\n",
    "                                                num_topics=num_topics,\n",
    "                                                random_state=100,\n",
    "                                                update_every=1,\n",
    "                                                iterations=1000,\n",
    "                                                chunksize=100,\n",
    "                                                passes=10,\n",
    "                                                alpha='auto',\n",
    "                                                eta='auto',\n",
    "                                                per_word_topics=True)\n",
    "        model_list.append(model)\n",
    "        perplexitymodel = model.log_perplexity(corpus)\n",
    "        perplexity_values.append(perplexitymodel)\n",
    "        coherencemodel = CoherenceModel(model=model,\n",
    "                                        texts=texts,\n",
    "                                        dictionary=dictionary,\n",
    "                                        coherence='c_v')\n",
    "        coherence_values.append(coherencemodel.get_coherence())\n",
    "    return model_list, perplexity_values, coherence_values"
   ]
  },
  {
   "cell_type": "code",
   "execution_count": 10,
   "metadata": {},
   "outputs": [
    {
     "name": "stdout",
     "output_type": "stream",
     "text": [
      "2\n",
      "3\n",
      "4\n",
      "5\n",
      "6\n",
      "7\n",
      "8\n",
      "9\n"
     ]
    }
   ],
   "source": [
    "#start = time.time()\n",
    "model_list, perplexity_values, coherence_values = compute_coherence_values(dictionary=id2word,\n",
    "                                                        corpus=corpus,\n",
    "                                                        texts=tokenized,\n",
    "                                                        start=2,\n",
    "                                                        limit=10, #####\n",
    "                                                        step=1)\n",
    "#print(\"time : \", ( time.time() - start )/60, \"min\")"
   ]
  },
  {
   "cell_type": "code",
   "execution_count": 11,
   "metadata": {},
   "outputs": [
    {
     "data": {
      "image/png": "[encoded data removed]",
      "text/plain": [
       "<Figure size 720x720 with 2 Axes>"
      ]
     },
     "metadata": {
      "needs_background": "light"
     },
     "output_type": "display_data"
    }
   ],
   "source": [
    "limit=10 ######\n",
    "start=2\n",
    "step=1\n",
    "x = range(start, limit, step)\n",
    "\n",
    "\n",
    "fig, ax = plt.subplots(2,1, figsize=(10, 10))\n",
    "\n",
    "ax[0].plot(x, perplexity_values, marker='o')\n",
    "ax[0].set_xlabel(\"Number of Topics\")\n",
    "ax[0].set_ylabel(\"Perplexity\")\n",
    "ax[0].legend((\"perplexity\"), loc='best')\n",
    "\n",
    "ax[1].plot(x, coherence_values, marker='o')\n",
    "ax[1].set_xlabel(\"Number of Topics\")\n",
    "ax[1].set_ylabel(\"Coherence score\")\n",
    "ax[1].legend((\"coherence_values\"), loc='best')\n",
    "plt.show()"
   ]
  },
  {
   "cell_type": "code",
   "execution_count": 12,
   "metadata": {},
   "outputs": [
    {
     "name": "stdout",
     "output_type": "stream",
     "text": [
      "Num Topics = 2  has Perplexity Value of -6.5044\n",
      "Num Topics = 3  has Perplexity Value of -6.485\n",
      "Num Topics = 4  has Perplexity Value of -6.4783\n",
      "Num Topics = 5  has Perplexity Value of -6.4525\n",
      "Num Topics = 6  has Perplexity Value of -6.4511\n",
      "Num Topics = 7  has Perplexity Value of -6.449\n",
      "Num Topics = 8  has Perplexity Value of -6.4539\n",
      "Num Topics = 9  has Perplexity Value of -6.4382\n",
      "Num Topics = 2  has Coherence Value of 0.2444\n",
      "Num Topics = 3  has Coherence Value of 0.2476\n",
      "Num Topics = 4  has Coherence Value of 0.239\n",
      "Num Topics = 5  has Coherence Value of 0.2919\n",
      "Num Topics = 6  has Coherence Value of 0.2762\n",
      "Num Topics = 7  has Coherence Value of 0.2725\n",
      "Num Topics = 8  has Coherence Value of 0.2774\n",
      "Num Topics = 9  has Coherence Value of 0.3006\n"
     ]
    }
   ],
   "source": [
    "for m, pv in zip(x, perplexity_values):\n",
    "  print(\"Num Topics =\", m, \" has Perplexity Value of\", round(pv, 4))\n",
    "\n",
    "for m, cv in zip(x, coherence_values):\n",
    "  print(\"Num Topics =\", m, \" has Coherence Value of\", round(cv, 4))"
   ]
  },
  {
   "cell_type": "code",
   "execution_count": 14,
   "metadata": {},
   "outputs": [
    {
     "name": "stdin",
     "output_type": "stream",
     "text": [
      "set the number of topics  9\n"
     ]
    },
    {
     "name": "stdout",
     "output_type": "stream",
     "text": [
      "[(0,\n",
      "  '0.029*\"시스템\" + 0.025*\"교육\" + 0.024*\"설계\" + 0.021*\"교수\" + 0.015*\"개발\" + '\n",
      "  '0.015*\"윤리\" + 0.015*\"의료\" + 0.013*\"학습자\" + 0.013*\"설명\" + 0.012*\"연구\" + '\n",
      "  '0.010*\"이론\" + 0.010*\"학습\" + 0.009*\"관련\" + 0.009*\"정보\" + 0.008*\"인성\" + 0.008*\"작업\" '\n",
      "  '+ 0.008*\"방법\" + 0.008*\"기법\" + 0.007*\"제공\" + 0.007*\"활용\" + 0.007*\"기능\" + '\n",
      "  '0.006*\"지식\" + 0.006*\"자료\" + 0.006*\"문제\" + 0.006*\"자동화\" + 0.006*\"구조\" + '\n",
      "  '0.006*\"구현\" + 0.005*\"설문\" + 0.005*\"서비스\" + 0.005*\"분야\"'),\n",
      " (1,\n",
      "  '0.040*\"학습\" + 0.025*\"교육\" + 0.018*\"학생\" + 0.016*\"학습자\" + 0.012*\"정보\" + '\n",
      "  '0.011*\"코스웨어\" + 0.010*\"활용\" + 0.010*\"교수\" + 0.010*\"연구\" + 0.010*\"논문\" + '\n",
      "  '0.009*\"자료\" + 0.008*\"시뮬레이션\" + 0.008*\"구성\" + 0.008*\"사용\" + 0.008*\"상호작용\" + '\n",
      "  '0.008*\"구현\" + 0.008*\"통합\" + 0.008*\"참여\" + 0.007*\"기능\" + 0.007*\"설계\" + 0.007*\"대학\" '\n",
      "  '+ 0.007*\"토론\" + 0.007*\"wbi\" + 0.006*\"제공\" + 0.006*\"개발\" + 0.006*\"사이버\" + '\n",
      "  '0.006*\"컴퓨터\" + 0.006*\"내용\" + 0.006*\"이용\" + 0.006*\"효과\"'),\n",
      " (2,\n",
      "  '0.046*\"교육\" + 0.039*\"학습\" + 0.024*\"가상\" + 0.015*\"연구\" + 0.013*\"시스템\" + '\n",
      "  '0.012*\"학습자\" + 0.011*\"설계\" + 0.010*\"형태\" + 0.009*\"컴퓨터\" + 0.009*\"방법\" + '\n",
      "  '0.009*\"환경\" + 0.009*\"주의\" + 0.009*\"공간\" + 0.008*\"개발\" + 0.008*\"사용자\" + '\n",
      "  '0.008*\"활용\" + 0.008*\"교수설계\" + 0.007*\"학교\" + 0.007*\"원격교육\" + 0.007*\"cmc\" + '\n",
      "  '0.007*\"기술\" + 0.007*\"제시\" + 0.007*\"구축\" + 0.007*\"교과서\" + 0.007*\"교수\" + '\n",
      "  '0.006*\"전자\" + 0.006*\"구성\" + 0.006*\"논문\" + 0.006*\"효과\" + 0.006*\"지원\"'),\n",
      " (3,\n",
      "  '0.045*\"컴퓨터\" + 0.041*\"교육\" + 0.028*\"교육과정\" + 0.017*\"목표\" + 0.016*\"내용\" + '\n",
      "  '0.014*\"교사\" + 0.013*\"메시지\" + 0.013*\"교과\" + 0.011*\"방법\" + 0.011*\"분석\" + '\n",
      "  '0.011*\"관련\" + 0.009*\"활용\" + 0.009*\"연수\" + 0.008*\"제시\" + 0.008*\"에이전트\" + '\n",
      "  '0.008*\"연구\" + 0.007*\"구현\" + 0.007*\"assistant\" + 0.007*\"방안\" + 0.006*\"원격\" + '\n",
      "  '0.006*\"활동\" + 0.006*\"작업\" + 0.006*\"message\" + 0.006*\"정보화\" + 0.006*\"지식\" + '\n",
      "  '0.006*\"별로\" + 0.006*\"개선\" + 0.005*\"학생\" + 0.005*\"학교\" + 0.005*\"환경\"'),\n",
      " (4,\n",
      "  '0.047*\"교육\" + 0.042*\"정보화\" + 0.017*\"소프트웨어\" + 0.014*\"학교\" + 0.012*\"컴퓨터\" + '\n",
      "  '0.012*\"예산\" + 0.012*\"기술\" + 0.011*\"시각\" + 0.009*\"교사\" + 0.008*\"교원\" + 0.008*\"정보\" '\n",
      "  '+ 0.008*\"우리\" + 0.008*\"지원\" + 0.007*\"구축\" + 0.007*\"조직\" + 0.007*\"정치\" + '\n",
      "  '0.007*\"결과\" + 0.006*\"계획\" + 0.006*\"개발\" + 0.006*\"가지\" + 0.006*\"현황\" + 0.006*\"시설\" '\n",
      "  '+ 0.006*\"연구\" + 0.006*\"시스템\" + 0.006*\"리더십\" + 0.005*\"설비\" + 0.005*\"관리\" + '\n",
      "  '0.005*\"하드웨어\" + 0.005*\"정책\" + 0.005*\"요소\"'),\n",
      " (5,\n",
      "  '0.036*\"도입\" + 0.036*\"전자교과서\" + 0.021*\"교육\" + 0.018*\"교사\" + 0.017*\"학교\" + '\n",
      "  '0.013*\"활용\" + 0.012*\"운영\" + 0.012*\"학습\" + 0.012*\"전산\" + 0.011*\"변화\" + 0.011*\"교수\" '\n",
      "  '+ 0.010*\"사회\" + 0.009*\"정보화\" + 0.009*\"개발\" + 0.008*\"요구\" + 0.008*\"문제점\" + '\n",
      "  '0.008*\"정부\" + 0.008*\"자료\" + 0.007*\"문제\" + 0.007*\"탐색\" + 0.007*\"지원\" + 0.007*\"학생\" '\n",
      "  '+ 0.007*\"필요\" + 0.007*\"연구\" + 0.007*\"학내\" + 0.006*\"패러다임\" + 0.005*\"노력\" + '\n",
      "  '0.005*\"효율\" + 0.005*\"방법\" + 0.005*\"수업\"'),\n",
      " (6,\n",
      "  '0.039*\"학습\" + 0.018*\"연구\" + 0.015*\"멀티미디어\" + 0.015*\"시스템\" + 0.012*\"교육\" + '\n",
      "  '0.012*\"수업\" + 0.012*\"학교\" + 0.012*\"구현\" + 0.011*\"이용\" + 0.011*\"활용\" + '\n",
      "  '0.010*\"인터넷\" + 0.010*\"사용\" + 0.009*\"설계\" + 0.009*\"기술\" + 0.008*\"효과\" + '\n",
      "  '0.008*\"토의\" + 0.008*\"분석\" + 0.007*\"집단\" + 0.007*\"학습자\" + 0.007*\"학생\" + '\n",
      "  '0.007*\"결과\" + 0.006*\"제공\" + 0.006*\"주제\" + 0.006*\"컴퓨터\" + 0.006*\"개발\" + '\n",
      "  '0.006*\"요구\" + 0.006*\"구축\" + 0.006*\"자료\" + 0.006*\"환경\" + 0.006*\"수화\"'),\n",
      " (7,\n",
      "  '0.031*\"교사\" + 0.030*\"컴퓨터\" + 0.027*\"교육\" + 0.026*\"연수\" + 0.014*\"학교\" + '\n",
      "  '0.012*\"수업\" + 0.011*\"시스템\" + 0.010*\"활용\" + 0.010*\"운영\" + 0.010*\"개발\" + '\n",
      "  '0.009*\"연구\" + 0.008*\"사용\" + 0.008*\"교실\" + 0.008*\"지원\" + 0.008*\"결과\" + 0.007*\"현장\" '\n",
      "  '+ 0.007*\"정보화\" + 0.007*\"소프트웨어\" + 0.007*\"학생\" + 0.007*\"단체\" + 0.006*\"구성요소\" + '\n",
      "  '0.006*\"문제\" + 0.006*\"소규모\" + 0.006*\"설계\" + 0.006*\"요구\" + 0.005*\"매우\" + '\n",
      "  '0.005*\"교원\" + 0.005*\"진행\" + 0.005*\"구축\" + 0.004*\"내용\"'),\n",
      " (8,\n",
      "  '0.040*\"컴퓨터\" + 0.035*\"교육\" + 0.019*\"교사\" + 0.016*\"학생\" + 0.013*\"개발\" + '\n",
      "  '0.013*\"연구\" + 0.011*\"학교\" + 0.010*\"교재\" + 0.010*\"지식\" + 0.010*\"결과\" + 0.009*\"모델\" '\n",
      "  '+ 0.009*\"aspm\" + 0.008*\"보급\" + 0.008*\"활용\" + 0.008*\"소프트웨어\" + 0.008*\"학습자\" + '\n",
      "  '0.007*\"고등학교\" + 0.007*\"대해\" + 0.007*\"전자\" + 0.007*\"수업\" + 0.006*\"실업계\" + '\n",
      "  '0.006*\"미디어\" + 0.006*\"인문\" + 0.006*\"업무\" + 0.006*\"모델링\" + 0.006*\"데이터베이스\" + '\n",
      "  '0.006*\"사용\" + 0.005*\"학습\" + 0.005*\"조사\" + 0.005*\"분석\"')]\n"
     ]
    }
   ],
   "source": [
    "a = int(input(\"set the number of topics \"))\n",
    "optimal_model = gensim.models.ldamodel.LdaModel(corpus=corpus,\n",
    "                                                id2word=id2word,\n",
    "                                                num_topics=a,\n",
    "                                                random_state=100,\n",
    "                                                update_every=1,\n",
    "                                                iterations=1000,\n",
    "                                                chunksize=100,\n",
    "                                                passes=10,\n",
    "                                                alpha='auto',\n",
    "                                                eta='auto',\n",
    "                                                per_word_topics=True)\n",
    "model_topics = optimal_model.show_topics(formatted=False)\n",
    "pprint(optimal_model.print_topics(num_words=30))"
   ]
  },
  {
   "cell_type": "code",
   "execution_count": 16,
   "metadata": {},
   "outputs": [
    {
     "name": "stdin",
     "output_type": "stream",
     "text": [
      "set the title of html file  lda\n"
     ]
    }
   ],
   "source": [
    "title = input(\"set the title of html file \")\n",
    "vis = pyLDAvis.gensim.prepare(optimal_model, corpus, id2word)\n",
    "pyLDAvis.save_html(vis, title+\".html\")"
   ]
  },
  {
   "cell_type": "code",
   "execution_count": null,
   "metadata": {},
   "outputs": [],
   "source": []
  },
  {
   "cell_type": "code",
   "execution_count": null,
   "metadata": {},
   "outputs": [],
   "source": []
  }
 ],
 "metadata": {
  "kernelspec": {
   "display_name": "Python 3",
   "language": "python",
   "name": "python3"
  },
  "language_info": {
   "codemirror_mode": {
    "name": "ipython",
    "version": 3
   },
   "file_extension": ".py",
   "mimetype": "text/x-python",
   "name": "python",
   "nbconvert_exporter": "python",
   "pygments_lexer": "ipython3",
   "version": "3.8.3"
  }
 },
 "nbformat": 4,
 "nbformat_minor": 4
}
