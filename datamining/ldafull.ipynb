{
 "cells": [
  {
   "cell_type": "code",
   "execution_count": 1,
   "metadata": {},
   "outputs": [],
   "source": [
    "import pandas as pd\n",
    "import numpy as np\n",
    "from konlpy.tag import Okt\n",
    "import gensim\n",
    "import pyLDAvis.gensim\n",
    "import numpy as np\n",
    "import logging\n",
    "from gensim.models.coherencemodel import CoherenceModel\n",
    "import matplotlib.pyplot as plt\n",
    "import time\n",
    "from pprint import pprint"
   ]
  },
  {
   "cell_type": "code",
   "execution_count": 2,
   "metadata": {},
   "outputs": [
    {
     "name": "stdout",
     "output_type": "stream",
     "text": [
      "       no  year                                           kor_full\n",
      "0     137  2002  탐색 알고리즘 교육을 위한 S/W 컴포넌트의 개발 탐색알고리즘교육, 컴퓨터프로그래밍...\n",
      "1     147  2002  프로젝트 학습을 기반으로 하는 ICT 활용 수업 모형의 개발 및 적용 ICT 활용교...\n",
      "2     148  2002  분산 컴퓨팅 환경에서의 웹 교육 컴포넌트 개발과정 모델링 웹기반 교육, 컴포넌트 개...\n",
      "3     149  2002  효과적인 아동용 WBI를 위한 한글 타이포그래피의 가해성 분석과 활용 타이포 그래피...\n",
      "4     150  2002  교수 · 학습 디지털 컨텐트 통합메타데이터 및 개체-관계 모델 설계 교수.학습, 컨...\n",
      "..    ...   ...                                                ...\n",
      "807  1121  2020  R 매핑을 이용한 인공지능의 교육적 활용 탐색 - 국외 문헌 분석을 중심으로 - 인...\n",
      "808  1122  2020  중학교 정보교과에서 짝 프로그래밍이 4Cs 향상에 미치는 영향 짝 프로그래밍, 4C...\n",
      "809  1123  2020  자동 분류 기술을 활용한 온라인 강의 평가 방법 빅 데이터 분석, 온라인 강의 평가...\n",
      "810  1124  2020  인공지능교육 역량 강화를 위한 교원 연수 프로그램과 교사 요구분석 인공지능교육, 교...\n",
      "811  1125  2020  초·중등 현직 교원의 스크래치 활용 교수자료 개발에 대한 경험 분석 : ASSURE...\n",
      "\n",
      "[812 rows x 3 columns]\n"
     ]
    }
   ],
   "source": [
    "data = pd.read_csv(\"./modi_data/kor_full.csv\") ############\n",
    "#data = data.drop(data.index[50:]) ###################### decrease size\n",
    "#data = data.drop(['Unnamed: 0'], axis=1)\n",
    "print(data)"
   ]
  },
  {
   "cell_type": "code",
   "execution_count": 3,
   "metadata": {},
   "outputs": [
    {
     "name": "stderr",
     "output_type": "stream",
     "text": [
      "C:\\Users\\uni61\\anaconda3\\lib\\site-packages\\xlrd\\xlsx.py:266: DeprecationWarning: This method will be removed in future versions.  Use 'tree.iter()' or 'list(tree.iter())' instead.\n",
      "  for elem in self.tree.iter() if Element_has_iter else self.tree.getiterator():\n",
      "C:\\Users\\uni61\\anaconda3\\lib\\site-packages\\xlrd\\xlsx.py:312: DeprecationWarning: This method will be removed in future versions.  Use 'tree.iter()' or 'list(tree.iter())' instead.\n",
      "  for elem in self.tree.iter() if Element_has_iter else self.tree.getiterator():\n",
      "C:\\Users\\uni61\\anaconda3\\lib\\site-packages\\xlrd\\xlsx.py:266: DeprecationWarning: This method will be removed in future versions.  Use 'tree.iter()' or 'list(tree.iter())' instead.\n",
      "  for elem in self.tree.iter() if Element_has_iter else self.tree.getiterator():\n"
     ]
    }
   ],
   "source": [
    "dfWordList = pd.read_excel(\"./word_cor.xlsx\")\n",
    "#print(dfWordList)\n",
    "\n",
    "dfWordDel = dfWordList[dfWordList[\"수정\"] == \"삭제\"]\n",
    "dfWordMod = dfWordList[dfWordList[\"수정\"] != \"삭제\"]\n",
    "#print(dfWordMod)\n",
    "\n",
    "seriesDelete = dfWordDel[\"원본\"]\n",
    "stopword = []\n",
    "for word in seriesDelete.values:\n",
    "    stopword.append(word)\n",
    "#print(listDelete)\n",
    "\n",
    "seriesModify = dfWordMod[\"원본\"]\n",
    "modiword = []\n",
    "for word in seriesModify.values:\n",
    "    modiword.append(word)\n",
    "#print(len(modiword))\n",
    "\n",
    "seriesModify2 = dfWordMod[\"수정\"]\n",
    "modiword2 = []\n",
    "for word in seriesModify2.values:\n",
    "    modiword2.append(word)\n",
    "#print(len(modiword2))"
   ]
  },
  {
   "cell_type": "code",
   "execution_count": 4,
   "metadata": {},
   "outputs": [],
   "source": [
    "okt = Okt()\n",
    "def oktTokenizer(raw, stopword=stopword, pos=['Noun', 'Alpha']):\n",
    "    list = []\n",
    "    for word, tag in okt.pos(raw, #raw data\n",
    "                                 norm=True, #normalize\n",
    "                                 stem=True #stemming\n",
    "                                 ):\n",
    "        if len(word) > 1 and tag in pos and word not in stopword: \n",
    "            if tag == 'Alpha':\n",
    "                word = word.lower()\n",
    "            if word in modiword:\n",
    "                word = modiword2[modiword.index(word)]\n",
    "            list.append(word)        \n",
    "    return list"
   ]
  },
  {
   "cell_type": "code",
   "execution_count": 5,
   "metadata": {},
   "outputs": [
    {
     "name": "stdout",
     "output_type": "stream",
     "text": [
      "========= tokenization completed =========\n"
     ]
    }
   ],
   "source": [
    "tokenized = data[\"kor_full\"].apply(lambda row: oktTokenizer(row))\n",
    "#print(tokenized)\n",
    "tokenized.to_excel(\"./final_data/1123token_full.xls\") ##############\n",
    "print(\"========= tokenization completed =========\")"
   ]
  },
  {
   "cell_type": "code",
   "execution_count": 6,
   "metadata": {},
   "outputs": [
    {
     "name": "stdout",
     "output_type": "stream",
     "text": [
      "# words in total :  3854\n",
      "# documents :  812\n"
     ]
    }
   ],
   "source": [
    "#lda\n",
    "id2word = gensim.corpora.Dictionary(tokenized)\n",
    "\n",
    "wordlist = []\n",
    "for i in range(len(id2word)):\n",
    "    #print(id2word[i])\n",
    "    wordlist.append(id2word[i])\n",
    "#print(wordlist)\n",
    "seriesWordlist = pd.Series(wordlist)\n",
    "seriesWordlist.to_excel(\"./final_data/1123wordlist_full.xls\") #################\n",
    "\n",
    "corpus=[id2word.doc2bow(text) for text in tokenized]\n",
    "#print(\"id2word for each document : \", corpus)\n",
    "print(\"# words in total : \", len(id2word))\n",
    "print(\"# documents : \", len(corpus))"
   ]
  },
  {
   "cell_type": "code",
   "execution_count": 7,
   "metadata": {},
   "outputs": [],
   "source": [
    "def compute_coherence_values(dictionary, corpus, texts, limit, start=2, step=1):\n",
    "    \"\"\"\n",
    "    Compute c_v coherence for various number of topics\n",
    "\n",
    "    Parameters:\n",
    "    ----------\n",
    "    dictionary : Gensim dictionary\n",
    "    corpus : Gensim corpus\n",
    "    texts : List of input texts\n",
    "    limit : Max num of topics\n",
    "\n",
    "    Returns:\n",
    "    -------\n",
    "    model_list : List of LDA topic models\n",
    "    coherence_values : Coherence values corresponding to the LDA model with respective number of topics\n",
    "    \"\"\"\n",
    "    perplexity_values = []\n",
    "    coherence_values = []\n",
    "    model_list = []\n",
    "    for num_topics in range(start, limit, step):\n",
    "        print(num_topics)\n",
    "        model = gensim.models.ldamodel.LdaModel(corpus=corpus,\n",
    "                                                id2word=id2word,\n",
    "                                                num_topics=num_topics,\n",
    "                                                random_state=100,\n",
    "                                                update_every=1,\n",
    "                                                iterations=1000,\n",
    "                                                chunksize=100,\n",
    "                                                passes=10,\n",
    "                                                alpha='auto',\n",
    "                                                eta='auto',\n",
    "                                                per_word_topics=True)\n",
    "        model_list.append(model)\n",
    "        perplexitymodel = model.log_perplexity(corpus)\n",
    "        perplexity_values.append(perplexitymodel)\n",
    "        coherencemodel = CoherenceModel(model=model,\n",
    "                                        texts=texts,\n",
    "                                        dictionary=dictionary,\n",
    "                                        coherence='c_v')\n",
    "        coherence_values.append(coherencemodel.get_coherence())\n",
    "    return model_list, perplexity_values, coherence_values"
   ]
  },
  {
   "cell_type": "code",
   "execution_count": 8,
   "metadata": {},
   "outputs": [
    {
     "name": "stdout",
     "output_type": "stream",
     "text": [
      "2\n",
      "3\n",
      "4\n",
      "5\n",
      "6\n",
      "7\n",
      "8\n",
      "9\n",
      "10\n",
      "11\n",
      "12\n"
     ]
    }
   ],
   "source": [
    "#start = time.time()\n",
    "model_list, perplexity_values, coherence_values = compute_coherence_values(dictionary=id2word,\n",
    "                                                        corpus=corpus,\n",
    "                                                        texts=tokenized,\n",
    "                                                        start=2,\n",
    "                                                        limit=31, #####\n",
    "                                                        step=1)\n",
    "#print(\"time : \", ( time.time() - start )/60, \"min\")"
   ]
  },
  {
   "cell_type": "code",
   "execution_count": 10,
   "metadata": {},
   "outputs": [
    {
     "data": {
      "image/png": "[encoded data removed]",
      "text/plain": [
       "<Figure size 720x720 with 2 Axes>"
      ]
     },
     "metadata": {
      "needs_background": "light"
     },
     "output_type": "display_data"
    }
   ],
   "source": [
    "limit=31 ######\n",
    "start=2\n",
    "step=1\n",
    "x = range(start, limit, step)\n",
    "\n",
    "\n",
    "fig, ax = plt.subplots(2,1, figsize=(10, 10))\n",
    "\n",
    "ax[0].plot(x, perplexity_values, marker='o')\n",
    "ax[0].set_xlabel(\"Number of Topics\")\n",
    "ax[0].set_ylabel(\"Perplexity\")\n",
    "ax[0].legend((\"perplexity\"), loc='best')\n",
    "\n",
    "ax[1].plot(x, coherence_values, marker='o')\n",
    "ax[1].set_xlabel(\"Number of Topics\")\n",
    "ax[1].set_ylabel(\"Coherence score\")\n",
    "ax[1].legend((\"coherence_values\"), loc='best')\n",
    "plt.show()"
   ]
  },
  {
   "cell_type": "code",
   "execution_count": 11,
   "metadata": {},
   "outputs": [
    {
     "name": "stdout",
     "output_type": "stream",
     "text": [
      "Num Topics = 2  has Perplexity Value of -6.4773\n",
      "Num Topics = 3  has Perplexity Value of -6.4697\n",
      "Num Topics = 4  has Perplexity Value of -6.4683\n",
      "Num Topics = 5  has Perplexity Value of -6.4667\n",
      "Num Topics = 6  has Perplexity Value of -6.4836\n",
      "Num Topics = 7  has Perplexity Value of -6.4744\n",
      "Num Topics = 8  has Perplexity Value of -6.4825\n",
      "Num Topics = 9  has Perplexity Value of -6.5331\n",
      "Num Topics = 10  has Perplexity Value of -6.6098\n",
      "Num Topics = 11  has Perplexity Value of -6.7261\n",
      "Num Topics = 12  has Perplexity Value of -6.9133\n",
      "Num Topics = 2  has Coherence Value of 0.339\n",
      "Num Topics = 3  has Coherence Value of 0.3687\n",
      "Num Topics = 4  has Coherence Value of 0.3261\n",
      "Num Topics = 5  has Coherence Value of 0.3436\n",
      "Num Topics = 6  has Coherence Value of 0.3372\n",
      "Num Topics = 7  has Coherence Value of 0.3856\n",
      "Num Topics = 8  has Coherence Value of 0.3675\n",
      "Num Topics = 9  has Coherence Value of 0.3611\n",
      "Num Topics = 10  has Coherence Value of 0.3286\n",
      "Num Topics = 11  has Coherence Value of 0.3194\n",
      "Num Topics = 12  has Coherence Value of 0.3599\n"
     ]
    }
   ],
   "source": [
    "for m, pv in zip(x, perplexity_values):\n",
    "  print(\"Num Topics =\", m, \" has Perplexity Value of\", round(pv, 4))\n",
    "\n",
    "for m, cv in zip(x, coherence_values):\n",
    "  print(\"Num Topics =\", m, \" has Coherence Value of\", round(cv, 4))"
   ]
  },
  {
   "cell_type": "code",
   "execution_count": 12,
   "metadata": {},
   "outputs": [
    {
     "name": "stdin",
     "output_type": "stream",
     "text": [
      "set the number of topics  7\n"
     ]
    },
    {
     "name": "stdout",
     "output_type": "stream",
     "text": [
      "[(0,\n",
      "  '0.104*\"교육\" + 0.045*\"인공지능\" + 0.037*\"교육과정\" + 0.029*\"내용\" + 0.025*\"컴퓨터\" + '\n",
      "  '0.024*\"정보\" + 0.017*\"연구\" + 0.014*\"모델\" + 0.014*\"초등학교\" + 0.013*\"제시\" + '\n",
      "  '0.012*\"영역\" + 0.012*\"체계\" + 0.011*\"리터러시\" + 0.011*\"초등\" + 0.010*\"활동\" + '\n",
      "  '0.010*\"cs\" + 0.010*\"교과\" + 0.010*\"과학\" + 0.010*\"디지털\" + 0.010*\"기준\" + '\n",
      "  '0.009*\"언플러그드\" + 0.009*\"자료\" + 0.008*\"교과서\" + 0.008*\"개정\" + 0.008*\"구성\" + '\n",
      "  '0.008*\"개발\" + 0.008*\"창의성\" + 0.008*\"제작\" + 0.007*\"방법\" + 0.007*\"컴퓨터과학\"'),\n",
      " (1,\n",
      "  '0.042*\"스마트\" + 0.028*\"표준\" + 0.027*\"스마트폰\" + 0.024*\"콘텐츠\" + 0.022*\"교육\" + '\n",
      "  '0.019*\"활용\" + 0.018*\"ict\" + 0.017*\"사용\" + 0.016*\"개발\" + 0.016*\"정책\" + '\n",
      "  '0.015*\"소속\" + 0.013*\"국내외\" + 0.012*\"항목\" + 0.011*\"관리\" + 0.009*\"이용\" + '\n",
      "  '0.009*\"학생\" + 0.009*\"sns\" + 0.009*\"동영상\" + 0.008*\"논문\" + 0.008*\"환경\" + '\n",
      "  '0.008*\"도구\" + 0.008*\"제작\" + 0.008*\"모델\" + 0.008*\"pisa\" + 0.007*\"정규\" + '\n",
      "  '0.007*\"가정\" + 0.007*\"실행\" + 0.007*\"아동\" + 0.007*\"지역\" + 0.007*\"기획\"'),\n",
      " (2,\n",
      "  '0.077*\"학습\" + 0.027*\"수업\" + 0.022*\"교수\" + 0.022*\"학습자\" + 0.021*\"연구\" + '\n",
      "  '0.019*\"모형\" + 0.018*\"활용\" + 0.018*\"적용\" + 0.015*\"개발\" + 0.015*\"결과\" + 0.014*\"학생\" '\n",
      "  '+ 0.013*\"효과\" + 0.013*\"방법\" + 0.013*\"설계\" + 0.011*\"프로젝트\" + 0.011*\"활동\" + '\n",
      "  '0.010*\"분석\" + 0.009*\"시스템\" + 0.009*\"유의\" + 0.008*\"중심\" + 0.008*\"평가\" + '\n",
      "  '0.008*\"향상\" + 0.008*\"발문\" + 0.008*\"전략\" + 0.007*\"과정\" + 0.007*\"흥미\" + 0.007*\"현직\" '\n",
      "  '+ 0.007*\"핵심\" + 0.006*\"문제\" + 0.006*\"자기\"'),\n",
      " (3,\n",
      "  '0.039*\"차이\" + 0.029*\"몰입\" + 0.028*\"영향\" + 0.026*\"게임\" + 0.021*\"규명\" + 0.020*\"집단\" '\n",
      "  '+ 0.019*\"통제\" + 0.018*\"점수\" + 0.017*\"분석\" + 0.017*\"의의\" + 0.016*\"디지털교과서\" + '\n",
      "  '0.015*\"변인\" + 0.015*\"인터넷\" + 0.014*\"제기\" + 0.014*\"좌우\" + 0.013*\"중독\" + '\n",
      "  '0.012*\"온라인\" + 0.011*\"관계\" + 0.011*\"사용\" + 0.010*\"학생\" + 0.010*\"초등학생\" + '\n",
      "  '0.010*\"연구\" + 0.009*\"사이버\" + 0.008*\"모든\" + 0.008*\"대학\" + 0.008*\"결과\" + '\n",
      "  '0.008*\"서울시\" + 0.008*\"성별\" + 0.007*\"소재\" + 0.007*\"효과\"'),\n",
      " (4,\n",
      "  '0.090*\"교육\" + 0.048*\"프로그래밍\" + 0.039*\"컴퓨팅\" + 0.037*\"sw\" + 0.037*\"사고력\" + '\n",
      "  '0.032*\"활용\" + 0.031*\"로봇\" + 0.031*\"소프트웨어\" + 0.026*\"연구\" + 0.023*\"프로그램\" + '\n",
      "  '0.017*\"분석\" + 0.017*\"개발\" + 0.016*\"효과\" + 0.013*\"결과\" + 0.013*\"알고리즘\" + '\n",
      "  '0.011*\"도구\" + 0.011*\"스크래치\" + 0.010*\"적용\" + 0.010*\"사고\" + 0.010*\"대상\" + '\n",
      "  '0.009*\"실시\" + 0.009*\"초등학생\" + 0.009*\"검사\" + 0.008*\"언어\" + 0.008*\"문제해결\" + '\n",
      "  '0.008*\"학생\" + 0.008*\"태도\" + 0.008*\"초등학교\" + 0.007*\"교원\" + 0.007*\"융합\"'),\n",
      " (5,\n",
      "  '0.127*\"지능\" + 0.068*\"온라인\" + 0.046*\"민원\" + 0.032*\"서비스\" + 0.026*\"ai\" + '\n",
      "  '0.023*\"효능\" + 0.022*\"기술\" + 0.020*\"데이터\" + 0.016*\"이러닝\" + 0.014*\"차세대\" + '\n",
      "  '0.012*\"자동\" + 0.011*\"영어\" + 0.011*\"시스템\" + 0.010*\"인과\" + 0.010*\"진로\" + '\n",
      "  '0.010*\"모바일\" + 0.010*\"확인\" + 0.009*\"프레임워크\" + 0.007*\"분석\" + 0.007*\"매핑\" + '\n",
      "  '0.007*\"설계\" + 0.007*\"머신\" + 0.007*\"bibliometrix\" + 0.007*\"분야\" + 0.006*\"경우\" + '\n",
      "  '0.006*\"지식\" + 0.006*\"만족도\" + 0.006*\"코드\" + 0.006*\"연구\" + 0.006*\"탐색\"'),\n",
      " (6,\n",
      "  '0.048*\"교육\" + 0.047*\"분석\" + 0.045*\"교사\" + 0.033*\"역량\" + 0.029*\"연구\" + 0.022*\"정보\" '\n",
      "  '+ 0.021*\"평가\" + 0.020*\"결과\" + 0.018*\"인식\" + 0.016*\"활용\" + 0.013*\"능력\" + '\n",
      "  '0.012*\"연수\" + 0.012*\"관련\" + 0.012*\"중등\" + 0.011*\"협업\" + 0.010*\"요인\" + 0.010*\"학교\" '\n",
      "  '+ 0.009*\"대상\" + 0.009*\"예비\" + 0.009*\"예비교사\" + 0.009*\"기초\" + 0.008*\"실시\" + '\n",
      "  '0.008*\"분류\" + 0.008*\"ict\" + 0.008*\"요소\" + 0.008*\"조사\" + 0.008*\"영재\" + '\n",
      "  '0.008*\"협력\" + 0.008*\"학생\" + 0.007*\"비교\"')]\n"
     ]
    }
   ],
   "source": [
    "a = int(input(\"set the number of topics \"))\n",
    "optimal_model = gensim.models.ldamodel.LdaModel(corpus=corpus,\n",
    "                                                id2word=id2word,\n",
    "                                                num_topics=a,\n",
    "                                                random_state=100,\n",
    "                                                update_every=1,\n",
    "                                                iterations=1000,\n",
    "                                                chunksize=100,\n",
    "                                                passes=10,\n",
    "                                                alpha='auto',\n",
    "                                                eta='auto',\n",
    "                                                per_word_topics=True)\n",
    "model_topics = optimal_model.show_topics(formatted=False)\n",
    "pprint(optimal_model.print_topics(num_words=30))"
   ]
  },
  {
   "cell_type": "code",
   "execution_count": 13,
   "metadata": {},
   "outputs": [
    {
     "name": "stdin",
     "output_type": "stream",
     "text": [
      "set the title of html file  test\n"
     ]
    }
   ],
   "source": [
    "title = input(\"set the title of html file \")\n",
    "vis = pyLDAvis.gensim.prepare(optimal_model, corpus, id2word)\n",
    "pyLDAvis.save_html(vis, title+\".html\")"
   ]
  },
  {
   "cell_type": "code",
   "execution_count": 24,
   "metadata": {},
   "outputs": [],
   "source": [
    "# 문서별 토픽 비율\n",
    "def make_topictable_per_doc(ldamodel, corpus):\n",
    "    topic_table = pd.DataFrame()\n",
    "\n",
    "    # 몇 번째 문서인지를 의미하는 문서 번호와 해당 문서의 토픽 비중을 한 줄씩 꺼내온다.\n",
    "    for i, topic_list in enumerate(ldamodel[corpus]):\n",
    "        doc = topic_list[0] if ldamodel.per_word_topics else topic_list\n",
    "        #print(doc)\n",
    "        #print(topic_list)\n",
    "        doc = sorted(doc, key=lambda x: (x[1]), reverse=True)\n",
    "        # 각 문서에 대해서 비중이 높은 토픽순으로 토픽을 정렬한다.\n",
    "        # EX) 정렬 전 0번 문서 : (2번 토픽, 48.5%), (8번 토픽, 25%), (10번 토픽, 5%), (12번 토픽, 21.5%), \n",
    "        # Ex) 정렬 후 0번 문서 : (2번 토픽, 48.5%), (8번 토픽, 25%), (12번 토픽, 21.5%), (10번 토픽, 5%)\n",
    "        # 48 > 25 > 21 > 5 순으로 정렬이 된 것.\n",
    "\n",
    "        # 모든 문서에 대해서 각각 아래를 수행\n",
    "        for j, (topic_num, prop_topic) in enumerate(doc): #  몇 번 토픽인지와 비중을 나눠서 저장한다.\n",
    "            if j == 0:  # 정렬을 한 상태이므로 가장 앞에 있는 것이 가장 비중이 높은 토픽\n",
    "                topic_table = topic_table.append(pd.Series([int(topic_num), round(prop_topic,4), topic_list]), ignore_index=True)\n",
    "                # 가장 비중이 높은 토픽과, 가장 비중이 높은 토픽의 비중과, 전체 토픽의 비중을 저장한다.\n",
    "            else:\n",
    "                break\n",
    "    return(topic_table)"
   ]
  },
  {
   "cell_type": "code",
   "execution_count": 25,
   "metadata": {},
   "outputs": [
    {
     "name": "stdout",
     "output_type": "stream",
     "text": [
      "     문서 번호  가장 비중이 높은 토픽  가장 높은 토픽의 비중  \\\n",
      "0        0           4.0        0.8565   \n",
      "1        1           2.0        0.6811   \n",
      "2        2           4.0        0.6127   \n",
      "3        3           0.0        0.5314   \n",
      "4        4           2.0        0.4584   \n",
      "..     ...           ...           ...   \n",
      "807    807           0.0        0.3562   \n",
      "808    808           4.0        0.4678   \n",
      "809    809           2.0        0.3784   \n",
      "810    810           6.0        0.3112   \n",
      "811    811           2.0        0.5211   \n",
      "\n",
      "                                              각 토픽의 비중  \n",
      "0    ([(0, 0.07037959), (2, 0.02408798), (4, 0.8565...  \n",
      "1    ([(0, 0.06928534), (2, 0.68108), (3, 0.0119127...  \n",
      "2    ([(0, 0.01445057), (1, 0.1458663), (2, 0.12372...  \n",
      "3    ([(0, 0.531351), (1, 0.14915271), (2, 0.168336...  \n",
      "4    ([(0, 0.10114034), (1, 0.14024757), (2, 0.4584...  \n",
      "..                                                 ...  \n",
      "807  ([(0, 0.3561542), (2, 0.066981256), (3, 0.0110...  \n",
      "808  ([(0, 0.1578849), (2, 0.17277624), (3, 0.19130...  \n",
      "809  ([(1, 0.036176607), (2, 0.3784412), (3, 0.0144...  \n",
      "810  ([(0, 0.18859425), (1, 0.026795762), (2, 0.137...  \n",
      "811  ([(0, 0.044818457), (2, 0.5211376), (3, 0.0100...  \n",
      "\n",
      "[812 rows x 4 columns]\n"
     ]
    }
   ],
   "source": [
    "topictable = make_topictable_per_doc(optimal_model, corpus)\n",
    "topictable = topictable.reset_index() # 문서 번호을 의미하는 열(column)로 사용하기 위해서 인덱스 열을 하나 더 만든다.\n",
    "topictable.columns = ['문서 번호', '가장 비중이 높은 토픽', '가장 높은 토픽의 비중', '각 토픽의 비중']\n",
    "print(topictable)"
   ]
  },
  {
   "cell_type": "code",
   "execution_count": 17,
   "metadata": {},
   "outputs": [],
   "source": [
    "topictable.to_excel(\"./final_data/1123doc2topic.xls\")"
   ]
  },
  {
   "cell_type": "code",
   "execution_count": null,
   "metadata": {},
   "outputs": [],
   "source": []
  }
 ],
 "metadata": {
  "kernelspec": {
   "display_name": "Python 3",
   "language": "python",
   "name": "python3"
  },
  "language_info": {
   "codemirror_mode": {
    "name": "ipython",
    "version": 3
   },
   "file_extension": ".py",
   "mimetype": "text/x-python",
   "name": "python",
   "nbconvert_exporter": "python",
   "pygments_lexer": "ipython3",
   "version": "3.8.3"
  }
 },
 "nbformat": 4,
 "nbformat_minor": 4
}