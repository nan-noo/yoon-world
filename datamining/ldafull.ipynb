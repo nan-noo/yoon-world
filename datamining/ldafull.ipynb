{
 "cells": [
  {
   "cell_type": "code",
   "execution_count": 1,
   "metadata": {},
   "outputs": [],
   "source": [
    "import pandas as pd\n",
    "import numpy as np\n",
    "from konlpy.tag import Okt\n",
    "import gensim\n",
    "import pyLDAvis.gensim\n",
    "import numpy as np\n",
    "import logging\n",
    "from gensim.models.coherencemodel import CoherenceModel\n",
    "import matplotlib.pyplot as plt\n",
    "import time\n",
    "from pprint import pprint"
   ]
  },
  {
   "cell_type": "code",
   "execution_count": 3,
   "metadata": {},
   "outputs": [
    {
     "name": "stdout",
     "output_type": "stream",
     "text": [
      "       no  year                                           kor_full\n",
      "0     137  2002  탐색 알고리즘 교육을 위한 S/W 컴포넌트의 개발 탐색알고리즘교육, 컴퓨터프로그래밍...\n",
      "1     147  2002  프로젝트 학습을 기반으로 하는 ICT 활용 수업 모형의 개발 및 적용 ICT 활용교...\n",
      "2     148  2002  분산 컴퓨팅 환경에서의 웹 교육 컴포넌트 개발과정 모델링 웹기반 교육, 컴포넌트 개...\n",
      "3     149  2002  효과적인 아동용 WBI를 위한 한글 타이포그래피의 가해성 분석과 활용 타이포 그래피...\n",
      "4     150  2002  교수 · 학습 디지털 컨텐트 통합메타데이터 및 개체-관계 모델 설계 교수.학습, 컨...\n",
      "..    ...   ...                                                ...\n",
      "807  1121  2020  R 매핑을 이용한 인공지능의 교육적 활용 탐색 - 국외 문헌 분석을 중심으로 - 인...\n",
      "808  1122  2020  중학교 정보교과에서 짝 프로그래밍이 4Cs 향상에 미치는 영향 짝 프로그래밍, 4C...\n",
      "809  1123  2020  자동 분류 기술을 활용한 온라인 강의 평가 방법 빅 데이터 분석, 온라인 강의 평가...\n",
      "810  1124  2020  인공지능교육 역량 강화를 위한 교원 연수 프로그램과 교사 요구분석 인공지능교육, 교...\n",
      "811  1125  2020  초·중등 현직 교원의 스크래치 활용 교수자료 개발에 대한 경험 분석 : ASSURE...\n",
      "\n",
      "[812 rows x 3 columns]\n"
     ]
    }
   ],
   "source": [
    "data = pd.read_csv(\"./modi_data/kor_full.csv\") ############\n",
    "#data = data.drop(data.index[50:]) ###################### decrease size\n",
    "#data = data.drop(['Unnamed: 0'], axis=1)\n",
    "print(data)"
   ]
  },
  {
   "cell_type": "code",
   "execution_count": 4,
   "metadata": {},
   "outputs": [
    {
     "name": "stderr",
     "output_type": "stream",
     "text": [
      "C:\\Users\\uni61\\anaconda3\\lib\\site-packages\\xlrd\\xlsx.py:266: DeprecationWarning: This method will be removed in future versions.  Use 'tree.iter()' or 'list(tree.iter())' instead.\n",
      "  for elem in self.tree.iter() if Element_has_iter else self.tree.getiterator():\n",
      "C:\\Users\\uni61\\anaconda3\\lib\\site-packages\\xlrd\\xlsx.py:312: DeprecationWarning: This method will be removed in future versions.  Use 'tree.iter()' or 'list(tree.iter())' instead.\n",
      "  for elem in self.tree.iter() if Element_has_iter else self.tree.getiterator():\n",
      "C:\\Users\\uni61\\anaconda3\\lib\\site-packages\\xlrd\\xlsx.py:266: DeprecationWarning: This method will be removed in future versions.  Use 'tree.iter()' or 'list(tree.iter())' instead.\n",
      "  for elem in self.tree.iter() if Element_has_iter else self.tree.getiterator():\n"
     ]
    }
   ],
   "source": [
    "dfWordList = pd.read_excel(\"./word_cor.xlsx\")\n",
    "#print(dfWordList)\n",
    "\n",
    "dfWordDel = dfWordList[dfWordList[\"수정\"] == \"삭제\"]\n",
    "dfWordMod = dfWordList[dfWordList[\"수정\"] != \"삭제\"]\n",
    "#print(dfWordMod)\n",
    "\n",
    "seriesDelete = dfWordDel[\"원본\"]\n",
    "stopword = []\n",
    "for word in seriesDelete.values:\n",
    "    stopword.append(word)\n",
    "#print(listDelete)\n",
    "\n",
    "seriesModify = dfWordMod[\"원본\"]\n",
    "modiword = []\n",
    "for word in seriesModify.values:\n",
    "    modiword.append(word)\n",
    "#print(len(modiword))\n",
    "\n",
    "seriesModify2 = dfWordMod[\"수정\"]\n",
    "modiword2 = []\n",
    "for word in seriesModify2.values:\n",
    "    modiword2.append(word)\n",
    "#print(len(modiword2))"
   ]
  },
  {
   "cell_type": "code",
   "execution_count": 5,
   "metadata": {},
   "outputs": [],
   "source": [
    "okt = Okt()\n",
    "def oktTokenizer(raw, stopword=stopword, pos=['Noun', 'Alpha']):\n",
    "    list = []\n",
    "    for word, tag in okt.pos(raw, #raw data\n",
    "                                 norm=True, #normalize\n",
    "                                 stem=True #stemming\n",
    "                                 ):\n",
    "        if len(word) > 1 and tag in pos and word not in stopword: \n",
    "            if tag == 'Alpha':\n",
    "                word = word.lower()\n",
    "            if word in modiword:\n",
    "                word = modiword2[modiword.index(word)]\n",
    "            list.append(word)        \n",
    "    return list"
   ]
  },
  {
   "cell_type": "code",
   "execution_count": 7,
   "metadata": {},
   "outputs": [
    {
     "name": "stdout",
     "output_type": "stream",
     "text": [
      "========= tokenization completed =========\n"
     ]
    }
   ],
   "source": [
    "tokenized = data[\"kor_full\"].apply(lambda row: oktTokenizer(row))\n",
    "#print(tokenized)\n",
    "tokenized.to_excel(\"./final_data/1123token_full.xls\") ##############\n",
    "print(\"========= tokenization completed =========\")"
   ]
  },
  {
   "cell_type": "code",
   "execution_count": 8,
   "metadata": {},
   "outputs": [
    {
     "name": "stdout",
     "output_type": "stream",
     "text": [
      "# words in total :  3854\n",
      "# documents :  812\n"
     ]
    }
   ],
   "source": [
    "#lda\n",
    "id2word = gensim.corpora.Dictionary(tokenized)\n",
    "\n",
    "wordlist = []\n",
    "for i in range(len(id2word)):\n",
    "    #print(id2word[i])\n",
    "    wordlist.append(id2word[i])\n",
    "#print(wordlist)\n",
    "seriesWordlist = pd.Series(wordlist)\n",
    "seriesWordlist.to_excel(\"./final_data/1123wordlist_full.xls\") #################\n",
    "\n",
    "corpus=[id2word.doc2bow(text) for text in tokenized]\n",
    "#print(\"id2word for each document : \", corpus)\n",
    "print(\"# words in total : \", len(id2word))\n",
    "print(\"# documents : \", len(corpus))"
   ]
  },
  {
   "cell_type": "code",
   "execution_count": 9,
   "metadata": {},
   "outputs": [],
   "source": [
    "def compute_coherence_values(dictionary, corpus, texts, limit, start=2, step=1):\n",
    "    \"\"\"\n",
    "    Compute c_v coherence for various number of topics\n",
    "\n",
    "    Parameters:\n",
    "    ----------\n",
    "    dictionary : Gensim dictionary\n",
    "    corpus : Gensim corpus\n",
    "    texts : List of input texts\n",
    "    limit : Max num of topics\n",
    "\n",
    "    Returns:\n",
    "    -------\n",
    "    model_list : List of LDA topic models\n",
    "    coherence_values : Coherence values corresponding to the LDA model with respective number of topics\n",
    "    \"\"\"\n",
    "    perplexity_values = []\n",
    "    coherence_values = []\n",
    "    model_list = []\n",
    "    for num_topics in range(start, limit, step):\n",
    "        print(num_topics)\n",
    "        model = gensim.models.ldamodel.LdaModel(corpus=corpus,\n",
    "                                                id2word=id2word,\n",
    "                                                num_topics=num_topics,\n",
    "                                                random_state=100,\n",
    "                                                update_every=1,\n",
    "                                                iterations=1000,\n",
    "                                                chunksize=100,\n",
    "                                                passes=10,\n",
    "                                                alpha='auto',\n",
    "                                                eta='auto',\n",
    "                                                per_word_topics=True)\n",
    "        model_list.append(model)\n",
    "        perplexitymodel = model.log_perplexity(corpus)\n",
    "        perplexity_values.append(perplexitymodel)\n",
    "        coherencemodel = CoherenceModel(model=model,\n",
    "                                        texts=texts,\n",
    "                                        dictionary=dictionary,\n",
    "                                        coherence='c_v')\n",
    "        coherence_values.append(coherencemodel.get_coherence())\n",
    "    return model_list, perplexity_values, coherence_values"
   ]
  },
  {
   "cell_type": "code",
   "execution_count": 10,
   "metadata": {},
   "outputs": [
    {
     "name": "stdout",
     "output_type": "stream",
     "text": [
      "2\n",
      "3\n",
      "4\n",
      "5\n",
      "6\n",
      "7\n",
      "8\n",
      "9\n",
      "10\n",
      "11\n",
      "12\n",
      "13\n",
      "14\n",
      "15\n",
      "16\n",
      "17\n",
      "18\n",
      "19\n",
      "20\n",
      "21\n",
      "22\n",
      "23\n",
      "24\n",
      "25\n",
      "26\n",
      "27\n",
      "28\n",
      "29\n",
      "30\n"
     ]
    }
   ],
   "source": [
    "#start = time.time()\n",
    "model_list, perplexity_values, coherence_values = compute_coherence_values(dictionary=id2word,\n",
    "                                                        corpus=corpus,\n",
    "                                                        texts=tokenized,\n",
    "                                                        start=2,\n",
    "                                                        limit=31, #####\n",
    "                                                        step=1)\n",
    "#print(\"time : \", ( time.time() - start )/60, \"min\")"
   ]
  },
  {
   "cell_type": "code",
   "execution_count": 11,
   "metadata": {},
   "outputs": [
    {
     "data": {
      "image/png": "[encoded data removed]",
      "text/plain": [
       "<Figure size 720x720 with 2 Axes>"
      ]
     },
     "metadata": {
      "needs_background": "light"
     },
     "output_type": "display_data"
    }
   ],
   "source": [
    "limit=31 ######\n",
    "start=2\n",
    "step=1\n",
    "x = range(start, limit, step)\n",
    "\n",
    "\n",
    "fig, ax = plt.subplots(2,1, figsize=(10, 10))\n",
    "\n",
    "ax[0].plot(x, perplexity_values, marker='o')\n",
    "ax[0].set_xlabel(\"Number of Topics\")\n",
    "ax[0].set_ylabel(\"Perplexity\")\n",
    "ax[0].legend((\"perplexity\"), loc='best')\n",
    "\n",
    "ax[1].plot(x, coherence_values, marker='o')\n",
    "ax[1].set_xlabel(\"Number of Topics\")\n",
    "ax[1].set_ylabel(\"Coherence score\")\n",
    "ax[1].legend((\"coherence_values\"), loc='best')\n",
    "plt.show()"
   ]
  },
  {
   "cell_type": "code",
   "execution_count": 12,
   "metadata": {},
   "outputs": [
    {
     "name": "stdout",
     "output_type": "stream",
     "text": [
      "Num Topics = 2  has Perplexity Value of -6.4773\n",
      "Num Topics = 3  has Perplexity Value of -6.4697\n",
      "Num Topics = 4  has Perplexity Value of -6.4683\n",
      "Num Topics = 5  has Perplexity Value of -6.4667\n",
      "Num Topics = 6  has Perplexity Value of -6.4836\n",
      "Num Topics = 7  has Perplexity Value of -6.4744\n",
      "Num Topics = 8  has Perplexity Value of -6.4825\n",
      "Num Topics = 9  has Perplexity Value of -6.5331\n",
      "Num Topics = 10  has Perplexity Value of -6.6098\n",
      "Num Topics = 11  has Perplexity Value of -6.7261\n",
      "Num Topics = 12  has Perplexity Value of -6.9133\n",
      "Num Topics = 13  has Perplexity Value of -7.215\n",
      "Num Topics = 14  has Perplexity Value of -7.5669\n",
      "Num Topics = 15  has Perplexity Value of -7.877\n",
      "Num Topics = 16  has Perplexity Value of -8.2433\n",
      "Num Topics = 17  has Perplexity Value of -8.519\n",
      "Num Topics = 18  has Perplexity Value of -8.8059\n",
      "Num Topics = 19  has Perplexity Value of -8.9218\n",
      "Num Topics = 20  has Perplexity Value of -9.0536\n",
      "Num Topics = 21  has Perplexity Value of -9.2041\n",
      "Num Topics = 22  has Perplexity Value of -9.3161\n",
      "Num Topics = 23  has Perplexity Value of -9.4629\n",
      "Num Topics = 24  has Perplexity Value of -9.588\n",
      "Num Topics = 25  has Perplexity Value of -9.729\n",
      "Num Topics = 26  has Perplexity Value of -9.857\n",
      "Num Topics = 27  has Perplexity Value of -10.0002\n",
      "Num Topics = 28  has Perplexity Value of -10.1092\n",
      "Num Topics = 29  has Perplexity Value of -10.2642\n",
      "Num Topics = 30  has Perplexity Value of -10.3772\n",
      "Num Topics = 2  has Coherence Value of 0.339\n",
      "Num Topics = 3  has Coherence Value of 0.3687\n",
      "Num Topics = 4  has Coherence Value of 0.3261\n",
      "Num Topics = 5  has Coherence Value of 0.3436\n",
      "Num Topics = 6  has Coherence Value of 0.3372\n",
      "Num Topics = 7  has Coherence Value of 0.3856\n",
      "Num Topics = 8  has Coherence Value of 0.3675\n",
      "Num Topics = 9  has Coherence Value of 0.3611\n",
      "Num Topics = 10  has Coherence Value of 0.3286\n",
      "Num Topics = 11  has Coherence Value of 0.3194\n",
      "Num Topics = 12  has Coherence Value of 0.3599\n",
      "Num Topics = 13  has Coherence Value of 0.39\n",
      "Num Topics = 14  has Coherence Value of 0.372\n",
      "Num Topics = 15  has Coherence Value of 0.3692\n",
      "Num Topics = 16  has Coherence Value of 0.3358\n",
      "Num Topics = 17  has Coherence Value of 0.3569\n",
      "Num Topics = 18  has Coherence Value of 0.3454\n",
      "Num Topics = 19  has Coherence Value of 0.3366\n",
      "Num Topics = 20  has Coherence Value of 0.362\n",
      "Num Topics = 21  has Coherence Value of 0.35\n",
      "Num Topics = 22  has Coherence Value of 0.3481\n",
      "Num Topics = 23  has Coherence Value of 0.3646\n",
      "Num Topics = 24  has Coherence Value of 0.3661\n",
      "Num Topics = 25  has Coherence Value of 0.3666\n",
      "Num Topics = 26  has Coherence Value of 0.3679\n",
      "Num Topics = 27  has Coherence Value of 0.3447\n",
      "Num Topics = 28  has Coherence Value of 0.3685\n",
      "Num Topics = 29  has Coherence Value of 0.3524\n",
      "Num Topics = 30  has Coherence Value of 0.3759\n"
     ]
    }
   ],
   "source": [
    "for m, pv in zip(x, perplexity_values):\n",
    "  print(\"Num Topics =\", m, \" has Perplexity Value of\", round(pv, 4))\n",
    "\n",
    "for m, cv in zip(x, coherence_values):\n",
    "  print(\"Num Topics =\", m, \" has Coherence Value of\", round(cv, 4))"
   ]
  },
  {
   "cell_type": "code",
   "execution_count": 14,
   "metadata": {},
   "outputs": [
    {
     "name": "stdin",
     "output_type": "stream",
     "text": [
      "set the number of topics  13\n"
     ]
    },
    {
     "name": "stdout",
     "output_type": "stream",
     "text": [
      "[(0,\n",
      "  '0.202*\"프로젝트\" + 0.117*\"ct\" + 0.041*\"폐쇄적\" + 0.041*\"마중\" + 0.040*\"구분\" + '\n",
      "  '0.023*\"세부\" + 0.021*\"평가\" + 0.020*\"질문\" + 0.016*\"체계\" + 0.015*\"커뮤니티\" + '\n",
      "  '0.015*\"논의\" + 0.014*\"운영자\" + 0.014*\"포럼\" + 0.014*\"수행평가\" + 0.013*\"보완\" + '\n",
      "  '0.012*\"준비\" + 0.011*\"운영체제\" + 0.011*\"scratch\" + 0.010*\"훈련\" + 0.009*\"이진\" + '\n",
      "  '0.009*\"증진\" + 0.008*\"dr\" + 0.008*\"자료\" + 0.007*\"교원양성\" + 0.007*\"표현\" + '\n",
      "  '0.006*\"루브릭\" + 0.006*\"강사\" + 0.005*\"원격교육\" + 0.004*\"운영\" + 0.004*\"구성\"'),\n",
      " (1,\n",
      "  '0.102*\"협업\" + 0.089*\"ict\" + 0.073*\"스마트\" + 0.047*\"스마트폰\" + 0.045*\"능력\" + '\n",
      "  '0.040*\"활용\" + 0.029*\"사용\" + 0.027*\"의사소통\" + 0.027*\"정책\" + 0.026*\"학교\" + '\n",
      "  '0.026*\"소속\" + 0.024*\"학생\" + 0.023*\"국내외\" + 0.020*\"제작\" + 0.018*\"교사\" + '\n",
      "  '0.016*\"접근성\" + 0.015*\"동영상\" + 0.013*\"pisa\" + 0.013*\"교재\" + 0.012*\"도구\" + '\n",
      "  '0.011*\"교육청\" + 0.010*\"sns\" + 0.009*\"원격\" + 0.009*\"제어\" + 0.009*\"계산\" + '\n",
      "  '0.008*\"수준\" + 0.007*\"매우\" + 0.007*\"ucc\" + 0.007*\"oecd\" + 0.006*\"자기\"'),\n",
      " (2,\n",
      "  '0.102*\"학습\" + 0.030*\"교수\" + 0.028*\"학습자\" + 0.025*\"모형\" + 0.024*\"연구\" + '\n",
      "  '0.024*\"수업\" + 0.020*\"활용\" + 0.019*\"설계\" + 0.019*\"개발\" + 0.014*\"활동\" + 0.013*\"적용\" '\n",
      "  '+ 0.013*\"결과\" + 0.012*\"학생\" + 0.011*\"효과\" + 0.011*\"전략\" + 0.011*\"방법\" + '\n",
      "  '0.010*\"단계\" + 0.010*\"발문\" + 0.010*\"시스템\" + 0.009*\"과정\" + 0.009*\"현직\" + '\n",
      "  '0.009*\"중심\" + 0.008*\"동기\" + 0.008*\"모든\" + 0.007*\"기술\" + 0.007*\"자기\" + 0.007*\"핵심\" '\n",
      "  '+ 0.007*\"제공\" + 0.006*\"환경\" + 0.006*\"흥미\"'),\n",
      " (3,\n",
      "  '0.087*\"게임\" + 0.049*\"인터넷\" + 0.045*\"학부모\" + 0.042*\"중독\" + 0.031*\"사이버\" + '\n",
      "  '0.025*\"조절\" + 0.024*\"학생\" + 0.022*\"사용\" + 0.021*\"아동\" + 0.021*\"반면\" + 0.021*\"지각\" '\n",
      "  '+ 0.020*\"세계\" + 0.020*\"기능\" + 0.018*\"면담\" + 0.017*\"위험\" + 0.016*\"중학생\" + '\n",
      "  '0.015*\"초등학생\" + 0.015*\"심층\" + 0.015*\"건강\" + 0.013*\"운동\" + 0.012*\"행동\" + '\n",
      "  '0.012*\"상담\" + 0.011*\"프로그램\" + 0.011*\"수가\" + 0.009*\"게임중독\" + 0.009*\"부모\" + '\n",
      "  '0.009*\"개발자\" + 0.008*\"sns\" + 0.008*\"지금\" + 0.008*\"치료\"'),\n",
      " (4,\n",
      "  '0.293*\"로봇\" + 0.083*\"활용\" + 0.065*\"융합\" + 0.037*\"교육\" + 0.032*\"좌우\" + '\n",
      "  '0.031*\"steam\" + 0.026*\"영어\" + 0.017*\"교구\" + 0.016*\"의도\" + 0.016*\"이해도\" + '\n",
      "  '0.015*\"보조\" + 0.014*\"대응\" + 0.013*\"모델링\" + 0.013*\"프린팅\" + 0.013*\"iptv\" + '\n",
      "  '0.013*\"확장\" + 0.012*\"재교육\" + 0.009*\"미국\" + 0.009*\"초등학교\" + 0.009*\"수련\" + '\n",
      "  '0.009*\"프린터\" + 0.008*\"효과\" + 0.007*\"개발\" + 0.007*\"동작\" + 0.006*\"제언\" + '\n",
      "  '0.005*\"플랫폼\" + 0.005*\"교과목\" + 0.004*\"햄스터\" + 0.004*\"인간\" + 0.004*\"유무\"'),\n",
      " (5,\n",
      "  '0.180*\"지능\" + 0.162*\"인공지능\" + 0.079*\"온라인\" + 0.065*\"민원\" + 0.051*\"서비스\" + '\n",
      "  '0.038*\"기술\" + 0.037*\"ai\" + 0.015*\"진로\" + 0.012*\"모바일\" + 0.011*\"태도\" + '\n",
      "  '0.011*\"탐색\" + 0.010*\"국외\" + 0.009*\"머신\" + 0.009*\"bibliometrix\" + 0.009*\"워드\" + '\n",
      "  '0.008*\"코드\" + 0.008*\"learning\" + 0.007*\"직업\" + 0.007*\"기간\" + 0.007*\"pbl\" + '\n",
      "  '0.007*\"수요\" + 0.007*\"대두\" + 0.007*\"편의\" + 0.006*\"유형\" + 0.006*\"인용\" + '\n",
      "  '0.006*\"방향성\" + 0.006*\"성찰\" + 0.005*\"수준\" + 0.005*\"진보\" + 0.005*\"of\"'),\n",
      " (6,\n",
      "  '0.160*\"정보\" + 0.093*\"교육과정\" + 0.055*\"모델\" + 0.032*\"디지털\" + 0.028*\"영재\" + '\n",
      "  '0.026*\"표준\" + 0.025*\"능력\" + 0.023*\"체계\" + 0.021*\"개발\" + 0.019*\"영역\" + 0.017*\"연구\" '\n",
      "  '+ 0.015*\"교과\" + 0.014*\"전문가\" + 0.014*\"요소\" + 0.013*\"내용\" + 0.013*\"발생\" + '\n",
      "  '0.012*\"토대\" + 0.011*\"주제\" + 0.011*\"미래\" + 0.011*\"타당도\" + 0.011*\"하위\" + '\n",
      "  '0.010*\"제안\" + 0.010*\"정보과학\" + 0.010*\"문항\" + 0.010*\"정보화\" + 0.009*\"향후\" + '\n",
      "  '0.009*\"사회\" + 0.008*\"기초\" + 0.008*\"선발\" + 0.008*\"조사\"'),\n",
      " (7,\n",
      "  '0.070*\"평가\" + 0.036*\"분석\" + 0.034*\"데이터\" + 0.031*\"방법\" + 0.019*\"기준\" + '\n",
      "  '0.019*\"강의\" + 0.018*\"시스템\" + 0.017*\"성취\" + 0.017*\"교과\" + 0.016*\"결과\" + '\n",
      "  '0.015*\"과학\" + 0.014*\"통제\" + 0.013*\"유형\" + 0.012*\"교원\" + 0.012*\"제안\" + 0.011*\"적용\" '\n",
      "  '+ 0.011*\"매체\" + 0.011*\"평균\" + 0.011*\"연구\" + 0.011*\"분야\" + 0.010*\"자동\" + '\n",
      "  '0.010*\"조사\" + 0.010*\"기관\" + 0.009*\"인식\" + 0.009*\"활용\" + 0.009*\"기법\" + 0.009*\"그룹\" '\n",
      "  '+ 0.009*\"고등학교\" + 0.009*\"가장\" + 0.009*\"수학\"'),\n",
      " (8,\n",
      "  '0.221*\"교육\" + 0.079*\"소프트웨어\" + 0.047*\"교사\" + 0.043*\"내용\" + 0.033*\"컴퓨터\" + '\n",
      "  '0.022*\"연수\" + 0.019*\"초등학교\" + 0.018*\"현장\" + 0.016*\"자료\" + 0.016*\"개발\" + '\n",
      "  '0.015*\"제시\" + 0.015*\"개정\" + 0.015*\"분석\" + 0.015*\"지식\" + 0.014*\"초등\" + '\n",
      "  '0.013*\"교과서\" + 0.013*\"중심\" + 0.013*\"연구\" + 0.012*\"방안\" + 0.010*\"메이커\" + '\n",
      "  '0.008*\"방식\" + 0.008*\"활동\" + 0.007*\"도입\" + 0.007*\"실과\" + 0.007*\"검정\" + 0.007*\"양성\" '\n",
      "  '+ 0.007*\"과정\" + 0.007*\"논문\" + 0.006*\"인식\" + 0.006*\"개선\"'),\n",
      " (9,\n",
      "  '0.080*\"교육\" + 0.057*\"분석\" + 0.051*\"sw\" + 0.048*\"연구\" + 0.038*\"활용\" + 0.030*\"역량\" '\n",
      "  '+ 0.028*\"결과\" + 0.022*\"대상\" + 0.021*\"실시\" + 0.019*\"차이\" + 0.018*\"영향\" + '\n",
      "  '0.017*\"교사\" + 0.015*\"스크래치\" + 0.015*\"태도\" + 0.015*\"관련\" + 0.013*\"중등\" + '\n",
      "  '0.013*\"유의\" + 0.013*\"사고\" + 0.012*\"수준\" + 0.011*\"요인\" + 0.010*\"인식\" + 0.010*\"학생\" '\n",
      "  '+ 0.009*\"리터러시\" + 0.009*\"예비\" + 0.009*\"예비교사\" + 0.008*\"만족도\" + 0.008*\"학기\" + '\n",
      "  '0.008*\"효과\" + 0.008*\"비교\" + 0.008*\"효능\"'),\n",
      " (10,\n",
      "  '0.066*\"프로그래밍\" + 0.058*\"교육\" + 0.053*\"컴퓨팅\" + 0.050*\"사고력\" + 0.037*\"프로그램\" + '\n",
      "  '0.022*\"적용\" + 0.021*\"효과\" + 0.021*\"연구\" + 0.020*\"개발\" + 0.018*\"알고리즘\" + '\n",
      "  '0.016*\"초등학생\" + 0.016*\"수업\" + 0.015*\"학생\" + 0.015*\"결과\" + 0.014*\"검사\" + '\n",
      "  '0.014*\"도구\" + 0.014*\"초등학교\" + 0.013*\"향상\" + 0.013*\"문제해결\" + 0.012*\"언어\" + '\n",
      "  '0.011*\"활용\" + 0.011*\"실험\" + 0.010*\"통계\" + 0.010*\"집단\" + 0.009*\"사후\" + 0.009*\"논리\" '\n",
      "  '+ 0.009*\"문제\" + 0.009*\"학년\" + 0.009*\"cs\" + 0.009*\"초등\"'),\n",
      " (11,\n",
      "  '0.141*\"몰입\" + 0.084*\"윤리\" + 0.068*\"차세대\" + 0.051*\"인과\" + 0.043*\"프레임워크\" + '\n",
      "  '0.033*\"매핑\" + 0.024*\"자녀\" + 0.022*\"미하\" + 0.019*\"의식\" + 0.019*\"web\" + '\n",
      "  '0.017*\"문화\" + 0.014*\"메이킹\" + 0.014*\"시기\" + 0.013*\"연구자\" + 0.010*\"초등교육\" + '\n",
      "  '0.009*\"맞이\" + 0.008*\"창조\" + 0.008*\"자리\" + 0.007*\"속성\" + 0.006*\"질의\" + 0.006*\"가상\" '\n",
      "  '+ 0.006*\"동의\" + 0.006*\"채팅\" + 0.005*\"균형\" + 0.005*\"추론\" + 0.005*\"응답\" + '\n",
      "  '0.005*\"요소\" + 0.004*\"실감\" + 0.004*\"증강\" + 0.004*\"합성\"'),\n",
      " (12,\n",
      "  '0.112*\"이러닝\" + 0.077*\"콘텐츠\" + 0.068*\"분류\" + 0.051*\"플립\" + 0.050*\"의의\" + '\n",
      "  '0.046*\"디지털교과서\" + 0.038*\"관리\" + 0.033*\"동향\" + 0.026*\"가상현실\" + 0.025*\"빈도\" + '\n",
      "  '0.023*\"빅데이터\" + 0.016*\"에듀넷\" + 0.014*\"시범\" + 0.014*\"분석\" + 0.014*\"기획\" + '\n",
      "  '0.013*\"단어\" + 0.011*\"사이버가정학습\" + 0.011*\"논문\" + 0.010*\"학교\" + 0.009*\"연결\" + '\n",
      "  '0.009*\"다문화\" + 0.008*\"사회\" + 0.008*\"스토리\" + 0.007*\"범주\" + 0.007*\"정립\" + '\n",
      "  '0.006*\"이용\" + 0.006*\"전통\" + 0.006*\"성능\" + 0.006*\"문서\" + 0.006*\"품질\"')]\n"
     ]
    }
   ],
   "source": [
    "a = int(input(\"set the number of topics \"))\n",
    "optimal_model = gensim.models.ldamodel.LdaModel(corpus=corpus,\n",
    "                                                id2word=id2word,\n",
    "                                                num_topics=a,\n",
    "                                                random_state=100,\n",
    "                                                update_every=1,\n",
    "                                                iterations=1000,\n",
    "                                                chunksize=100,\n",
    "                                                passes=10,\n",
    "                                                alpha='auto',\n",
    "                                                eta='auto',\n",
    "                                                per_word_topics=True)\n",
    "model_topics = optimal_model.show_topics(formatted=False)\n",
    "pprint(optimal_model.print_topics(num_words=30))"
   ]
  },
  {
   "cell_type": "code",
   "execution_count": 16,
   "metadata": {},
   "outputs": [
    {
     "name": "stdin",
     "output_type": "stream",
     "text": [
      "set the title of html file  LDA\n"
     ]
    }
   ],
   "source": [
    "title = input(\"set the title of html file \")\n",
    "vis = pyLDAvis.gensim.prepare(optimal_model, corpus, id2word)\n",
    "pyLDAvis.save_html(vis, title+\".html\")"
   ]
  },
  {
   "cell_type": "code",
   "execution_count": null,
   "metadata": {},
   "outputs": [
    {
     "name": "stdout",
     "output_type": "stream",
     "text": [
      "\n",
      "Note: if you're in the IPython notebook, pyLDAvis.show() is not the best command\n",
      "      to use. Consider using pyLDAvis.display(), or pyLDAvis.enable_notebook().\n",
      "      See more information at http://pyLDAvis.github.io/quickstart.html .\n",
      "\n",
      "You must interrupt the kernel to end this command\n",
      "\n",
      "Serving to http://127.0.0.1:8889/    [Ctrl-C to exit]\n"
     ]
    },
    {
     "name": "stderr",
     "output_type": "stream",
     "text": [
      "127.0.0.1 - - [23/Nov/2020 16:41:23] \"GET / HTTP/1.1\" 200 -\n",
      "127.0.0.1 - - [23/Nov/2020 16:41:24] \"GET /LDAvis.css HTTP/1.1\" 200 -\n",
      "127.0.0.1 - - [23/Nov/2020 16:41:24] \"GET /d3.js HTTP/1.1\" 200 -\n",
      "127.0.0.1 - - [23/Nov/2020 16:41:24] \"GET /LDAvis.js HTTP/1.1\" 200 -\n",
      "127.0.0.1 - - [23/Nov/2020 16:41:24] code 404, message Not Found\n",
      "127.0.0.1 - - [23/Nov/2020 16:41:24] \"GET /favicon.ico HTTP/1.1\" 404 -\n"
     ]
    }
   ],
   "source": [
    "pyLDAvis.show(vis)"
   ]
  },
  {
   "cell_type": "code",
   "execution_count": null,
   "metadata": {},
   "outputs": [],
   "source": []
  }
 ],
 "metadata": {
  "kernelspec": {
   "display_name": "Python 3",
   "language": "python",
   "name": "python3"
  },
  "language_info": {
   "codemirror_mode": {
    "name": "ipython",
    "version": 3
   },
   "file_extension": ".py",
   "mimetype": "text/x-python",
   "name": "python",
   "nbconvert_exporter": "python",
   "pygments_lexer": "ipython3",
   "version": "3.8.3"
  }
 },
 "nbformat": 4,
 "nbformat_minor": 4
}
