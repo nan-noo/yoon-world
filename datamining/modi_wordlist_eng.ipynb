{
 "cells": [
  {
   "cell_type": "code",
   "execution_count": 1,
   "metadata": {},
   "outputs": [],
   "source": [
    "import pandas as pd\n",
    "import numpy as np"
   ]
  },
  {
   "cell_type": "code",
   "execution_count": 3,
   "metadata": {},
   "outputs": [
    {
     "output_type": "execute_result",
     "data": {
      "text/plain": [
       "          0 replace  delete\n",
       "0         1     NaN  delete\n",
       "1         2     NaN  delete\n",
       "2        22     NaN  delete\n",
       "3         a     NaN  delete\n",
       "4  academic     NaN     NaN"
      ],
      "text/html": "<div>\n<style scoped>\n    .dataframe tbody tr th:only-of-type {\n        vertical-align: middle;\n    }\n\n    .dataframe tbody tr th {\n        vertical-align: top;\n    }\n\n    .dataframe thead th {\n        text-align: right;\n    }\n</style>\n<table border=\"1\" class=\"dataframe\">\n  <thead>\n    <tr style=\"text-align: right;\">\n      <th></th>\n      <th>0</th>\n      <th>replace</th>\n      <th>delete</th>\n    </tr>\n  </thead>\n  <tbody>\n    <tr>\n      <th>0</th>\n      <td>1</td>\n      <td>NaN</td>\n      <td>delete</td>\n    </tr>\n    <tr>\n      <th>1</th>\n      <td>2</td>\n      <td>NaN</td>\n      <td>delete</td>\n    </tr>\n    <tr>\n      <th>2</th>\n      <td>22</td>\n      <td>NaN</td>\n      <td>delete</td>\n    </tr>\n    <tr>\n      <th>3</th>\n      <td>a</td>\n      <td>NaN</td>\n      <td>delete</td>\n    </tr>\n    <tr>\n      <th>4</th>\n      <td>academic</td>\n      <td>NaN</td>\n      <td>NaN</td>\n    </tr>\n  </tbody>\n</table>\n</div>"
     },
     "metadata": {},
     "execution_count": 3
    }
   ],
   "source": [
    "data = pd.read_excel(\"./wordlist_nltk_yet_modi.xlsx\") ############\n",
    "data = data.drop(['Unnamed: 0'], axis=1)\n",
    "data.head()"
   ]
  },
  {
   "cell_type": "code",
   "execution_count": 9,
   "metadata": {},
   "outputs": [
    {
     "output_type": "execute_result",
     "data": {
      "text/plain": [
       "          word  correction\n",
       "6  accelerated  accelerate"
      ],
      "text/html": "<div>\n<style scoped>\n    .dataframe tbody tr th:only-of-type {\n        vertical-align: middle;\n    }\n\n    .dataframe tbody tr th {\n        vertical-align: top;\n    }\n\n    .dataframe thead th {\n        text-align: right;\n    }\n</style>\n<table border=\"1\" class=\"dataframe\">\n  <thead>\n    <tr style=\"text-align: right;\">\n      <th></th>\n      <th>word</th>\n      <th>correction</th>\n    </tr>\n  </thead>\n  <tbody>\n    <tr>\n      <th>6</th>\n      <td>accelerated</td>\n      <td>accelerate</td>\n    </tr>\n  </tbody>\n</table>\n</div>"
     },
     "metadata": {},
     "execution_count": 9
    }
   ],
   "source": [
    "# 수정사항 없는 값 삭제\n",
    "modi_data = data[data['replace'].notnull()]\n",
    "modi_data = modi_data.drop(columns=['delete'])\n",
    "modi_data.columns = ['word', 'correction']\n",
    "#modi_data.to_excel('./modi_data/modidata_nltk.xlsx', index=False)\n",
    "modi_data.head()"
   ]
  },
  {
   "cell_type": "code",
   "execution_count": 10,
   "metadata": {},
   "outputs": [
    {
     "output_type": "execute_result",
     "data": {
      "text/plain": [
       "  word correction\n",
       "0    1     delete\n",
       "1    2     delete\n",
       "2   22     delete\n",
       "3    a     delete"
      ],
      "text/html": "<div>\n<style scoped>\n    .dataframe tbody tr th:only-of-type {\n        vertical-align: middle;\n    }\n\n    .dataframe tbody tr th {\n        vertical-align: top;\n    }\n\n    .dataframe thead th {\n        text-align: right;\n    }\n</style>\n<table border=\"1\" class=\"dataframe\">\n  <thead>\n    <tr style=\"text-align: right;\">\n      <th></th>\n      <th>word</th>\n      <th>correction</th>\n    </tr>\n  </thead>\n  <tbody>\n    <tr>\n      <th>0</th>\n      <td>1</td>\n      <td>delete</td>\n    </tr>\n    <tr>\n      <th>1</th>\n      <td>2</td>\n      <td>delete</td>\n    </tr>\n    <tr>\n      <th>2</th>\n      <td>22</td>\n      <td>delete</td>\n    </tr>\n    <tr>\n      <th>3</th>\n      <td>a</td>\n      <td>delete</td>\n    </tr>\n  </tbody>\n</table>\n</div>"
     },
     "metadata": {},
     "execution_count": 10
    }
   ],
   "source": [
    "del_data = data[data['delete'].notnull()]\n",
    "del_data = del_data.drop(columns=['replace'])\n",
    "del_data.columns = ['word', 'correction']\n",
    "#del_data.to_excel('./modi_data/deldata_nltk.xlsx', index=False)\n",
    "del_data.head()"
   ]
  },
  {
   "cell_type": "code",
   "execution_count": 12,
   "metadata": {},
   "outputs": [
    {
     "output_type": "execute_result",
     "data": {
      "text/plain": [
       "          word  correction\n",
       "6  accelerated  accelerate\n",
       "0            1      delete\n",
       "1            2      delete\n",
       "2           22      delete\n",
       "3            a      delete"
      ],
      "text/html": "<div>\n<style scoped>\n    .dataframe tbody tr th:only-of-type {\n        vertical-align: middle;\n    }\n\n    .dataframe tbody tr th {\n        vertical-align: top;\n    }\n\n    .dataframe thead th {\n        text-align: right;\n    }\n</style>\n<table border=\"1\" class=\"dataframe\">\n  <thead>\n    <tr style=\"text-align: right;\">\n      <th></th>\n      <th>word</th>\n      <th>correction</th>\n    </tr>\n  </thead>\n  <tbody>\n    <tr>\n      <th>6</th>\n      <td>accelerated</td>\n      <td>accelerate</td>\n    </tr>\n    <tr>\n      <th>0</th>\n      <td>1</td>\n      <td>delete</td>\n    </tr>\n    <tr>\n      <th>1</th>\n      <td>2</td>\n      <td>delete</td>\n    </tr>\n    <tr>\n      <th>2</th>\n      <td>22</td>\n      <td>delete</td>\n    </tr>\n    <tr>\n      <th>3</th>\n      <td>a</td>\n      <td>delete</td>\n    </tr>\n  </tbody>\n</table>\n</div>"
     },
     "metadata": {},
     "execution_count": 12
    }
   ],
   "source": [
    "cor_data = pd.concat([modi_data, del_data])\n",
    "cor_data.to_excel('./modi_data/nltk_word_cor.xlsx')\n",
    "cor_data.head()"
   ]
  },
  {
   "cell_type": "code",
   "execution_count": 7,
   "metadata": {},
   "outputs": [
    {
     "output_type": "execute_result",
     "data": {
      "text/plain": [
       "\"\\netc_data = data[data['비고'].notnull()]\\netc_data = etc_data.drop(columns=['삭제', '변경'])\\netc_data.to_excel('./modi_data/etcdata2.xlsx', index=False)\\netc_data.head()\\n\""
      ]
     },
     "metadata": {},
     "execution_count": 7
    }
   ],
   "source": [
    "\"\"\"\n",
    "etc_data = data[data['비고'].notnull()]\n",
    "etc_data = etc_data.drop(columns=['삭제', '변경'])\n",
    "etc_data.to_excel('./modi_data/etcdata2.xlsx', index=False)\n",
    "etc_data.head()\n",
    "\"\"\""
   ]
  },
  {
   "cell_type": "code",
   "execution_count": null,
   "metadata": {},
   "outputs": [],
   "source": []
  }
 ],
 "metadata": {
  "kernelspec": {
   "name": "python3",
   "display_name": "Python 3.8.2 64-bit",
   "metadata": {
    "interpreter": {
     "hash": "aee8b7b246df8f9039afb4144a1f6fd8d2ca17a180786b69acc140d282b71a49"
    }
   }
  },
  "language_info": {
   "codemirror_mode": {
    "name": "ipython",
    "version": 3
   },
   "file_extension": ".py",
   "mimetype": "text/x-python",
   "name": "python",
   "nbconvert_exporter": "python",
   "pygments_lexer": "ipython3",
   "version": "3.8.2-final"
  }
 },
 "nbformat": 4,
 "nbformat_minor": 4
}