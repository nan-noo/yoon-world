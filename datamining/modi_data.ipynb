{
 "cells": [
  {
   "cell_type": "code",
   "execution_count": 11,
   "metadata": {},
   "outputs": [],
   "source": [
    "import pandas as pd\n",
    "import numpy as np"
   ]
  },
  {
   "cell_type": "code",
   "execution_count": 12,
   "metadata": {},
   "outputs": [
    {
     "output_type": "execute_result",
     "data": {
      "text/plain": [
       "   NO   발행년  권(호)          논문ID                       논문명 키워드(한국어) 국문초록     비고\n",
       "0   1  1997  1(1)  ART002091494         멀티미디어 원격교육에 관한 연구      NaN  NaN  논문 없음\n",
       "1   2  1997  1(1)  ART002091493  교육용 하이퍼미디어 자료 편집기에 관한 연구      NaN  NaN  논문 없음\n",
       "2   3  1997  1(1)  ART002091492     인터넷 기반의 코스웨어의 설계 및 구현      NaN  NaN  논문 없음\n",
       "3   4  1997  1(1)  ART002091491     Web에서의 협력 환경 구축 방안 연구      NaN  NaN  논문 없음\n",
       "4   5  1997  1(1)  ART002091490        열린교육에서의 개별화수업과 CAI      NaN  NaN  논문 없음"
      ],
      "text/html": "<div>\n<style scoped>\n    .dataframe tbody tr th:only-of-type {\n        vertical-align: middle;\n    }\n\n    .dataframe tbody tr th {\n        vertical-align: top;\n    }\n\n    .dataframe thead th {\n        text-align: right;\n    }\n</style>\n<table border=\"1\" class=\"dataframe\">\n  <thead>\n    <tr style=\"text-align: right;\">\n      <th></th>\n      <th>NO</th>\n      <th>발행년</th>\n      <th>권(호)</th>\n      <th>논문ID</th>\n      <th>논문명</th>\n      <th>키워드(한국어)</th>\n      <th>국문초록</th>\n      <th>비고</th>\n    </tr>\n  </thead>\n  <tbody>\n    <tr>\n      <th>0</th>\n      <td>1</td>\n      <td>1997</td>\n      <td>1(1)</td>\n      <td>ART002091494</td>\n      <td>멀티미디어 원격교육에 관한 연구</td>\n      <td>NaN</td>\n      <td>NaN</td>\n      <td>논문 없음</td>\n    </tr>\n    <tr>\n      <th>1</th>\n      <td>2</td>\n      <td>1997</td>\n      <td>1(1)</td>\n      <td>ART002091493</td>\n      <td>교육용 하이퍼미디어 자료 편집기에 관한 연구</td>\n      <td>NaN</td>\n      <td>NaN</td>\n      <td>논문 없음</td>\n    </tr>\n    <tr>\n      <th>2</th>\n      <td>3</td>\n      <td>1997</td>\n      <td>1(1)</td>\n      <td>ART002091492</td>\n      <td>인터넷 기반의 코스웨어의 설계 및 구현</td>\n      <td>NaN</td>\n      <td>NaN</td>\n      <td>논문 없음</td>\n    </tr>\n    <tr>\n      <th>3</th>\n      <td>4</td>\n      <td>1997</td>\n      <td>1(1)</td>\n      <td>ART002091491</td>\n      <td>Web에서의 협력 환경 구축 방안 연구</td>\n      <td>NaN</td>\n      <td>NaN</td>\n      <td>논문 없음</td>\n    </tr>\n    <tr>\n      <th>4</th>\n      <td>5</td>\n      <td>1997</td>\n      <td>1(1)</td>\n      <td>ART002091490</td>\n      <td>열린교육에서의 개별화수업과 CAI</td>\n      <td>NaN</td>\n      <td>NaN</td>\n      <td>논문 없음</td>\n    </tr>\n  </tbody>\n</table>\n</div>"
     },
     "metadata": {},
     "execution_count": 12
    }
   ],
   "source": [
    "data = pd.read_excel(\"./kor_abs_full.xlsx\") ############\n",
    "\n",
    "data.head()"
   ]
  },
  {
   "cell_type": "code",
   "execution_count": 13,
   "metadata": {},
   "outputs": [
    {
     "output_type": "execute_result",
     "data": {
      "text/plain": [
       "   NO   발행년  권(호)          논문ID                       논문명 키워드(한국어) 국문초록     비고\n",
       "0   1  1997  1(1)  ART002091494         멀티미디어 원격교육에 관한 연구      NaN  NaN  논문 없음\n",
       "1   2  1997  1(1)  ART002091493  교육용 하이퍼미디어 자료 편집기에 관한 연구      NaN  NaN  논문 없음\n",
       "2   3  1997  1(1)  ART002091492     인터넷 기반의 코스웨어의 설계 및 구현      NaN  NaN  논문 없음\n",
       "3   4  1997  1(1)  ART002091491     Web에서의 협력 환경 구축 방안 연구      NaN  NaN  논문 없음\n",
       "4   5  1997  1(1)  ART002091490        열린교육에서의 개별화수업과 CAI      NaN  NaN  논문 없음"
      ],
      "text/html": "<div>\n<style scoped>\n    .dataframe tbody tr th:only-of-type {\n        vertical-align: middle;\n    }\n\n    .dataframe tbody tr th {\n        vertical-align: top;\n    }\n\n    .dataframe thead th {\n        text-align: right;\n    }\n</style>\n<table border=\"1\" class=\"dataframe\">\n  <thead>\n    <tr style=\"text-align: right;\">\n      <th></th>\n      <th>NO</th>\n      <th>발행년</th>\n      <th>권(호)</th>\n      <th>논문ID</th>\n      <th>논문명</th>\n      <th>키워드(한국어)</th>\n      <th>국문초록</th>\n      <th>비고</th>\n    </tr>\n  </thead>\n  <tbody>\n    <tr>\n      <th>0</th>\n      <td>1</td>\n      <td>1997</td>\n      <td>1(1)</td>\n      <td>ART002091494</td>\n      <td>멀티미디어 원격교육에 관한 연구</td>\n      <td>NaN</td>\n      <td>NaN</td>\n      <td>논문 없음</td>\n    </tr>\n    <tr>\n      <th>1</th>\n      <td>2</td>\n      <td>1997</td>\n      <td>1(1)</td>\n      <td>ART002091493</td>\n      <td>교육용 하이퍼미디어 자료 편집기에 관한 연구</td>\n      <td>NaN</td>\n      <td>NaN</td>\n      <td>논문 없음</td>\n    </tr>\n    <tr>\n      <th>2</th>\n      <td>3</td>\n      <td>1997</td>\n      <td>1(1)</td>\n      <td>ART002091492</td>\n      <td>인터넷 기반의 코스웨어의 설계 및 구현</td>\n      <td>NaN</td>\n      <td>NaN</td>\n      <td>논문 없음</td>\n    </tr>\n    <tr>\n      <th>3</th>\n      <td>4</td>\n      <td>1997</td>\n      <td>1(1)</td>\n      <td>ART002091491</td>\n      <td>Web에서의 협력 환경 구축 방안 연구</td>\n      <td>NaN</td>\n      <td>NaN</td>\n      <td>논문 없음</td>\n    </tr>\n    <tr>\n      <th>4</th>\n      <td>5</td>\n      <td>1997</td>\n      <td>1(1)</td>\n      <td>ART002091490</td>\n      <td>열린교육에서의 개별화수업과 CAI</td>\n      <td>NaN</td>\n      <td>NaN</td>\n      <td>논문 없음</td>\n    </tr>\n  </tbody>\n</table>\n</div>"
     },
     "metadata": {},
     "execution_count": 13
    }
   ],
   "source": [
    "# 논문명, 키워드, 국문초록이 모두 없는 값 삭제\n",
    "data = data.dropna(subset=['논문명', '키워드(한국어)', '국문초록'], how='all')\n",
    "data.head()"
   ]
  },
  {
   "cell_type": "code",
   "execution_count": 14,
   "metadata": {},
   "outputs": [
    {
     "output_type": "execute_result",
     "data": {
      "text/plain": [
       "(1149, 8)"
      ]
     },
     "metadata": {},
     "execution_count": 14
    }
   ],
   "source": [
    "data.shape"
   ]
  },
  {
   "cell_type": "code",
   "execution_count": 13,
   "metadata": {},
   "outputs": [
    {
     "data": {
      "text/html": [
       "<div>\n",
       "<style scoped>\n",
       "    .dataframe tbody tr th:only-of-type {\n",
       "        vertical-align: middle;\n",
       "    }\n",
       "\n",
       "    .dataframe tbody tr th {\n",
       "        vertical-align: top;\n",
       "    }\n",
       "\n",
       "    .dataframe thead th {\n",
       "        text-align: right;\n",
       "    }\n",
       "</style>\n",
       "<table border=\"1\" class=\"dataframe\">\n",
       "  <thead>\n",
       "    <tr style=\"text-align: right;\">\n",
       "      <th></th>\n",
       "      <th>NO</th>\n",
       "      <th>발행년</th>\n",
       "      <th>권(호)</th>\n",
       "      <th>논문ID</th>\n",
       "      <th>논문명</th>\n",
       "      <th>키워드(한국어)</th>\n",
       "      <th>국문초록</th>\n",
       "      <th>비고</th>\n",
       "    </tr>\n",
       "  </thead>\n",
       "  <tbody>\n",
       "    <tr>\n",
       "      <th>0</th>\n",
       "      <td>1</td>\n",
       "      <td>1997</td>\n",
       "      <td>1(1)</td>\n",
       "      <td>ART002091494</td>\n",
       "      <td>멀티미디어 원격교육에 관한 연구</td>\n",
       "      <td>NaN</td>\n",
       "      <td>NaN</td>\n",
       "      <td>논문 없음</td>\n",
       "    </tr>\n",
       "    <tr>\n",
       "      <th>1</th>\n",
       "      <td>2</td>\n",
       "      <td>1997</td>\n",
       "      <td>1(1)</td>\n",
       "      <td>ART002091493</td>\n",
       "      <td>교육용 하이퍼미디어 자료 편집기에 관한 연구</td>\n",
       "      <td>NaN</td>\n",
       "      <td>NaN</td>\n",
       "      <td>논문 없음</td>\n",
       "    </tr>\n",
       "    <tr>\n",
       "      <th>2</th>\n",
       "      <td>3</td>\n",
       "      <td>1997</td>\n",
       "      <td>1(1)</td>\n",
       "      <td>ART002091492</td>\n",
       "      <td>인터넷 기반의 코스웨어의 설계 및 구현</td>\n",
       "      <td>NaN</td>\n",
       "      <td>NaN</td>\n",
       "      <td>논문 없음</td>\n",
       "    </tr>\n",
       "    <tr>\n",
       "      <th>3</th>\n",
       "      <td>4</td>\n",
       "      <td>1997</td>\n",
       "      <td>1(1)</td>\n",
       "      <td>ART002091491</td>\n",
       "      <td>Web에서의 협력 환경 구축 방안 연구</td>\n",
       "      <td>NaN</td>\n",
       "      <td>NaN</td>\n",
       "      <td>논문 없음</td>\n",
       "    </tr>\n",
       "    <tr>\n",
       "      <th>4</th>\n",
       "      <td>5</td>\n",
       "      <td>1997</td>\n",
       "      <td>1(1)</td>\n",
       "      <td>ART002091490</td>\n",
       "      <td>열린교육에서의 개별화수업과 CAI</td>\n",
       "      <td>NaN</td>\n",
       "      <td>NaN</td>\n",
       "      <td>논문 없음</td>\n",
       "    </tr>\n",
       "  </tbody>\n",
       "</table>\n",
       "</div>"
      ],
      "text/plain": [
       "   NO   발행년  권(호)          논문ID                       논문명 키워드(한국어) 국문초록     비고\n",
       "0   1  1997  1(1)  ART002091494         멀티미디어 원격교육에 관한 연구      NaN  NaN  논문 없음\n",
       "1   2  1997  1(1)  ART002091493  교육용 하이퍼미디어 자료 편집기에 관한 연구      NaN  NaN  논문 없음\n",
       "2   3  1997  1(1)  ART002091492     인터넷 기반의 코스웨어의 설계 및 구현      NaN  NaN  논문 없음\n",
       "3   4  1997  1(1)  ART002091491     Web에서의 협력 환경 구축 방안 연구      NaN  NaN  논문 없음\n",
       "4   5  1997  1(1)  ART002091490        열린교육에서의 개별화수업과 CAI      NaN  NaN  논문 없음"
      ]
     },
     "execution_count": 13,
     "metadata": {},
     "output_type": "execute_result"
    }
   ],
   "source": [
    "# 영문키워드 -> NAN으로\n",
    "for i in range(1135):\n",
    "    if data.loc[i, '비고'] == '영문키워드':\n",
    "        data.loc[i, '키워드(한국어)'] = np.nan\n",
    "data.head()"
   ]
  },
  {
   "cell_type": "code",
   "execution_count": 14,
   "metadata": {},
   "outputs": [
    {
     "data": {
      "text/html": [
       "<div>\n",
       "<style scoped>\n",
       "    .dataframe tbody tr th:only-of-type {\n",
       "        vertical-align: middle;\n",
       "    }\n",
       "\n",
       "    .dataframe tbody tr th {\n",
       "        vertical-align: top;\n",
       "    }\n",
       "\n",
       "    .dataframe thead th {\n",
       "        text-align: right;\n",
       "    }\n",
       "</style>\n",
       "<table border=\"1\" class=\"dataframe\">\n",
       "  <thead>\n",
       "    <tr style=\"text-align: right;\">\n",
       "      <th></th>\n",
       "      <th>논문명</th>\n",
       "      <th>키워드(한국어)</th>\n",
       "      <th>국문초록</th>\n",
       "    </tr>\n",
       "  </thead>\n",
       "  <tbody>\n",
       "    <tr>\n",
       "      <th>0</th>\n",
       "      <td>멀티미디어 원격교육에 관한 연구</td>\n",
       "      <td></td>\n",
       "      <td></td>\n",
       "    </tr>\n",
       "    <tr>\n",
       "      <th>1</th>\n",
       "      <td>교육용 하이퍼미디어 자료 편집기에 관한 연구</td>\n",
       "      <td></td>\n",
       "      <td></td>\n",
       "    </tr>\n",
       "    <tr>\n",
       "      <th>2</th>\n",
       "      <td>인터넷 기반의 코스웨어의 설계 및 구현</td>\n",
       "      <td></td>\n",
       "      <td></td>\n",
       "    </tr>\n",
       "    <tr>\n",
       "      <th>3</th>\n",
       "      <td>Web에서의 협력 환경 구축 방안 연구</td>\n",
       "      <td></td>\n",
       "      <td></td>\n",
       "    </tr>\n",
       "    <tr>\n",
       "      <th>4</th>\n",
       "      <td>열린교육에서의 개별화수업과 CAI</td>\n",
       "      <td></td>\n",
       "      <td></td>\n",
       "    </tr>\n",
       "  </tbody>\n",
       "</table>\n",
       "</div>"
      ],
      "text/plain": [
       "                        논문명 키워드(한국어) 국문초록\n",
       "0         멀티미디어 원격교육에 관한 연구              \n",
       "1  교육용 하이퍼미디어 자료 편집기에 관한 연구              \n",
       "2     인터넷 기반의 코스웨어의 설계 및 구현              \n",
       "3     Web에서의 협력 환경 구축 방안 연구              \n",
       "4        열린교육에서의 개별화수업과 CAI              "
      ]
     },
     "execution_count": 14,
     "metadata": {},
     "output_type": "execute_result"
    }
   ],
   "source": [
    "filtered_data = data.drop(columns=['NO', '발행년', '권(호)', '논문ID', '비고'])\n",
    "filtered_data = filtered_data.fillna(' ') #공백으로 바꾸기\n",
    "filtered_data.head()"
   ]
  },
  {
   "cell_type": "code",
   "execution_count": 15,
   "metadata": {},
   "outputs": [
    {
     "data": {
      "text/html": [
       "<div>\n",
       "<style scoped>\n",
       "    .dataframe tbody tr th:only-of-type {\n",
       "        vertical-align: middle;\n",
       "    }\n",
       "\n",
       "    .dataframe tbody tr th {\n",
       "        vertical-align: top;\n",
       "    }\n",
       "\n",
       "    .dataframe thead th {\n",
       "        text-align: right;\n",
       "    }\n",
       "</style>\n",
       "<table border=\"1\" class=\"dataframe\">\n",
       "  <thead>\n",
       "    <tr style=\"text-align: right;\">\n",
       "      <th></th>\n",
       "      <th>no</th>\n",
       "      <th>year</th>\n",
       "      <th>title</th>\n",
       "      <th>kor_full</th>\n",
       "    </tr>\n",
       "  </thead>\n",
       "  <tbody>\n",
       "    <tr>\n",
       "      <th>0</th>\n",
       "      <td>1</td>\n",
       "      <td>1997</td>\n",
       "      <td>멀티미디어 원격교육에 관한 연구</td>\n",
       "      <td>멀티미디어 원격교육에 관한 연구</td>\n",
       "    </tr>\n",
       "    <tr>\n",
       "      <th>1</th>\n",
       "      <td>2</td>\n",
       "      <td>1997</td>\n",
       "      <td>교육용 하이퍼미디어 자료 편집기에 관한 연구</td>\n",
       "      <td>교육용 하이퍼미디어 자료 편집기에 관한 연구</td>\n",
       "    </tr>\n",
       "    <tr>\n",
       "      <th>2</th>\n",
       "      <td>3</td>\n",
       "      <td>1997</td>\n",
       "      <td>인터넷 기반의 코스웨어의 설계 및 구현</td>\n",
       "      <td>인터넷 기반의 코스웨어의 설계 및 구현</td>\n",
       "    </tr>\n",
       "    <tr>\n",
       "      <th>3</th>\n",
       "      <td>4</td>\n",
       "      <td>1997</td>\n",
       "      <td>Web에서의 협력 환경 구축 방안 연구</td>\n",
       "      <td>Web에서의 협력 환경 구축 방안 연구</td>\n",
       "    </tr>\n",
       "    <tr>\n",
       "      <th>4</th>\n",
       "      <td>5</td>\n",
       "      <td>1997</td>\n",
       "      <td>열린교육에서의 개별화수업과 CAI</td>\n",
       "      <td>열린교육에서의 개별화수업과 CAI</td>\n",
       "    </tr>\n",
       "  </tbody>\n",
       "</table>\n",
       "</div>"
      ],
      "text/plain": [
       "   no  year                     title                      kor_full\n",
       "0   1  1997         멀티미디어 원격교육에 관한 연구         멀티미디어 원격교육에 관한 연구    \n",
       "1   2  1997  교육용 하이퍼미디어 자료 편집기에 관한 연구  교육용 하이퍼미디어 자료 편집기에 관한 연구    \n",
       "2   3  1997     인터넷 기반의 코스웨어의 설계 및 구현     인터넷 기반의 코스웨어의 설계 및 구현    \n",
       "3   4  1997     Web에서의 협력 환경 구축 방안 연구     Web에서의 협력 환경 구축 방안 연구    \n",
       "4   5  1997        열린교육에서의 개별화수업과 CAI        열린교육에서의 개별화수업과 CAI    "
      ]
     },
     "execution_count": 15,
     "metadata": {},
     "output_type": "execute_result"
    }
   ],
   "source": [
    "# 논문명 + 키워드 + 국문초록\n",
    "final_data = data.drop(columns=['권(호)', '논문ID', '키워드(한국어)', '국문초록', '비고'])\n",
    "final_data.columns = ['no', 'year', 'title']\n",
    "final_data['kor_full'] = filtered_data['논문명'] + \" \" + filtered_data['키워드(한국어)'] + \" \" + filtered_data['국문초록']\n",
    "\n",
    "final_data.head()"
   ]
  },
  {
   "cell_type": "code",
   "execution_count": 16,
   "metadata": {},
   "outputs": [
    {
     "data": {
      "text/html": [
       "<div>\n",
       "<style scoped>\n",
       "    .dataframe tbody tr th:only-of-type {\n",
       "        vertical-align: middle;\n",
       "    }\n",
       "\n",
       "    .dataframe tbody tr th {\n",
       "        vertical-align: top;\n",
       "    }\n",
       "\n",
       "    .dataframe thead th {\n",
       "        text-align: right;\n",
       "    }\n",
       "</style>\n",
       "<table border=\"1\" class=\"dataframe\">\n",
       "  <thead>\n",
       "    <tr style=\"text-align: right;\">\n",
       "      <th></th>\n",
       "      <th>no</th>\n",
       "      <th>year</th>\n",
       "      <th>title</th>\n",
       "      <th>kor_full</th>\n",
       "    </tr>\n",
       "  </thead>\n",
       "  <tbody>\n",
       "    <tr>\n",
       "      <th>0</th>\n",
       "      <td>1</td>\n",
       "      <td>1997</td>\n",
       "      <td>멀티미디어 원격교육에 관한 연구</td>\n",
       "      <td>멀티미디어 원격교육에 관한 연구</td>\n",
       "    </tr>\n",
       "    <tr>\n",
       "      <th>1</th>\n",
       "      <td>2</td>\n",
       "      <td>1997</td>\n",
       "      <td>교육용 하이퍼미디어 자료 편집기에 관한 연구</td>\n",
       "      <td>교육용 하이퍼미디어 자료 편집기에 관한 연구</td>\n",
       "    </tr>\n",
       "    <tr>\n",
       "      <th>2</th>\n",
       "      <td>3</td>\n",
       "      <td>1997</td>\n",
       "      <td>인터넷 기반의 코스웨어의 설계 및 구현</td>\n",
       "      <td>인터넷 기반의 코스웨어의 설계 및 구현</td>\n",
       "    </tr>\n",
       "    <tr>\n",
       "      <th>3</th>\n",
       "      <td>4</td>\n",
       "      <td>1997</td>\n",
       "      <td>Web에서의 협력 환경 구축 방안 연구</td>\n",
       "      <td>Web에서의 협력 환경 구축 방안 연구</td>\n",
       "    </tr>\n",
       "    <tr>\n",
       "      <th>4</th>\n",
       "      <td>5</td>\n",
       "      <td>1997</td>\n",
       "      <td>열린교육에서의 개별화수업과 CAI</td>\n",
       "      <td>열린교육에서의 개별화수업과 CAI</td>\n",
       "    </tr>\n",
       "  </tbody>\n",
       "</table>\n",
       "</div>"
      ],
      "text/plain": [
       "   no  year                     title                      kor_full\n",
       "0   1  1997         멀티미디어 원격교육에 관한 연구         멀티미디어 원격교육에 관한 연구    \n",
       "1   2  1997  교육용 하이퍼미디어 자료 편집기에 관한 연구  교육용 하이퍼미디어 자료 편집기에 관한 연구    \n",
       "2   3  1997     인터넷 기반의 코스웨어의 설계 및 구현     인터넷 기반의 코스웨어의 설계 및 구현    \n",
       "3   4  1997     Web에서의 협력 환경 구축 방안 연구     Web에서의 협력 환경 구축 방안 연구    \n",
       "4   5  1997        열린교육에서의 개별화수업과 CAI        열린교육에서의 개별화수업과 CAI    "
      ]
     },
     "execution_count": 16,
     "metadata": {},
     "output_type": "execute_result"
    }
   ],
   "source": [
    "final_data = final_data.reset_index(drop = True)\n",
    "final_data.head()"
   ]
  },
  {
   "cell_type": "code",
   "execution_count": 17,
   "metadata": {},
   "outputs": [
    {
     "data": {
      "text/plain": [
       "(1149, 4)"
      ]
     },
     "execution_count": 17,
     "metadata": {},
     "output_type": "execute_result"
    }
   ],
   "source": [
    "final_data.shape"
   ]
  },
  {
   "cell_type": "code",
   "execution_count": 18,
   "metadata": {},
   "outputs": [],
   "source": [
    "final_data.to_csv('./modi_data/kor_full.csv', index=False)"
   ]
  },
  {
   "cell_type": "code",
   "execution_count": 19,
   "metadata": {},
   "outputs": [
    {
     "name": "stdout",
     "output_type": "stream",
     "text": [
      "===finish====\n"
     ]
    }
   ],
   "source": [
    "# 연도별 저장\n",
    "df = pd.DataFrame()\n",
    "\n",
    "for i in range(1997, 2021):\n",
    "    for j in range(1135):\n",
    "        if final_data.loc[j, 'year'] == int(i):\n",
    "            df = df.append(final_data.loc[j])\n",
    "            #print(final_data.loc[j])\n",
    "    #if not df.empty: print(df)\n",
    "    if not df.empty: df.to_csv('./modi_data/kor_' + str(i) + '.csv', index=False)\n",
    "    df = pd.DataFrame()\n",
    "print(\"===finish====\")"
   ]
  },
  {
   "cell_type": "code",
   "execution_count": null,
   "metadata": {},
   "outputs": [],
   "source": []
  }
 ],
 "metadata": {
  "kernelspec": {
   "name": "python3",
   "display_name": "Python 3.8.2 64-bit",
   "metadata": {
    "interpreter": {
     "hash": "aee8b7b246df8f9039afb4144a1f6fd8d2ca17a180786b69acc140d282b71a49"
    }
   }
  },
  "language_info": {
   "codemirror_mode": {
    "name": "ipython",
    "version": 3
   },
   "file_extension": ".py",
   "mimetype": "text/x-python",
   "name": "python",
   "nbconvert_exporter": "python",
   "pygments_lexer": "ipython3",
   "version": "3.8.2-final"
  }
 },
 "nbformat": 4,
 "nbformat_minor": 4
}